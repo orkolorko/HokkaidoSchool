{
 "cells": [
  {
   "cell_type": "code",
   "execution_count": 3,
   "id": "0cf58357",
   "metadata": {},
   "outputs": [],
   "source": [
    "using InvariantMeasures"
   ]
  },
  {
   "cell_type": "code",
   "execution_count": 4,
   "id": "397348b9",
   "metadata": {},
   "outputs": [
    {
     "name": "stdout",
     "output_type": "stream",
     "text": [
      "search: \u001b[0m\u001b[1mP\u001b[22m\u001b[0m\u001b[1mw\u001b[22m\u001b[0m\u001b[1mM\u001b[22m\u001b[0m\u001b[1ma\u001b[22m\u001b[0m\u001b[1mp\u001b[22m norms_of_\u001b[0m\u001b[1mp\u001b[22mo\u001b[0m\u001b[1mw\u001b[22mers_fro\u001b[0m\u001b[1mm\u001b[22m_co\u001b[0m\u001b[1ma\u001b[22mrser_grid\n",
      "\n"
     ]
    },
    {
     "data": {
      "text/latex": [
       "Dynamic based on a piecewise monotonic map.\n",
       "\n",
       "The map is defined as T(x) = Ts\\href{x}{k} if x ∈ [endpoints[k], endpoints[k+1]).\n",
       "\n",
       "\\texttt{y\\_endpoints} (kx2 matrix) contains the result of applying Ts to the endpoints of each interval. These can be filled in automatically from \\texttt{endpoints}, but sometimes they are known to higher accuracy, for instance for \\texttt{x -> mod(3x, 1)} we know that it is full-branch exactly.\n",
       "\n",
       "\\rule{\\textwidth}{1pt}\n",
       "Function call, and Taylor expansion, of a PwMap. Note that this ignores discontinuities; users are free to shoot themselves in the foot and call this on a non-smooth piecewise map. No better solutions for now.\n",
       "\n"
      ],
      "text/markdown": [
       "Dynamic based on a piecewise monotonic map.\n",
       "\n",
       "The map is defined as T(x) = Ts[k](x) if x ∈ [endpoints[k], endpoints[k+1]).\n",
       "\n",
       "`y_endpoints` (kx2 matrix) contains the result of applying Ts to the endpoints of each interval. These can be filled in automatically from `endpoints`, but sometimes they are known to higher accuracy, for instance for `x -> mod(3x, 1)` we know that it is full-branch exactly.\n",
       "\n",
       "---\n",
       "\n",
       "Function call, and Taylor expansion, of a PwMap. Note that this ignores discontinuities; users are free to shoot themselves in the foot and call this on a non-smooth piecewise map. No better solutions for now.\n"
      ],
      "text/plain": [
       "  Dynamic based on a piecewise monotonic map.\n",
       "\n",
       "  The map is defined as T(x) = Tsk (x) if x ∈ [endpoints[k], endpoints[k+1]).\n",
       "\n",
       "  \u001b[36my_endpoints\u001b[39m (kx2 matrix) contains the result of applying Ts to the endpoints\n",
       "  of each interval. These can be filled in automatically from \u001b[36mendpoints\u001b[39m, but\n",
       "  sometimes they are known to higher accuracy, for instance for \u001b[36mx -> mod(3x,\n",
       "  1)\u001b[39m we know that it is full-branch exactly.\n",
       "\n",
       "  ────────────────────────────────────────────────────────────────────────────\n",
       "\n",
       "  Function call, and Taylor expansion, of a PwMap. Note that this ignores\n",
       "  discontinuities; users are free to shoot themselves in the foot and call\n",
       "  this on a non-smooth piecewise map. No better solutions for now."
      ]
     },
     "execution_count": 4,
     "metadata": {},
     "output_type": "execute_result"
    }
   ],
   "source": [
    "?PwMap"
   ]
  },
  {
   "cell_type": "code",
   "execution_count": 44,
   "id": "fa75a104",
   "metadata": {},
   "outputs": [],
   "source": [
    "struct UnimodalMap <: Dynamic\n",
    "    D::PwMap\n",
    "    α::Interval \n",
    "end\n",
    "\n",
    "UnimodalMap(α::Real) = UnimodalMap(PwMap([x->1-2^α*(0.5-x)^α, x->1-2^α*(x-0.5)^α], \n",
    "                                         [Interval(0), Interval(0.5), Interval(1)], \n",
    "                                         [0 1;\n",
    "                                          0 1]), Interval(α))\n",
    "\n",
    "InvariantMeasures.DynamicDefinition.nbranches(D::UnimodalMap) = 2\n"
   ]
  },
  {
   "cell_type": "code",
   "execution_count": 6,
   "id": "30d42adc",
   "metadata": {},
   "outputs": [
    {
     "data": {
      "text/plain": [
       "UnimodalMap(Piecewise-defined dynamic with 2 branches, [3, 3])"
      ]
     },
     "execution_count": 6,
     "metadata": {},
     "output_type": "execute_result"
    }
   ],
   "source": [
    "D = UnimodalMap(3)"
   ]
  },
  {
   "cell_type": "code",
   "execution_count": 9,
   "id": "39a6bf3d",
   "metadata": {},
   "outputs": [],
   "source": [
    "using Plots"
   ]
  },
  {
   "cell_type": "code",
   "execution_count": 10,
   "id": "1e3f8894",
   "metadata": {},
   "outputs": [
    {
     "data": {
      "image/svg+xml": [
       "<?xml version=\"1.0\" encoding=\"utf-8\"?>\n",
       "<svg xmlns=\"http://www.w3.org/2000/svg\" xmlns:xlink=\"http://www.w3.org/1999/xlink\" width=\"600\" height=\"400\" viewBox=\"0 0 2400 1600\">\n",
       "<defs>\n",
       "  <clipPath id=\"clip660\">\n",
       "    <rect x=\"0\" y=\"0\" width=\"2400\" height=\"1600\"/>\n",
       "  </clipPath>\n",
       "</defs>\n",
       "<path clip-path=\"url(#clip660)\" d=\"\n",
       "M0 1600 L2400 1600 L2400 0 L0 0  Z\n",
       "  \" fill=\"#ffffff\" fill-rule=\"evenodd\" fill-opacity=\"1\"/>\n",
       "<defs>\n",
       "  <clipPath id=\"clip661\">\n",
       "    <rect x=\"480\" y=\"0\" width=\"1681\" height=\"1600\"/>\n",
       "  </clipPath>\n",
       "</defs>\n",
       "<path clip-path=\"url(#clip660)\" d=\"\n",
       "M186.274 1486.45 L2352.76 1486.45 L2352.76 47.2441 L186.274 47.2441  Z\n",
       "  \" fill=\"#ffffff\" fill-rule=\"evenodd\" fill-opacity=\"1\"/>\n",
       "<defs>\n",
       "  <clipPath id=\"clip662\">\n",
       "    <rect x=\"186\" y=\"47\" width=\"2167\" height=\"1440\"/>\n",
       "  </clipPath>\n",
       "</defs>\n",
       "<polyline clip-path=\"url(#clip662)\" style=\"stroke:#000000; stroke-linecap:butt; stroke-linejoin:round; stroke-width:2; stroke-opacity:0.1; fill:none\" points=\"\n",
       "  247.59,1486.45 247.59,47.2441 \n",
       "  \"/>\n",
       "<polyline clip-path=\"url(#clip662)\" style=\"stroke:#000000; stroke-linecap:butt; stroke-linejoin:round; stroke-width:2; stroke-opacity:0.1; fill:none\" points=\"\n",
       "  758.552,1486.45 758.552,47.2441 \n",
       "  \"/>\n",
       "<polyline clip-path=\"url(#clip662)\" style=\"stroke:#000000; stroke-linecap:butt; stroke-linejoin:round; stroke-width:2; stroke-opacity:0.1; fill:none\" points=\"\n",
       "  1269.51,1486.45 1269.51,47.2441 \n",
       "  \"/>\n",
       "<polyline clip-path=\"url(#clip662)\" style=\"stroke:#000000; stroke-linecap:butt; stroke-linejoin:round; stroke-width:2; stroke-opacity:0.1; fill:none\" points=\"\n",
       "  1780.48,1486.45 1780.48,47.2441 \n",
       "  \"/>\n",
       "<polyline clip-path=\"url(#clip662)\" style=\"stroke:#000000; stroke-linecap:butt; stroke-linejoin:round; stroke-width:2; stroke-opacity:0.1; fill:none\" points=\"\n",
       "  2291.44,1486.45 2291.44,47.2441 \n",
       "  \"/>\n",
       "<polyline clip-path=\"url(#clip660)\" style=\"stroke:#000000; stroke-linecap:butt; stroke-linejoin:round; stroke-width:4; stroke-opacity:1; fill:none\" points=\"\n",
       "  186.274,1486.45 2352.76,1486.45 \n",
       "  \"/>\n",
       "<polyline clip-path=\"url(#clip660)\" style=\"stroke:#000000; stroke-linecap:butt; stroke-linejoin:round; stroke-width:4; stroke-opacity:1; fill:none\" points=\"\n",
       "  247.59,1486.45 247.59,1467.55 \n",
       "  \"/>\n",
       "<polyline clip-path=\"url(#clip660)\" style=\"stroke:#000000; stroke-linecap:butt; stroke-linejoin:round; stroke-width:4; stroke-opacity:1; fill:none\" points=\"\n",
       "  758.552,1486.45 758.552,1467.55 \n",
       "  \"/>\n",
       "<polyline clip-path=\"url(#clip660)\" style=\"stroke:#000000; stroke-linecap:butt; stroke-linejoin:round; stroke-width:4; stroke-opacity:1; fill:none\" points=\"\n",
       "  1269.51,1486.45 1269.51,1467.55 \n",
       "  \"/>\n",
       "<polyline clip-path=\"url(#clip660)\" style=\"stroke:#000000; stroke-linecap:butt; stroke-linejoin:round; stroke-width:4; stroke-opacity:1; fill:none\" points=\"\n",
       "  1780.48,1486.45 1780.48,1467.55 \n",
       "  \"/>\n",
       "<polyline clip-path=\"url(#clip660)\" style=\"stroke:#000000; stroke-linecap:butt; stroke-linejoin:round; stroke-width:4; stroke-opacity:1; fill:none\" points=\"\n",
       "  2291.44,1486.45 2291.44,1467.55 \n",
       "  \"/>\n",
       "<path clip-path=\"url(#clip660)\" d=\"M209.893 1515.64 Q206.282 1515.64 204.453 1519.2 Q202.648 1522.75 202.648 1529.87 Q202.648 1536.98 204.453 1540.55 Q206.282 1544.09 209.893 1544.09 Q213.527 1544.09 215.333 1540.55 Q217.161 1536.98 217.161 1529.87 Q217.161 1522.75 215.333 1519.2 Q213.527 1515.64 209.893 1515.64 M209.893 1511.93 Q215.703 1511.93 218.759 1516.54 Q221.837 1521.12 221.837 1529.87 Q221.837 1538.6 218.759 1543.21 Q215.703 1547.79 209.893 1547.79 Q204.083 1547.79 201.004 1543.21 Q197.949 1538.6 197.949 1529.87 Q197.949 1521.12 201.004 1516.54 Q204.083 1511.93 209.893 1511.93 Z\" fill=\"#000000\" fill-rule=\"evenodd\" fill-opacity=\"1\" /><path clip-path=\"url(#clip660)\" d=\"M230.055 1541.24 L234.939 1541.24 L234.939 1547.12 L230.055 1547.12 L230.055 1541.24 Z\" fill=\"#000000\" fill-rule=\"evenodd\" fill-opacity=\"1\" /><path clip-path=\"url(#clip660)\" d=\"M255.124 1515.64 Q251.513 1515.64 249.684 1519.2 Q247.879 1522.75 247.879 1529.87 Q247.879 1536.98 249.684 1540.55 Q251.513 1544.09 255.124 1544.09 Q258.758 1544.09 260.564 1540.55 Q262.393 1536.98 262.393 1529.87 Q262.393 1522.75 260.564 1519.2 Q258.758 1515.64 255.124 1515.64 M255.124 1511.93 Q260.934 1511.93 263.99 1516.54 Q267.069 1521.12 267.069 1529.87 Q267.069 1538.6 263.99 1543.21 Q260.934 1547.79 255.124 1547.79 Q249.314 1547.79 246.235 1543.21 Q243.18 1538.6 243.18 1529.87 Q243.18 1521.12 246.235 1516.54 Q249.314 1511.93 255.124 1511.93 Z\" fill=\"#000000\" fill-rule=\"evenodd\" fill-opacity=\"1\" /><path clip-path=\"url(#clip660)\" d=\"M285.286 1515.64 Q281.675 1515.64 279.846 1519.2 Q278.041 1522.75 278.041 1529.87 Q278.041 1536.98 279.846 1540.55 Q281.675 1544.09 285.286 1544.09 Q288.92 1544.09 290.726 1540.55 Q292.555 1536.98 292.555 1529.87 Q292.555 1522.75 290.726 1519.2 Q288.92 1515.64 285.286 1515.64 M285.286 1511.93 Q291.096 1511.93 294.152 1516.54 Q297.23 1521.12 297.23 1529.87 Q297.23 1538.6 294.152 1543.21 Q291.096 1547.79 285.286 1547.79 Q279.476 1547.79 276.397 1543.21 Q273.342 1538.6 273.342 1529.87 Q273.342 1521.12 276.397 1516.54 Q279.476 1511.93 285.286 1511.93 Z\" fill=\"#000000\" fill-rule=\"evenodd\" fill-opacity=\"1\" /><path clip-path=\"url(#clip660)\" d=\"M721.353 1515.64 Q717.742 1515.64 715.914 1519.2 Q714.108 1522.75 714.108 1529.87 Q714.108 1536.98 715.914 1540.55 Q717.742 1544.09 721.353 1544.09 Q724.988 1544.09 726.793 1540.55 Q728.622 1536.98 728.622 1529.87 Q728.622 1522.75 726.793 1519.2 Q724.988 1515.64 721.353 1515.64 M721.353 1511.93 Q727.164 1511.93 730.219 1516.54 Q733.298 1521.12 733.298 1529.87 Q733.298 1538.6 730.219 1543.21 Q727.164 1547.79 721.353 1547.79 Q715.543 1547.79 712.465 1543.21 Q709.409 1538.6 709.409 1529.87 Q709.409 1521.12 712.465 1516.54 Q715.543 1511.93 721.353 1511.93 Z\" fill=\"#000000\" fill-rule=\"evenodd\" fill-opacity=\"1\" /><path clip-path=\"url(#clip660)\" d=\"M741.515 1541.24 L746.4 1541.24 L746.4 1547.12 L741.515 1547.12 L741.515 1541.24 Z\" fill=\"#000000\" fill-rule=\"evenodd\" fill-opacity=\"1\" /><path clip-path=\"url(#clip660)\" d=\"M760.612 1543.18 L776.932 1543.18 L776.932 1547.12 L754.987 1547.12 L754.987 1543.18 Q757.649 1540.43 762.233 1535.8 Q766.839 1531.15 768.02 1529.81 Q770.265 1527.28 771.145 1525.55 Q772.048 1523.79 772.048 1522.1 Q772.048 1519.34 770.103 1517.61 Q768.182 1515.87 765.08 1515.87 Q762.881 1515.87 760.427 1516.63 Q757.997 1517.4 755.219 1518.95 L755.219 1514.23 Q758.043 1513.09 760.497 1512.51 Q762.95 1511.93 764.987 1511.93 Q770.358 1511.93 773.552 1514.62 Q776.747 1517.31 776.747 1521.8 Q776.747 1523.93 775.936 1525.85 Q775.149 1527.74 773.043 1530.34 Q772.464 1531.01 769.362 1534.23 Q766.261 1537.42 760.612 1543.18 Z\" fill=\"#000000\" fill-rule=\"evenodd\" fill-opacity=\"1\" /><path clip-path=\"url(#clip660)\" d=\"M786.793 1512.56 L805.149 1512.56 L805.149 1516.5 L791.075 1516.5 L791.075 1524.97 Q792.094 1524.62 793.112 1524.46 Q794.131 1524.27 795.149 1524.27 Q800.936 1524.27 804.316 1527.44 Q807.695 1530.62 807.695 1536.03 Q807.695 1541.61 804.223 1544.71 Q800.751 1547.79 794.432 1547.79 Q792.256 1547.79 789.987 1547.42 Q787.742 1547.05 785.335 1546.31 L785.335 1541.61 Q787.418 1542.74 789.64 1543.3 Q791.862 1543.86 794.339 1543.86 Q798.344 1543.86 800.682 1541.75 Q803.02 1539.64 803.02 1536.03 Q803.02 1532.42 800.682 1530.31 Q798.344 1528.21 794.339 1528.21 Q792.464 1528.21 790.589 1528.62 Q788.737 1529.04 786.793 1529.92 L786.793 1512.56 Z\" fill=\"#000000\" fill-rule=\"evenodd\" fill-opacity=\"1\" /><path clip-path=\"url(#clip660)\" d=\"M1231.82 1515.64 Q1228.21 1515.64 1226.38 1519.2 Q1224.57 1522.75 1224.57 1529.87 Q1224.57 1536.98 1226.38 1540.55 Q1228.21 1544.09 1231.82 1544.09 Q1235.45 1544.09 1237.26 1540.55 Q1239.09 1536.98 1239.09 1529.87 Q1239.09 1522.75 1237.26 1519.2 Q1235.45 1515.64 1231.82 1515.64 M1231.82 1511.93 Q1237.63 1511.93 1240.68 1516.54 Q1243.76 1521.12 1243.76 1529.87 Q1243.76 1538.6 1240.68 1543.21 Q1237.63 1547.79 1231.82 1547.79 Q1226.01 1547.79 1222.93 1543.21 Q1219.87 1538.6 1219.87 1529.87 Q1219.87 1521.12 1222.93 1516.54 Q1226.01 1511.93 1231.82 1511.93 Z\" fill=\"#000000\" fill-rule=\"evenodd\" fill-opacity=\"1\" /><path clip-path=\"url(#clip660)\" d=\"M1251.98 1541.24 L1256.86 1541.24 L1256.86 1547.12 L1251.98 1547.12 L1251.98 1541.24 Z\" fill=\"#000000\" fill-rule=\"evenodd\" fill-opacity=\"1\" /><path clip-path=\"url(#clip660)\" d=\"M1267.1 1512.56 L1285.45 1512.56 L1285.45 1516.5 L1271.38 1516.5 L1271.38 1524.97 Q1272.4 1524.62 1273.42 1524.46 Q1274.43 1524.27 1275.45 1524.27 Q1281.24 1524.27 1284.62 1527.44 Q1288 1530.62 1288 1536.03 Q1288 1541.61 1284.53 1544.71 Q1281.05 1547.79 1274.73 1547.79 Q1272.56 1547.79 1270.29 1547.42 Q1268.05 1547.05 1265.64 1546.31 L1265.64 1541.61 Q1267.72 1542.74 1269.94 1543.3 Q1272.17 1543.86 1274.64 1543.86 Q1278.65 1543.86 1280.98 1541.75 Q1283.32 1539.64 1283.32 1536.03 Q1283.32 1532.42 1280.98 1530.31 Q1278.65 1528.21 1274.64 1528.21 Q1272.77 1528.21 1270.89 1528.62 Q1269.04 1529.04 1267.1 1529.92 L1267.1 1512.56 Z\" fill=\"#000000\" fill-rule=\"evenodd\" fill-opacity=\"1\" /><path clip-path=\"url(#clip660)\" d=\"M1307.21 1515.64 Q1303.6 1515.64 1301.77 1519.2 Q1299.97 1522.75 1299.97 1529.87 Q1299.97 1536.98 1301.77 1540.55 Q1303.6 1544.09 1307.21 1544.09 Q1310.85 1544.09 1312.65 1540.55 Q1314.48 1536.98 1314.48 1529.87 Q1314.48 1522.75 1312.65 1519.2 Q1310.85 1515.64 1307.21 1515.64 M1307.21 1511.93 Q1313.02 1511.93 1316.08 1516.54 Q1319.16 1521.12 1319.16 1529.87 Q1319.16 1538.6 1316.08 1543.21 Q1313.02 1547.79 1307.21 1547.79 Q1301.4 1547.79 1298.32 1543.21 Q1295.27 1538.6 1295.27 1529.87 Q1295.27 1521.12 1298.32 1516.54 Q1301.4 1511.93 1307.21 1511.93 Z\" fill=\"#000000\" fill-rule=\"evenodd\" fill-opacity=\"1\" /><path clip-path=\"url(#clip660)\" d=\"M1743.28 1515.64 Q1739.67 1515.64 1737.84 1519.2 Q1736.03 1522.75 1736.03 1529.87 Q1736.03 1536.98 1737.84 1540.55 Q1739.67 1544.09 1743.28 1544.09 Q1746.91 1544.09 1748.72 1540.55 Q1750.55 1536.98 1750.55 1529.87 Q1750.55 1522.75 1748.72 1519.2 Q1746.91 1515.64 1743.28 1515.64 M1743.28 1511.93 Q1749.09 1511.93 1752.14 1516.54 Q1755.22 1521.12 1755.22 1529.87 Q1755.22 1538.6 1752.14 1543.21 Q1749.09 1547.79 1743.28 1547.79 Q1737.47 1547.79 1734.39 1543.21 Q1731.33 1538.6 1731.33 1529.87 Q1731.33 1521.12 1734.39 1516.54 Q1737.47 1511.93 1743.28 1511.93 Z\" fill=\"#000000\" fill-rule=\"evenodd\" fill-opacity=\"1\" /><path clip-path=\"url(#clip660)\" d=\"M1763.44 1541.24 L1768.32 1541.24 L1768.32 1547.12 L1763.44 1547.12 L1763.44 1541.24 Z\" fill=\"#000000\" fill-rule=\"evenodd\" fill-opacity=\"1\" /><path clip-path=\"url(#clip660)\" d=\"M1777.33 1512.56 L1799.55 1512.56 L1799.55 1514.55 L1787.01 1547.12 L1782.12 1547.12 L1793.93 1516.5 L1777.33 1516.5 L1777.33 1512.56 Z\" fill=\"#000000\" fill-rule=\"evenodd\" fill-opacity=\"1\" /><path clip-path=\"url(#clip660)\" d=\"M1808.72 1512.56 L1827.07 1512.56 L1827.07 1516.5 L1813 1516.5 L1813 1524.97 Q1814.02 1524.62 1815.04 1524.46 Q1816.06 1524.27 1817.07 1524.27 Q1822.86 1524.27 1826.24 1527.44 Q1829.62 1530.62 1829.62 1536.03 Q1829.62 1541.61 1826.15 1544.71 Q1822.68 1547.79 1816.36 1547.79 Q1814.18 1547.79 1811.91 1547.42 Q1809.67 1547.05 1807.26 1546.31 L1807.26 1541.61 Q1809.34 1542.74 1811.57 1543.3 Q1813.79 1543.86 1816.26 1543.86 Q1820.27 1543.86 1822.61 1541.75 Q1824.95 1539.64 1824.95 1536.03 Q1824.95 1532.42 1822.61 1530.31 Q1820.27 1528.21 1816.26 1528.21 Q1814.39 1528.21 1812.51 1528.62 Q1810.66 1529.04 1808.72 1529.92 L1808.72 1512.56 Z\" fill=\"#000000\" fill-rule=\"evenodd\" fill-opacity=\"1\" /><path clip-path=\"url(#clip660)\" d=\"M2243.51 1543.18 L2251.15 1543.18 L2251.15 1516.82 L2242.84 1518.49 L2242.84 1514.23 L2251.1 1512.56 L2255.78 1512.56 L2255.78 1543.18 L2263.42 1543.18 L2263.42 1547.12 L2243.51 1547.12 L2243.51 1543.18 Z\" fill=\"#000000\" fill-rule=\"evenodd\" fill-opacity=\"1\" /><path clip-path=\"url(#clip660)\" d=\"M2272.86 1541.24 L2277.75 1541.24 L2277.75 1547.12 L2272.86 1547.12 L2272.86 1541.24 Z\" fill=\"#000000\" fill-rule=\"evenodd\" fill-opacity=\"1\" /><path clip-path=\"url(#clip660)\" d=\"M2297.93 1515.64 Q2294.32 1515.64 2292.49 1519.2 Q2290.69 1522.75 2290.69 1529.87 Q2290.69 1536.98 2292.49 1540.55 Q2294.32 1544.09 2297.93 1544.09 Q2301.57 1544.09 2303.37 1540.55 Q2305.2 1536.98 2305.2 1529.87 Q2305.2 1522.75 2303.37 1519.2 Q2301.57 1515.64 2297.93 1515.64 M2297.93 1511.93 Q2303.74 1511.93 2306.8 1516.54 Q2309.88 1521.12 2309.88 1529.87 Q2309.88 1538.6 2306.8 1543.21 Q2303.74 1547.79 2297.93 1547.79 Q2292.12 1547.79 2289.04 1543.21 Q2285.99 1538.6 2285.99 1529.87 Q2285.99 1521.12 2289.04 1516.54 Q2292.12 1511.93 2297.93 1511.93 Z\" fill=\"#000000\" fill-rule=\"evenodd\" fill-opacity=\"1\" /><path clip-path=\"url(#clip660)\" d=\"M2328.1 1515.64 Q2324.48 1515.64 2322.66 1519.2 Q2320.85 1522.75 2320.85 1529.87 Q2320.85 1536.98 2322.66 1540.55 Q2324.48 1544.09 2328.1 1544.09 Q2331.73 1544.09 2333.54 1540.55 Q2335.36 1536.98 2335.36 1529.87 Q2335.36 1522.75 2333.54 1519.2 Q2331.73 1515.64 2328.1 1515.64 M2328.1 1511.93 Q2333.91 1511.93 2336.96 1516.54 Q2340.04 1521.12 2340.04 1529.87 Q2340.04 1538.6 2336.96 1543.21 Q2333.91 1547.79 2328.1 1547.79 Q2322.29 1547.79 2319.21 1543.21 Q2316.15 1538.6 2316.15 1529.87 Q2316.15 1521.12 2319.21 1516.54 Q2322.29 1511.93 2328.1 1511.93 Z\" fill=\"#000000\" fill-rule=\"evenodd\" fill-opacity=\"1\" /><polyline clip-path=\"url(#clip662)\" style=\"stroke:#000000; stroke-linecap:butt; stroke-linejoin:round; stroke-width:2; stroke-opacity:0.1; fill:none\" points=\"\n",
       "  186.274,1445.72 2352.76,1445.72 \n",
       "  \"/>\n",
       "<polyline clip-path=\"url(#clip662)\" style=\"stroke:#000000; stroke-linecap:butt; stroke-linejoin:round; stroke-width:2; stroke-opacity:0.1; fill:none\" points=\"\n",
       "  186.274,1106.28 2352.76,1106.28 \n",
       "  \"/>\n",
       "<polyline clip-path=\"url(#clip662)\" style=\"stroke:#000000; stroke-linecap:butt; stroke-linejoin:round; stroke-width:2; stroke-opacity:0.1; fill:none\" points=\"\n",
       "  186.274,766.846 2352.76,766.846 \n",
       "  \"/>\n",
       "<polyline clip-path=\"url(#clip662)\" style=\"stroke:#000000; stroke-linecap:butt; stroke-linejoin:round; stroke-width:2; stroke-opacity:0.1; fill:none\" points=\"\n",
       "  186.274,427.411 2352.76,427.411 \n",
       "  \"/>\n",
       "<polyline clip-path=\"url(#clip662)\" style=\"stroke:#000000; stroke-linecap:butt; stroke-linejoin:round; stroke-width:2; stroke-opacity:0.1; fill:none\" points=\"\n",
       "  186.274,87.9761 2352.76,87.9761 \n",
       "  \"/>\n",
       "<polyline clip-path=\"url(#clip660)\" style=\"stroke:#000000; stroke-linecap:butt; stroke-linejoin:round; stroke-width:4; stroke-opacity:1; fill:none\" points=\"\n",
       "  186.274,1486.45 186.274,47.2441 \n",
       "  \"/>\n",
       "<polyline clip-path=\"url(#clip660)\" style=\"stroke:#000000; stroke-linecap:butt; stroke-linejoin:round; stroke-width:4; stroke-opacity:1; fill:none\" points=\"\n",
       "  186.274,1445.72 205.172,1445.72 \n",
       "  \"/>\n",
       "<polyline clip-path=\"url(#clip660)\" style=\"stroke:#000000; stroke-linecap:butt; stroke-linejoin:round; stroke-width:4; stroke-opacity:1; fill:none\" points=\"\n",
       "  186.274,1106.28 205.172,1106.28 \n",
       "  \"/>\n",
       "<polyline clip-path=\"url(#clip660)\" style=\"stroke:#000000; stroke-linecap:butt; stroke-linejoin:round; stroke-width:4; stroke-opacity:1; fill:none\" points=\"\n",
       "  186.274,766.846 205.172,766.846 \n",
       "  \"/>\n",
       "<polyline clip-path=\"url(#clip660)\" style=\"stroke:#000000; stroke-linecap:butt; stroke-linejoin:round; stroke-width:4; stroke-opacity:1; fill:none\" points=\"\n",
       "  186.274,427.411 205.172,427.411 \n",
       "  \"/>\n",
       "<polyline clip-path=\"url(#clip660)\" style=\"stroke:#000000; stroke-linecap:butt; stroke-linejoin:round; stroke-width:4; stroke-opacity:1; fill:none\" points=\"\n",
       "  186.274,87.9761 205.172,87.9761 \n",
       "  \"/>\n",
       "<path clip-path=\"url(#clip660)\" d=\"M62.9365 1431.51 Q59.3254 1431.51 57.4967 1435.08 Q55.6912 1438.62 55.6912 1445.75 Q55.6912 1452.86 57.4967 1456.42 Q59.3254 1459.96 62.9365 1459.96 Q66.5707 1459.96 68.3763 1456.42 Q70.205 1452.86 70.205 1445.75 Q70.205 1438.62 68.3763 1435.08 Q66.5707 1431.51 62.9365 1431.51 M62.9365 1427.81 Q68.7467 1427.81 71.8022 1432.42 Q74.8809 1437 74.8809 1445.75 Q74.8809 1454.48 71.8022 1459.08 Q68.7467 1463.67 62.9365 1463.67 Q57.1264 1463.67 54.0477 1459.08 Q50.9921 1454.48 50.9921 1445.75 Q50.9921 1437 54.0477 1432.42 Q57.1264 1427.81 62.9365 1427.81 Z\" fill=\"#000000\" fill-rule=\"evenodd\" fill-opacity=\"1\" /><path clip-path=\"url(#clip660)\" d=\"M83.0984 1457.12 L87.9827 1457.12 L87.9827 1463 L83.0984 1463 L83.0984 1457.12 Z\" fill=\"#000000\" fill-rule=\"evenodd\" fill-opacity=\"1\" /><path clip-path=\"url(#clip660)\" d=\"M108.168 1431.51 Q104.557 1431.51 102.728 1435.08 Q100.922 1438.62 100.922 1445.75 Q100.922 1452.86 102.728 1456.42 Q104.557 1459.96 108.168 1459.96 Q111.802 1459.96 113.608 1456.42 Q115.436 1452.86 115.436 1445.75 Q115.436 1438.62 113.608 1435.08 Q111.802 1431.51 108.168 1431.51 M108.168 1427.81 Q113.978 1427.81 117.033 1432.42 Q120.112 1437 120.112 1445.75 Q120.112 1454.48 117.033 1459.08 Q113.978 1463.67 108.168 1463.67 Q102.358 1463.67 99.2789 1459.08 Q96.2234 1454.48 96.2234 1445.75 Q96.2234 1437 99.2789 1432.42 Q102.358 1427.81 108.168 1427.81 Z\" fill=\"#000000\" fill-rule=\"evenodd\" fill-opacity=\"1\" /><path clip-path=\"url(#clip660)\" d=\"M138.33 1431.51 Q134.719 1431.51 132.89 1435.08 Q131.084 1438.62 131.084 1445.75 Q131.084 1452.86 132.89 1456.42 Q134.719 1459.96 138.33 1459.96 Q141.964 1459.96 143.769 1456.42 Q145.598 1452.86 145.598 1445.75 Q145.598 1438.62 143.769 1435.08 Q141.964 1431.51 138.33 1431.51 M138.33 1427.81 Q144.14 1427.81 147.195 1432.42 Q150.274 1437 150.274 1445.75 Q150.274 1454.48 147.195 1459.08 Q144.14 1463.67 138.33 1463.67 Q132.519 1463.67 129.441 1459.08 Q126.385 1454.48 126.385 1445.75 Q126.385 1437 129.441 1432.42 Q132.519 1427.81 138.33 1427.81 Z\" fill=\"#000000\" fill-rule=\"evenodd\" fill-opacity=\"1\" /><path clip-path=\"url(#clip660)\" d=\"M63.9319 1092.08 Q60.3208 1092.08 58.4921 1095.64 Q56.6865 1099.19 56.6865 1106.32 Q56.6865 1113.42 58.4921 1116.99 Q60.3208 1120.53 63.9319 1120.53 Q67.5661 1120.53 69.3717 1116.99 Q71.2004 1113.42 71.2004 1106.32 Q71.2004 1099.19 69.3717 1095.64 Q67.5661 1092.08 63.9319 1092.08 M63.9319 1088.38 Q69.742 1088.38 72.7976 1092.98 Q75.8763 1097.57 75.8763 1106.32 Q75.8763 1115.04 72.7976 1119.65 Q69.742 1124.23 63.9319 1124.23 Q58.1217 1124.23 55.043 1119.65 Q51.9875 1115.04 51.9875 1106.32 Q51.9875 1097.57 55.043 1092.98 Q58.1217 1088.38 63.9319 1088.38 Z\" fill=\"#000000\" fill-rule=\"evenodd\" fill-opacity=\"1\" /><path clip-path=\"url(#clip660)\" d=\"M84.0938 1117.68 L88.978 1117.68 L88.978 1123.56 L84.0938 1123.56 L84.0938 1117.68 Z\" fill=\"#000000\" fill-rule=\"evenodd\" fill-opacity=\"1\" /><path clip-path=\"url(#clip660)\" d=\"M103.191 1119.63 L119.51 1119.63 L119.51 1123.56 L97.566 1123.56 L97.566 1119.63 Q100.228 1116.87 104.811 1112.24 Q109.418 1107.59 110.598 1106.25 Q112.844 1103.72 113.723 1101.99 Q114.626 1100.23 114.626 1098.54 Q114.626 1095.78 112.682 1094.05 Q110.76 1092.31 107.658 1092.31 Q105.459 1092.31 103.006 1093.07 Q100.575 1093.84 97.7974 1095.39 L97.7974 1090.67 Q100.621 1089.53 103.075 1088.95 Q105.529 1088.38 107.566 1088.38 Q112.936 1088.38 116.131 1091.06 Q119.325 1093.75 119.325 1098.24 Q119.325 1100.37 118.515 1102.29 Q117.728 1104.19 115.621 1106.78 Q115.043 1107.45 111.941 1110.67 Q108.839 1113.86 103.191 1119.63 Z\" fill=\"#000000\" fill-rule=\"evenodd\" fill-opacity=\"1\" /><path clip-path=\"url(#clip660)\" d=\"M129.371 1089 L147.728 1089 L147.728 1092.94 L133.654 1092.94 L133.654 1101.41 Q134.672 1101.06 135.691 1100.9 Q136.709 1100.71 137.728 1100.71 Q143.515 1100.71 146.894 1103.88 Q150.274 1107.06 150.274 1112.47 Q150.274 1118.05 146.802 1121.15 Q143.33 1124.23 137.01 1124.23 Q134.834 1124.23 132.566 1123.86 Q130.32 1123.49 127.913 1122.75 L127.913 1118.05 Q129.996 1119.19 132.219 1119.74 Q134.441 1120.3 136.918 1120.3 Q140.922 1120.3 143.26 1118.19 Q145.598 1116.08 145.598 1112.47 Q145.598 1108.86 143.26 1106.76 Q140.922 1104.65 136.918 1104.65 Q135.043 1104.65 133.168 1105.07 Q131.316 1105.48 129.371 1106.36 L129.371 1089 Z\" fill=\"#000000\" fill-rule=\"evenodd\" fill-opacity=\"1\" /><path clip-path=\"url(#clip660)\" d=\"M62.9365 752.645 Q59.3254 752.645 57.4967 756.209 Q55.6912 759.751 55.6912 766.881 Q55.6912 773.987 57.4967 777.552 Q59.3254 781.094 62.9365 781.094 Q66.5707 781.094 68.3763 777.552 Q70.205 773.987 70.205 766.881 Q70.205 759.751 68.3763 756.209 Q66.5707 752.645 62.9365 752.645 M62.9365 748.941 Q68.7467 748.941 71.8022 753.547 Q74.8809 758.131 74.8809 766.881 Q74.8809 775.607 71.8022 780.214 Q68.7467 784.797 62.9365 784.797 Q57.1264 784.797 54.0477 780.214 Q50.9921 775.607 50.9921 766.881 Q50.9921 758.131 54.0477 753.547 Q57.1264 748.941 62.9365 748.941 Z\" fill=\"#000000\" fill-rule=\"evenodd\" fill-opacity=\"1\" /><path clip-path=\"url(#clip660)\" d=\"M83.0984 778.246 L87.9827 778.246 L87.9827 784.126 L83.0984 784.126 L83.0984 778.246 Z\" fill=\"#000000\" fill-rule=\"evenodd\" fill-opacity=\"1\" /><path clip-path=\"url(#clip660)\" d=\"M98.2141 749.566 L116.57 749.566 L116.57 753.501 L102.496 753.501 L102.496 761.973 Q103.515 761.626 104.534 761.464 Q105.552 761.279 106.571 761.279 Q112.358 761.279 115.737 764.45 Q119.117 767.621 119.117 773.038 Q119.117 778.617 115.645 781.719 Q112.172 784.797 105.853 784.797 Q103.677 784.797 101.409 784.427 Q99.1632 784.056 96.7558 783.316 L96.7558 778.617 Q98.8391 779.751 101.061 780.306 Q103.284 780.862 105.76 780.862 Q109.765 780.862 112.103 778.756 Q114.441 776.649 114.441 773.038 Q114.441 769.427 112.103 767.32 Q109.765 765.214 105.76 765.214 Q103.885 765.214 102.01 765.631 Q100.159 766.047 98.2141 766.927 L98.2141 749.566 Z\" fill=\"#000000\" fill-rule=\"evenodd\" fill-opacity=\"1\" /><path clip-path=\"url(#clip660)\" d=\"M138.33 752.645 Q134.719 752.645 132.89 756.209 Q131.084 759.751 131.084 766.881 Q131.084 773.987 132.89 777.552 Q134.719 781.094 138.33 781.094 Q141.964 781.094 143.769 777.552 Q145.598 773.987 145.598 766.881 Q145.598 759.751 143.769 756.209 Q141.964 752.645 138.33 752.645 M138.33 748.941 Q144.14 748.941 147.195 753.547 Q150.274 758.131 150.274 766.881 Q150.274 775.607 147.195 780.214 Q144.14 784.797 138.33 784.797 Q132.519 784.797 129.441 780.214 Q126.385 775.607 126.385 766.881 Q126.385 758.131 129.441 753.547 Q132.519 748.941 138.33 748.941 Z\" fill=\"#000000\" fill-rule=\"evenodd\" fill-opacity=\"1\" /><path clip-path=\"url(#clip660)\" d=\"M63.9319 413.21 Q60.3208 413.21 58.4921 416.774 Q56.6865 420.316 56.6865 427.446 Q56.6865 434.552 58.4921 438.117 Q60.3208 441.659 63.9319 441.659 Q67.5661 441.659 69.3717 438.117 Q71.2004 434.552 71.2004 427.446 Q71.2004 420.316 69.3717 416.774 Q67.5661 413.21 63.9319 413.21 M63.9319 409.506 Q69.742 409.506 72.7976 414.112 Q75.8763 418.696 75.8763 427.446 Q75.8763 436.173 72.7976 440.779 Q69.742 445.362 63.9319 445.362 Q58.1217 445.362 55.043 440.779 Q51.9875 436.173 51.9875 427.446 Q51.9875 418.696 55.043 414.112 Q58.1217 409.506 63.9319 409.506 Z\" fill=\"#000000\" fill-rule=\"evenodd\" fill-opacity=\"1\" /><path clip-path=\"url(#clip660)\" d=\"M84.0938 438.811 L88.978 438.811 L88.978 444.691 L84.0938 444.691 L84.0938 438.811 Z\" fill=\"#000000\" fill-rule=\"evenodd\" fill-opacity=\"1\" /><path clip-path=\"url(#clip660)\" d=\"M97.9826 410.131 L120.205 410.131 L120.205 412.122 L107.658 444.691 L102.774 444.691 L114.58 414.066 L97.9826 414.066 L97.9826 410.131 Z\" fill=\"#000000\" fill-rule=\"evenodd\" fill-opacity=\"1\" /><path clip-path=\"url(#clip660)\" d=\"M129.371 410.131 L147.728 410.131 L147.728 414.066 L133.654 414.066 L133.654 422.538 Q134.672 422.191 135.691 422.029 Q136.709 421.844 137.728 421.844 Q143.515 421.844 146.894 425.015 Q150.274 428.186 150.274 433.603 Q150.274 439.182 146.802 442.284 Q143.33 445.362 137.01 445.362 Q134.834 445.362 132.566 444.992 Q130.32 444.622 127.913 443.881 L127.913 439.182 Q129.996 440.316 132.219 440.872 Q134.441 441.427 136.918 441.427 Q140.922 441.427 143.26 439.321 Q145.598 437.214 145.598 433.603 Q145.598 429.992 143.26 427.886 Q140.922 425.779 136.918 425.779 Q135.043 425.779 133.168 426.196 Q131.316 426.612 129.371 427.492 L129.371 410.131 Z\" fill=\"#000000\" fill-rule=\"evenodd\" fill-opacity=\"1\" /><path clip-path=\"url(#clip660)\" d=\"M53.7467 101.321 L61.3856 101.321 L61.3856 74.9554 L53.0754 76.622 L53.0754 72.3628 L61.3393 70.6961 L66.0152 70.6961 L66.0152 101.321 L73.654 101.321 L73.654 105.256 L53.7467 105.256 L53.7467 101.321 Z\" fill=\"#000000\" fill-rule=\"evenodd\" fill-opacity=\"1\" /><path clip-path=\"url(#clip660)\" d=\"M83.0984 99.3765 L87.9827 99.3765 L87.9827 105.256 L83.0984 105.256 L83.0984 99.3765 Z\" fill=\"#000000\" fill-rule=\"evenodd\" fill-opacity=\"1\" /><path clip-path=\"url(#clip660)\" d=\"M108.168 73.7748 Q104.557 73.7748 102.728 77.3396 Q100.922 80.8812 100.922 88.0108 Q100.922 95.1173 102.728 98.6821 Q104.557 102.224 108.168 102.224 Q111.802 102.224 113.608 98.6821 Q115.436 95.1173 115.436 88.0108 Q115.436 80.8812 113.608 77.3396 Q111.802 73.7748 108.168 73.7748 M108.168 70.0711 Q113.978 70.0711 117.033 74.6776 Q120.112 79.2609 120.112 88.0108 Q120.112 96.7376 117.033 101.344 Q113.978 105.927 108.168 105.927 Q102.358 105.927 99.2789 101.344 Q96.2234 96.7376 96.2234 88.0108 Q96.2234 79.2609 99.2789 74.6776 Q102.358 70.0711 108.168 70.0711 Z\" fill=\"#000000\" fill-rule=\"evenodd\" fill-opacity=\"1\" /><path clip-path=\"url(#clip660)\" d=\"M138.33 73.7748 Q134.719 73.7748 132.89 77.3396 Q131.084 80.8812 131.084 88.0108 Q131.084 95.1173 132.89 98.6821 Q134.719 102.224 138.33 102.224 Q141.964 102.224 143.769 98.6821 Q145.598 95.1173 145.598 88.0108 Q145.598 80.8812 143.769 77.3396 Q141.964 73.7748 138.33 73.7748 M138.33 70.0711 Q144.14 70.0711 147.195 74.6776 Q150.274 79.2609 150.274 88.0108 Q150.274 96.7376 147.195 101.344 Q144.14 105.927 138.33 105.927 Q132.519 105.927 129.441 101.344 Q126.385 96.7376 126.385 88.0108 Q126.385 79.2609 129.441 74.6776 Q132.519 70.0711 138.33 70.0711 Z\" fill=\"#000000\" fill-rule=\"evenodd\" fill-opacity=\"1\" /><polyline clip-path=\"url(#clip662)\" style=\"stroke:#009af9; stroke-linecap:butt; stroke-linejoin:round; stroke-width:4; stroke-opacity:1; fill:none\" points=\"\n",
       "  247.59,1445.72 252.579,1425.92 257.569,1406.32 262.559,1386.92 267.549,1367.7 313.689,1198.93 359.828,1045.69 405.968,907.227 452.107,782.8 507.563,650.76 \n",
       "  563.019,536.606 609.906,453.082 656.793,380.626 707.726,313.545 758.658,257.588 805.614,214.985 852.569,180.19 902.91,150.66 953.251,128.221 1011.58,109.809 \n",
       "  1069.9,98.0949 1173.57,89.0999 1264.47,87.9763 1363.58,89.0351 1463.28,97.2316 1518.4,107.589 1573.51,123.717 1625.95,145.588 1678.39,174.941 1732.92,214.579 \n",
       "  1787.45,264.733 1833.35,316.014 1879.25,376.362 1935.28,463.407 1991.32,566.412 2044,678.991 2096.68,807.975 2138.87,923.882 2181.07,1051.6 2223.27,1191.72 \n",
       "  2265.46,1344.79 2271.96,1369.54 2278.45,1394.6 2284.95,1420 2291.44,1445.72 \n",
       "  \"/>\n",
       "<path clip-path=\"url(#clip660)\" d=\"\n",
       "M1987.39 198.898 L2280.54 198.898 L2280.54 95.2176 L1987.39 95.2176  Z\n",
       "  \" fill=\"#ffffff\" fill-rule=\"evenodd\" fill-opacity=\"1\"/>\n",
       "<polyline clip-path=\"url(#clip660)\" style=\"stroke:#000000; stroke-linecap:butt; stroke-linejoin:round; stroke-width:4; stroke-opacity:1; fill:none\" points=\"\n",
       "  1987.39,198.898 2280.54,198.898 2280.54,95.2176 1987.39,95.2176 1987.39,198.898 \n",
       "  \"/>\n",
       "<polyline clip-path=\"url(#clip660)\" style=\"stroke:#009af9; stroke-linecap:butt; stroke-linejoin:round; stroke-width:4; stroke-opacity:1; fill:none\" points=\"\n",
       "  2011.46,147.058 2155.89,147.058 \n",
       "  \"/>\n",
       "<path clip-path=\"url(#clip660)\" d=\"M2193.81 166.745 Q2192 171.375 2190.29 172.787 Q2188.58 174.199 2185.71 174.199 L2182.3 174.199 L2182.3 170.634 L2184.8 170.634 Q2186.56 170.634 2187.53 169.8 Q2188.51 168.967 2189.69 165.865 L2190.45 163.921 L2179.97 138.412 L2184.48 138.412 L2192.58 158.689 L2200.68 138.412 L2205.2 138.412 L2193.81 166.745 Z\" fill=\"#000000\" fill-rule=\"evenodd\" fill-opacity=\"1\" /><path clip-path=\"url(#clip660)\" d=\"M2212.49 160.402 L2220.13 160.402 L2220.13 134.037 L2211.82 135.703 L2211.82 131.444 L2220.08 129.778 L2224.76 129.778 L2224.76 160.402 L2232.4 160.402 L2232.4 164.338 L2212.49 164.338 L2212.49 160.402 Z\" fill=\"#000000\" fill-rule=\"evenodd\" fill-opacity=\"1\" /></svg>\n"
      ]
     },
     "execution_count": 10,
     "metadata": {},
     "output_type": "execute_result"
    }
   ],
   "source": [
    "plot(D.D, 0, 1) \n",
    "# remark that I'm plotting the PwMap which is a member of D to make this more elegant I would need to define a plot recipe for UnimodalMap"
   ]
  },
  {
   "cell_type": "code",
   "execution_count": 11,
   "id": "e1aa39be",
   "metadata": {},
   "outputs": [
    {
     "data": {
      "text/plain": [
       "Ulam{LinRange{Float64}}(range(0.0, stop=1.0, length=17))"
      ]
     },
     "execution_count": 11,
     "metadata": {},
     "output_type": "execute_result"
    }
   ],
   "source": [
    "B = Ulam(16)"
   ]
  },
  {
   "cell_type": "code",
   "execution_count": 12,
   "id": "52435b94",
   "metadata": {},
   "outputs": [
    {
     "name": "stderr",
     "output_type": "stream",
     "text": [
      "┌ Info: Maximum iterates reached\n",
      "│   max_iter = 100\n",
      "└ @ InvariantMeasures.Contractors /home/isaia/.julia/packages/InvariantMeasures/yB7qO/src/Contractors.jl:68\n"
     ]
    },
    {
     "data": {
      "text/plain": [
       "IntegralPreservingDiscretizedOperator{SparseArrays.SparseMatrixCSC{Interval{Float64}, Int64}}(\n",
       "⡇⠀⠀⠀⠀⠀⠀⢸\n",
       "⢳⠀⠀⠀⠀⠀⠀⡞\n",
       "⠘⡆⠀⠀⠀⠀⢰⠃\n",
       "⠀⠙⣆⣀⡀⢠⣏⣀)"
      ]
     },
     "execution_count": 12,
     "metadata": {},
     "output_type": "execute_result"
    }
   ],
   "source": [
    "Q = DiscretizedOperator(B, D.D)"
   ]
  },
  {
   "cell_type": "markdown",
   "id": "08803c94",
   "metadata": {},
   "source": [
    "As you can see, the PwMap type does not behave well with unimodal maps, because of the zero in the derivative. While this is going to be corrected in the assembler, I will show you how this is possible to be solved through Julia multiple dispatch.\n",
    "This is nice to know, since it makes possible to extend the package without having to speak with the developers or know the intricacies of the implementation.\n",
    "The question is that, since there are some points where the derivative is $0$, this leads to problems in computing the preimages."
   ]
  },
  {
   "cell_type": "code",
   "execution_count": 48,
   "id": "2d4a3ad9",
   "metadata": {},
   "outputs": [],
   "source": [
    "# this is going to be a simplified version of the preimage routine, since the definition of the map is really \n",
    "# simple, for more complicated functions, more general methods need to be defined, as in the code\n",
    "# since our map has an explicit inverse function we do not even need to use the Newton method\n",
    "\n",
    "function InvariantMeasures.DynamicDefinition.preim(D::UnimodalMap, k, y, ϵ)\n",
    "    exp = 1/D.α\n",
    "    if k == 1\n",
    "        return (1-(1-y)^exp)/2\n",
    "    elseif k == 2\n",
    "        return (1+(1-y)^exp)/2\n",
    "    end\n",
    "end"
   ]
  },
  {
   "cell_type": "code",
   "execution_count": 49,
   "id": "b613040a",
   "metadata": {},
   "outputs": [
    {
     "data": {
      "text/plain": [
       "IntegralPreservingDiscretizedOperator{SparseArrays.SparseMatrixCSC{Interval{Float64}, Int64}}(\n",
       "⡇⠀⠀⠀⠀⠀⠀⢸\n",
       "⢳⠀⠀⠀⠀⠀⠀⡞\n",
       "⠘⡆⠀⠀⠀⠀⢰⠃\n",
       "⠀⠹⣆⣀⣀⣰⠏⠀)"
      ]
     },
     "execution_count": 49,
     "metadata": {},
     "output_type": "execute_result"
    }
   ],
   "source": [
    "Q = DiscretizedOperator(B, D)"
   ]
  },
  {
   "cell_type": "code",
   "execution_count": 62,
   "id": "dce72d31",
   "metadata": {},
   "outputs": [
    {
     "data": {
      "text/plain": [
       "Ulam{LinRange{Float64}}(range(0.0, stop=1.0, length=16385))"
      ]
     },
     "execution_count": 62,
     "metadata": {},
     "output_type": "execute_result"
    }
   ],
   "source": [
    "B = Ulam(16384)"
   ]
  },
  {
   "cell_type": "code",
   "execution_count": 63,
   "id": "4b984258",
   "metadata": {},
   "outputs": [
    {
     "data": {
      "text/plain": [
       "IntegralPreservingDiscretizedOperator{SparseArrays.SparseMatrixCSC{Interval{Float64}, Int64}}(\n",
       "⣇⠀⠀⠀⠀⠀⠀⠀⠀⠀⠀⠀⠀⠀⠀⠀⠀⠀⠀⠀⠀⠀⠀⠀⠀⠀⠀⠀⠀⠀⠀⠀⠀⠀⠀⠀⠀⠀⠀⣸\n",
       "⢸⠀⠀⠀⠀⠀⠀⠀⠀⠀⠀⠀⠀⠀⠀⠀⠀⠀⠀⠀⠀⠀⠀⠀⠀⠀⠀⠀⠀⠀⠀⠀⠀⠀⠀⠀⠀⠀⠀⡇\n",
       "⠘⡆⠀⠀⠀⠀⠀⠀⠀⠀⠀⠀⠀⠀⠀⠀⠀⠀⠀⠀⠀⠀⠀⠀⠀⠀⠀⠀⠀⠀⠀⠀⠀⠀⠀⠀⠀⠀⢰⠃\n",
       "⠀⢧⠀⠀⠀⠀⠀⠀⠀⠀⠀⠀⠀⠀⠀⠀⠀⠀⠀⠀⠀⠀⠀⠀⠀⠀⠀⠀⠀⠀⠀⠀⠀⠀⠀⠀⠀⠀⡼⠀\n",
       "⠀⢸⡀⠀⠀⠀⠀⠀⠀⠀⠀⠀⠀⠀⠀⠀⠀⠀⠀⠀⠀⠀⠀⠀⠀⠀⠀⠀⠀⠀⠀⠀⠀⠀⠀⠀⠀⢀⡇⠀\n",
       "⠀⠀⡇⠀⠀⠀⠀⠀⠀⠀⠀⠀⠀⠀⠀⠀⠀⠀⠀⠀⠀⠀⠀⠀⠀⠀⠀⠀⠀⠀⠀⠀⠀⠀⠀⠀⠀⢸⠀⠀\n",
       "⠀⠀⢹⠀⠀⠀⠀⠀⠀⠀⠀⠀⠀⠀⠀⠀⠀⠀⠀⠀⠀⠀⠀⠀⠀⠀⠀⠀⠀⠀⠀⠀⠀⠀⠀⠀⠀⡏⠀⠀\n",
       "⠀⠀⠘⡆⠀⠀⠀⠀⠀⠀⠀⠀⠀⠀⠀⠀⠀⠀⠀⠀⠀⠀⠀⠀⠀⠀⠀⠀⠀⠀⠀⠀⠀⠀⠀⠀⢰⠃⠀⠀\n",
       "⠀⠀⠀⢳⠀⠀⠀⠀⠀⠀⠀⠀⠀⠀⠀⠀⠀⠀⠀⠀⠀⠀⠀⠀⠀⠀⠀⠀⠀⠀⠀⠀⠀⠀⠀⠀⡞⠀⠀⠀\n",
       "⠀⠀⠀⠘⡆⠀⠀⠀⠀⠀⠀⠀⠀⠀⠀⠀⠀⠀⠀⠀⠀⠀⠀⠀⠀⠀⠀⠀⠀⠀⠀⠀⠀⠀⠀⢰⠃⠀⠀⠀\n",
       "⠀⠀⠀⠀⢳⠀⠀⠀⠀⠀⠀⠀⠀⠀⠀⠀⠀⠀⠀⠀⠀⠀⠀⠀⠀⠀⠀⠀⠀⠀⠀⠀⠀⠀⠀⡞⠀⠀⠀⠀\n",
       "⠀⠀⠀⠀⠈⡇⠀⠀⠀⠀⠀⠀⠀⠀⠀⠀⠀⠀⠀⠀⠀⠀⠀⠀⠀⠀⠀⠀⠀⠀⠀⠀⠀⠀⢸⠁⠀⠀⠀⠀\n",
       "⠀⠀⠀⠀⠀⢹⡀⠀⠀⠀⠀⠀⠀⠀⠀⠀⠀⠀⠀⠀⠀⠀⠀⠀⠀⠀⠀⠀⠀⠀⠀⠀⠀⢀⡏⠀⠀⠀⠀⠀\n",
       "⠀⠀⠀⠀⠀⠀⢧⠀⠀⠀⠀⠀⠀⠀⠀⠀⠀⠀⠀⠀⠀⠀⠀⠀⠀⠀⠀⠀⠀⠀⠀⠀⠀⡼⠀⠀⠀⠀⠀⠀\n",
       "⠀⠀⠀⠀⠀⠀⠈⣇⠀⠀⠀⠀⠀⠀⠀⠀⠀⠀⠀⠀⠀⠀⠀⠀⠀⠀⠀⠀⠀⠀⠀⠀⣸⠁⠀⠀⠀⠀⠀⠀\n",
       "⠀⠀⠀⠀⠀⠀⠀⠘⣆⠀⠀⠀⠀⠀⠀⠀⠀⠀⠀⠀⠀⠀⠀⠀⠀⠀⠀⠀⠀⠀⠀⣰⠃⠀⠀⠀⠀⠀⠀⠀\n",
       "⠀⠀⠀⠀⠀⠀⠀⠀⠘⣆⠀⠀⠀⠀⠀⠀⠀⠀⠀⠀⠀⠀⠀⠀⠀⠀⠀⠀⠀⠀⣰⠃⠀⠀⠀⠀⠀⠀⠀⠀\n",
       "⠀⠀⠀⠀⠀⠀⠀⠀⠀⠘⢦⠀⠀⠀⠀⠀⠀⠀⠀⠀⠀⠀⠀⠀⠀⠀⠀⠀⠀⡴⠃⠀⠀⠀⠀⠀⠀⠀⠀⠀\n",
       "⠀⠀⠀⠀⠀⠀⠀⠀⠀⠀⠈⠳⣄⡀⠀⠀⠀⠀⠀⠀⠀⠀⠀⠀⠀⠀⢀⣠⠞⠁⠀⠀⠀⠀⠀⠀⠀⠀⠀⠀\n",
       "⠀⠀⠀⠀⠀⠀⠀⠀⠀⠀⠀⠀⠀⠙⠲⠤⣄⣀⣀⣀⣀⣀⣀⣠⠤⠖⠋⠀⠀⠀⠀⠀⠀⠀⠀⠀⠀⠀⠀⠀)"
      ]
     },
     "execution_count": 63,
     "metadata": {},
     "output_type": "execute_result"
    }
   ],
   "source": [
    "Q =  DiscretizedOperator(B, D)"
   ]
  },
  {
   "cell_type": "code",
   "execution_count": 64,
   "id": "8bea40ed",
   "metadata": {},
   "outputs": [
    {
     "data": {
      "text/plain": [
       "InvariantMeasures.DiscretizedNoiseKernelUlam{Vector{Float64}}([2.000000000248292, 10.0, 10.0, 10.0, 10.0, 10.0, 10.0, 10.0, 10.0, 10.0  …  10.0, 10.0, 10.0, 10.0, 10.0, 10.0, 10.0, 10.0, 10.0, 2.000000000248292], 9.931682143360376e-10, :periodic, [0.0, 0.0, 0.0, 0.0, 0.0, 0.0, 0.0, 0.0, 0.0, 0.0  …  0.0, 0.0, 0.0, 0.0, 0.0, 0.0, 0.0, 0.0, 0.0, 0.0], [0.0, 0.0, 0.0, 0.0, 0.0, 0.0, 0.0, 0.0, 0.0, 0.0  …  0.0, 0.0, 0.0, 0.0, 0.0, 0.0, 0.0, 0.0, 0.0, 0.0])"
      ]
     },
     "execution_count": 64,
     "metadata": {},
     "output_type": "execute_result"
    }
   ],
   "source": [
    "N = InvariantMeasures.UniformNoiseUlam(0.05, 16384) #this is not exported yet, since it is still experimental"
   ]
  },
  {
   "cell_type": "code",
   "execution_count": 65,
   "id": "4cbfea62",
   "metadata": {},
   "outputs": [
    {
     "name": "stderr",
     "output_type": "stream",
     "text": [
      "\u001b[32mProgress:   1%|▍                                        |  ETA: 2:44:14\u001b[39m"
     ]
    },
    {
     "ename": "LoadError",
     "evalue": "InterruptException:",
     "output_type": "error",
     "traceback": [
      "InterruptException:",
      "",
      "Stacktrace:",
      " [1] mult(M::InvariantMeasures.DiscretizedNoiseKernelUlam{Vector{Float64}}, v::Vector{Float64}, #unused#::Val{:periodic})",
      "   @ InvariantMeasures ~/.julia/packages/InvariantMeasures/yB7qO/src/NoiseKernel.jl:102",
      " [2] *(M::InvariantMeasures.DiscretizedNoiseKernelUlam{Vector{Float64}}, v::Vector{Float64})",
      "   @ InvariantMeasures ~/.julia/packages/InvariantMeasures/yB7qO/src/NoiseKernel.jl:86",
      " [3] macro expansion",
      "   @ ~/.julia/packages/InvariantMeasures/yB7qO/src/NormsOfPowersNoise.jl:134 [inlined]",
      " [4] macro expansion",
      "   @ ~/.julia/packages/ProgressMeter/Vf8un/src/ProgressMeter.jl:940 [inlined]",
      " [5] norms_of_powers_noise(N::Type{L1}, m::Int64, Q::IntegralPreservingDiscretizedOperator{SparseArrays.SparseMatrixCSC{Interval{Float64}, Int64}}, f::LinearAlgebra.Adjoint{Interval{Float64}, Vector{Interval{Float64}}}, MK::InvariantMeasures.DiscretizedNoiseKernelUlam{Vector{Float64}}; normv0::Float64, normQ::Float64, normE::Float64, normEF::Float64, normIEF::Float64, normN::Float64, normρ::Float64)",
      "   @ InvariantMeasures ~/.julia/packages/InvariantMeasures/yB7qO/src/NormsOfPowersNoise.jl:107",
      " [6] norms_of_powers_noise(N::Type{L1}, m::Int64, Q::IntegralPreservingDiscretizedOperator{SparseArrays.SparseMatrixCSC{Interval{Float64}, Int64}}, f::LinearAlgebra.Adjoint{Interval{Float64}, Vector{Interval{Float64}}}, MK::InvariantMeasures.DiscretizedNoiseKernelUlam{Vector{Float64}})",
      "   @ InvariantMeasures ~/.julia/packages/InvariantMeasures/yB7qO/src/NormsOfPowersNoise.jl:43",
      " [7] top-level scope",
      "   @ In[65]:1",
      " [8] eval",
      "   @ ./boot.jl:360 [inlined]",
      " [9] include_string(mapexpr::typeof(REPL.softscope), mod::Module, code::String, filename::String)",
      "   @ Base ./loading.jl:1116"
     ]
    }
   ],
   "source": [
    "norms_of_powers_noise(L1, 10, Q, integral_covector(B), N)"
   ]
  },
  {
   "cell_type": "code",
   "execution_count": null,
   "id": "7248ee50",
   "metadata": {},
   "outputs": [],
   "source": []
  }
 ],
 "metadata": {
  "kernelspec": {
   "display_name": "Julia 1.6.2 - 12 threads",
   "language": "julia",
   "name": "julia-1.6-12-thread"
  },
  "language_info": {
   "file_extension": ".jl",
   "mimetype": "application/julia",
   "name": "julia",
   "version": "1.6.2"
  }
 },
 "nbformat": 4,
 "nbformat_minor": 5
}
