{
 "cells": [
  {
   "cell_type": "markdown",
   "metadata": {},
   "source": [
    "# Summary of lecture 1"
   ]
  },
  {
   "cell_type": "markdown",
   "metadata": {},
   "source": [
    "Yesterday I introduced the language Julia, a language that is compiled Just in Time: the first time you run a function, it determines the types of the arguments and compiles it, so the next time is faster.\n",
    "This has a list of advantages:\n",
    "1. it is easy to type generic code\n",
    "2. the user does not need to specify the types as he writes the code, making it easier and faster to reuse code\n",
    "3. the second execution of a function is really fast\n",
    "\n",
    "This puts together the advantages of interpreted languages, as Python and Matlab, with the speed of compiled languages as C++ and Fortran.\n",
    "\n",
    "Summarizing: Julia is faster than Matlab and Python and simpler to program than C++ and Fortran.\n",
    "\n",
    "\n"
   ]
  },
  {
   "cell_type": "markdown",
   "metadata": {},
   "source": [
    "We used Julia to implement some non-rigorous numerical experiments in Ergodic Theory. While this experiments may be used to gather evidence of some underlying mathematical phenomenon, they are not mathematical proofs.\n",
    "The objective of our course is to develop tools that allow us to prove, with the assistance of a computer, Theorems in Computational Ergodic Theory.\n",
    "\n",
    "To do so, we need to introduce some new tools, both practical and theoretical.\n",
    "\n",
    "Today we will introduce Interval Arithmetics, a numerical concept that allows a computer to compute rigorous enclosures numerical expressions, i.e., intervals that are guaranteed to contain the __TRUE__ mathematical result of a function evaluation."
   ]
  },
  {
   "cell_type": "markdown",
   "metadata": {},
   "source": [
    "# Introducing Interval Arithmetic"
   ]
  },
  {
   "cell_type": "markdown",
   "metadata": {},
   "source": [
    "In this notebook I will introduce one of the main tools of validated numerics: interval arithmetics.\n",
    "We will install a ready made package, the IntervalArithmetic.jl package, a package in the shared Julia repository."
   ]
  },
  {
   "cell_type": "code",
   "execution_count": 10,
   "metadata": {},
   "outputs": [
    {
     "name": "stderr",
     "output_type": "stream",
     "text": [
      "\u001b[32m\u001b[1m   Resolving\u001b[22m\u001b[39m package versions...\n",
      "\u001b[32m\u001b[1m  No Changes\u001b[22m\u001b[39m to `~/.julia/environments/v1.6/Project.toml`\n",
      "\u001b[32m\u001b[1m  No Changes\u001b[22m\u001b[39m to `~/.julia/environments/v1.6/Manifest.toml`\n"
     ]
    }
   ],
   "source": [
    "import Pkg;\n",
    "Pkg.add(\"IntervalArithmetic\")"
   ]
  },
  {
   "cell_type": "code",
   "execution_count": 2,
   "metadata": {},
   "outputs": [],
   "source": [
    "using IntervalArithmetic"
   ]
  },
  {
   "cell_type": "markdown",
   "metadata": {},
   "source": [
    "The main idea behind IntervalArithmetic is the following, given a function $f$, Interval Arithmetics allows us to define a function $F$, called the __interval extension__ of $f$, such that for any interval $I = [a,b]$ we have that\n",
    "$$\n",
    "f(I)\\subset F(I).\n",
    "$$\n",
    "In other words, Interval arithmetics allows the computer to compute numerically an interval that contains the true mathematical result of the function. \n",
    "This is called the __range enclosure__ property."
   ]
  },
  {
   "cell_type": "markdown",
   "metadata": {},
   "source": [
    "A reference on the topic is the following book by [W. Tucker - Validated Numerics - A Short Introduction to Rigorous computation](https://www.amazon.de/-/en/Warwick-Tucker/dp/0691147817)"
   ]
  },
  {
   "cell_type": "markdown",
   "metadata": {},
   "source": [
    "The simplest object of Interval Arithmetics are the intervals.\n",
    "The macro @interval defines $x$ as the smallest interval that contains the real point $0.1$.\n",
    "\n",
    "Remark that $0.1$ has infinite binary expansion, so it is not possible to represent it exactly in binary format, so this is a wide interval, with a lower bound different from the upper bound; the upper and lower bounds are the smallest representable number in Floating Point Arithmetic bigger than $0.1$ and the greatest representable number smaller than $x$"
   ]
  },
  {
   "cell_type": "code",
   "execution_count": 11,
   "metadata": {},
   "outputs": [
    {
     "data": {
      "text/plain": [
       "Display parameters:\n",
       "- format: standard\n",
       "- decorations: false\n",
       "- significant figures: 6"
      ]
     },
     "execution_count": 11,
     "metadata": {},
     "output_type": "execute_result"
    }
   ],
   "source": [
    "@format standard"
   ]
  },
  {
   "cell_type": "code",
   "execution_count": 12,
   "metadata": {},
   "outputs": [
    {
     "data": {
      "text/plain": [
       "[0.0999999, 0.100001]"
      ]
     },
     "execution_count": 12,
     "metadata": {},
     "output_type": "execute_result"
    }
   ],
   "source": [
    "x = @interval 0.1 "
   ]
  },
  {
   "cell_type": "markdown",
   "metadata": {},
   "source": [
    "I will change the output format of the intervals, to a midpoint radius format."
   ]
  },
  {
   "cell_type": "code",
   "execution_count": 13,
   "metadata": {},
   "outputs": [
    {
     "data": {
      "text/plain": [
       "Display parameters:\n",
       "- format: midpoint\n",
       "- decorations: false\n",
       "- significant figures: 6"
      ]
     },
     "execution_count": 13,
     "metadata": {},
     "output_type": "execute_result"
    }
   ],
   "source": [
    "@format midpoint"
   ]
  },
  {
   "cell_type": "code",
   "execution_count": 14,
   "metadata": {},
   "outputs": [
    {
     "data": {
      "text/plain": [
       "0.1 ± 1.38778e-17"
      ]
     },
     "execution_count": 14,
     "metadata": {},
     "output_type": "execute_result"
    }
   ],
   "source": [
    "x"
   ]
  },
  {
   "cell_type": "code",
   "execution_count": 15,
   "metadata": {},
   "outputs": [
    {
     "data": {
      "text/plain": [
       "Display parameters:\n",
       "- format: standard\n",
       "- decorations: false\n",
       "- significant figures: 6"
      ]
     },
     "execution_count": 15,
     "metadata": {},
     "output_type": "execute_result"
    }
   ],
   "source": [
    "@format standard"
   ]
  },
  {
   "cell_type": "code",
   "execution_count": 16,
   "metadata": {},
   "outputs": [
    {
     "data": {
      "text/plain": [
       "[0.299999, 0.300001]"
      ]
     },
     "execution_count": 16,
     "metadata": {},
     "output_type": "execute_result"
    }
   ],
   "source": [
    "y = @interval 0.3"
   ]
  },
  {
   "cell_type": "markdown",
   "metadata": {},
   "source": [
    "The operations in interval arithmetic are defined so that the sum of two intervals is an interval that contains the sum of all possible intervals (in some sense, this is similar to absolute error estimate as in the statistics of physical experiments)."
   ]
  },
  {
   "cell_type": "code",
   "execution_count": 17,
   "metadata": {},
   "outputs": [
    {
     "data": {
      "text/plain": [
       "[0.399999, 0.400001]"
      ]
     },
     "execution_count": 17,
     "metadata": {},
     "output_type": "execute_result"
    }
   ],
   "source": [
    "x+y"
   ]
  },
  {
   "cell_type": "markdown",
   "metadata": {},
   "source": [
    "The same works with multiplication."
   ]
  },
  {
   "cell_type": "code",
   "execution_count": 18,
   "metadata": {},
   "outputs": [
    {
     "data": {
      "text/plain": [
       "[0.0299999, 0.0300001]"
      ]
     },
     "execution_count": 18,
     "metadata": {},
     "output_type": "execute_result"
    }
   ],
   "source": [
    "x*y"
   ]
  },
  {
   "cell_type": "markdown",
   "metadata": {},
   "source": [
    "Please note that wide intervals may be defined."
   ]
  },
  {
   "cell_type": "code",
   "execution_count": 19,
   "metadata": {},
   "outputs": [
    {
     "data": {
      "text/plain": [
       "[-1, 1]"
      ]
     },
     "execution_count": 19,
     "metadata": {},
     "output_type": "execute_result"
    }
   ],
   "source": [
    "x = @interval -1 1"
   ]
  },
  {
   "cell_type": "code",
   "execution_count": 20,
   "metadata": {},
   "outputs": [
    {
     "data": {
      "text/plain": [
       "[-0.700001, 1.30001]"
      ]
     },
     "execution_count": 20,
     "metadata": {},
     "output_type": "execute_result"
    }
   ],
   "source": [
    "x+y"
   ]
  },
  {
   "cell_type": "markdown",
   "metadata": {},
   "source": [
    "When an interval contains $0$, the real extended line formalism is used.\n",
    "This is called the affine line extension in Tucker's book."
   ]
  },
  {
   "cell_type": "code",
   "execution_count": 21,
   "metadata": {},
   "outputs": [
    {
     "data": {
      "text/plain": [
       "[-∞, ∞]"
      ]
     },
     "execution_count": 21,
     "metadata": {},
     "output_type": "execute_result"
    }
   ],
   "source": [
    "y/x"
   ]
  },
  {
   "cell_type": "markdown",
   "metadata": {},
   "source": [
    "Summarizing: Interval arithmetics computes intervals of confidence. \n",
    "\n",
    "__The result of an operation done with interval arithmetics is guaranteed to contain the true mathematical result of the operation.__"
   ]
  },
  {
   "cell_type": "markdown",
   "metadata": {},
   "source": [
    "## Function evaluation"
   ]
  },
  {
   "cell_type": "markdown",
   "metadata": {},
   "source": [
    "Library routines are defined so that the __range enclosure__ property is satisfied. This allows us to get rigorous numerical results on mathematical functions."
   ]
  },
  {
   "cell_type": "code",
   "execution_count": 22,
   "metadata": {},
   "outputs": [
    {
     "data": {
      "text/plain": [
       "f (generic function with 1 method)"
      ]
     },
     "execution_count": 22,
     "metadata": {},
     "output_type": "execute_result"
    }
   ],
   "source": [
    "f(x) = x*sin(1/x)"
   ]
  },
  {
   "cell_type": "code",
   "execution_count": 23,
   "metadata": {},
   "outputs": [
    {
     "data": {
      "text/plain": [
       "[0, 0.100001]"
      ]
     },
     "execution_count": 23,
     "metadata": {},
     "output_type": "execute_result"
    }
   ],
   "source": [
    "x = @interval 0 0.1"
   ]
  },
  {
   "cell_type": "code",
   "execution_count": 24,
   "metadata": {},
   "outputs": [
    {
     "data": {
      "text/plain": [
       "[-0.100001, 0.100001]"
      ]
     },
     "execution_count": 24,
     "metadata": {},
     "output_type": "execute_result"
    }
   ],
   "source": [
    "f(x)"
   ]
  },
  {
   "cell_type": "code",
   "execution_count": 25,
   "metadata": {},
   "outputs": [],
   "source": [
    "using Plots"
   ]
  },
  {
   "cell_type": "code",
   "execution_count": 26,
   "metadata": {},
   "outputs": [
    {
     "data": {
      "text/plain": [
       "16-element Vector{Interval{Float64}}:\n",
       " [0, 0.0625]\n",
       "    [0.0625, 0.125]\n",
       "    [0.125, 0.1875]\n",
       "    [0.1875, 0.25]\n",
       "    [0.25, 0.3125]\n",
       "    [0.3125, 0.375]\n",
       "    [0.375, 0.4375]\n",
       "    [0.4375, 0.5]\n",
       "    [0.5, 0.5625]\n",
       "    [0.5625, 0.625]\n",
       "    [0.625, 0.6875]\n",
       "    [0.6875, 0.75]\n",
       "    [0.75, 0.8125]\n",
       "    [0.8125, 0.875]\n",
       "    [0.875, 0.9375]\n",
       "    [0.9375, 1]"
      ]
     },
     "execution_count": 26,
     "metadata": {},
     "output_type": "execute_result"
    }
   ],
   "source": [
    "N = 16\n",
    "X1 = [@interval i/N (i+1)/N for i in 0:N-1]"
   ]
  },
  {
   "cell_type": "code",
   "execution_count": 27,
   "metadata": {},
   "outputs": [
    {
     "data": {
      "image/svg+xml": [
       "<?xml version=\"1.0\" encoding=\"utf-8\"?>\n",
       "<svg xmlns=\"http://www.w3.org/2000/svg\" xmlns:xlink=\"http://www.w3.org/1999/xlink\" width=\"600\" height=\"400\" viewBox=\"0 0 2400 1600\">\n",
       "<defs>\n",
       "  <clipPath id=\"clip840\">\n",
       "    <rect x=\"0\" y=\"0\" width=\"2400\" height=\"1600\"/>\n",
       "  </clipPath>\n",
       "</defs>\n",
       "<path clip-path=\"url(#clip840)\" d=\"\n",
       "M0 1600 L2400 1600 L2400 0 L0 0  Z\n",
       "  \" fill=\"#ffffff\" fill-rule=\"evenodd\" fill-opacity=\"1\"/>\n",
       "<defs>\n",
       "  <clipPath id=\"clip841\">\n",
       "    <rect x=\"480\" y=\"0\" width=\"1681\" height=\"1600\"/>\n",
       "  </clipPath>\n",
       "</defs>\n",
       "<path clip-path=\"url(#clip840)\" d=\"\n",
       "M223.103 1486.45 L2352.76 1486.45 L2352.76 47.2441 L223.103 47.2441  Z\n",
       "  \" fill=\"#ffffff\" fill-rule=\"evenodd\" fill-opacity=\"1\"/>\n",
       "<defs>\n",
       "  <clipPath id=\"clip842\">\n",
       "    <rect x=\"223\" y=\"47\" width=\"2131\" height=\"1440\"/>\n",
       "  </clipPath>\n",
       "</defs>\n",
       "<polyline clip-path=\"url(#clip842)\" style=\"stroke:#000000; stroke-linecap:butt; stroke-linejoin:round; stroke-width:2; stroke-opacity:0.1; fill:none\" points=\"\n",
       "  283.376,1486.45 283.376,47.2441 \n",
       "  \"/>\n",
       "<polyline clip-path=\"url(#clip842)\" style=\"stroke:#000000; stroke-linecap:butt; stroke-linejoin:round; stroke-width:2; stroke-opacity:0.1; fill:none\" points=\"\n",
       "  785.652,1486.45 785.652,47.2441 \n",
       "  \"/>\n",
       "<polyline clip-path=\"url(#clip842)\" style=\"stroke:#000000; stroke-linecap:butt; stroke-linejoin:round; stroke-width:2; stroke-opacity:0.1; fill:none\" points=\"\n",
       "  1287.93,1486.45 1287.93,47.2441 \n",
       "  \"/>\n",
       "<polyline clip-path=\"url(#clip842)\" style=\"stroke:#000000; stroke-linecap:butt; stroke-linejoin:round; stroke-width:2; stroke-opacity:0.1; fill:none\" points=\"\n",
       "  1790.21,1486.45 1790.21,47.2441 \n",
       "  \"/>\n",
       "<polyline clip-path=\"url(#clip842)\" style=\"stroke:#000000; stroke-linecap:butt; stroke-linejoin:round; stroke-width:2; stroke-opacity:0.1; fill:none\" points=\"\n",
       "  2292.48,1486.45 2292.48,47.2441 \n",
       "  \"/>\n",
       "<polyline clip-path=\"url(#clip840)\" style=\"stroke:#000000; stroke-linecap:butt; stroke-linejoin:round; stroke-width:4; stroke-opacity:1; fill:none\" points=\"\n",
       "  223.103,1486.45 2352.76,1486.45 \n",
       "  \"/>\n",
       "<polyline clip-path=\"url(#clip840)\" style=\"stroke:#000000; stroke-linecap:butt; stroke-linejoin:round; stroke-width:4; stroke-opacity:1; fill:none\" points=\"\n",
       "  283.376,1486.45 283.376,1469.18 \n",
       "  \"/>\n",
       "<polyline clip-path=\"url(#clip840)\" style=\"stroke:#000000; stroke-linecap:butt; stroke-linejoin:round; stroke-width:4; stroke-opacity:1; fill:none\" points=\"\n",
       "  785.652,1486.45 785.652,1469.18 \n",
       "  \"/>\n",
       "<polyline clip-path=\"url(#clip840)\" style=\"stroke:#000000; stroke-linecap:butt; stroke-linejoin:round; stroke-width:4; stroke-opacity:1; fill:none\" points=\"\n",
       "  1287.93,1486.45 1287.93,1469.18 \n",
       "  \"/>\n",
       "<polyline clip-path=\"url(#clip840)\" style=\"stroke:#000000; stroke-linecap:butt; stroke-linejoin:round; stroke-width:4; stroke-opacity:1; fill:none\" points=\"\n",
       "  1790.21,1486.45 1790.21,1469.18 \n",
       "  \"/>\n",
       "<polyline clip-path=\"url(#clip840)\" style=\"stroke:#000000; stroke-linecap:butt; stroke-linejoin:round; stroke-width:4; stroke-opacity:1; fill:none\" points=\"\n",
       "  2292.48,1486.45 2292.48,1469.18 \n",
       "  \"/>\n",
       "<path clip-path=\"url(#clip840)\" d=\"M245.679 1515.64 Q242.068 1515.64 240.239 1519.2 Q238.434 1522.75 238.434 1529.87 Q238.434 1536.98 240.239 1540.55 Q242.068 1544.09 245.679 1544.09 Q249.313 1544.09 251.119 1540.55 Q252.948 1536.98 252.948 1529.87 Q252.948 1522.75 251.119 1519.2 Q249.313 1515.64 245.679 1515.64 M245.679 1511.93 Q251.489 1511.93 254.545 1516.54 Q257.624 1521.12 257.624 1529.87 Q257.624 1538.6 254.545 1543.21 Q251.489 1547.79 245.679 1547.79 Q239.869 1547.79 236.79 1543.21 Q233.735 1538.6 233.735 1529.87 Q233.735 1521.12 236.79 1516.54 Q239.869 1511.93 245.679 1511.93 Z\" fill=\"#000000\" fill-rule=\"evenodd\" fill-opacity=\"1\" /><path clip-path=\"url(#clip840)\" d=\"M265.841 1541.24 L270.725 1541.24 L270.725 1547.12 L265.841 1547.12 L265.841 1541.24 Z\" fill=\"#000000\" fill-rule=\"evenodd\" fill-opacity=\"1\" /><path clip-path=\"url(#clip840)\" d=\"M290.91 1515.64 Q287.299 1515.64 285.471 1519.2 Q283.665 1522.75 283.665 1529.87 Q283.665 1536.98 285.471 1540.55 Q287.299 1544.09 290.91 1544.09 Q294.545 1544.09 296.35 1540.55 Q298.179 1536.98 298.179 1529.87 Q298.179 1522.75 296.35 1519.2 Q294.545 1515.64 290.91 1515.64 M290.91 1511.93 Q296.721 1511.93 299.776 1516.54 Q302.855 1521.12 302.855 1529.87 Q302.855 1538.6 299.776 1543.21 Q296.721 1547.79 290.91 1547.79 Q285.1 1547.79 282.022 1543.21 Q278.966 1538.6 278.966 1529.87 Q278.966 1521.12 282.022 1516.54 Q285.1 1511.93 290.91 1511.93 Z\" fill=\"#000000\" fill-rule=\"evenodd\" fill-opacity=\"1\" /><path clip-path=\"url(#clip840)\" d=\"M321.072 1515.64 Q317.461 1515.64 315.632 1519.2 Q313.827 1522.75 313.827 1529.87 Q313.827 1536.98 315.632 1540.55 Q317.461 1544.09 321.072 1544.09 Q324.707 1544.09 326.512 1540.55 Q328.341 1536.98 328.341 1529.87 Q328.341 1522.75 326.512 1519.2 Q324.707 1515.64 321.072 1515.64 M321.072 1511.93 Q326.882 1511.93 329.938 1516.54 Q333.017 1521.12 333.017 1529.87 Q333.017 1538.6 329.938 1543.21 Q326.882 1547.79 321.072 1547.79 Q315.262 1547.79 312.183 1543.21 Q309.128 1538.6 309.128 1529.87 Q309.128 1521.12 312.183 1516.54 Q315.262 1511.93 321.072 1511.93 Z\" fill=\"#000000\" fill-rule=\"evenodd\" fill-opacity=\"1\" /><path clip-path=\"url(#clip840)\" d=\"M748.454 1515.64 Q744.842 1515.64 743.014 1519.2 Q741.208 1522.75 741.208 1529.87 Q741.208 1536.98 743.014 1540.55 Q744.842 1544.09 748.454 1544.09 Q752.088 1544.09 753.893 1540.55 Q755.722 1536.98 755.722 1529.87 Q755.722 1522.75 753.893 1519.2 Q752.088 1515.64 748.454 1515.64 M748.454 1511.93 Q754.264 1511.93 757.319 1516.54 Q760.398 1521.12 760.398 1529.87 Q760.398 1538.6 757.319 1543.21 Q754.264 1547.79 748.454 1547.79 Q742.643 1547.79 739.565 1543.21 Q736.509 1538.6 736.509 1529.87 Q736.509 1521.12 739.565 1516.54 Q742.643 1511.93 748.454 1511.93 Z\" fill=\"#000000\" fill-rule=\"evenodd\" fill-opacity=\"1\" /><path clip-path=\"url(#clip840)\" d=\"M768.616 1541.24 L773.5 1541.24 L773.5 1547.12 L768.616 1547.12 L768.616 1541.24 Z\" fill=\"#000000\" fill-rule=\"evenodd\" fill-opacity=\"1\" /><path clip-path=\"url(#clip840)\" d=\"M787.713 1543.18 L804.032 1543.18 L804.032 1547.12 L782.088 1547.12 L782.088 1543.18 Q784.75 1540.43 789.333 1535.8 Q793.939 1531.15 795.12 1529.81 Q797.365 1527.28 798.245 1525.55 Q799.148 1523.79 799.148 1522.1 Q799.148 1519.34 797.203 1517.61 Q795.282 1515.87 792.18 1515.87 Q789.981 1515.87 787.527 1516.63 Q785.097 1517.4 782.319 1518.95 L782.319 1514.23 Q785.143 1513.09 787.597 1512.51 Q790.051 1511.93 792.088 1511.93 Q797.458 1511.93 800.652 1514.62 Q803.847 1517.31 803.847 1521.8 Q803.847 1523.93 803.037 1525.85 Q802.25 1527.74 800.143 1530.34 Q799.564 1531.01 796.463 1534.23 Q793.361 1537.42 787.713 1543.18 Z\" fill=\"#000000\" fill-rule=\"evenodd\" fill-opacity=\"1\" /><path clip-path=\"url(#clip840)\" d=\"M813.893 1512.56 L832.249 1512.56 L832.249 1516.5 L818.175 1516.5 L818.175 1524.97 Q819.194 1524.62 820.212 1524.46 Q821.231 1524.27 822.249 1524.27 Q828.036 1524.27 831.416 1527.44 Q834.796 1530.62 834.796 1536.03 Q834.796 1541.61 831.324 1544.71 Q827.851 1547.79 821.532 1547.79 Q819.356 1547.79 817.087 1547.42 Q814.842 1547.05 812.435 1546.31 L812.435 1541.61 Q814.518 1542.74 816.74 1543.3 Q818.962 1543.86 821.439 1543.86 Q825.444 1543.86 827.782 1541.75 Q830.12 1539.64 830.12 1536.03 Q830.12 1532.42 827.782 1530.31 Q825.444 1528.21 821.439 1528.21 Q819.564 1528.21 817.689 1528.62 Q815.837 1529.04 813.893 1529.92 L813.893 1512.56 Z\" fill=\"#000000\" fill-rule=\"evenodd\" fill-opacity=\"1\" /><path clip-path=\"url(#clip840)\" d=\"M1250.23 1515.64 Q1246.62 1515.64 1244.79 1519.2 Q1242.99 1522.75 1242.99 1529.87 Q1242.99 1536.98 1244.79 1540.55 Q1246.62 1544.09 1250.23 1544.09 Q1253.87 1544.09 1255.67 1540.55 Q1257.5 1536.98 1257.5 1529.87 Q1257.5 1522.75 1255.67 1519.2 Q1253.87 1515.64 1250.23 1515.64 M1250.23 1511.93 Q1256.04 1511.93 1259.1 1516.54 Q1262.18 1521.12 1262.18 1529.87 Q1262.18 1538.6 1259.1 1543.21 Q1256.04 1547.79 1250.23 1547.79 Q1244.42 1547.79 1241.34 1543.21 Q1238.29 1538.6 1238.29 1529.87 Q1238.29 1521.12 1241.34 1516.54 Q1244.42 1511.93 1250.23 1511.93 Z\" fill=\"#000000\" fill-rule=\"evenodd\" fill-opacity=\"1\" /><path clip-path=\"url(#clip840)\" d=\"M1270.39 1541.24 L1275.28 1541.24 L1275.28 1547.12 L1270.39 1547.12 L1270.39 1541.24 Z\" fill=\"#000000\" fill-rule=\"evenodd\" fill-opacity=\"1\" /><path clip-path=\"url(#clip840)\" d=\"M1285.51 1512.56 L1303.87 1512.56 L1303.87 1516.5 L1289.79 1516.5 L1289.79 1524.97 Q1290.81 1524.62 1291.83 1524.46 Q1292.85 1524.27 1293.87 1524.27 Q1299.65 1524.27 1303.03 1527.44 Q1306.41 1530.62 1306.41 1536.03 Q1306.41 1541.61 1302.94 1544.71 Q1299.47 1547.79 1293.15 1547.79 Q1290.97 1547.79 1288.7 1547.42 Q1286.46 1547.05 1284.05 1546.31 L1284.05 1541.61 Q1286.14 1542.74 1288.36 1543.3 Q1290.58 1543.86 1293.06 1543.86 Q1297.06 1543.86 1299.4 1541.75 Q1301.74 1539.64 1301.74 1536.03 Q1301.74 1532.42 1299.4 1530.31 Q1297.06 1528.21 1293.06 1528.21 Q1291.18 1528.21 1289.31 1528.62 Q1287.45 1529.04 1285.51 1529.92 L1285.51 1512.56 Z\" fill=\"#000000\" fill-rule=\"evenodd\" fill-opacity=\"1\" /><path clip-path=\"url(#clip840)\" d=\"M1325.63 1515.64 Q1322.01 1515.64 1320.19 1519.2 Q1318.38 1522.75 1318.38 1529.87 Q1318.38 1536.98 1320.19 1540.55 Q1322.01 1544.09 1325.63 1544.09 Q1329.26 1544.09 1331.07 1540.55 Q1332.89 1536.98 1332.89 1529.87 Q1332.89 1522.75 1331.07 1519.2 Q1329.26 1515.64 1325.63 1515.64 M1325.63 1511.93 Q1331.44 1511.93 1334.49 1516.54 Q1337.57 1521.12 1337.57 1529.87 Q1337.57 1538.6 1334.49 1543.21 Q1331.44 1547.79 1325.63 1547.79 Q1319.82 1547.79 1316.74 1543.21 Q1313.68 1538.6 1313.68 1529.87 Q1313.68 1521.12 1316.74 1516.54 Q1319.82 1511.93 1325.63 1511.93 Z\" fill=\"#000000\" fill-rule=\"evenodd\" fill-opacity=\"1\" /><path clip-path=\"url(#clip840)\" d=\"M1753.01 1515.64 Q1749.4 1515.64 1747.57 1519.2 Q1745.76 1522.75 1745.76 1529.87 Q1745.76 1536.98 1747.57 1540.55 Q1749.4 1544.09 1753.01 1544.09 Q1756.64 1544.09 1758.45 1540.55 Q1760.28 1536.98 1760.28 1529.87 Q1760.28 1522.75 1758.45 1519.2 Q1756.64 1515.64 1753.01 1515.64 M1753.01 1511.93 Q1758.82 1511.93 1761.87 1516.54 Q1764.95 1521.12 1764.95 1529.87 Q1764.95 1538.6 1761.87 1543.21 Q1758.82 1547.79 1753.01 1547.79 Q1747.2 1547.79 1744.12 1543.21 Q1741.06 1538.6 1741.06 1529.87 Q1741.06 1521.12 1744.12 1516.54 Q1747.2 1511.93 1753.01 1511.93 Z\" fill=\"#000000\" fill-rule=\"evenodd\" fill-opacity=\"1\" /><path clip-path=\"url(#clip840)\" d=\"M1773.17 1541.24 L1778.05 1541.24 L1778.05 1547.12 L1773.17 1547.12 L1773.17 1541.24 Z\" fill=\"#000000\" fill-rule=\"evenodd\" fill-opacity=\"1\" /><path clip-path=\"url(#clip840)\" d=\"M1787.06 1512.56 L1809.28 1512.56 L1809.28 1514.55 L1796.73 1547.12 L1791.85 1547.12 L1803.65 1516.5 L1787.06 1516.5 L1787.06 1512.56 Z\" fill=\"#000000\" fill-rule=\"evenodd\" fill-opacity=\"1\" /><path clip-path=\"url(#clip840)\" d=\"M1818.45 1512.56 L1836.8 1512.56 L1836.8 1516.5 L1822.73 1516.5 L1822.73 1524.97 Q1823.75 1524.62 1824.77 1524.46 Q1825.78 1524.27 1826.8 1524.27 Q1832.59 1524.27 1835.97 1527.44 Q1839.35 1530.62 1839.35 1536.03 Q1839.35 1541.61 1835.88 1544.71 Q1832.4 1547.79 1826.09 1547.79 Q1823.91 1547.79 1821.64 1547.42 Q1819.4 1547.05 1816.99 1546.31 L1816.99 1541.61 Q1819.07 1542.74 1821.29 1543.3 Q1823.52 1543.86 1825.99 1543.86 Q1830 1543.86 1832.34 1541.75 Q1834.67 1539.64 1834.67 1536.03 Q1834.67 1532.42 1832.34 1530.31 Q1830 1528.21 1825.99 1528.21 Q1824.12 1528.21 1822.24 1528.62 Q1820.39 1529.04 1818.45 1529.92 L1818.45 1512.56 Z\" fill=\"#000000\" fill-rule=\"evenodd\" fill-opacity=\"1\" /><path clip-path=\"url(#clip840)\" d=\"M2244.55 1543.18 L2252.19 1543.18 L2252.19 1516.82 L2243.88 1518.49 L2243.88 1514.23 L2252.15 1512.56 L2256.82 1512.56 L2256.82 1543.18 L2264.46 1543.18 L2264.46 1547.12 L2244.55 1547.12 L2244.55 1543.18 Z\" fill=\"#000000\" fill-rule=\"evenodd\" fill-opacity=\"1\" /><path clip-path=\"url(#clip840)\" d=\"M2273.91 1541.24 L2278.79 1541.24 L2278.79 1547.12 L2273.91 1547.12 L2273.91 1541.24 Z\" fill=\"#000000\" fill-rule=\"evenodd\" fill-opacity=\"1\" /><path clip-path=\"url(#clip840)\" d=\"M2298.98 1515.64 Q2295.36 1515.64 2293.54 1519.2 Q2291.73 1522.75 2291.73 1529.87 Q2291.73 1536.98 2293.54 1540.55 Q2295.36 1544.09 2298.98 1544.09 Q2302.61 1544.09 2304.42 1540.55 Q2306.24 1536.98 2306.24 1529.87 Q2306.24 1522.75 2304.42 1519.2 Q2302.61 1515.64 2298.98 1515.64 M2298.98 1511.93 Q2304.79 1511.93 2307.84 1516.54 Q2310.92 1521.12 2310.92 1529.87 Q2310.92 1538.6 2307.84 1543.21 Q2304.79 1547.79 2298.98 1547.79 Q2293.17 1547.79 2290.09 1543.21 Q2287.03 1538.6 2287.03 1529.87 Q2287.03 1521.12 2290.09 1516.54 Q2293.17 1511.93 2298.98 1511.93 Z\" fill=\"#000000\" fill-rule=\"evenodd\" fill-opacity=\"1\" /><path clip-path=\"url(#clip840)\" d=\"M2329.14 1515.64 Q2325.53 1515.64 2323.7 1519.2 Q2321.89 1522.75 2321.89 1529.87 Q2321.89 1536.98 2323.7 1540.55 Q2325.53 1544.09 2329.14 1544.09 Q2332.77 1544.09 2334.58 1540.55 Q2336.41 1536.98 2336.41 1529.87 Q2336.41 1522.75 2334.58 1519.2 Q2332.77 1515.64 2329.14 1515.64 M2329.14 1511.93 Q2334.95 1511.93 2338 1516.54 Q2341.08 1521.12 2341.08 1529.87 Q2341.08 1538.6 2338 1543.21 Q2334.95 1547.79 2329.14 1547.79 Q2323.33 1547.79 2320.25 1543.21 Q2317.19 1538.6 2317.19 1529.87 Q2317.19 1521.12 2320.25 1516.54 Q2323.33 1511.93 2329.14 1511.93 Z\" fill=\"#000000\" fill-rule=\"evenodd\" fill-opacity=\"1\" /><polyline clip-path=\"url(#clip842)\" style=\"stroke:#000000; stroke-linecap:butt; stroke-linejoin:round; stroke-width:2; stroke-opacity:0.1; fill:none\" points=\"\n",
       "  223.103,1445.72 2352.76,1445.72 \n",
       "  \"/>\n",
       "<polyline clip-path=\"url(#clip842)\" style=\"stroke:#000000; stroke-linecap:butt; stroke-linejoin:round; stroke-width:2; stroke-opacity:0.1; fill:none\" points=\"\n",
       "  223.103,1144.16 2352.76,1144.16 \n",
       "  \"/>\n",
       "<polyline clip-path=\"url(#clip842)\" style=\"stroke:#000000; stroke-linecap:butt; stroke-linejoin:round; stroke-width:2; stroke-opacity:0.1; fill:none\" points=\"\n",
       "  223.103,842.595 2352.76,842.595 \n",
       "  \"/>\n",
       "<polyline clip-path=\"url(#clip842)\" style=\"stroke:#000000; stroke-linecap:butt; stroke-linejoin:round; stroke-width:2; stroke-opacity:0.1; fill:none\" points=\"\n",
       "  223.103,541.035 2352.76,541.035 \n",
       "  \"/>\n",
       "<polyline clip-path=\"url(#clip842)\" style=\"stroke:#000000; stroke-linecap:butt; stroke-linejoin:round; stroke-width:2; stroke-opacity:0.1; fill:none\" points=\"\n",
       "  223.103,239.474 2352.76,239.474 \n",
       "  \"/>\n",
       "<polyline clip-path=\"url(#clip840)\" style=\"stroke:#000000; stroke-linecap:butt; stroke-linejoin:round; stroke-width:4; stroke-opacity:1; fill:none\" points=\"\n",
       "  223.103,1486.45 223.103,47.2441 \n",
       "  \"/>\n",
       "<polyline clip-path=\"url(#clip840)\" style=\"stroke:#000000; stroke-linecap:butt; stroke-linejoin:round; stroke-width:4; stroke-opacity:1; fill:none\" points=\"\n",
       "  223.103,1445.72 248.658,1445.72 \n",
       "  \"/>\n",
       "<polyline clip-path=\"url(#clip840)\" style=\"stroke:#000000; stroke-linecap:butt; stroke-linejoin:round; stroke-width:4; stroke-opacity:1; fill:none\" points=\"\n",
       "  223.103,1144.16 248.658,1144.16 \n",
       "  \"/>\n",
       "<polyline clip-path=\"url(#clip840)\" style=\"stroke:#000000; stroke-linecap:butt; stroke-linejoin:round; stroke-width:4; stroke-opacity:1; fill:none\" points=\"\n",
       "  223.103,842.595 248.658,842.595 \n",
       "  \"/>\n",
       "<polyline clip-path=\"url(#clip840)\" style=\"stroke:#000000; stroke-linecap:butt; stroke-linejoin:round; stroke-width:4; stroke-opacity:1; fill:none\" points=\"\n",
       "  223.103,541.035 248.658,541.035 \n",
       "  \"/>\n",
       "<polyline clip-path=\"url(#clip840)\" style=\"stroke:#000000; stroke-linecap:butt; stroke-linejoin:round; stroke-width:4; stroke-opacity:1; fill:none\" points=\"\n",
       "  223.103,239.474 248.658,239.474 \n",
       "  \"/>\n",
       "<path clip-path=\"url(#clip840)\" d=\"M50.9921 1446.17 L80.6679 1446.17 L80.6679 1450.1 L50.9921 1450.1 L50.9921 1446.17 Z\" fill=\"#000000\" fill-rule=\"evenodd\" fill-opacity=\"1\" /><path clip-path=\"url(#clip840)\" d=\"M100.76 1431.51 Q97.1493 1431.51 95.3206 1435.08 Q93.515 1438.62 93.515 1445.75 Q93.515 1452.86 95.3206 1456.42 Q97.1493 1459.96 100.76 1459.96 Q104.395 1459.96 106.2 1456.42 Q108.029 1452.86 108.029 1445.75 Q108.029 1438.62 106.2 1435.08 Q104.395 1431.51 100.76 1431.51 M100.76 1427.81 Q106.571 1427.81 109.626 1432.42 Q112.705 1437 112.705 1445.75 Q112.705 1454.48 109.626 1459.08 Q106.571 1463.67 100.76 1463.67 Q94.9502 1463.67 91.8715 1459.08 Q88.816 1454.48 88.816 1445.75 Q88.816 1437 91.8715 1432.42 Q94.9502 1427.81 100.76 1427.81 Z\" fill=\"#000000\" fill-rule=\"evenodd\" fill-opacity=\"1\" /><path clip-path=\"url(#clip840)\" d=\"M120.922 1457.12 L125.807 1457.12 L125.807 1463 L120.922 1463 L120.922 1457.12 Z\" fill=\"#000000\" fill-rule=\"evenodd\" fill-opacity=\"1\" /><path clip-path=\"url(#clip840)\" d=\"M140.019 1459.06 L156.339 1459.06 L156.339 1463 L134.394 1463 L134.394 1459.06 Q137.056 1456.31 141.64 1451.68 Q146.246 1447.02 147.427 1445.68 Q149.672 1443.16 150.552 1441.42 Q151.455 1439.66 151.455 1437.97 Q151.455 1435.22 149.51 1433.48 Q147.589 1431.75 144.487 1431.75 Q142.288 1431.75 139.834 1432.51 Q137.404 1433.27 134.626 1434.82 L134.626 1430.1 Q137.45 1428.97 139.904 1428.39 Q142.357 1427.81 144.394 1427.81 Q149.765 1427.81 152.959 1430.5 Q156.154 1433.18 156.154 1437.67 Q156.154 1439.8 155.343 1441.72 Q154.556 1443.62 152.45 1446.21 Q151.871 1446.88 148.769 1450.1 Q145.668 1453.3 140.019 1459.06 Z\" fill=\"#000000\" fill-rule=\"evenodd\" fill-opacity=\"1\" /><path clip-path=\"url(#clip840)\" d=\"M166.2 1428.44 L184.556 1428.44 L184.556 1432.37 L170.482 1432.37 L170.482 1440.84 Q171.501 1440.5 172.519 1440.33 Q173.538 1440.15 174.556 1440.15 Q180.343 1440.15 183.723 1443.32 Q187.103 1446.49 187.103 1451.91 Q187.103 1457.49 183.63 1460.59 Q180.158 1463.67 173.839 1463.67 Q171.663 1463.67 169.394 1463.3 Q167.149 1462.93 164.742 1462.19 L164.742 1457.49 Q166.825 1458.62 169.047 1459.18 Q171.269 1459.73 173.746 1459.73 Q177.751 1459.73 180.089 1457.63 Q182.427 1455.52 182.427 1451.91 Q182.427 1448.3 180.089 1446.19 Q177.751 1444.08 173.746 1444.08 Q171.871 1444.08 169.996 1444.5 Q168.144 1444.92 166.2 1445.8 L166.2 1428.44 Z\" fill=\"#000000\" fill-rule=\"evenodd\" fill-opacity=\"1\" /><path clip-path=\"url(#clip840)\" d=\"M99.765 1129.95 Q96.1539 1129.95 94.3252 1133.52 Q92.5197 1137.06 92.5197 1144.19 Q92.5197 1151.3 94.3252 1154.86 Q96.1539 1158.4 99.765 1158.4 Q103.399 1158.4 105.205 1154.86 Q107.033 1151.3 107.033 1144.19 Q107.033 1137.06 105.205 1133.52 Q103.399 1129.95 99.765 1129.95 M99.765 1126.25 Q105.575 1126.25 108.631 1130.86 Q111.709 1135.44 111.709 1144.19 Q111.709 1152.92 108.631 1157.52 Q105.575 1162.11 99.765 1162.11 Q93.9549 1162.11 90.8762 1157.52 Q87.8206 1152.92 87.8206 1144.19 Q87.8206 1135.44 90.8762 1130.86 Q93.9549 1126.25 99.765 1126.25 Z\" fill=\"#000000\" fill-rule=\"evenodd\" fill-opacity=\"1\" /><path clip-path=\"url(#clip840)\" d=\"M119.927 1155.56 L124.811 1155.56 L124.811 1161.44 L119.927 1161.44 L119.927 1155.56 Z\" fill=\"#000000\" fill-rule=\"evenodd\" fill-opacity=\"1\" /><path clip-path=\"url(#clip840)\" d=\"M144.996 1129.95 Q141.385 1129.95 139.556 1133.52 Q137.751 1137.06 137.751 1144.19 Q137.751 1151.3 139.556 1154.86 Q141.385 1158.4 144.996 1158.4 Q148.63 1158.4 150.436 1154.86 Q152.265 1151.3 152.265 1144.19 Q152.265 1137.06 150.436 1133.52 Q148.63 1129.95 144.996 1129.95 M144.996 1126.25 Q150.806 1126.25 153.862 1130.86 Q156.941 1135.44 156.941 1144.19 Q156.941 1152.92 153.862 1157.52 Q150.806 1162.11 144.996 1162.11 Q139.186 1162.11 136.107 1157.52 Q133.052 1152.92 133.052 1144.19 Q133.052 1135.44 136.107 1130.86 Q139.186 1126.25 144.996 1126.25 Z\" fill=\"#000000\" fill-rule=\"evenodd\" fill-opacity=\"1\" /><path clip-path=\"url(#clip840)\" d=\"M175.158 1129.95 Q171.547 1129.95 169.718 1133.52 Q167.913 1137.06 167.913 1144.19 Q167.913 1151.3 169.718 1154.86 Q171.547 1158.4 175.158 1158.4 Q178.792 1158.4 180.598 1154.86 Q182.427 1151.3 182.427 1144.19 Q182.427 1137.06 180.598 1133.52 Q178.792 1129.95 175.158 1129.95 M175.158 1126.25 Q180.968 1126.25 184.024 1130.86 Q187.103 1135.44 187.103 1144.19 Q187.103 1152.92 184.024 1157.52 Q180.968 1162.11 175.158 1162.11 Q169.348 1162.11 166.269 1157.52 Q163.214 1152.92 163.214 1144.19 Q163.214 1135.44 166.269 1130.86 Q169.348 1126.25 175.158 1126.25 Z\" fill=\"#000000\" fill-rule=\"evenodd\" fill-opacity=\"1\" /><path clip-path=\"url(#clip840)\" d=\"M100.76 828.394 Q97.1493 828.394 95.3206 831.959 Q93.515 835.5 93.515 842.63 Q93.515 849.736 95.3206 853.301 Q97.1493 856.843 100.76 856.843 Q104.395 856.843 106.2 853.301 Q108.029 849.736 108.029 842.63 Q108.029 835.5 106.2 831.959 Q104.395 828.394 100.76 828.394 M100.76 824.69 Q106.571 824.69 109.626 829.297 Q112.705 833.88 112.705 842.63 Q112.705 851.357 109.626 855.963 Q106.571 860.546 100.76 860.546 Q94.9502 860.546 91.8715 855.963 Q88.816 851.357 88.816 842.63 Q88.816 833.88 91.8715 829.297 Q94.9502 824.69 100.76 824.69 Z\" fill=\"#000000\" fill-rule=\"evenodd\" fill-opacity=\"1\" /><path clip-path=\"url(#clip840)\" d=\"M120.922 853.995 L125.807 853.995 L125.807 859.875 L120.922 859.875 L120.922 853.995 Z\" fill=\"#000000\" fill-rule=\"evenodd\" fill-opacity=\"1\" /><path clip-path=\"url(#clip840)\" d=\"M140.019 855.94 L156.339 855.94 L156.339 859.875 L134.394 859.875 L134.394 855.94 Q137.056 853.185 141.64 848.556 Q146.246 843.903 147.427 842.56 Q149.672 840.037 150.552 838.301 Q151.455 836.542 151.455 834.852 Q151.455 832.097 149.51 830.361 Q147.589 828.625 144.487 828.625 Q142.288 828.625 139.834 829.389 Q137.404 830.153 134.626 831.704 L134.626 826.982 Q137.45 825.847 139.904 825.269 Q142.357 824.69 144.394 824.69 Q149.765 824.69 152.959 827.375 Q156.154 830.06 156.154 834.551 Q156.154 836.681 155.343 838.602 Q154.556 840.5 152.45 843.093 Q151.871 843.764 148.769 846.982 Q145.668 850.176 140.019 855.94 Z\" fill=\"#000000\" fill-rule=\"evenodd\" fill-opacity=\"1\" /><path clip-path=\"url(#clip840)\" d=\"M166.2 825.315 L184.556 825.315 L184.556 829.25 L170.482 829.25 L170.482 837.722 Q171.501 837.375 172.519 837.213 Q173.538 837.028 174.556 837.028 Q180.343 837.028 183.723 840.199 Q187.103 843.371 187.103 848.787 Q187.103 854.366 183.63 857.468 Q180.158 860.546 173.839 860.546 Q171.663 860.546 169.394 860.176 Q167.149 859.806 164.742 859.065 L164.742 854.366 Q166.825 855.5 169.047 856.056 Q171.269 856.611 173.746 856.611 Q177.751 856.611 180.089 854.505 Q182.427 852.398 182.427 848.787 Q182.427 845.176 180.089 843.07 Q177.751 840.963 173.746 840.963 Q171.871 840.963 169.996 841.38 Q168.144 841.796 166.2 842.676 L166.2 825.315 Z\" fill=\"#000000\" fill-rule=\"evenodd\" fill-opacity=\"1\" /><path clip-path=\"url(#clip840)\" d=\"M99.765 526.833 Q96.1539 526.833 94.3252 530.398 Q92.5197 533.94 92.5197 541.069 Q92.5197 548.176 94.3252 551.741 Q96.1539 555.282 99.765 555.282 Q103.399 555.282 105.205 551.741 Q107.033 548.176 107.033 541.069 Q107.033 533.94 105.205 530.398 Q103.399 526.833 99.765 526.833 M99.765 523.13 Q105.575 523.13 108.631 527.736 Q111.709 532.32 111.709 541.069 Q111.709 549.796 108.631 554.403 Q105.575 558.986 99.765 558.986 Q93.9549 558.986 90.8762 554.403 Q87.8206 549.796 87.8206 541.069 Q87.8206 532.32 90.8762 527.736 Q93.9549 523.13 99.765 523.13 Z\" fill=\"#000000\" fill-rule=\"evenodd\" fill-opacity=\"1\" /><path clip-path=\"url(#clip840)\" d=\"M119.927 552.435 L124.811 552.435 L124.811 558.315 L119.927 558.315 L119.927 552.435 Z\" fill=\"#000000\" fill-rule=\"evenodd\" fill-opacity=\"1\" /><path clip-path=\"url(#clip840)\" d=\"M135.043 523.755 L153.399 523.755 L153.399 527.69 L139.325 527.69 L139.325 536.162 Q140.343 535.815 141.362 535.653 Q142.381 535.468 143.399 535.468 Q149.186 535.468 152.566 538.639 Q155.945 541.81 155.945 547.227 Q155.945 552.806 152.473 555.907 Q149.001 558.986 142.681 558.986 Q140.506 558.986 138.237 558.616 Q135.992 558.245 133.584 557.505 L133.584 552.806 Q135.668 553.94 137.89 554.495 Q140.112 555.051 142.589 555.051 Q146.593 555.051 148.931 552.944 Q151.269 550.838 151.269 547.227 Q151.269 543.616 148.931 541.509 Q146.593 539.403 142.589 539.403 Q140.714 539.403 138.839 539.819 Q136.987 540.236 135.043 541.116 L135.043 523.755 Z\" fill=\"#000000\" fill-rule=\"evenodd\" fill-opacity=\"1\" /><path clip-path=\"url(#clip840)\" d=\"M175.158 526.833 Q171.547 526.833 169.718 530.398 Q167.913 533.94 167.913 541.069 Q167.913 548.176 169.718 551.741 Q171.547 555.282 175.158 555.282 Q178.792 555.282 180.598 551.741 Q182.427 548.176 182.427 541.069 Q182.427 533.94 180.598 530.398 Q178.792 526.833 175.158 526.833 M175.158 523.13 Q180.968 523.13 184.024 527.736 Q187.103 532.32 187.103 541.069 Q187.103 549.796 184.024 554.403 Q180.968 558.986 175.158 558.986 Q169.348 558.986 166.269 554.403 Q163.214 549.796 163.214 541.069 Q163.214 532.32 166.269 527.736 Q169.348 523.13 175.158 523.13 Z\" fill=\"#000000\" fill-rule=\"evenodd\" fill-opacity=\"1\" /><path clip-path=\"url(#clip840)\" d=\"M100.76 225.273 Q97.1493 225.273 95.3206 228.838 Q93.515 232.38 93.515 239.509 Q93.515 246.616 95.3206 250.18 Q97.1493 253.722 100.76 253.722 Q104.395 253.722 106.2 250.18 Q108.029 246.616 108.029 239.509 Q108.029 232.38 106.2 228.838 Q104.395 225.273 100.76 225.273 M100.76 221.569 Q106.571 221.569 109.626 226.176 Q112.705 230.759 112.705 239.509 Q112.705 248.236 109.626 252.842 Q106.571 257.426 100.76 257.426 Q94.9502 257.426 91.8715 252.842 Q88.816 248.236 88.816 239.509 Q88.816 230.759 91.8715 226.176 Q94.9502 221.569 100.76 221.569 Z\" fill=\"#000000\" fill-rule=\"evenodd\" fill-opacity=\"1\" /><path clip-path=\"url(#clip840)\" d=\"M120.922 250.875 L125.807 250.875 L125.807 256.754 L120.922 256.754 L120.922 250.875 Z\" fill=\"#000000\" fill-rule=\"evenodd\" fill-opacity=\"1\" /><path clip-path=\"url(#clip840)\" d=\"M134.811 222.194 L157.033 222.194 L157.033 224.185 L144.487 256.754 L139.603 256.754 L151.408 226.13 L134.811 226.13 L134.811 222.194 Z\" fill=\"#000000\" fill-rule=\"evenodd\" fill-opacity=\"1\" /><path clip-path=\"url(#clip840)\" d=\"M166.2 222.194 L184.556 222.194 L184.556 226.13 L170.482 226.13 L170.482 234.602 Q171.501 234.255 172.519 234.092 Q173.538 233.907 174.556 233.907 Q180.343 233.907 183.723 237.079 Q187.103 240.25 187.103 245.667 Q187.103 251.245 183.63 254.347 Q180.158 257.426 173.839 257.426 Q171.663 257.426 169.394 257.055 Q167.149 256.685 164.742 255.944 L164.742 251.245 Q166.825 252.379 169.047 252.935 Q171.269 253.491 173.746 253.491 Q177.751 253.491 180.089 251.384 Q182.427 249.278 182.427 245.667 Q182.427 242.055 180.089 239.949 Q177.751 237.842 173.746 237.842 Q171.871 237.842 169.996 238.259 Q168.144 238.676 166.2 239.555 L166.2 222.194 Z\" fill=\"#000000\" fill-rule=\"evenodd\" fill-opacity=\"1\" /><polyline clip-path=\"url(#clip842)\" style=\"stroke:#009af9; stroke-linecap:butt; stroke-linejoin:round; stroke-width:4; stroke-opacity:1; fill:none\" points=\"\n",
       "  285.828,1143.13 288.281,1141.43 290.733,1143.03 293.186,1147.44 294.412,1145.29 295.639,1140.8 296.865,1151.93 298.091,1152.92 298.704,1151.23 299.317,1140.74 \n",
       "  299.471,1151.32 299.624,1152.97 299.777,1143.89 299.931,1135.04 300.237,1146.43 300.544,1151.46 301.157,1145.29 301.77,1136.78 302.077,1137.63 302.383,1154.39 \n",
       "  302.536,1154.8 302.69,1148.14 302.843,1138.88 302.996,1132.89 304.414,1132.16 305.831,1130.7 307.248,1135.33 308.666,1156.08 310.083,1146.89 311.5,1131.8 \n",
       "  312.918,1160.01 314.335,1127.78 315.752,1157.8 317.17,1139.36 318.587,1133.84 320.004,1165.97 321.422,1131.26 322.839,1129.91 324.257,1166.25 325.674,1153.45 \n",
       "  327.091,1120.04 328.509,1130.38 329.926,1164.63 331.343,1169.05 332.761,1139.49 334.178,1114.82 335.595,1122.22 337.013,1151.86 338.43,1175.03 339.847,1173.04 \n",
       "  341.265,1149.3 342.682,1121.75 344.099,1107.88 345.517,1114.57 346.934,1136.78 348.351,1162.69 349.769,1180.62 351.186,1183.91 352.603,1172.41 354.021,1151.13 \n",
       "  355.438,1127.54 356.856,1108.74 358.273,1099.52 359.69,1101.55 361.108,1113.6 362.525,1132.35 363.942,1153.55 365.36,1173.02 366.777,1187.42 368.194,1194.68 \n",
       "  369.612,1194.13 371.029,1186.34 373.864,1155.58 376.698,1119.15 378.116,1103.97 379.533,1092.78 380.95,1086.42 382.368,1085.18 385.202,1096.99 388.037,1122.8 \n",
       "  390.872,1154.41 393.707,1183.7 396.541,1204.58 399.376,1213.74 402.211,1210.62 405.045,1196.8 410.715,1149.48 416.384,1098.88 419.219,1079.36 422.054,1065.95 \n",
       "  424.888,1059.35 427.723,1059.55 430.558,1066.05 433.392,1077.92 436.227,1094.03 439.062,1113.12 444.731,1155.26 450.4,1195.5 456.07,1227.42 461.739,1247.4 \n",
       "  467.409,1254.31 473.078,1248.85 478.747,1232.95 484.417,1209.16 491.231,1173.95 498.045,1135.69 504.859,1098.1 511.673,1064.03 518.488,1035.41 525.302,1013.41 \n",
       "  532.116,998.518 538.93,990.729 545.744,989.661 552.558,994.693 559.372,1005.05 566.186,1019.91 579.815,1059.72 593.443,1107.83 616.488,1194 639.533,1272.22 \n",
       "  651.056,1305.39 662.578,1333.86 674.101,1357.42 685.623,1376.1 698.14,1391.02 710.657,1400.68 723.173,1405.47 735.69,1405.84 760.723,1395.18 785.757,1372.26 \n",
       "  808.835,1343 831.914,1308.1 854.993,1269.28 878.071,1227.91 927.557,1135.36 977.042,1043.04 1034.38,941.422 1091.71,848.1 1142.66,772.821 1193.61,704.656 \n",
       "  1238.29,650.412 1282.97,600.95 1380.4,507.761 1478.4,431.047 1586.76,361.958 1689.86,308.261 1797.06,262.17 1887.3,229.516 1997.47,195.749 2101.03,168.96 \n",
       "  2266.95,133.839 2292.48,129.138 \n",
       "  \"/>\n",
       "<path clip-path=\"url(#clip842)\" d=\"\n",
       "M283.376 1219.55 L408.945 1219.55 L408.945 1068.77 L283.376 1068.77 L283.376 1219.55  Z\n",
       "  \" fill=\"#e26f46\" fill-rule=\"evenodd\" fill-opacity=\"0.5\"/>\n",
       "<polyline clip-path=\"url(#clip842)\" style=\"stroke:#000000; stroke-linecap:butt; stroke-linejoin:round; stroke-width:4; stroke-opacity:0.5; fill:none\" points=\"\n",
       "  283.376,1219.55 408.945,1219.55 408.945,1068.77 283.376,1068.77 283.376,1219.55 \n",
       "  \"/>\n",
       "<path clip-path=\"url(#clip842)\" d=\"\n",
       "M408.945 1294.94 L534.514 1294.94 L534.514 993.375 L408.945 993.375 L408.945 1294.94  Z\n",
       "  \" fill=\"#e26f46\" fill-rule=\"evenodd\" fill-opacity=\"0.5\"/>\n",
       "<polyline clip-path=\"url(#clip842)\" style=\"stroke:#000000; stroke-linecap:butt; stroke-linejoin:round; stroke-width:4; stroke-opacity:0.5; fill:none\" points=\"\n",
       "  408.945,1294.94 534.514,1294.94 534.514,993.375 408.945,993.375 408.945,1294.94 \n",
       "  \"/>\n",
       "<path clip-path=\"url(#clip842)\" d=\"\n",
       "M534.514 1328.11 L660.083 1328.11 L660.083 917.985 L534.514 917.985 L534.514 1328.11  Z\n",
       "  \" fill=\"#e26f46\" fill-rule=\"evenodd\" fill-opacity=\"0.5\"/>\n",
       "<polyline clip-path=\"url(#clip842)\" style=\"stroke:#000000; stroke-linecap:butt; stroke-linejoin:round; stroke-width:4; stroke-opacity:0.5; fill:none\" points=\"\n",
       "  534.514,1328.11 660.083,1328.11 660.083,917.985 534.514,917.985 534.514,1328.11 \n",
       "  \"/>\n",
       "<path clip-path=\"url(#clip842)\" d=\"\n",
       "M660.083 1445.72 L785.652 1445.72 L785.652 1315.32 L660.083 1315.32 L660.083 1445.72  Z\n",
       "  \" fill=\"#e26f46\" fill-rule=\"evenodd\" fill-opacity=\"0.5\"/>\n",
       "<polyline clip-path=\"url(#clip842)\" style=\"stroke:#000000; stroke-linecap:butt; stroke-linejoin:round; stroke-width:4; stroke-opacity:0.5; fill:none\" points=\"\n",
       "  660.083,1445.72 785.652,1445.72 785.652,1315.32 660.083,1315.32 660.083,1445.72 \n",
       "  \"/>\n",
       "<path clip-path=\"url(#clip842)\" d=\"\n",
       "M785.652 1429.43 L911.222 1429.43 L911.222 1161.76 L785.652 1161.76 L785.652 1429.43  Z\n",
       "  \" fill=\"#e26f46\" fill-rule=\"evenodd\" fill-opacity=\"0.5\"/>\n",
       "<polyline clip-path=\"url(#clip842)\" style=\"stroke:#000000; stroke-linecap:butt; stroke-linejoin:round; stroke-width:4; stroke-opacity:0.5; fill:none\" points=\"\n",
       "  785.652,1429.43 911.222,1429.43 911.222,1161.76 785.652,1161.76 785.652,1429.43 \n",
       "  \"/>\n",
       "<path clip-path=\"url(#clip842)\" d=\"\n",
       "M911.222 1170.56 L1036.79 1170.56 L1036.79 937.312 L911.222 937.312 L911.222 1170.56  Z\n",
       "  \" fill=\"#e26f46\" fill-rule=\"evenodd\" fill-opacity=\"0.5\"/>\n",
       "<polyline clip-path=\"url(#clip842)\" style=\"stroke:#000000; stroke-linecap:butt; stroke-linejoin:round; stroke-width:4; stroke-opacity:0.5; fill:none\" points=\"\n",
       "  911.222,1170.56 1036.79,1170.56 1036.79,937.312 911.222,937.312 911.222,1170.56 \n",
       "  \"/>\n",
       "<path clip-path=\"url(#clip842)\" d=\"\n",
       "M1036.79 937.312 L1162.36 937.312 L1162.36 745.641 L1036.79 745.641 L1036.79 937.312  Z\n",
       "  \" fill=\"#e26f46\" fill-rule=\"evenodd\" fill-opacity=\"0.5\"/>\n",
       "<polyline clip-path=\"url(#clip842)\" style=\"stroke:#000000; stroke-linecap:butt; stroke-linejoin:round; stroke-width:4; stroke-opacity:0.5; fill:none\" points=\"\n",
       "  1036.79,937.312 1162.36,937.312 1162.36,745.641 1036.79,745.641 1036.79,937.312 \n",
       "  \"/>\n",
       "<path clip-path=\"url(#clip842)\" d=\"\n",
       "M1162.36 745.641 L1287.93 745.641 L1287.93 595.739 L1162.36 595.739 L1162.36 745.641  Z\n",
       "  \" fill=\"#e26f46\" fill-rule=\"evenodd\" fill-opacity=\"0.5\"/>\n",
       "<polyline clip-path=\"url(#clip842)\" style=\"stroke:#000000; stroke-linecap:butt; stroke-linejoin:round; stroke-width:4; stroke-opacity:0.5; fill:none\" points=\"\n",
       "  1162.36,745.641 1287.93,745.641 1287.93,595.739 1162.36,595.739 1162.36,745.641 \n",
       "  \"/>\n",
       "<path clip-path=\"url(#clip842)\" d=\"\n",
       "M1287.93 595.739 L1413.5 595.739 L1413.5 480.127 L1287.93 480.127 L1287.93 595.739  Z\n",
       "  \" fill=\"#e26f46\" fill-rule=\"evenodd\" fill-opacity=\"0.5\"/>\n",
       "<polyline clip-path=\"url(#clip842)\" style=\"stroke:#000000; stroke-linecap:butt; stroke-linejoin:round; stroke-width:4; stroke-opacity:0.5; fill:none\" points=\"\n",
       "  1287.93,595.739 1413.5,595.739 1413.5,480.127 1287.93,480.127 1287.93,595.739 \n",
       "  \"/>\n",
       "<path clip-path=\"url(#clip842)\" d=\"\n",
       "M1413.5 480.127 L1539.07 480.127 L1539.07 390.576 L1413.5 390.576 L1413.5 480.127  Z\n",
       "  \" fill=\"#e26f46\" fill-rule=\"evenodd\" fill-opacity=\"0.5\"/>\n",
       "<polyline clip-path=\"url(#clip842)\" style=\"stroke:#000000; stroke-linecap:butt; stroke-linejoin:round; stroke-width:4; stroke-opacity:0.5; fill:none\" points=\"\n",
       "  1413.5,480.127 1539.07,480.127 1539.07,390.576 1413.5,390.576 1413.5,480.127 \n",
       "  \"/>\n",
       "<path clip-path=\"url(#clip842)\" d=\"\n",
       "M1539.07 395.343 L1664.64 395.343 L1664.64 314.864 L1539.07 314.864 L1539.07 395.343  Z\n",
       "  \" fill=\"#e26f46\" fill-rule=\"evenodd\" fill-opacity=\"0.5\"/>\n",
       "<polyline clip-path=\"url(#clip842)\" style=\"stroke:#000000; stroke-linecap:butt; stroke-linejoin:round; stroke-width:4; stroke-opacity:0.5; fill:none\" points=\"\n",
       "  1539.07,395.343 1664.64,395.343 1664.64,314.864 1539.07,314.864 1539.07,395.343 \n",
       "  \"/>\n",
       "<path clip-path=\"url(#clip842)\" d=\"\n",
       "M1664.64 338.136 L1790.21 338.136 L1790.21 245.581 L1664.64 245.581 L1664.64 338.136  Z\n",
       "  \" fill=\"#e26f46\" fill-rule=\"evenodd\" fill-opacity=\"0.5\"/>\n",
       "<polyline clip-path=\"url(#clip842)\" style=\"stroke:#000000; stroke-linecap:butt; stroke-linejoin:round; stroke-width:4; stroke-opacity:0.5; fill:none\" points=\"\n",
       "  1664.64,338.136 1790.21,338.136 1790.21,245.581 1664.64,245.581 1664.64,338.136 \n",
       "  \"/>\n",
       "<path clip-path=\"url(#clip842)\" d=\"\n",
       "M1790.21 291.271 L1915.78 291.271 L1915.78 191.587 L1790.21 191.587 L1790.21 291.271  Z\n",
       "  \" fill=\"#e26f46\" fill-rule=\"evenodd\" fill-opacity=\"0.5\"/>\n",
       "<polyline clip-path=\"url(#clip842)\" style=\"stroke:#000000; stroke-linecap:butt; stroke-linejoin:round; stroke-width:4; stroke-opacity:0.5; fill:none\" points=\"\n",
       "  1790.21,291.271 1915.78,291.271 1915.78,191.587 1790.21,191.587 1790.21,291.271 \n",
       "  \"/>\n",
       "<path clip-path=\"url(#clip842)\" d=\"\n",
       "M1915.78 252.464 L2041.34 252.464 L2041.34 149.124 L1915.78 149.124 L1915.78 252.464  Z\n",
       "  \" fill=\"#e26f46\" fill-rule=\"evenodd\" fill-opacity=\"0.5\"/>\n",
       "<polyline clip-path=\"url(#clip842)\" style=\"stroke:#000000; stroke-linecap:butt; stroke-linejoin:round; stroke-width:4; stroke-opacity:0.5; fill:none\" points=\"\n",
       "  1915.78,252.464 2041.34,252.464 2041.34,149.124 1915.78,149.124 1915.78,252.464 \n",
       "  \"/>\n",
       "<path clip-path=\"url(#clip842)\" d=\"\n",
       "M2041.34 219.999 L2166.91 219.999 L2166.91 115.281 L2041.34 115.281 L2041.34 219.999  Z\n",
       "  \" fill=\"#e26f46\" fill-rule=\"evenodd\" fill-opacity=\"0.5\"/>\n",
       "<polyline clip-path=\"url(#clip842)\" style=\"stroke:#000000; stroke-linecap:butt; stroke-linejoin:round; stroke-width:4; stroke-opacity:0.5; fill:none\" points=\"\n",
       "  2041.34,219.999 2166.91,219.999 2166.91,115.281 2041.34,115.281 2041.34,219.999 \n",
       "  \"/>\n",
       "<path clip-path=\"url(#clip842)\" d=\"\n",
       "M2166.91 192.577 L2292.48 192.577 L2292.48 87.9763 L2166.91 87.9763 L2166.91 192.577  Z\n",
       "  \" fill=\"#e26f46\" fill-rule=\"evenodd\" fill-opacity=\"0.5\"/>\n",
       "<polyline clip-path=\"url(#clip842)\" style=\"stroke:#000000; stroke-linecap:butt; stroke-linejoin:round; stroke-width:4; stroke-opacity:0.5; fill:none\" points=\"\n",
       "  2166.91,192.577 2292.48,192.577 2292.48,87.9763 2166.91,87.9763 2166.91,192.577 \n",
       "  \"/>\n",
       "<path clip-path=\"url(#clip840)\" d=\"\n",
       "M1992.71 250.738 L2281.77 250.738 L2281.77 95.2176 L1992.71 95.2176  Z\n",
       "  \" fill=\"#ffffff\" fill-rule=\"evenodd\" fill-opacity=\"1\"/>\n",
       "<polyline clip-path=\"url(#clip840)\" style=\"stroke:#000000; stroke-linecap:butt; stroke-linejoin:round; stroke-width:4; stroke-opacity:1; fill:none\" points=\"\n",
       "  1992.71,250.738 2281.77,250.738 2281.77,95.2176 1992.71,95.2176 1992.71,250.738 \n",
       "  \"/>\n",
       "<polyline clip-path=\"url(#clip840)\" style=\"stroke:#009af9; stroke-linecap:butt; stroke-linejoin:round; stroke-width:4; stroke-opacity:1; fill:none\" points=\"\n",
       "  2016.37,147.058 2158.35,147.058 \n",
       "  \"/>\n",
       "<path clip-path=\"url(#clip840)\" d=\"M2195.85 166.745 Q2194.05 171.375 2192.34 172.787 Q2190.62 174.199 2187.75 174.199 L2184.35 174.199 L2184.35 170.634 L2186.85 170.634 Q2188.61 170.634 2189.58 169.8 Q2190.55 168.967 2191.73 165.865 L2192.5 163.921 L2182.01 138.412 L2186.53 138.412 L2194.63 158.689 L2202.73 138.412 L2207.24 138.412 L2195.85 166.745 Z\" fill=\"#000000\" fill-rule=\"evenodd\" fill-opacity=\"1\" /><path clip-path=\"url(#clip840)\" d=\"M2214.53 160.402 L2222.17 160.402 L2222.17 134.037 L2213.86 135.703 L2213.86 131.444 L2222.13 129.778 L2226.8 129.778 L2226.8 160.402 L2234.44 160.402 L2234.44 164.338 L2214.53 164.338 L2214.53 160.402 Z\" fill=\"#000000\" fill-rule=\"evenodd\" fill-opacity=\"1\" /><path clip-path=\"url(#clip840)\" d=\"\n",
       "M2016.37 219.634 L2158.35 219.634 L2158.35 178.162 L2016.37 178.162 L2016.37 219.634  Z\n",
       "  \" fill=\"#e26f46\" fill-rule=\"evenodd\" fill-opacity=\"0.5\"/>\n",
       "<polyline clip-path=\"url(#clip840)\" style=\"stroke:#000000; stroke-linecap:butt; stroke-linejoin:round; stroke-width:4; stroke-opacity:1; fill:none\" points=\"\n",
       "  2016.37,219.634 2158.35,219.634 2158.35,178.162 2016.37,178.162 2016.37,219.634 \n",
       "  \"/>\n",
       "<path clip-path=\"url(#clip840)\" d=\"M2195.85 218.585 Q2194.05 223.215 2192.34 224.627 Q2190.62 226.039 2187.75 226.039 L2184.35 226.039 L2184.35 222.474 L2186.85 222.474 Q2188.61 222.474 2189.58 221.64 Q2190.55 220.807 2191.73 217.705 L2192.5 215.761 L2182.01 190.252 L2186.53 190.252 L2194.63 210.529 L2202.73 190.252 L2207.24 190.252 L2195.85 218.585 Z\" fill=\"#000000\" fill-rule=\"evenodd\" fill-opacity=\"1\" /><path clip-path=\"url(#clip840)\" d=\"M2217.75 212.242 L2234.07 212.242 L2234.07 216.178 L2212.13 216.178 L2212.13 212.242 Q2214.79 209.488 2219.37 204.858 Q2223.98 200.205 2225.16 198.863 Q2227.4 196.34 2228.28 194.604 Q2229.19 192.844 2229.19 191.155 Q2229.19 188.4 2227.24 186.664 Q2225.32 184.928 2222.22 184.928 Q2220.02 184.928 2217.57 185.692 Q2215.14 186.455 2212.36 188.006 L2212.36 183.284 Q2215.18 182.15 2217.64 181.571 Q2220.09 180.993 2222.13 180.993 Q2227.5 180.993 2230.69 183.678 Q2233.89 186.363 2233.89 190.854 Q2233.89 192.983 2233.08 194.905 Q2232.29 196.803 2230.18 199.395 Q2229.6 200.067 2226.5 203.284 Q2223.4 206.479 2217.75 212.242 Z\" fill=\"#000000\" fill-rule=\"evenodd\" fill-opacity=\"1\" /></svg>\n"
      ]
     },
     "execution_count": 27,
     "metadata": {},
     "output_type": "execute_result"
    }
   ],
   "source": [
    "plot(f, 0, 1)\n",
    "plot!(IntervalBox.(X1, f.(X1)))"
   ]
  },
  {
   "cell_type": "markdown",
   "metadata": {},
   "source": [
    "It is important to observe, in the plot above, that while the graph of the function is computed nonrigorously, and therefore it is not validate, the interval computation is validated, so the rectangles in pink have the strength of theorems."
   ]
  },
  {
   "cell_type": "code",
   "execution_count": 28,
   "metadata": {},
   "outputs": [
    {
     "data": {
      "text/plain": [
       "128-element Vector{Interval{Float64}}:\n",
       " [0, 0.0078125]\n",
       "    [0.0078125, 0.015625]\n",
       "    [0.015625, 0.0234375]\n",
       "    [0.0234375, 0.03125]\n",
       "    [0.03125, 0.0390625]\n",
       "    [0.0390625, 0.046875]\n",
       "    [0.046875, 0.0546875]\n",
       "    [0.0546875, 0.0625]\n",
       "    [0.0625, 0.0703125]\n",
       "    [0.0703125, 0.078125]\n",
       "    [0.078125, 0.0859375]\n",
       "    [0.0859375, 0.09375]\n",
       "    [0.09375, 0.101563]\n",
       "     ⋮\n",
       "    [0.90625, 0.914063]\n",
       "    [0.914062, 0.921875]\n",
       "    [0.921875, 0.929688]\n",
       "    [0.929687, 0.9375]\n",
       "    [0.9375, 0.945313]\n",
       "    [0.945312, 0.953125]\n",
       "    [0.953125, 0.960938]\n",
       "    [0.960937, 0.96875]\n",
       "    [0.96875, 0.976563]\n",
       "    [0.976562, 0.984375]\n",
       "    [0.984375, 0.992188]\n",
       "    [0.992187, 1]"
      ]
     },
     "execution_count": 28,
     "metadata": {},
     "output_type": "execute_result"
    }
   ],
   "source": [
    "N = 128\n",
    "X2 = [@interval i/N (i+1)/N for i in 0:N-1]"
   ]
  },
  {
   "cell_type": "code",
   "execution_count": 30,
   "metadata": {},
   "outputs": [
    {
     "data": {
      "image/svg+xml": [
       "<?xml version=\"1.0\" encoding=\"utf-8\"?>\n",
       "<svg xmlns=\"http://www.w3.org/2000/svg\" xmlns:xlink=\"http://www.w3.org/1999/xlink\" width=\"600\" height=\"400\" viewBox=\"0 0 2400 1600\">\n",
       "<defs>\n",
       "  <clipPath id=\"clip920\">\n",
       "    <rect x=\"0\" y=\"0\" width=\"2400\" height=\"1600\"/>\n",
       "  </clipPath>\n",
       "</defs>\n",
       "<path clip-path=\"url(#clip920)\" d=\"\n",
       "M0 1600 L2400 1600 L2400 0 L0 0  Z\n",
       "  \" fill=\"#ffffff\" fill-rule=\"evenodd\" fill-opacity=\"1\"/>\n",
       "<defs>\n",
       "  <clipPath id=\"clip921\">\n",
       "    <rect x=\"480\" y=\"0\" width=\"1681\" height=\"1600\"/>\n",
       "  </clipPath>\n",
       "</defs>\n",
       "<path clip-path=\"url(#clip920)\" d=\"\n",
       "M223.103 1486.45 L2352.76 1486.45 L2352.76 47.2441 L223.103 47.2441  Z\n",
       "  \" fill=\"#ffffff\" fill-rule=\"evenodd\" fill-opacity=\"1\"/>\n",
       "<defs>\n",
       "  <clipPath id=\"clip922\">\n",
       "    <rect x=\"223\" y=\"47\" width=\"2131\" height=\"1440\"/>\n",
       "  </clipPath>\n",
       "</defs>\n",
       "<polyline clip-path=\"url(#clip922)\" style=\"stroke:#000000; stroke-linecap:butt; stroke-linejoin:round; stroke-width:2; stroke-opacity:0.1; fill:none\" points=\"\n",
       "  283.376,1486.45 283.376,47.2441 \n",
       "  \"/>\n",
       "<polyline clip-path=\"url(#clip922)\" style=\"stroke:#000000; stroke-linecap:butt; stroke-linejoin:round; stroke-width:2; stroke-opacity:0.1; fill:none\" points=\"\n",
       "  785.652,1486.45 785.652,47.2441 \n",
       "  \"/>\n",
       "<polyline clip-path=\"url(#clip922)\" style=\"stroke:#000000; stroke-linecap:butt; stroke-linejoin:round; stroke-width:2; stroke-opacity:0.1; fill:none\" points=\"\n",
       "  1287.93,1486.45 1287.93,47.2441 \n",
       "  \"/>\n",
       "<polyline clip-path=\"url(#clip922)\" style=\"stroke:#000000; stroke-linecap:butt; stroke-linejoin:round; stroke-width:2; stroke-opacity:0.1; fill:none\" points=\"\n",
       "  1790.21,1486.45 1790.21,47.2441 \n",
       "  \"/>\n",
       "<polyline clip-path=\"url(#clip922)\" style=\"stroke:#000000; stroke-linecap:butt; stroke-linejoin:round; stroke-width:2; stroke-opacity:0.1; fill:none\" points=\"\n",
       "  2292.48,1486.45 2292.48,47.2441 \n",
       "  \"/>\n",
       "<polyline clip-path=\"url(#clip920)\" style=\"stroke:#000000; stroke-linecap:butt; stroke-linejoin:round; stroke-width:4; stroke-opacity:1; fill:none\" points=\"\n",
       "  223.103,1486.45 2352.76,1486.45 \n",
       "  \"/>\n",
       "<polyline clip-path=\"url(#clip920)\" style=\"stroke:#000000; stroke-linecap:butt; stroke-linejoin:round; stroke-width:4; stroke-opacity:1; fill:none\" points=\"\n",
       "  283.376,1486.45 283.376,1469.18 \n",
       "  \"/>\n",
       "<polyline clip-path=\"url(#clip920)\" style=\"stroke:#000000; stroke-linecap:butt; stroke-linejoin:round; stroke-width:4; stroke-opacity:1; fill:none\" points=\"\n",
       "  785.652,1486.45 785.652,1469.18 \n",
       "  \"/>\n",
       "<polyline clip-path=\"url(#clip920)\" style=\"stroke:#000000; stroke-linecap:butt; stroke-linejoin:round; stroke-width:4; stroke-opacity:1; fill:none\" points=\"\n",
       "  1287.93,1486.45 1287.93,1469.18 \n",
       "  \"/>\n",
       "<polyline clip-path=\"url(#clip920)\" style=\"stroke:#000000; stroke-linecap:butt; stroke-linejoin:round; stroke-width:4; stroke-opacity:1; fill:none\" points=\"\n",
       "  1790.21,1486.45 1790.21,1469.18 \n",
       "  \"/>\n",
       "<polyline clip-path=\"url(#clip920)\" style=\"stroke:#000000; stroke-linecap:butt; stroke-linejoin:round; stroke-width:4; stroke-opacity:1; fill:none\" points=\"\n",
       "  2292.48,1486.45 2292.48,1469.18 \n",
       "  \"/>\n",
       "<path clip-path=\"url(#clip920)\" d=\"M245.679 1515.64 Q242.068 1515.64 240.239 1519.2 Q238.434 1522.75 238.434 1529.87 Q238.434 1536.98 240.239 1540.55 Q242.068 1544.09 245.679 1544.09 Q249.313 1544.09 251.119 1540.55 Q252.948 1536.98 252.948 1529.87 Q252.948 1522.75 251.119 1519.2 Q249.313 1515.64 245.679 1515.64 M245.679 1511.93 Q251.489 1511.93 254.545 1516.54 Q257.624 1521.12 257.624 1529.87 Q257.624 1538.6 254.545 1543.21 Q251.489 1547.79 245.679 1547.79 Q239.869 1547.79 236.79 1543.21 Q233.735 1538.6 233.735 1529.87 Q233.735 1521.12 236.79 1516.54 Q239.869 1511.93 245.679 1511.93 Z\" fill=\"#000000\" fill-rule=\"evenodd\" fill-opacity=\"1\" /><path clip-path=\"url(#clip920)\" d=\"M265.841 1541.24 L270.725 1541.24 L270.725 1547.12 L265.841 1547.12 L265.841 1541.24 Z\" fill=\"#000000\" fill-rule=\"evenodd\" fill-opacity=\"1\" /><path clip-path=\"url(#clip920)\" d=\"M290.91 1515.64 Q287.299 1515.64 285.471 1519.2 Q283.665 1522.75 283.665 1529.87 Q283.665 1536.98 285.471 1540.55 Q287.299 1544.09 290.91 1544.09 Q294.545 1544.09 296.35 1540.55 Q298.179 1536.98 298.179 1529.87 Q298.179 1522.75 296.35 1519.2 Q294.545 1515.64 290.91 1515.64 M290.91 1511.93 Q296.721 1511.93 299.776 1516.54 Q302.855 1521.12 302.855 1529.87 Q302.855 1538.6 299.776 1543.21 Q296.721 1547.79 290.91 1547.79 Q285.1 1547.79 282.022 1543.21 Q278.966 1538.6 278.966 1529.87 Q278.966 1521.12 282.022 1516.54 Q285.1 1511.93 290.91 1511.93 Z\" fill=\"#000000\" fill-rule=\"evenodd\" fill-opacity=\"1\" /><path clip-path=\"url(#clip920)\" d=\"M321.072 1515.64 Q317.461 1515.64 315.632 1519.2 Q313.827 1522.75 313.827 1529.87 Q313.827 1536.98 315.632 1540.55 Q317.461 1544.09 321.072 1544.09 Q324.707 1544.09 326.512 1540.55 Q328.341 1536.98 328.341 1529.87 Q328.341 1522.75 326.512 1519.2 Q324.707 1515.64 321.072 1515.64 M321.072 1511.93 Q326.882 1511.93 329.938 1516.54 Q333.017 1521.12 333.017 1529.87 Q333.017 1538.6 329.938 1543.21 Q326.882 1547.79 321.072 1547.79 Q315.262 1547.79 312.183 1543.21 Q309.128 1538.6 309.128 1529.87 Q309.128 1521.12 312.183 1516.54 Q315.262 1511.93 321.072 1511.93 Z\" fill=\"#000000\" fill-rule=\"evenodd\" fill-opacity=\"1\" /><path clip-path=\"url(#clip920)\" d=\"M748.454 1515.64 Q744.842 1515.64 743.014 1519.2 Q741.208 1522.75 741.208 1529.87 Q741.208 1536.98 743.014 1540.55 Q744.842 1544.09 748.454 1544.09 Q752.088 1544.09 753.893 1540.55 Q755.722 1536.98 755.722 1529.87 Q755.722 1522.75 753.893 1519.2 Q752.088 1515.64 748.454 1515.64 M748.454 1511.93 Q754.264 1511.93 757.319 1516.54 Q760.398 1521.12 760.398 1529.87 Q760.398 1538.6 757.319 1543.21 Q754.264 1547.79 748.454 1547.79 Q742.643 1547.79 739.565 1543.21 Q736.509 1538.6 736.509 1529.87 Q736.509 1521.12 739.565 1516.54 Q742.643 1511.93 748.454 1511.93 Z\" fill=\"#000000\" fill-rule=\"evenodd\" fill-opacity=\"1\" /><path clip-path=\"url(#clip920)\" d=\"M768.616 1541.24 L773.5 1541.24 L773.5 1547.12 L768.616 1547.12 L768.616 1541.24 Z\" fill=\"#000000\" fill-rule=\"evenodd\" fill-opacity=\"1\" /><path clip-path=\"url(#clip920)\" d=\"M787.713 1543.18 L804.032 1543.18 L804.032 1547.12 L782.088 1547.12 L782.088 1543.18 Q784.75 1540.43 789.333 1535.8 Q793.939 1531.15 795.12 1529.81 Q797.365 1527.28 798.245 1525.55 Q799.148 1523.79 799.148 1522.1 Q799.148 1519.34 797.203 1517.61 Q795.282 1515.87 792.18 1515.87 Q789.981 1515.87 787.527 1516.63 Q785.097 1517.4 782.319 1518.95 L782.319 1514.23 Q785.143 1513.09 787.597 1512.51 Q790.051 1511.93 792.088 1511.93 Q797.458 1511.93 800.652 1514.62 Q803.847 1517.31 803.847 1521.8 Q803.847 1523.93 803.037 1525.85 Q802.25 1527.74 800.143 1530.34 Q799.564 1531.01 796.463 1534.23 Q793.361 1537.42 787.713 1543.18 Z\" fill=\"#000000\" fill-rule=\"evenodd\" fill-opacity=\"1\" /><path clip-path=\"url(#clip920)\" d=\"M813.893 1512.56 L832.249 1512.56 L832.249 1516.5 L818.175 1516.5 L818.175 1524.97 Q819.194 1524.62 820.212 1524.46 Q821.231 1524.27 822.249 1524.27 Q828.036 1524.27 831.416 1527.44 Q834.796 1530.62 834.796 1536.03 Q834.796 1541.61 831.324 1544.71 Q827.851 1547.79 821.532 1547.79 Q819.356 1547.79 817.087 1547.42 Q814.842 1547.05 812.435 1546.31 L812.435 1541.61 Q814.518 1542.74 816.74 1543.3 Q818.962 1543.86 821.439 1543.86 Q825.444 1543.86 827.782 1541.75 Q830.12 1539.64 830.12 1536.03 Q830.12 1532.42 827.782 1530.31 Q825.444 1528.21 821.439 1528.21 Q819.564 1528.21 817.689 1528.62 Q815.837 1529.04 813.893 1529.92 L813.893 1512.56 Z\" fill=\"#000000\" fill-rule=\"evenodd\" fill-opacity=\"1\" /><path clip-path=\"url(#clip920)\" d=\"M1250.23 1515.64 Q1246.62 1515.64 1244.79 1519.2 Q1242.99 1522.75 1242.99 1529.87 Q1242.99 1536.98 1244.79 1540.55 Q1246.62 1544.09 1250.23 1544.09 Q1253.87 1544.09 1255.67 1540.55 Q1257.5 1536.98 1257.5 1529.87 Q1257.5 1522.75 1255.67 1519.2 Q1253.87 1515.64 1250.23 1515.64 M1250.23 1511.93 Q1256.04 1511.93 1259.1 1516.54 Q1262.18 1521.12 1262.18 1529.87 Q1262.18 1538.6 1259.1 1543.21 Q1256.04 1547.79 1250.23 1547.79 Q1244.42 1547.79 1241.34 1543.21 Q1238.29 1538.6 1238.29 1529.87 Q1238.29 1521.12 1241.34 1516.54 Q1244.42 1511.93 1250.23 1511.93 Z\" fill=\"#000000\" fill-rule=\"evenodd\" fill-opacity=\"1\" /><path clip-path=\"url(#clip920)\" d=\"M1270.39 1541.24 L1275.28 1541.24 L1275.28 1547.12 L1270.39 1547.12 L1270.39 1541.24 Z\" fill=\"#000000\" fill-rule=\"evenodd\" fill-opacity=\"1\" /><path clip-path=\"url(#clip920)\" d=\"M1285.51 1512.56 L1303.87 1512.56 L1303.87 1516.5 L1289.79 1516.5 L1289.79 1524.97 Q1290.81 1524.62 1291.83 1524.46 Q1292.85 1524.27 1293.87 1524.27 Q1299.65 1524.27 1303.03 1527.44 Q1306.41 1530.62 1306.41 1536.03 Q1306.41 1541.61 1302.94 1544.71 Q1299.47 1547.79 1293.15 1547.79 Q1290.97 1547.79 1288.7 1547.42 Q1286.46 1547.05 1284.05 1546.31 L1284.05 1541.61 Q1286.14 1542.74 1288.36 1543.3 Q1290.58 1543.86 1293.06 1543.86 Q1297.06 1543.86 1299.4 1541.75 Q1301.74 1539.64 1301.74 1536.03 Q1301.74 1532.42 1299.4 1530.31 Q1297.06 1528.21 1293.06 1528.21 Q1291.18 1528.21 1289.31 1528.62 Q1287.45 1529.04 1285.51 1529.92 L1285.51 1512.56 Z\" fill=\"#000000\" fill-rule=\"evenodd\" fill-opacity=\"1\" /><path clip-path=\"url(#clip920)\" d=\"M1325.63 1515.64 Q1322.01 1515.64 1320.19 1519.2 Q1318.38 1522.75 1318.38 1529.87 Q1318.38 1536.98 1320.19 1540.55 Q1322.01 1544.09 1325.63 1544.09 Q1329.26 1544.09 1331.07 1540.55 Q1332.89 1536.98 1332.89 1529.87 Q1332.89 1522.75 1331.07 1519.2 Q1329.26 1515.64 1325.63 1515.64 M1325.63 1511.93 Q1331.44 1511.93 1334.49 1516.54 Q1337.57 1521.12 1337.57 1529.87 Q1337.57 1538.6 1334.49 1543.21 Q1331.44 1547.79 1325.63 1547.79 Q1319.82 1547.79 1316.74 1543.21 Q1313.68 1538.6 1313.68 1529.87 Q1313.68 1521.12 1316.74 1516.54 Q1319.82 1511.93 1325.63 1511.93 Z\" fill=\"#000000\" fill-rule=\"evenodd\" fill-opacity=\"1\" /><path clip-path=\"url(#clip920)\" d=\"M1753.01 1515.64 Q1749.4 1515.64 1747.57 1519.2 Q1745.76 1522.75 1745.76 1529.87 Q1745.76 1536.98 1747.57 1540.55 Q1749.4 1544.09 1753.01 1544.09 Q1756.64 1544.09 1758.45 1540.55 Q1760.28 1536.98 1760.28 1529.87 Q1760.28 1522.75 1758.45 1519.2 Q1756.64 1515.64 1753.01 1515.64 M1753.01 1511.93 Q1758.82 1511.93 1761.87 1516.54 Q1764.95 1521.12 1764.95 1529.87 Q1764.95 1538.6 1761.87 1543.21 Q1758.82 1547.79 1753.01 1547.79 Q1747.2 1547.79 1744.12 1543.21 Q1741.06 1538.6 1741.06 1529.87 Q1741.06 1521.12 1744.12 1516.54 Q1747.2 1511.93 1753.01 1511.93 Z\" fill=\"#000000\" fill-rule=\"evenodd\" fill-opacity=\"1\" /><path clip-path=\"url(#clip920)\" d=\"M1773.17 1541.24 L1778.05 1541.24 L1778.05 1547.12 L1773.17 1547.12 L1773.17 1541.24 Z\" fill=\"#000000\" fill-rule=\"evenodd\" fill-opacity=\"1\" /><path clip-path=\"url(#clip920)\" d=\"M1787.06 1512.56 L1809.28 1512.56 L1809.28 1514.55 L1796.73 1547.12 L1791.85 1547.12 L1803.65 1516.5 L1787.06 1516.5 L1787.06 1512.56 Z\" fill=\"#000000\" fill-rule=\"evenodd\" fill-opacity=\"1\" /><path clip-path=\"url(#clip920)\" d=\"M1818.45 1512.56 L1836.8 1512.56 L1836.8 1516.5 L1822.73 1516.5 L1822.73 1524.97 Q1823.75 1524.62 1824.77 1524.46 Q1825.78 1524.27 1826.8 1524.27 Q1832.59 1524.27 1835.97 1527.44 Q1839.35 1530.62 1839.35 1536.03 Q1839.35 1541.61 1835.88 1544.71 Q1832.4 1547.79 1826.09 1547.79 Q1823.91 1547.79 1821.64 1547.42 Q1819.4 1547.05 1816.99 1546.31 L1816.99 1541.61 Q1819.07 1542.74 1821.29 1543.3 Q1823.52 1543.86 1825.99 1543.86 Q1830 1543.86 1832.34 1541.75 Q1834.67 1539.64 1834.67 1536.03 Q1834.67 1532.42 1832.34 1530.31 Q1830 1528.21 1825.99 1528.21 Q1824.12 1528.21 1822.24 1528.62 Q1820.39 1529.04 1818.45 1529.92 L1818.45 1512.56 Z\" fill=\"#000000\" fill-rule=\"evenodd\" fill-opacity=\"1\" /><path clip-path=\"url(#clip920)\" d=\"M2244.55 1543.18 L2252.19 1543.18 L2252.19 1516.82 L2243.88 1518.49 L2243.88 1514.23 L2252.15 1512.56 L2256.82 1512.56 L2256.82 1543.18 L2264.46 1543.18 L2264.46 1547.12 L2244.55 1547.12 L2244.55 1543.18 Z\" fill=\"#000000\" fill-rule=\"evenodd\" fill-opacity=\"1\" /><path clip-path=\"url(#clip920)\" d=\"M2273.91 1541.24 L2278.79 1541.24 L2278.79 1547.12 L2273.91 1547.12 L2273.91 1541.24 Z\" fill=\"#000000\" fill-rule=\"evenodd\" fill-opacity=\"1\" /><path clip-path=\"url(#clip920)\" d=\"M2298.98 1515.64 Q2295.36 1515.64 2293.54 1519.2 Q2291.73 1522.75 2291.73 1529.87 Q2291.73 1536.98 2293.54 1540.55 Q2295.36 1544.09 2298.98 1544.09 Q2302.61 1544.09 2304.42 1540.55 Q2306.24 1536.98 2306.24 1529.87 Q2306.24 1522.75 2304.42 1519.2 Q2302.61 1515.64 2298.98 1515.64 M2298.98 1511.93 Q2304.79 1511.93 2307.84 1516.54 Q2310.92 1521.12 2310.92 1529.87 Q2310.92 1538.6 2307.84 1543.21 Q2304.79 1547.79 2298.98 1547.79 Q2293.17 1547.79 2290.09 1543.21 Q2287.03 1538.6 2287.03 1529.87 Q2287.03 1521.12 2290.09 1516.54 Q2293.17 1511.93 2298.98 1511.93 Z\" fill=\"#000000\" fill-rule=\"evenodd\" fill-opacity=\"1\" /><path clip-path=\"url(#clip920)\" d=\"M2329.14 1515.64 Q2325.53 1515.64 2323.7 1519.2 Q2321.89 1522.75 2321.89 1529.87 Q2321.89 1536.98 2323.7 1540.55 Q2325.53 1544.09 2329.14 1544.09 Q2332.77 1544.09 2334.58 1540.55 Q2336.41 1536.98 2336.41 1529.87 Q2336.41 1522.75 2334.58 1519.2 Q2332.77 1515.64 2329.14 1515.64 M2329.14 1511.93 Q2334.95 1511.93 2338 1516.54 Q2341.08 1521.12 2341.08 1529.87 Q2341.08 1538.6 2338 1543.21 Q2334.95 1547.79 2329.14 1547.79 Q2323.33 1547.79 2320.25 1543.21 Q2317.19 1538.6 2317.19 1529.87 Q2317.19 1521.12 2320.25 1516.54 Q2323.33 1511.93 2329.14 1511.93 Z\" fill=\"#000000\" fill-rule=\"evenodd\" fill-opacity=\"1\" /><polyline clip-path=\"url(#clip922)\" style=\"stroke:#000000; stroke-linecap:butt; stroke-linejoin:round; stroke-width:2; stroke-opacity:0.1; fill:none\" points=\"\n",
       "  223.103,1478.31 2352.76,1478.31 \n",
       "  \"/>\n",
       "<polyline clip-path=\"url(#clip922)\" style=\"stroke:#000000; stroke-linecap:butt; stroke-linejoin:round; stroke-width:2; stroke-opacity:0.1; fill:none\" points=\"\n",
       "  223.103,1161.08 2352.76,1161.08 \n",
       "  \"/>\n",
       "<polyline clip-path=\"url(#clip922)\" style=\"stroke:#000000; stroke-linecap:butt; stroke-linejoin:round; stroke-width:2; stroke-opacity:0.1; fill:none\" points=\"\n",
       "  223.103,843.858 2352.76,843.858 \n",
       "  \"/>\n",
       "<polyline clip-path=\"url(#clip922)\" style=\"stroke:#000000; stroke-linecap:butt; stroke-linejoin:round; stroke-width:2; stroke-opacity:0.1; fill:none\" points=\"\n",
       "  223.103,526.633 2352.76,526.633 \n",
       "  \"/>\n",
       "<polyline clip-path=\"url(#clip922)\" style=\"stroke:#000000; stroke-linecap:butt; stroke-linejoin:round; stroke-width:2; stroke-opacity:0.1; fill:none\" points=\"\n",
       "  223.103,209.409 2352.76,209.409 \n",
       "  \"/>\n",
       "<polyline clip-path=\"url(#clip920)\" style=\"stroke:#000000; stroke-linecap:butt; stroke-linejoin:round; stroke-width:4; stroke-opacity:1; fill:none\" points=\"\n",
       "  223.103,1486.45 223.103,47.2441 \n",
       "  \"/>\n",
       "<polyline clip-path=\"url(#clip920)\" style=\"stroke:#000000; stroke-linecap:butt; stroke-linejoin:round; stroke-width:4; stroke-opacity:1; fill:none\" points=\"\n",
       "  223.103,1478.31 248.658,1478.31 \n",
       "  \"/>\n",
       "<polyline clip-path=\"url(#clip920)\" style=\"stroke:#000000; stroke-linecap:butt; stroke-linejoin:round; stroke-width:4; stroke-opacity:1; fill:none\" points=\"\n",
       "  223.103,1161.08 248.658,1161.08 \n",
       "  \"/>\n",
       "<polyline clip-path=\"url(#clip920)\" style=\"stroke:#000000; stroke-linecap:butt; stroke-linejoin:round; stroke-width:4; stroke-opacity:1; fill:none\" points=\"\n",
       "  223.103,843.858 248.658,843.858 \n",
       "  \"/>\n",
       "<polyline clip-path=\"url(#clip920)\" style=\"stroke:#000000; stroke-linecap:butt; stroke-linejoin:round; stroke-width:4; stroke-opacity:1; fill:none\" points=\"\n",
       "  223.103,526.633 248.658,526.633 \n",
       "  \"/>\n",
       "<polyline clip-path=\"url(#clip920)\" style=\"stroke:#000000; stroke-linecap:butt; stroke-linejoin:round; stroke-width:4; stroke-opacity:1; fill:none\" points=\"\n",
       "  223.103,209.409 248.658,209.409 \n",
       "  \"/>\n",
       "<path clip-path=\"url(#clip920)\" d=\"M50.9921 1478.76 L80.6679 1478.76 L80.6679 1482.69 L50.9921 1482.69 L50.9921 1478.76 Z\" fill=\"#000000\" fill-rule=\"evenodd\" fill-opacity=\"1\" /><path clip-path=\"url(#clip920)\" d=\"M100.76 1464.11 Q97.1493 1464.11 95.3206 1467.67 Q93.515 1471.21 93.515 1478.34 Q93.515 1485.45 95.3206 1489.01 Q97.1493 1492.55 100.76 1492.55 Q104.395 1492.55 106.2 1489.01 Q108.029 1485.45 108.029 1478.34 Q108.029 1471.21 106.2 1467.67 Q104.395 1464.11 100.76 1464.11 M100.76 1460.4 Q106.571 1460.4 109.626 1465.01 Q112.705 1469.59 112.705 1478.34 Q112.705 1487.07 109.626 1491.67 Q106.571 1496.26 100.76 1496.26 Q94.9502 1496.26 91.8715 1491.67 Q88.816 1487.07 88.816 1478.34 Q88.816 1469.59 91.8715 1465.01 Q94.9502 1460.4 100.76 1460.4 Z\" fill=\"#000000\" fill-rule=\"evenodd\" fill-opacity=\"1\" /><path clip-path=\"url(#clip920)\" d=\"M120.922 1489.71 L125.807 1489.71 L125.807 1495.59 L120.922 1495.59 L120.922 1489.71 Z\" fill=\"#000000\" fill-rule=\"evenodd\" fill-opacity=\"1\" /><path clip-path=\"url(#clip920)\" d=\"M140.019 1491.65 L156.339 1491.65 L156.339 1495.59 L134.394 1495.59 L134.394 1491.65 Q137.056 1488.9 141.64 1484.27 Q146.246 1479.61 147.427 1478.27 Q149.672 1475.75 150.552 1474.01 Q151.455 1472.25 151.455 1470.56 Q151.455 1467.81 149.51 1466.07 Q147.589 1464.34 144.487 1464.34 Q142.288 1464.34 139.834 1465.1 Q137.404 1465.86 134.626 1467.42 L134.626 1462.69 Q137.45 1461.56 139.904 1460.98 Q142.357 1460.4 144.394 1460.4 Q149.765 1460.4 152.959 1463.09 Q156.154 1465.77 156.154 1470.26 Q156.154 1472.39 155.343 1474.31 Q154.556 1476.21 152.45 1478.8 Q151.871 1479.48 148.769 1482.69 Q145.668 1485.89 140.019 1491.65 Z\" fill=\"#000000\" fill-rule=\"evenodd\" fill-opacity=\"1\" /><path clip-path=\"url(#clip920)\" d=\"M166.2 1461.03 L184.556 1461.03 L184.556 1464.96 L170.482 1464.96 L170.482 1473.43 Q171.501 1473.09 172.519 1472.92 Q173.538 1472.74 174.556 1472.74 Q180.343 1472.74 183.723 1475.91 Q187.103 1479.08 187.103 1484.5 Q187.103 1490.08 183.63 1493.18 Q180.158 1496.26 173.839 1496.26 Q171.663 1496.26 169.394 1495.89 Q167.149 1495.52 164.742 1494.78 L164.742 1490.08 Q166.825 1491.21 169.047 1491.77 Q171.269 1492.32 173.746 1492.32 Q177.751 1492.32 180.089 1490.22 Q182.427 1488.11 182.427 1484.5 Q182.427 1480.89 180.089 1478.78 Q177.751 1476.67 173.746 1476.67 Q171.871 1476.67 169.996 1477.09 Q168.144 1477.51 166.2 1478.39 L166.2 1461.03 Z\" fill=\"#000000\" fill-rule=\"evenodd\" fill-opacity=\"1\" /><path clip-path=\"url(#clip920)\" d=\"M99.765 1146.88 Q96.1539 1146.88 94.3252 1150.45 Q92.5197 1153.99 92.5197 1161.12 Q92.5197 1168.22 94.3252 1171.79 Q96.1539 1175.33 99.765 1175.33 Q103.399 1175.33 105.205 1171.79 Q107.033 1168.22 107.033 1161.12 Q107.033 1153.99 105.205 1150.45 Q103.399 1146.88 99.765 1146.88 M99.765 1143.18 Q105.575 1143.18 108.631 1147.78 Q111.709 1152.37 111.709 1161.12 Q111.709 1169.84 108.631 1174.45 Q105.575 1179.03 99.765 1179.03 Q93.9549 1179.03 90.8762 1174.45 Q87.8206 1169.84 87.8206 1161.12 Q87.8206 1152.37 90.8762 1147.78 Q93.9549 1143.18 99.765 1143.18 Z\" fill=\"#000000\" fill-rule=\"evenodd\" fill-opacity=\"1\" /><path clip-path=\"url(#clip920)\" d=\"M119.927 1172.48 L124.811 1172.48 L124.811 1178.36 L119.927 1178.36 L119.927 1172.48 Z\" fill=\"#000000\" fill-rule=\"evenodd\" fill-opacity=\"1\" /><path clip-path=\"url(#clip920)\" d=\"M144.996 1146.88 Q141.385 1146.88 139.556 1150.45 Q137.751 1153.99 137.751 1161.12 Q137.751 1168.22 139.556 1171.79 Q141.385 1175.33 144.996 1175.33 Q148.63 1175.33 150.436 1171.79 Q152.265 1168.22 152.265 1161.12 Q152.265 1153.99 150.436 1150.45 Q148.63 1146.88 144.996 1146.88 M144.996 1143.18 Q150.806 1143.18 153.862 1147.78 Q156.941 1152.37 156.941 1161.12 Q156.941 1169.84 153.862 1174.45 Q150.806 1179.03 144.996 1179.03 Q139.186 1179.03 136.107 1174.45 Q133.052 1169.84 133.052 1161.12 Q133.052 1152.37 136.107 1147.78 Q139.186 1143.18 144.996 1143.18 Z\" fill=\"#000000\" fill-rule=\"evenodd\" fill-opacity=\"1\" /><path clip-path=\"url(#clip920)\" d=\"M175.158 1146.88 Q171.547 1146.88 169.718 1150.45 Q167.913 1153.99 167.913 1161.12 Q167.913 1168.22 169.718 1171.79 Q171.547 1175.33 175.158 1175.33 Q178.792 1175.33 180.598 1171.79 Q182.427 1168.22 182.427 1161.12 Q182.427 1153.99 180.598 1150.45 Q178.792 1146.88 175.158 1146.88 M175.158 1143.18 Q180.968 1143.18 184.024 1147.78 Q187.103 1152.37 187.103 1161.12 Q187.103 1169.84 184.024 1174.45 Q180.968 1179.03 175.158 1179.03 Q169.348 1179.03 166.269 1174.45 Q163.214 1169.84 163.214 1161.12 Q163.214 1152.37 166.269 1147.78 Q169.348 1143.18 175.158 1143.18 Z\" fill=\"#000000\" fill-rule=\"evenodd\" fill-opacity=\"1\" /><path clip-path=\"url(#clip920)\" d=\"M100.76 829.657 Q97.1493 829.657 95.3206 833.221 Q93.515 836.763 93.515 843.893 Q93.515 850.999 95.3206 854.564 Q97.1493 858.105 100.76 858.105 Q104.395 858.105 106.2 854.564 Q108.029 850.999 108.029 843.893 Q108.029 836.763 106.2 833.221 Q104.395 829.657 100.76 829.657 M100.76 825.953 Q106.571 825.953 109.626 830.559 Q112.705 835.143 112.705 843.893 Q112.705 852.619 109.626 857.226 Q106.571 861.809 100.76 861.809 Q94.9502 861.809 91.8715 857.226 Q88.816 852.619 88.816 843.893 Q88.816 835.143 91.8715 830.559 Q94.9502 825.953 100.76 825.953 Z\" fill=\"#000000\" fill-rule=\"evenodd\" fill-opacity=\"1\" /><path clip-path=\"url(#clip920)\" d=\"M120.922 855.258 L125.807 855.258 L125.807 861.138 L120.922 861.138 L120.922 855.258 Z\" fill=\"#000000\" fill-rule=\"evenodd\" fill-opacity=\"1\" /><path clip-path=\"url(#clip920)\" d=\"M140.019 857.203 L156.339 857.203 L156.339 861.138 L134.394 861.138 L134.394 857.203 Q137.056 854.448 141.64 849.818 Q146.246 845.166 147.427 843.823 Q149.672 841.3 150.552 839.564 Q151.455 837.805 151.455 836.115 Q151.455 833.36 149.51 831.624 Q147.589 829.888 144.487 829.888 Q142.288 829.888 139.834 830.652 Q137.404 831.416 134.626 832.967 L134.626 828.245 Q137.45 827.11 139.904 826.532 Q142.357 825.953 144.394 825.953 Q149.765 825.953 152.959 828.638 Q156.154 831.323 156.154 835.814 Q156.154 837.944 155.343 839.865 Q154.556 841.763 152.45 844.356 Q151.871 845.027 148.769 848.244 Q145.668 851.439 140.019 857.203 Z\" fill=\"#000000\" fill-rule=\"evenodd\" fill-opacity=\"1\" /><path clip-path=\"url(#clip920)\" d=\"M166.2 826.578 L184.556 826.578 L184.556 830.513 L170.482 830.513 L170.482 838.985 Q171.501 838.638 172.519 838.476 Q173.538 838.291 174.556 838.291 Q180.343 838.291 183.723 841.462 Q187.103 844.633 187.103 850.05 Q187.103 855.629 183.63 858.73 Q180.158 861.809 173.839 861.809 Q171.663 861.809 169.394 861.439 Q167.149 861.068 164.742 860.328 L164.742 855.629 Q166.825 856.763 169.047 857.318 Q171.269 857.874 173.746 857.874 Q177.751 857.874 180.089 855.768 Q182.427 853.661 182.427 850.05 Q182.427 846.439 180.089 844.332 Q177.751 842.226 173.746 842.226 Q171.871 842.226 169.996 842.643 Q168.144 843.059 166.2 843.939 L166.2 826.578 Z\" fill=\"#000000\" fill-rule=\"evenodd\" fill-opacity=\"1\" /><path clip-path=\"url(#clip920)\" d=\"M99.765 512.432 Q96.1539 512.432 94.3252 515.997 Q92.5197 519.538 92.5197 526.668 Q92.5197 533.775 94.3252 537.339 Q96.1539 540.881 99.765 540.881 Q103.399 540.881 105.205 537.339 Q107.033 533.775 107.033 526.668 Q107.033 519.538 105.205 515.997 Q103.399 512.432 99.765 512.432 M99.765 508.728 Q105.575 508.728 108.631 513.335 Q111.709 517.918 111.709 526.668 Q111.709 535.395 108.631 540.001 Q105.575 544.585 99.765 544.585 Q93.9549 544.585 90.8762 540.001 Q87.8206 535.395 87.8206 526.668 Q87.8206 517.918 90.8762 513.335 Q93.9549 508.728 99.765 508.728 Z\" fill=\"#000000\" fill-rule=\"evenodd\" fill-opacity=\"1\" /><path clip-path=\"url(#clip920)\" d=\"M119.927 538.034 L124.811 538.034 L124.811 543.913 L119.927 543.913 L119.927 538.034 Z\" fill=\"#000000\" fill-rule=\"evenodd\" fill-opacity=\"1\" /><path clip-path=\"url(#clip920)\" d=\"M135.043 509.353 L153.399 509.353 L153.399 513.289 L139.325 513.289 L139.325 521.761 Q140.343 521.413 141.362 521.251 Q142.381 521.066 143.399 521.066 Q149.186 521.066 152.566 524.238 Q155.945 527.409 155.945 532.825 Q155.945 538.404 152.473 541.506 Q149.001 544.585 142.681 544.585 Q140.506 544.585 138.237 544.214 Q135.992 543.844 133.584 543.103 L133.584 538.404 Q135.668 539.538 137.89 540.094 Q140.112 540.649 142.589 540.649 Q146.593 540.649 148.931 538.543 Q151.269 536.437 151.269 532.825 Q151.269 529.214 148.931 527.108 Q146.593 525.001 142.589 525.001 Q140.714 525.001 138.839 525.418 Q136.987 525.835 135.043 526.714 L135.043 509.353 Z\" fill=\"#000000\" fill-rule=\"evenodd\" fill-opacity=\"1\" /><path clip-path=\"url(#clip920)\" d=\"M175.158 512.432 Q171.547 512.432 169.718 515.997 Q167.913 519.538 167.913 526.668 Q167.913 533.775 169.718 537.339 Q171.547 540.881 175.158 540.881 Q178.792 540.881 180.598 537.339 Q182.427 533.775 182.427 526.668 Q182.427 519.538 180.598 515.997 Q178.792 512.432 175.158 512.432 M175.158 508.728 Q180.968 508.728 184.024 513.335 Q187.103 517.918 187.103 526.668 Q187.103 535.395 184.024 540.001 Q180.968 544.585 175.158 544.585 Q169.348 544.585 166.269 540.001 Q163.214 535.395 163.214 526.668 Q163.214 517.918 166.269 513.335 Q169.348 508.728 175.158 508.728 Z\" fill=\"#000000\" fill-rule=\"evenodd\" fill-opacity=\"1\" /><path clip-path=\"url(#clip920)\" d=\"M100.76 195.208 Q97.1493 195.208 95.3206 198.772 Q93.515 202.314 93.515 209.444 Q93.515 216.55 95.3206 220.115 Q97.1493 223.656 100.76 223.656 Q104.395 223.656 106.2 220.115 Q108.029 216.55 108.029 209.444 Q108.029 202.314 106.2 198.772 Q104.395 195.208 100.76 195.208 M100.76 191.504 Q106.571 191.504 109.626 196.11 Q112.705 200.694 112.705 209.444 Q112.705 218.17 109.626 222.777 Q106.571 227.36 100.76 227.36 Q94.9502 227.36 91.8715 222.777 Q88.816 218.17 88.816 209.444 Q88.816 200.694 91.8715 196.11 Q94.9502 191.504 100.76 191.504 Z\" fill=\"#000000\" fill-rule=\"evenodd\" fill-opacity=\"1\" /><path clip-path=\"url(#clip920)\" d=\"M120.922 220.809 L125.807 220.809 L125.807 226.689 L120.922 226.689 L120.922 220.809 Z\" fill=\"#000000\" fill-rule=\"evenodd\" fill-opacity=\"1\" /><path clip-path=\"url(#clip920)\" d=\"M134.811 192.129 L157.033 192.129 L157.033 194.12 L144.487 226.689 L139.603 226.689 L151.408 196.064 L134.811 196.064 L134.811 192.129 Z\" fill=\"#000000\" fill-rule=\"evenodd\" fill-opacity=\"1\" /><path clip-path=\"url(#clip920)\" d=\"M166.2 192.129 L184.556 192.129 L184.556 196.064 L170.482 196.064 L170.482 204.536 Q171.501 204.189 172.519 204.027 Q173.538 203.842 174.556 203.842 Q180.343 203.842 183.723 207.013 Q187.103 210.184 187.103 215.601 Q187.103 221.18 183.63 224.281 Q180.158 227.36 173.839 227.36 Q171.663 227.36 169.394 226.99 Q167.149 226.619 164.742 225.879 L164.742 221.18 Q166.825 222.314 169.047 222.869 Q171.269 223.425 173.746 223.425 Q177.751 223.425 180.089 221.318 Q182.427 219.212 182.427 215.601 Q182.427 211.99 180.089 209.883 Q177.751 207.777 173.746 207.777 Q171.871 207.777 169.996 208.194 Q168.144 208.61 166.2 209.49 L166.2 192.129 Z\" fill=\"#000000\" fill-rule=\"evenodd\" fill-opacity=\"1\" /><polyline clip-path=\"url(#clip922)\" style=\"stroke:#009af9; stroke-linecap:butt; stroke-linejoin:round; stroke-width:4; stroke-opacity:1; fill:none\" points=\"\n",
       "  285.828,1160 288.281,1158.21 290.733,1159.9 293.186,1164.54 294.412,1162.27 295.639,1157.55 296.865,1169.26 298.091,1170.3 298.704,1168.53 299.317,1157.49 \n",
       "  299.471,1168.62 299.624,1170.36 299.777,1160.8 299.931,1151.49 300.237,1163.47 300.544,1168.76 301.157,1162.28 301.77,1153.32 302.077,1154.22 302.383,1171.85 \n",
       "  302.536,1172.28 302.69,1165.27 302.843,1155.53 302.996,1149.23 304.414,1148.47 305.831,1146.93 307.248,1151.8 308.666,1173.62 310.083,1163.96 311.5,1148.08 \n",
       "  312.918,1177.77 314.335,1143.85 315.752,1175.43 317.17,1156.03 318.587,1150.23 320.004,1184.03 321.422,1147.52 322.839,1146.1 324.257,1184.32 325.674,1170.86 \n",
       "  327.091,1135.71 328.509,1146.6 329.926,1182.62 331.343,1187.27 332.761,1156.17 334.178,1130.23 335.595,1138 337.013,1169.19 338.43,1193.56 339.847,1191.47 \n",
       "  341.265,1166.5 342.682,1137.51 344.099,1122.92 345.517,1129.97 346.934,1153.32 348.351,1180.58 349.769,1199.44 351.186,1202.91 352.603,1190.8 354.021,1168.42 \n",
       "  355.438,1143.6 356.856,1123.82 358.273,1114.13 359.69,1116.27 361.108,1128.94 362.525,1148.66 363.942,1170.97 365.36,1191.45 366.777,1206.59 368.194,1214.23 \n",
       "  369.612,1213.66 371.029,1205.46 373.864,1173.1 376.698,1134.78 378.116,1118.81 379.533,1107.04 380.95,1100.35 382.368,1099.05 385.202,1111.47 388.037,1138.62 \n",
       "  390.872,1171.87 393.707,1202.68 396.541,1224.64 399.376,1234.28 402.211,1231 405.045,1216.46 410.715,1166.68 416.384,1113.45 419.219,1092.92 422.054,1078.82 \n",
       "  424.888,1071.87 427.723,1072.09 430.558,1078.92 433.392,1091.41 436.227,1108.35 439.062,1128.43 444.731,1172.77 450.4,1215.1 456.07,1248.67 461.739,1269.69 \n",
       "  467.409,1276.95 473.078,1271.21 478.747,1254.49 484.417,1229.47 491.231,1192.43 498.045,1152.18 504.859,1112.64 511.673,1076.79 518.488,1046.69 525.302,1023.54 \n",
       "  532.116,1007.88 538.93,999.686 545.744,998.563 552.558,1003.86 559.372,1014.76 566.186,1030.38 579.815,1072.26 593.443,1122.87 616.488,1213.51 639.533,1295.8 \n",
       "  651.056,1330.69 662.578,1360.64 674.101,1385.43 685.623,1405.07 698.14,1420.77 710.657,1430.93 723.173,1435.97 735.69,1436.36 760.723,1425.15 785.757,1401.04 \n",
       "  808.835,1370.26 831.914,1333.54 854.993,1292.7 878.071,1249.19 927.557,1151.83 977.042,1054.72 1034.38,947.818 1091.71,849.648 1142.66,770.46 1193.61,698.754 \n",
       "  1238.29,641.692 1282.97,589.661 1380.4,491.631 1478.4,410.933 1586.76,338.255 1689.86,281.769 1797.06,233.283 1887.3,198.933 1997.47,163.412 2101.03,135.232 \n",
       "  2266.95,98.2859 2292.48,93.3415 \n",
       "  \"/>\n",
       "<path clip-path=\"url(#clip922)\" d=\"\n",
       "M283.376 1171 L299.072 1171 L299.072 1151.17 L283.376 1151.17 L283.376 1171  Z\n",
       "  \" fill=\"#e26f46\" fill-rule=\"evenodd\" fill-opacity=\"0.5\"/>\n",
       "<polyline clip-path=\"url(#clip922)\" style=\"stroke:#000000; stroke-linecap:butt; stroke-linejoin:round; stroke-width:4; stroke-opacity:0.5; fill:none\" points=\"\n",
       "  283.376,1171 299.072,1171 299.072,1151.17 283.376,1151.17 283.376,1171 \n",
       "  \"/>\n",
       "<path clip-path=\"url(#clip922)\" d=\"\n",
       "M299.072 1180.91 L314.768 1180.91 L314.768 1141.26 L299.072 1141.26 L299.072 1180.91  Z\n",
       "  \" fill=\"#e26f46\" fill-rule=\"evenodd\" fill-opacity=\"0.5\"/>\n",
       "<polyline clip-path=\"url(#clip922)\" style=\"stroke:#000000; stroke-linecap:butt; stroke-linejoin:round; stroke-width:4; stroke-opacity:0.5; fill:none\" points=\"\n",
       "  299.072,1180.91 314.768,1180.91 314.768,1141.26 299.072,1141.26 299.072,1180.91 \n",
       "  \"/>\n",
       "<path clip-path=\"url(#clip922)\" d=\"\n",
       "M314.768 1190.82 L330.464 1190.82 L330.464 1131.34 L314.768 1131.34 L314.768 1190.82  Z\n",
       "  \" fill=\"#e26f46\" fill-rule=\"evenodd\" fill-opacity=\"0.5\"/>\n",
       "<polyline clip-path=\"url(#clip922)\" style=\"stroke:#000000; stroke-linecap:butt; stroke-linejoin:round; stroke-width:4; stroke-opacity:0.5; fill:none\" points=\"\n",
       "  314.768,1190.82 330.464,1190.82 330.464,1131.34 314.768,1131.34 314.768,1190.82 \n",
       "  \"/>\n",
       "<path clip-path=\"url(#clip922)\" d=\"\n",
       "M330.464 1200.74 L346.16 1200.74 L346.16 1121.43 L330.464 1121.43 L330.464 1200.74  Z\n",
       "  \" fill=\"#e26f46\" fill-rule=\"evenodd\" fill-opacity=\"0.5\"/>\n",
       "<polyline clip-path=\"url(#clip922)\" style=\"stroke:#000000; stroke-linecap:butt; stroke-linejoin:round; stroke-width:4; stroke-opacity:0.5; fill:none\" points=\"\n",
       "  330.464,1200.74 346.16,1200.74 346.16,1121.43 330.464,1121.43 330.464,1200.74 \n",
       "  \"/>\n",
       "<path clip-path=\"url(#clip922)\" d=\"\n",
       "M346.16 1210.65 L361.856 1210.65 L361.856 1111.52 L346.16 1111.52 L346.16 1210.65  Z\n",
       "  \" fill=\"#e26f46\" fill-rule=\"evenodd\" fill-opacity=\"0.5\"/>\n",
       "<polyline clip-path=\"url(#clip922)\" style=\"stroke:#000000; stroke-linecap:butt; stroke-linejoin:round; stroke-width:4; stroke-opacity:0.5; fill:none\" points=\"\n",
       "  346.16,1210.65 361.856,1210.65 361.856,1111.52 346.16,1111.52 346.16,1210.65 \n",
       "  \"/>\n",
       "<path clip-path=\"url(#clip922)\" d=\"\n",
       "M361.856 1220.56 L377.553 1220.56 L377.553 1124.72 L361.856 1124.72 L361.856 1220.56  Z\n",
       "  \" fill=\"#e26f46\" fill-rule=\"evenodd\" fill-opacity=\"0.5\"/>\n",
       "<polyline clip-path=\"url(#clip922)\" style=\"stroke:#000000; stroke-linecap:butt; stroke-linejoin:round; stroke-width:4; stroke-opacity:0.5; fill:none\" points=\"\n",
       "  361.856,1220.56 377.553,1220.56 377.553,1124.72 361.856,1124.72 361.856,1220.56 \n",
       "  \"/>\n",
       "<path clip-path=\"url(#clip922)\" d=\"\n",
       "M377.553 1198.17 L393.249 1198.17 L393.249 1091.69 L377.553 1091.69 L377.553 1198.17  Z\n",
       "  \" fill=\"#e26f46\" fill-rule=\"evenodd\" fill-opacity=\"0.5\"/>\n",
       "<polyline clip-path=\"url(#clip922)\" style=\"stroke:#000000; stroke-linecap:butt; stroke-linejoin:round; stroke-width:4; stroke-opacity:0.5; fill:none\" points=\"\n",
       "  377.553,1198.17 393.249,1198.17 393.249,1091.69 377.553,1091.69 377.553,1198.17 \n",
       "  \"/>\n",
       "<path clip-path=\"url(#clip922)\" d=\"\n",
       "M393.249 1240.39 L408.945 1240.39 L408.945 1181.06 L393.249 1181.06 L393.249 1240.39  Z\n",
       "  \" fill=\"#e26f46\" fill-rule=\"evenodd\" fill-opacity=\"0.5\"/>\n",
       "<polyline clip-path=\"url(#clip922)\" style=\"stroke:#000000; stroke-linecap:butt; stroke-linejoin:round; stroke-width:4; stroke-opacity:0.5; fill:none\" points=\"\n",
       "  393.249,1240.39 408.945,1240.39 408.945,1181.06 393.249,1181.06 393.249,1240.39 \n",
       "  \"/>\n",
       "<path clip-path=\"url(#clip922)\" d=\"\n",
       "M408.945 1186.77 L424.641 1186.77 L424.641 1072.19 L408.945 1072.19 L408.945 1186.77  Z\n",
       "  \" fill=\"#e26f46\" fill-rule=\"evenodd\" fill-opacity=\"0.5\"/>\n",
       "<polyline clip-path=\"url(#clip922)\" style=\"stroke:#000000; stroke-linecap:butt; stroke-linejoin:round; stroke-width:4; stroke-opacity:0.5; fill:none\" points=\"\n",
       "  408.945,1186.77 424.641,1186.77 424.641,1072.19 408.945,1072.19 408.945,1186.77 \n",
       "  \"/>\n",
       "<path clip-path=\"url(#clip922)\" d=\"\n",
       "M424.641 1140.43 L440.337 1140.43 L440.337 1061.95 L424.641 1061.95 L424.641 1140.43  Z\n",
       "  \" fill=\"#e26f46\" fill-rule=\"evenodd\" fill-opacity=\"0.5\"/>\n",
       "<polyline clip-path=\"url(#clip922)\" style=\"stroke:#000000; stroke-linecap:butt; stroke-linejoin:round; stroke-width:4; stroke-opacity:0.5; fill:none\" points=\"\n",
       "  424.641,1140.43 440.337,1140.43 440.337,1061.95 424.641,1061.95 424.641,1140.43 \n",
       "  \"/>\n",
       "<path clip-path=\"url(#clip922)\" d=\"\n",
       "M440.337 1248.5 L456.033 1248.5 L456.033 1135.84 L440.337 1135.84 L440.337 1248.5  Z\n",
       "  \" fill=\"#e26f46\" fill-rule=\"evenodd\" fill-opacity=\"0.5\"/>\n",
       "<polyline clip-path=\"url(#clip922)\" style=\"stroke:#000000; stroke-linecap:butt; stroke-linejoin:round; stroke-width:4; stroke-opacity:0.5; fill:none\" points=\"\n",
       "  440.337,1248.5 456.033,1248.5 456.033,1135.84 440.337,1135.84 440.337,1248.5 \n",
       "  \"/>\n",
       "<path clip-path=\"url(#clip922)\" d=\"\n",
       "M456.033 1280.04 L471.729 1280.04 L471.729 1248.5 L456.033 1248.5 L456.033 1280.04  Z\n",
       "  \" fill=\"#e26f46\" fill-rule=\"evenodd\" fill-opacity=\"0.5\"/>\n",
       "<polyline clip-path=\"url(#clip922)\" style=\"stroke:#000000; stroke-linecap:butt; stroke-linejoin:round; stroke-width:4; stroke-opacity:0.5; fill:none\" points=\"\n",
       "  456.033,1280.04 471.729,1280.04 471.729,1248.5 456.033,1248.5 456.033,1280.04 \n",
       "  \"/>\n",
       "<path clip-path=\"url(#clip922)\" d=\"\n",
       "M471.729 1283.05 L487.426 1283.05 L487.426 1209.74 L471.729 1209.74 L471.729 1283.05  Z\n",
       "  \" fill=\"#e26f46\" fill-rule=\"evenodd\" fill-opacity=\"0.5\"/>\n",
       "<polyline clip-path=\"url(#clip922)\" style=\"stroke:#000000; stroke-linecap:butt; stroke-linejoin:round; stroke-width:4; stroke-opacity:0.5; fill:none\" points=\"\n",
       "  471.729,1283.05 487.426,1283.05 487.426,1209.74 471.729,1209.74 471.729,1283.05 \n",
       "  \"/>\n",
       "<path clip-path=\"url(#clip922)\" d=\"\n",
       "M487.426 1217.85 L503.122 1217.85 L503.122 1122.47 L487.426 1122.47 L487.426 1217.85  Z\n",
       "  \" fill=\"#e26f46\" fill-rule=\"evenodd\" fill-opacity=\"0.5\"/>\n",
       "<polyline clip-path=\"url(#clip922)\" style=\"stroke:#000000; stroke-linecap:butt; stroke-linejoin:round; stroke-width:4; stroke-opacity:0.5; fill:none\" points=\"\n",
       "  487.426,1217.85 503.122,1217.85 503.122,1122.47 487.426,1122.47 487.426,1217.85 \n",
       "  \"/>\n",
       "<path clip-path=\"url(#clip922)\" d=\"\n",
       "M503.122 1122.47 L518.818 1122.47 L518.818 1045.4 L503.122 1045.4 L503.122 1122.47  Z\n",
       "  \" fill=\"#e26f46\" fill-rule=\"evenodd\" fill-opacity=\"0.5\"/>\n",
       "<polyline clip-path=\"url(#clip922)\" style=\"stroke:#000000; stroke-linecap:butt; stroke-linejoin:round; stroke-width:4; stroke-opacity:0.5; fill:none\" points=\"\n",
       "  503.122,1122.47 518.818,1122.47 518.818,1045.4 503.122,1045.4 503.122,1122.47 \n",
       "  \"/>\n",
       "<path clip-path=\"url(#clip922)\" d=\"\n",
       "M518.818 1045.4 L534.514 1045.4 L534.514 1004.16 L518.818 1004.16 L518.818 1045.4  Z\n",
       "  \" fill=\"#e26f46\" fill-rule=\"evenodd\" fill-opacity=\"0.5\"/>\n",
       "<polyline clip-path=\"url(#clip922)\" style=\"stroke:#000000; stroke-linecap:butt; stroke-linejoin:round; stroke-width:4; stroke-opacity:0.5; fill:none\" points=\"\n",
       "  518.818,1045.4 534.514,1045.4 534.514,1004.16 518.818,1004.16 518.818,1045.4 \n",
       "  \"/>\n",
       "<path clip-path=\"url(#clip922)\" d=\"\n",
       "M534.514 1010.75 L550.21 1010.75 L550.21 992.557 L534.514 992.557 L534.514 1010.75  Z\n",
       "  \" fill=\"#e26f46\" fill-rule=\"evenodd\" fill-opacity=\"0.5\"/>\n",
       "<polyline clip-path=\"url(#clip922)\" style=\"stroke:#000000; stroke-linecap:butt; stroke-linejoin:round; stroke-width:4; stroke-opacity:0.5; fill:none\" points=\"\n",
       "  534.514,1010.75 550.21,1010.75 550.21,992.557 534.514,992.557 534.514,1010.75 \n",
       "  \"/>\n",
       "<path clip-path=\"url(#clip922)\" d=\"\n",
       "M550.21 1036.96 L565.906 1036.96 L565.906 991.96 L550.21 991.96 L550.21 1036.96  Z\n",
       "  \" fill=\"#e26f46\" fill-rule=\"evenodd\" fill-opacity=\"0.5\"/>\n",
       "<polyline clip-path=\"url(#clip922)\" style=\"stroke:#000000; stroke-linecap:butt; stroke-linejoin:round; stroke-width:4; stroke-opacity:0.5; fill:none\" points=\"\n",
       "  550.21,1036.96 565.906,1036.96 565.906,991.96 550.21,991.96 550.21,1036.96 \n",
       "  \"/>\n",
       "<path clip-path=\"url(#clip922)\" d=\"\n",
       "M565.906 1082.88 L581.603 1082.88 L581.603 1022.36 L565.906 1022.36 L565.906 1082.88  Z\n",
       "  \" fill=\"#e26f46\" fill-rule=\"evenodd\" fill-opacity=\"0.5\"/>\n",
       "<polyline clip-path=\"url(#clip922)\" style=\"stroke:#000000; stroke-linecap:butt; stroke-linejoin:round; stroke-width:4; stroke-opacity:0.5; fill:none\" points=\"\n",
       "  565.906,1082.88 581.603,1082.88 581.603,1022.36 565.906,1022.36 565.906,1082.88 \n",
       "  \"/>\n",
       "<path clip-path=\"url(#clip922)\" d=\"\n",
       "M581.603 1139.13 L597.299 1139.13 L597.299 1074.19 L581.603 1074.19 L581.603 1139.13  Z\n",
       "  \" fill=\"#e26f46\" fill-rule=\"evenodd\" fill-opacity=\"0.5\"/>\n",
       "<polyline clip-path=\"url(#clip922)\" style=\"stroke:#000000; stroke-linecap:butt; stroke-linejoin:round; stroke-width:4; stroke-opacity:0.5; fill:none\" points=\"\n",
       "  581.603,1139.13 597.299,1139.13 597.299,1074.19 581.603,1074.19 581.603,1139.13 \n",
       "  \"/>\n",
       "<path clip-path=\"url(#clip922)\" d=\"\n",
       "M597.299 1199.98 L612.995 1199.98 L612.995 1136.82 L597.299 1136.82 L597.299 1199.98  Z\n",
       "  \" fill=\"#e26f46\" fill-rule=\"evenodd\" fill-opacity=\"0.5\"/>\n",
       "<polyline clip-path=\"url(#clip922)\" style=\"stroke:#000000; stroke-linecap:butt; stroke-linejoin:round; stroke-width:4; stroke-opacity:0.5; fill:none\" points=\"\n",
       "  597.299,1199.98 612.995,1199.98 612.995,1136.82 597.299,1136.82 597.299,1199.98 \n",
       "  \"/>\n",
       "<path clip-path=\"url(#clip922)\" d=\"\n",
       "M612.995 1258.88 L628.691 1258.88 L628.691 1199.98 L612.995 1199.98 L612.995 1258.88  Z\n",
       "  \" fill=\"#e26f46\" fill-rule=\"evenodd\" fill-opacity=\"0.5\"/>\n",
       "<polyline clip-path=\"url(#clip922)\" style=\"stroke:#000000; stroke-linecap:butt; stroke-linejoin:round; stroke-width:4; stroke-opacity:0.5; fill:none\" points=\"\n",
       "  612.995,1258.88 628.691,1258.88 628.691,1199.98 612.995,1199.98 612.995,1258.88 \n",
       "  \"/>\n",
       "<path clip-path=\"url(#clip922)\" d=\"\n",
       "M628.691 1311.08 L644.387 1311.08 L644.387 1258.88 L628.691 1258.88 L628.691 1311.08  Z\n",
       "  \" fill=\"#e26f46\" fill-rule=\"evenodd\" fill-opacity=\"0.5\"/>\n",
       "<polyline clip-path=\"url(#clip922)\" style=\"stroke:#000000; stroke-linecap:butt; stroke-linejoin:round; stroke-width:4; stroke-opacity:0.5; fill:none\" points=\"\n",
       "  628.691,1311.08 644.387,1311.08 644.387,1258.88 628.691,1258.88 628.691,1311.08 \n",
       "  \"/>\n",
       "<path clip-path=\"url(#clip922)\" d=\"\n",
       "M644.387 1354.59 L660.083 1354.59 L660.083 1311.08 L644.387 1311.08 L644.387 1354.59  Z\n",
       "  \" fill=\"#e26f46\" fill-rule=\"evenodd\" fill-opacity=\"0.5\"/>\n",
       "<polyline clip-path=\"url(#clip922)\" style=\"stroke:#000000; stroke-linecap:butt; stroke-linejoin:round; stroke-width:4; stroke-opacity:0.5; fill:none\" points=\"\n",
       "  644.387,1354.59 660.083,1354.59 660.083,1311.08 644.387,1311.08 644.387,1354.59 \n",
       "  \"/>\n",
       "<path clip-path=\"url(#clip922)\" d=\"\n",
       "M660.083 1388.61 L675.779 1388.61 L675.779 1354.59 L660.083 1354.59 L660.083 1388.61  Z\n",
       "  \" fill=\"#e26f46\" fill-rule=\"evenodd\" fill-opacity=\"0.5\"/>\n",
       "<polyline clip-path=\"url(#clip922)\" style=\"stroke:#000000; stroke-linecap:butt; stroke-linejoin:round; stroke-width:4; stroke-opacity:0.5; fill:none\" points=\"\n",
       "  660.083,1388.61 675.779,1388.61 675.779,1354.59 660.083,1354.59 660.083,1388.61 \n",
       "  \"/>\n",
       "<path clip-path=\"url(#clip922)\" d=\"\n",
       "M675.779 1413.13 L691.476 1413.13 L691.476 1388.61 L675.779 1388.61 L675.779 1413.13  Z\n",
       "  \" fill=\"#e26f46\" fill-rule=\"evenodd\" fill-opacity=\"0.5\"/>\n",
       "<polyline clip-path=\"url(#clip922)\" style=\"stroke:#000000; stroke-linecap:butt; stroke-linejoin:round; stroke-width:4; stroke-opacity:0.5; fill:none\" points=\"\n",
       "  675.779,1413.13 691.476,1413.13 691.476,1388.61 675.779,1388.61 675.779,1413.13 \n",
       "  \"/>\n",
       "<path clip-path=\"url(#clip922)\" d=\"\n",
       "M691.476 1428.63 L707.172 1428.63 L707.172 1413.13 L691.476 1413.13 L691.476 1428.63  Z\n",
       "  \" fill=\"#e26f46\" fill-rule=\"evenodd\" fill-opacity=\"0.5\"/>\n",
       "<polyline clip-path=\"url(#clip922)\" style=\"stroke:#000000; stroke-linecap:butt; stroke-linejoin:round; stroke-width:4; stroke-opacity:0.5; fill:none\" points=\"\n",
       "  691.476,1428.63 707.172,1428.63 707.172,1413.13 691.476,1413.13 691.476,1428.63 \n",
       "  \"/>\n",
       "<path clip-path=\"url(#clip922)\" d=\"\n",
       "M707.172 1438.65 L722.868 1438.65 L722.868 1426.09 L707.172 1426.09 L707.172 1438.65  Z\n",
       "  \" fill=\"#e26f46\" fill-rule=\"evenodd\" fill-opacity=\"0.5\"/>\n",
       "<polyline clip-path=\"url(#clip922)\" style=\"stroke:#000000; stroke-linecap:butt; stroke-linejoin:round; stroke-width:4; stroke-opacity:0.5; fill:none\" points=\"\n",
       "  707.172,1438.65 722.868,1438.65 722.868,1426.09 707.172,1426.09 707.172,1438.65 \n",
       "  \"/>\n",
       "<path clip-path=\"url(#clip922)\" d=\"\n",
       "M722.868 1445.72 L738.564 1445.72 L738.564 1426.37 L722.868 1426.37 L722.868 1445.72  Z\n",
       "  \" fill=\"#e26f46\" fill-rule=\"evenodd\" fill-opacity=\"0.5\"/>\n",
       "<polyline clip-path=\"url(#clip922)\" style=\"stroke:#000000; stroke-linecap:butt; stroke-linejoin:round; stroke-width:4; stroke-opacity:0.5; fill:none\" points=\"\n",
       "  722.868,1445.72 738.564,1445.72 738.564,1426.37 722.868,1426.37 722.868,1445.72 \n",
       "  \"/>\n",
       "<path clip-path=\"url(#clip922)\" d=\"\n",
       "M738.564 1445.32 L754.26 1445.32 L754.26 1420.48 L738.564 1420.48 L738.564 1445.32  Z\n",
       "  \" fill=\"#e26f46\" fill-rule=\"evenodd\" fill-opacity=\"0.5\"/>\n",
       "<polyline clip-path=\"url(#clip922)\" style=\"stroke:#000000; stroke-linecap:butt; stroke-linejoin:round; stroke-width:4; stroke-opacity:0.5; fill:none\" points=\"\n",
       "  738.564,1445.32 754.26,1445.32 754.26,1420.48 738.564,1420.48 738.564,1445.32 \n",
       "  \"/>\n",
       "<path clip-path=\"url(#clip922)\" d=\"\n",
       "M754.26 1438.37 L769.956 1438.37 L769.956 1409.3 L754.26 1409.3 L754.26 1438.37  Z\n",
       "  \" fill=\"#e26f46\" fill-rule=\"evenodd\" fill-opacity=\"0.5\"/>\n",
       "<polyline clip-path=\"url(#clip922)\" style=\"stroke:#000000; stroke-linecap:butt; stroke-linejoin:round; stroke-width:4; stroke-opacity:0.5; fill:none\" points=\"\n",
       "  754.26,1438.37 769.956,1438.37 769.956,1409.3 754.26,1409.3 754.26,1438.37 \n",
       "  \"/>\n",
       "<path clip-path=\"url(#clip922)\" d=\"\n",
       "M769.956 1425.84 L785.652 1425.84 L785.652 1393.66 L769.956 1393.66 L769.956 1425.84  Z\n",
       "  \" fill=\"#e26f46\" fill-rule=\"evenodd\" fill-opacity=\"0.5\"/>\n",
       "<polyline clip-path=\"url(#clip922)\" style=\"stroke:#000000; stroke-linecap:butt; stroke-linejoin:round; stroke-width:4; stroke-opacity:0.5; fill:none\" points=\"\n",
       "  769.956,1425.84 785.652,1425.84 785.652,1393.66 769.956,1393.66 769.956,1425.84 \n",
       "  \"/>\n",
       "<path clip-path=\"url(#clip922)\" d=\"\n",
       "M785.652 1408.66 L801.349 1408.66 L801.349 1374.33 L785.652 1374.33 L785.652 1408.66  Z\n",
       "  \" fill=\"#e26f46\" fill-rule=\"evenodd\" fill-opacity=\"0.5\"/>\n",
       "<polyline clip-path=\"url(#clip922)\" style=\"stroke:#000000; stroke-linecap:butt; stroke-linejoin:round; stroke-width:4; stroke-opacity:0.5; fill:none\" points=\"\n",
       "  785.652,1408.66 801.349,1408.66 801.349,1374.33 785.652,1374.33 785.652,1408.66 \n",
       "  \"/>\n",
       "<path clip-path=\"url(#clip922)\" d=\"\n",
       "M801.349 1387.65 L817.045 1387.65 L817.045 1351.99 L801.349 1351.99 L801.349 1387.65  Z\n",
       "  \" fill=\"#e26f46\" fill-rule=\"evenodd\" fill-opacity=\"0.5\"/>\n",
       "<polyline clip-path=\"url(#clip922)\" style=\"stroke:#000000; stroke-linecap:butt; stroke-linejoin:round; stroke-width:4; stroke-opacity:0.5; fill:none\" points=\"\n",
       "  801.349,1387.65 817.045,1387.65 817.045,1351.99 801.349,1351.99 801.349,1387.65 \n",
       "  \"/>\n",
       "<path clip-path=\"url(#clip922)\" d=\"\n",
       "M817.045 1363.56 L832.741 1363.56 L832.741 1327.25 L817.045 1327.25 L817.045 1363.56  Z\n",
       "  \" fill=\"#e26f46\" fill-rule=\"evenodd\" fill-opacity=\"0.5\"/>\n",
       "<polyline clip-path=\"url(#clip922)\" style=\"stroke:#000000; stroke-linecap:butt; stroke-linejoin:round; stroke-width:4; stroke-opacity:0.5; fill:none\" points=\"\n",
       "  817.045,1363.56 832.741,1363.56 832.741,1327.25 817.045,1327.25 817.045,1363.56 \n",
       "  \"/>\n",
       "<path clip-path=\"url(#clip922)\" d=\"\n",
       "M832.741 1337.03 L848.437 1337.03 L848.437 1300.65 L832.741 1300.65 L832.741 1337.03  Z\n",
       "  \" fill=\"#e26f46\" fill-rule=\"evenodd\" fill-opacity=\"0.5\"/>\n",
       "<polyline clip-path=\"url(#clip922)\" style=\"stroke:#000000; stroke-linecap:butt; stroke-linejoin:round; stroke-width:4; stroke-opacity:0.5; fill:none\" points=\"\n",
       "  832.741,1337.03 848.437,1337.03 848.437,1300.65 832.741,1300.65 832.741,1337.03 \n",
       "  \"/>\n",
       "<path clip-path=\"url(#clip922)\" d=\"\n",
       "M848.437 1308.62 L864.133 1308.62 L864.133 1272.62 L848.437 1272.62 L848.437 1308.62  Z\n",
       "  \" fill=\"#e26f46\" fill-rule=\"evenodd\" fill-opacity=\"0.5\"/>\n",
       "<polyline clip-path=\"url(#clip922)\" style=\"stroke:#000000; stroke-linecap:butt; stroke-linejoin:round; stroke-width:4; stroke-opacity:0.5; fill:none\" points=\"\n",
       "  848.437,1308.62 864.133,1308.62 864.133,1272.62 848.437,1272.62 848.437,1308.62 \n",
       "  \"/>\n",
       "<path clip-path=\"url(#clip922)\" d=\"\n",
       "M864.133 1278.82 L879.829 1278.82 L879.829 1243.57 L864.133 1243.57 L864.133 1278.82  Z\n",
       "  \" fill=\"#e26f46\" fill-rule=\"evenodd\" fill-opacity=\"0.5\"/>\n",
       "<polyline clip-path=\"url(#clip922)\" style=\"stroke:#000000; stroke-linecap:butt; stroke-linejoin:round; stroke-width:4; stroke-opacity:0.5; fill:none\" points=\"\n",
       "  864.133,1278.82 879.829,1278.82 879.829,1243.57 864.133,1243.57 864.133,1278.82 \n",
       "  \"/>\n",
       "<path clip-path=\"url(#clip922)\" d=\"\n",
       "M879.829 1248.03 L895.525 1248.03 L895.525 1213.82 L879.829 1213.82 L879.829 1248.03  Z\n",
       "  \" fill=\"#e26f46\" fill-rule=\"evenodd\" fill-opacity=\"0.5\"/>\n",
       "<polyline clip-path=\"url(#clip922)\" style=\"stroke:#000000; stroke-linecap:butt; stroke-linejoin:round; stroke-width:4; stroke-opacity:0.5; fill:none\" points=\"\n",
       "  879.829,1248.03 895.525,1248.03 895.525,1213.82 879.829,1213.82 879.829,1248.03 \n",
       "  \"/>\n",
       "<path clip-path=\"url(#clip922)\" d=\"\n",
       "M895.525 1216.6 L911.222 1216.6 L911.222 1183.65 L895.525 1183.65 L895.525 1216.6  Z\n",
       "  \" fill=\"#e26f46\" fill-rule=\"evenodd\" fill-opacity=\"0.5\"/>\n",
       "<polyline clip-path=\"url(#clip922)\" style=\"stroke:#000000; stroke-linecap:butt; stroke-linejoin:round; stroke-width:4; stroke-opacity:0.5; fill:none\" points=\"\n",
       "  895.525,1216.6 911.222,1216.6 911.222,1183.65 895.525,1183.65 895.525,1216.6 \n",
       "  \"/>\n",
       "<path clip-path=\"url(#clip922)\" d=\"\n",
       "M911.222 1184.81 L926.918 1184.81 L926.918 1153.1 L911.222 1153.1 L911.222 1184.81  Z\n",
       "  \" fill=\"#e26f46\" fill-rule=\"evenodd\" fill-opacity=\"0.5\"/>\n",
       "<polyline clip-path=\"url(#clip922)\" style=\"stroke:#000000; stroke-linecap:butt; stroke-linejoin:round; stroke-width:4; stroke-opacity:0.5; fill:none\" points=\"\n",
       "  911.222,1184.81 926.918,1184.81 926.918,1153.1 911.222,1153.1 911.222,1184.81 \n",
       "  \"/>\n",
       "<path clip-path=\"url(#clip922)\" d=\"\n",
       "M926.918 1153.1 L942.614 1153.1 L942.614 1122.01 L926.918 1122.01 L926.918 1153.1  Z\n",
       "  \" fill=\"#e26f46\" fill-rule=\"evenodd\" fill-opacity=\"0.5\"/>\n",
       "<polyline clip-path=\"url(#clip922)\" style=\"stroke:#000000; stroke-linecap:butt; stroke-linejoin:round; stroke-width:4; stroke-opacity:0.5; fill:none\" points=\"\n",
       "  926.918,1153.1 942.614,1153.1 942.614,1122.01 926.918,1122.01 926.918,1153.1 \n",
       "  \"/>\n",
       "<path clip-path=\"url(#clip922)\" d=\"\n",
       "M942.614 1122.01 L958.31 1122.01 L958.31 1091.13 L942.614 1091.13 L942.614 1122.01  Z\n",
       "  \" fill=\"#e26f46\" fill-rule=\"evenodd\" fill-opacity=\"0.5\"/>\n",
       "<polyline clip-path=\"url(#clip922)\" style=\"stroke:#000000; stroke-linecap:butt; stroke-linejoin:round; stroke-width:4; stroke-opacity:0.5; fill:none\" points=\"\n",
       "  942.614,1122.01 958.31,1122.01 958.31,1091.13 942.614,1091.13 942.614,1122.01 \n",
       "  \"/>\n",
       "<path clip-path=\"url(#clip922)\" d=\"\n",
       "M958.31 1091.13 L974.006 1091.13 L974.006 1060.58 L958.31 1060.58 L958.31 1091.13  Z\n",
       "  \" fill=\"#e26f46\" fill-rule=\"evenodd\" fill-opacity=\"0.5\"/>\n",
       "<polyline clip-path=\"url(#clip922)\" style=\"stroke:#000000; stroke-linecap:butt; stroke-linejoin:round; stroke-width:4; stroke-opacity:0.5; fill:none\" points=\"\n",
       "  958.31,1091.13 974.006,1091.13 974.006,1060.58 958.31,1060.58 958.31,1091.13 \n",
       "  \"/>\n",
       "<path clip-path=\"url(#clip922)\" d=\"\n",
       "M974.006 1060.58 L989.702 1060.58 L989.702 1030.47 L974.006 1030.47 L974.006 1060.58  Z\n",
       "  \" fill=\"#e26f46\" fill-rule=\"evenodd\" fill-opacity=\"0.5\"/>\n",
       "<polyline clip-path=\"url(#clip922)\" style=\"stroke:#000000; stroke-linecap:butt; stroke-linejoin:round; stroke-width:4; stroke-opacity:0.5; fill:none\" points=\"\n",
       "  974.006,1060.58 989.702,1060.58 989.702,1030.47 974.006,1030.47 974.006,1060.58 \n",
       "  \"/>\n",
       "<path clip-path=\"url(#clip922)\" d=\"\n",
       "M989.702 1030.47 L1005.4 1030.47 L1005.4 1000.88 L989.702 1000.88 L989.702 1030.47  Z\n",
       "  \" fill=\"#e26f46\" fill-rule=\"evenodd\" fill-opacity=\"0.5\"/>\n",
       "<polyline clip-path=\"url(#clip922)\" style=\"stroke:#000000; stroke-linecap:butt; stroke-linejoin:round; stroke-width:4; stroke-opacity:0.5; fill:none\" points=\"\n",
       "  989.702,1030.47 1005.4,1030.47 1005.4,1000.88 989.702,1000.88 989.702,1030.47 \n",
       "  \"/>\n",
       "<path clip-path=\"url(#clip922)\" d=\"\n",
       "M1005.4 1000.88 L1021.09 1000.88 L1021.09 971.868 L1005.4 971.868 L1005.4 1000.88  Z\n",
       "  \" fill=\"#e26f46\" fill-rule=\"evenodd\" fill-opacity=\"0.5\"/>\n",
       "<polyline clip-path=\"url(#clip922)\" style=\"stroke:#000000; stroke-linecap:butt; stroke-linejoin:round; stroke-width:4; stroke-opacity:0.5; fill:none\" points=\"\n",
       "  1005.4,1000.88 1021.09,1000.88 1021.09,971.868 1005.4,971.868 1005.4,1000.88 \n",
       "  \"/>\n",
       "<path clip-path=\"url(#clip922)\" d=\"\n",
       "M1021.09 971.868 L1036.79 971.868 L1036.79 943.495 L1021.09 943.495 L1021.09 971.868  Z\n",
       "  \" fill=\"#e26f46\" fill-rule=\"evenodd\" fill-opacity=\"0.5\"/>\n",
       "<polyline clip-path=\"url(#clip922)\" style=\"stroke:#000000; stroke-linecap:butt; stroke-linejoin:round; stroke-width:4; stroke-opacity:0.5; fill:none\" points=\"\n",
       "  1021.09,971.868 1036.79,971.868 1036.79,943.495 1021.09,943.495 1021.09,971.868 \n",
       "  \"/>\n",
       "<path clip-path=\"url(#clip922)\" d=\"\n",
       "M1036.79 943.495 L1052.49 943.495 L1052.49 915.793 L1036.79 915.793 L1036.79 943.495  Z\n",
       "  \" fill=\"#e26f46\" fill-rule=\"evenodd\" fill-opacity=\"0.5\"/>\n",
       "<polyline clip-path=\"url(#clip922)\" style=\"stroke:#000000; stroke-linecap:butt; stroke-linejoin:round; stroke-width:4; stroke-opacity:0.5; fill:none\" points=\"\n",
       "  1036.79,943.495 1052.49,943.495 1052.49,915.793 1036.79,915.793 1036.79,943.495 \n",
       "  \"/>\n",
       "<path clip-path=\"url(#clip922)\" d=\"\n",
       "M1052.49 915.793 L1068.18 915.793 L1068.18 888.787 L1052.49 888.787 L1052.49 915.793  Z\n",
       "  \" fill=\"#e26f46\" fill-rule=\"evenodd\" fill-opacity=\"0.5\"/>\n",
       "<polyline clip-path=\"url(#clip922)\" style=\"stroke:#000000; stroke-linecap:butt; stroke-linejoin:round; stroke-width:4; stroke-opacity:0.5; fill:none\" points=\"\n",
       "  1052.49,915.793 1068.18,915.793 1068.18,888.787 1052.49,888.787 1052.49,915.793 \n",
       "  \"/>\n",
       "<path clip-path=\"url(#clip922)\" d=\"\n",
       "M1068.18 888.787 L1083.88 888.787 L1083.88 862.494 L1068.18 862.494 L1068.18 888.787  Z\n",
       "  \" fill=\"#e26f46\" fill-rule=\"evenodd\" fill-opacity=\"0.5\"/>\n",
       "<polyline clip-path=\"url(#clip922)\" style=\"stroke:#000000; stroke-linecap:butt; stroke-linejoin:round; stroke-width:4; stroke-opacity:0.5; fill:none\" points=\"\n",
       "  1068.18,888.787 1083.88,888.787 1083.88,862.494 1068.18,862.494 1068.18,888.787 \n",
       "  \"/>\n",
       "<path clip-path=\"url(#clip922)\" d=\"\n",
       "M1083.88 862.494 L1099.58 862.494 L1099.58 836.924 L1083.88 836.924 L1083.88 862.494  Z\n",
       "  \" fill=\"#e26f46\" fill-rule=\"evenodd\" fill-opacity=\"0.5\"/>\n",
       "<polyline clip-path=\"url(#clip922)\" style=\"stroke:#000000; stroke-linecap:butt; stroke-linejoin:round; stroke-width:4; stroke-opacity:0.5; fill:none\" points=\"\n",
       "  1083.88,862.494 1099.58,862.494 1099.58,836.924 1083.88,836.924 1083.88,862.494 \n",
       "  \"/>\n",
       "<path clip-path=\"url(#clip922)\" d=\"\n",
       "M1099.58 836.924 L1115.27 836.924 L1115.27 812.08 L1099.58 812.08 L1099.58 836.924  Z\n",
       "  \" fill=\"#e26f46\" fill-rule=\"evenodd\" fill-opacity=\"0.5\"/>\n",
       "<polyline clip-path=\"url(#clip922)\" style=\"stroke:#000000; stroke-linecap:butt; stroke-linejoin:round; stroke-width:4; stroke-opacity:0.5; fill:none\" points=\"\n",
       "  1099.58,836.924 1115.27,836.924 1115.27,812.08 1099.58,812.08 1099.58,836.924 \n",
       "  \"/>\n",
       "<path clip-path=\"url(#clip922)\" d=\"\n",
       "M1115.27 812.08 L1130.97 812.08 L1130.97 787.96 L1115.27 787.96 L1115.27 812.08  Z\n",
       "  \" fill=\"#e26f46\" fill-rule=\"evenodd\" fill-opacity=\"0.5\"/>\n",
       "<polyline clip-path=\"url(#clip922)\" style=\"stroke:#000000; stroke-linecap:butt; stroke-linejoin:round; stroke-width:4; stroke-opacity:0.5; fill:none\" points=\"\n",
       "  1115.27,812.08 1130.97,812.08 1130.97,787.96 1115.27,787.96 1115.27,812.08 \n",
       "  \"/>\n",
       "<path clip-path=\"url(#clip922)\" d=\"\n",
       "M1130.97 787.96 L1146.66 787.96 L1146.66 764.559 L1130.97 764.559 L1130.97 787.96  Z\n",
       "  \" fill=\"#e26f46\" fill-rule=\"evenodd\" fill-opacity=\"0.5\"/>\n",
       "<polyline clip-path=\"url(#clip922)\" style=\"stroke:#000000; stroke-linecap:butt; stroke-linejoin:round; stroke-width:4; stroke-opacity:0.5; fill:none\" points=\"\n",
       "  1130.97,787.96 1146.66,787.96 1146.66,764.559 1130.97,764.559 1130.97,787.96 \n",
       "  \"/>\n",
       "<path clip-path=\"url(#clip922)\" d=\"\n",
       "M1146.66 764.559 L1162.36 764.559 L1162.36 741.868 L1146.66 741.868 L1146.66 764.559  Z\n",
       "  \" fill=\"#e26f46\" fill-rule=\"evenodd\" fill-opacity=\"0.5\"/>\n",
       "<polyline clip-path=\"url(#clip922)\" style=\"stroke:#000000; stroke-linecap:butt; stroke-linejoin:round; stroke-width:4; stroke-opacity:0.5; fill:none\" points=\"\n",
       "  1146.66,764.559 1162.36,764.559 1162.36,741.868 1146.66,741.868 1146.66,764.559 \n",
       "  \"/>\n",
       "<path clip-path=\"url(#clip922)\" d=\"\n",
       "M1162.36 741.868 L1178.06 741.868 L1178.06 719.875 L1162.36 719.875 L1162.36 741.868  Z\n",
       "  \" fill=\"#e26f46\" fill-rule=\"evenodd\" fill-opacity=\"0.5\"/>\n",
       "<polyline clip-path=\"url(#clip922)\" style=\"stroke:#000000; stroke-linecap:butt; stroke-linejoin:round; stroke-width:4; stroke-opacity:0.5; fill:none\" points=\"\n",
       "  1162.36,741.868 1178.06,741.868 1178.06,719.875 1162.36,719.875 1162.36,741.868 \n",
       "  \"/>\n",
       "<path clip-path=\"url(#clip922)\" d=\"\n",
       "M1178.06 719.875 L1193.75 719.875 L1193.75 698.566 L1178.06 698.566 L1178.06 719.875  Z\n",
       "  \" fill=\"#e26f46\" fill-rule=\"evenodd\" fill-opacity=\"0.5\"/>\n",
       "<polyline clip-path=\"url(#clip922)\" style=\"stroke:#000000; stroke-linecap:butt; stroke-linejoin:round; stroke-width:4; stroke-opacity:0.5; fill:none\" points=\"\n",
       "  1178.06,719.875 1193.75,719.875 1193.75,698.566 1178.06,698.566 1178.06,719.875 \n",
       "  \"/>\n",
       "<path clip-path=\"url(#clip922)\" d=\"\n",
       "M1193.75 698.566 L1209.45 698.566 L1209.45 677.927 L1193.75 677.927 L1193.75 698.566  Z\n",
       "  \" fill=\"#e26f46\" fill-rule=\"evenodd\" fill-opacity=\"0.5\"/>\n",
       "<polyline clip-path=\"url(#clip922)\" style=\"stroke:#000000; stroke-linecap:butt; stroke-linejoin:round; stroke-width:4; stroke-opacity:0.5; fill:none\" points=\"\n",
       "  1193.75,698.566 1209.45,698.566 1209.45,677.927 1193.75,677.927 1193.75,698.566 \n",
       "  \"/>\n",
       "<path clip-path=\"url(#clip922)\" d=\"\n",
       "M1209.45 677.927 L1225.14 677.927 L1225.14 657.942 L1209.45 657.942 L1209.45 677.927  Z\n",
       "  \" fill=\"#e26f46\" fill-rule=\"evenodd\" fill-opacity=\"0.5\"/>\n",
       "<polyline clip-path=\"url(#clip922)\" style=\"stroke:#000000; stroke-linecap:butt; stroke-linejoin:round; stroke-width:4; stroke-opacity:0.5; fill:none\" points=\"\n",
       "  1209.45,677.927 1225.14,677.927 1225.14,657.942 1209.45,657.942 1209.45,677.927 \n",
       "  \"/>\n",
       "<path clip-path=\"url(#clip922)\" d=\"\n",
       "M1225.14 657.942 L1240.84 657.942 L1240.84 638.592 L1225.14 638.592 L1225.14 657.942  Z\n",
       "  \" fill=\"#e26f46\" fill-rule=\"evenodd\" fill-opacity=\"0.5\"/>\n",
       "<polyline clip-path=\"url(#clip922)\" style=\"stroke:#000000; stroke-linecap:butt; stroke-linejoin:round; stroke-width:4; stroke-opacity:0.5; fill:none\" points=\"\n",
       "  1225.14,657.942 1240.84,657.942 1240.84,638.592 1225.14,638.592 1225.14,657.942 \n",
       "  \"/>\n",
       "<path clip-path=\"url(#clip922)\" d=\"\n",
       "M1240.84 638.592 L1256.54 638.592 L1256.54 619.86 L1240.84 619.86 L1240.84 638.592  Z\n",
       "  \" fill=\"#e26f46\" fill-rule=\"evenodd\" fill-opacity=\"0.5\"/>\n",
       "<polyline clip-path=\"url(#clip922)\" style=\"stroke:#000000; stroke-linecap:butt; stroke-linejoin:round; stroke-width:4; stroke-opacity:0.5; fill:none\" points=\"\n",
       "  1240.84,638.592 1256.54,638.592 1256.54,619.86 1240.84,619.86 1240.84,638.592 \n",
       "  \"/>\n",
       "<path clip-path=\"url(#clip922)\" d=\"\n",
       "M1256.54 619.86 L1272.23 619.86 L1272.23 601.729 L1256.54 601.729 L1256.54 619.86  Z\n",
       "  \" fill=\"#e26f46\" fill-rule=\"evenodd\" fill-opacity=\"0.5\"/>\n",
       "<polyline clip-path=\"url(#clip922)\" style=\"stroke:#000000; stroke-linecap:butt; stroke-linejoin:round; stroke-width:4; stroke-opacity:0.5; fill:none\" points=\"\n",
       "  1256.54,619.86 1272.23,619.86 1272.23,601.729 1256.54,601.729 1256.54,619.86 \n",
       "  \"/>\n",
       "<path clip-path=\"url(#clip922)\" d=\"\n",
       "M1272.23 601.729 L1287.93 601.729 L1287.93 584.179 L1272.23 584.179 L1272.23 601.729  Z\n",
       "  \" fill=\"#e26f46\" fill-rule=\"evenodd\" fill-opacity=\"0.5\"/>\n",
       "<polyline clip-path=\"url(#clip922)\" style=\"stroke:#000000; stroke-linecap:butt; stroke-linejoin:round; stroke-width:4; stroke-opacity:0.5; fill:none\" points=\"\n",
       "  1272.23,601.729 1287.93,601.729 1287.93,584.179 1272.23,584.179 1272.23,601.729 \n",
       "  \"/>\n",
       "<path clip-path=\"url(#clip922)\" d=\"\n",
       "M1287.93 584.179 L1303.63 584.179 L1303.63 567.193 L1287.93 567.193 L1287.93 584.179  Z\n",
       "  \" fill=\"#e26f46\" fill-rule=\"evenodd\" fill-opacity=\"0.5\"/>\n",
       "<polyline clip-path=\"url(#clip922)\" style=\"stroke:#000000; stroke-linecap:butt; stroke-linejoin:round; stroke-width:4; stroke-opacity:0.5; fill:none\" points=\"\n",
       "  1287.93,584.179 1303.63,584.179 1303.63,567.193 1287.93,567.193 1287.93,584.179 \n",
       "  \"/>\n",
       "<path clip-path=\"url(#clip922)\" d=\"\n",
       "M1303.63 567.193 L1319.32 567.193 L1319.32 550.752 L1303.63 550.752 L1303.63 567.193  Z\n",
       "  \" fill=\"#e26f46\" fill-rule=\"evenodd\" fill-opacity=\"0.5\"/>\n",
       "<polyline clip-path=\"url(#clip922)\" style=\"stroke:#000000; stroke-linecap:butt; stroke-linejoin:round; stroke-width:4; stroke-opacity:0.5; fill:none\" points=\"\n",
       "  1303.63,567.193 1319.32,567.193 1319.32,550.752 1303.63,550.752 1303.63,567.193 \n",
       "  \"/>\n",
       "<path clip-path=\"url(#clip922)\" d=\"\n",
       "M1319.32 550.752 L1335.02 550.752 L1335.02 534.838 L1319.32 534.838 L1319.32 550.752  Z\n",
       "  \" fill=\"#e26f46\" fill-rule=\"evenodd\" fill-opacity=\"0.5\"/>\n",
       "<polyline clip-path=\"url(#clip922)\" style=\"stroke:#000000; stroke-linecap:butt; stroke-linejoin:round; stroke-width:4; stroke-opacity:0.5; fill:none\" points=\"\n",
       "  1319.32,550.752 1335.02,550.752 1335.02,534.838 1319.32,534.838 1319.32,550.752 \n",
       "  \"/>\n",
       "<path clip-path=\"url(#clip922)\" d=\"\n",
       "M1335.02 534.838 L1350.71 534.838 L1350.71 519.433 L1335.02 519.433 L1335.02 534.838  Z\n",
       "  \" fill=\"#e26f46\" fill-rule=\"evenodd\" fill-opacity=\"0.5\"/>\n",
       "<polyline clip-path=\"url(#clip922)\" style=\"stroke:#000000; stroke-linecap:butt; stroke-linejoin:round; stroke-width:4; stroke-opacity:0.5; fill:none\" points=\"\n",
       "  1335.02,534.838 1350.71,534.838 1350.71,519.433 1335.02,519.433 1335.02,534.838 \n",
       "  \"/>\n",
       "<path clip-path=\"url(#clip922)\" d=\"\n",
       "M1350.71 519.433 L1366.41 519.433 L1366.41 504.52 L1350.71 504.52 L1350.71 519.433  Z\n",
       "  \" fill=\"#e26f46\" fill-rule=\"evenodd\" fill-opacity=\"0.5\"/>\n",
       "<polyline clip-path=\"url(#clip922)\" style=\"stroke:#000000; stroke-linecap:butt; stroke-linejoin:round; stroke-width:4; stroke-opacity:0.5; fill:none\" points=\"\n",
       "  1350.71,519.433 1366.41,519.433 1366.41,504.52 1350.71,504.52 1350.71,519.433 \n",
       "  \"/>\n",
       "<path clip-path=\"url(#clip922)\" d=\"\n",
       "M1366.41 504.52 L1382.11 504.52 L1382.11 490.081 L1366.41 490.081 L1366.41 504.52  Z\n",
       "  \" fill=\"#e26f46\" fill-rule=\"evenodd\" fill-opacity=\"0.5\"/>\n",
       "<polyline clip-path=\"url(#clip922)\" style=\"stroke:#000000; stroke-linecap:butt; stroke-linejoin:round; stroke-width:4; stroke-opacity:0.5; fill:none\" points=\"\n",
       "  1366.41,504.52 1382.11,504.52 1382.11,490.081 1366.41,490.081 1366.41,504.52 \n",
       "  \"/>\n",
       "<path clip-path=\"url(#clip922)\" d=\"\n",
       "M1382.11 490.081 L1397.8 490.081 L1397.8 476.101 L1382.11 476.101 L1382.11 490.081  Z\n",
       "  \" fill=\"#e26f46\" fill-rule=\"evenodd\" fill-opacity=\"0.5\"/>\n",
       "<polyline clip-path=\"url(#clip922)\" style=\"stroke:#000000; stroke-linecap:butt; stroke-linejoin:round; stroke-width:4; stroke-opacity:0.5; fill:none\" points=\"\n",
       "  1382.11,490.081 1397.8,490.081 1397.8,476.101 1382.11,476.101 1382.11,490.081 \n",
       "  \"/>\n",
       "<path clip-path=\"url(#clip922)\" d=\"\n",
       "M1397.8 476.101 L1413.5 476.101 L1413.5 462.562 L1397.8 462.562 L1397.8 476.101  Z\n",
       "  \" fill=\"#e26f46\" fill-rule=\"evenodd\" fill-opacity=\"0.5\"/>\n",
       "<polyline clip-path=\"url(#clip922)\" style=\"stroke:#000000; stroke-linecap:butt; stroke-linejoin:round; stroke-width:4; stroke-opacity:0.5; fill:none\" points=\"\n",
       "  1397.8,476.101 1413.5,476.101 1413.5,462.562 1397.8,462.562 1397.8,476.101 \n",
       "  \"/>\n",
       "<path clip-path=\"url(#clip922)\" d=\"\n",
       "M1413.5 462.562 L1429.19 462.562 L1429.19 449.449 L1413.5 449.449 L1413.5 462.562  Z\n",
       "  \" fill=\"#e26f46\" fill-rule=\"evenodd\" fill-opacity=\"0.5\"/>\n",
       "<polyline clip-path=\"url(#clip922)\" style=\"stroke:#000000; stroke-linecap:butt; stroke-linejoin:round; stroke-width:4; stroke-opacity:0.5; fill:none\" points=\"\n",
       "  1413.5,462.562 1429.19,462.562 1429.19,449.449 1413.5,449.449 1413.5,462.562 \n",
       "  \"/>\n",
       "<path clip-path=\"url(#clip922)\" d=\"\n",
       "M1429.19 449.449 L1444.89 449.449 L1444.89 436.746 L1429.19 436.746 L1429.19 449.449  Z\n",
       "  \" fill=\"#e26f46\" fill-rule=\"evenodd\" fill-opacity=\"0.5\"/>\n",
       "<polyline clip-path=\"url(#clip922)\" style=\"stroke:#000000; stroke-linecap:butt; stroke-linejoin:round; stroke-width:4; stroke-opacity:0.5; fill:none\" points=\"\n",
       "  1429.19,449.449 1444.89,449.449 1444.89,436.746 1429.19,436.746 1429.19,449.449 \n",
       "  \"/>\n",
       "<path clip-path=\"url(#clip922)\" d=\"\n",
       "M1444.89 436.746 L1460.59 436.746 L1460.59 424.44 L1444.89 424.44 L1444.89 436.746  Z\n",
       "  \" fill=\"#e26f46\" fill-rule=\"evenodd\" fill-opacity=\"0.5\"/>\n",
       "<polyline clip-path=\"url(#clip922)\" style=\"stroke:#000000; stroke-linecap:butt; stroke-linejoin:round; stroke-width:4; stroke-opacity:0.5; fill:none\" points=\"\n",
       "  1444.89,436.746 1460.59,436.746 1460.59,424.44 1444.89,424.44 1444.89,436.746 \n",
       "  \"/>\n",
       "<path clip-path=\"url(#clip922)\" d=\"\n",
       "M1460.59 424.44 L1476.28 424.44 L1476.28 412.514 L1460.59 412.514 L1460.59 424.44  Z\n",
       "  \" fill=\"#e26f46\" fill-rule=\"evenodd\" fill-opacity=\"0.5\"/>\n",
       "<polyline clip-path=\"url(#clip922)\" style=\"stroke:#000000; stroke-linecap:butt; stroke-linejoin:round; stroke-width:4; stroke-opacity:0.5; fill:none\" points=\"\n",
       "  1460.59,424.44 1476.28,424.44 1476.28,412.514 1460.59,412.514 1460.59,424.44 \n",
       "  \"/>\n",
       "<path clip-path=\"url(#clip922)\" d=\"\n",
       "M1476.28 412.514 L1491.98 412.514 L1491.98 400.957 L1476.28 400.957 L1476.28 412.514  Z\n",
       "  \" fill=\"#e26f46\" fill-rule=\"evenodd\" fill-opacity=\"0.5\"/>\n",
       "<polyline clip-path=\"url(#clip922)\" style=\"stroke:#000000; stroke-linecap:butt; stroke-linejoin:round; stroke-width:4; stroke-opacity:0.5; fill:none\" points=\"\n",
       "  1476.28,412.514 1491.98,412.514 1491.98,400.957 1476.28,400.957 1476.28,412.514 \n",
       "  \"/>\n",
       "<path clip-path=\"url(#clip922)\" d=\"\n",
       "M1491.98 400.957 L1507.68 400.957 L1507.68 389.754 L1491.98 389.754 L1491.98 400.957  Z\n",
       "  \" fill=\"#e26f46\" fill-rule=\"evenodd\" fill-opacity=\"0.5\"/>\n",
       "<polyline clip-path=\"url(#clip922)\" style=\"stroke:#000000; stroke-linecap:butt; stroke-linejoin:round; stroke-width:4; stroke-opacity:0.5; fill:none\" points=\"\n",
       "  1491.98,400.957 1507.68,400.957 1507.68,389.754 1491.98,389.754 1491.98,400.957 \n",
       "  \"/>\n",
       "<path clip-path=\"url(#clip922)\" d=\"\n",
       "M1507.68 389.754 L1523.37 389.754 L1523.37 378.892 L1507.68 378.892 L1507.68 389.754  Z\n",
       "  \" fill=\"#e26f46\" fill-rule=\"evenodd\" fill-opacity=\"0.5\"/>\n",
       "<polyline clip-path=\"url(#clip922)\" style=\"stroke:#000000; stroke-linecap:butt; stroke-linejoin:round; stroke-width:4; stroke-opacity:0.5; fill:none\" points=\"\n",
       "  1507.68,389.754 1523.37,389.754 1523.37,378.892 1507.68,378.892 1507.68,389.754 \n",
       "  \"/>\n",
       "<path clip-path=\"url(#clip922)\" d=\"\n",
       "M1523.37 378.892 L1539.07 378.892 L1539.07 368.359 L1523.37 368.359 L1523.37 378.892  Z\n",
       "  \" fill=\"#e26f46\" fill-rule=\"evenodd\" fill-opacity=\"0.5\"/>\n",
       "<polyline clip-path=\"url(#clip922)\" style=\"stroke:#000000; stroke-linecap:butt; stroke-linejoin:round; stroke-width:4; stroke-opacity:0.5; fill:none\" points=\"\n",
       "  1523.37,378.892 1539.07,378.892 1539.07,368.359 1523.37,368.359 1523.37,378.892 \n",
       "  \"/>\n",
       "<path clip-path=\"url(#clip922)\" d=\"\n",
       "M1539.07 368.359 L1554.76 368.359 L1554.76 358.144 L1539.07 358.144 L1539.07 368.359  Z\n",
       "  \" fill=\"#e26f46\" fill-rule=\"evenodd\" fill-opacity=\"0.5\"/>\n",
       "<polyline clip-path=\"url(#clip922)\" style=\"stroke:#000000; stroke-linecap:butt; stroke-linejoin:round; stroke-width:4; stroke-opacity:0.5; fill:none\" points=\"\n",
       "  1539.07,368.359 1554.76,368.359 1554.76,358.144 1539.07,358.144 1539.07,368.359 \n",
       "  \"/>\n",
       "<path clip-path=\"url(#clip922)\" d=\"\n",
       "M1554.76 358.147 L1570.46 358.147 L1570.46 348.195 L1554.76 348.195 L1554.76 358.147  Z\n",
       "  \" fill=\"#e26f46\" fill-rule=\"evenodd\" fill-opacity=\"0.5\"/>\n",
       "<polyline clip-path=\"url(#clip922)\" style=\"stroke:#000000; stroke-linecap:butt; stroke-linejoin:round; stroke-width:4; stroke-opacity:0.5; fill:none\" points=\"\n",
       "  1554.76,358.147 1570.46,358.147 1570.46,348.195 1554.76,348.195 1554.76,358.147 \n",
       "  \"/>\n",
       "<path clip-path=\"url(#clip922)\" d=\"\n",
       "M1570.46 348.528 L1586.16 348.528 L1586.16 338.321 L1570.46 338.321 L1570.46 348.528  Z\n",
       "  \" fill=\"#e26f46\" fill-rule=\"evenodd\" fill-opacity=\"0.5\"/>\n",
       "<polyline clip-path=\"url(#clip922)\" style=\"stroke:#000000; stroke-linecap:butt; stroke-linejoin:round; stroke-width:4; stroke-opacity:0.5; fill:none\" points=\"\n",
       "  1570.46,348.528 1586.16,348.528 1586.16,338.321 1570.46,338.321 1570.46,348.528 \n",
       "  \"/>\n",
       "<path clip-path=\"url(#clip922)\" d=\"\n",
       "M1586.16 339.189 L1601.85 339.189 L1601.85 328.709 L1586.16 328.709 L1586.16 339.189  Z\n",
       "  \" fill=\"#e26f46\" fill-rule=\"evenodd\" fill-opacity=\"0.5\"/>\n",
       "<polyline clip-path=\"url(#clip922)\" style=\"stroke:#000000; stroke-linecap:butt; stroke-linejoin:round; stroke-width:4; stroke-opacity:0.5; fill:none\" points=\"\n",
       "  1586.16,339.189 1601.85,339.189 1601.85,328.709 1586.16,328.709 1586.16,339.189 \n",
       "  \"/>\n",
       "<path clip-path=\"url(#clip922)\" d=\"\n",
       "M1601.85 330.122 L1617.55 330.122 L1617.55 319.385 L1601.85 319.385 L1601.85 330.122  Z\n",
       "  \" fill=\"#e26f46\" fill-rule=\"evenodd\" fill-opacity=\"0.5\"/>\n",
       "<polyline clip-path=\"url(#clip922)\" style=\"stroke:#000000; stroke-linecap:butt; stroke-linejoin:round; stroke-width:4; stroke-opacity:0.5; fill:none\" points=\"\n",
       "  1601.85,330.122 1617.55,330.122 1617.55,319.385 1601.85,319.385 1601.85,330.122 \n",
       "  \"/>\n",
       "<path clip-path=\"url(#clip922)\" d=\"\n",
       "M1617.55 321.315 L1633.24 321.315 L1633.24 310.337 L1617.55 310.337 L1617.55 321.315  Z\n",
       "  \" fill=\"#e26f46\" fill-rule=\"evenodd\" fill-opacity=\"0.5\"/>\n",
       "<polyline clip-path=\"url(#clip922)\" style=\"stroke:#000000; stroke-linecap:butt; stroke-linejoin:round; stroke-width:4; stroke-opacity:0.5; fill:none\" points=\"\n",
       "  1617.55,321.315 1633.24,321.315 1633.24,310.337 1617.55,310.337 1617.55,321.315 \n",
       "  \"/>\n",
       "<path clip-path=\"url(#clip922)\" d=\"\n",
       "M1633.24 312.761 L1648.94 312.761 L1648.94 301.556 L1633.24 301.556 L1633.24 312.761  Z\n",
       "  \" fill=\"#e26f46\" fill-rule=\"evenodd\" fill-opacity=\"0.5\"/>\n",
       "<polyline clip-path=\"url(#clip922)\" style=\"stroke:#000000; stroke-linecap:butt; stroke-linejoin:round; stroke-width:4; stroke-opacity:0.5; fill:none\" points=\"\n",
       "  1633.24,312.761 1648.94,312.761 1648.94,301.556 1633.24,301.556 1633.24,312.761 \n",
       "  \"/>\n",
       "<path clip-path=\"url(#clip922)\" d=\"\n",
       "M1648.94 304.449 L1664.64 304.449 L1664.64 293.032 L1648.94 293.032 L1648.94 304.449  Z\n",
       "  \" fill=\"#e26f46\" fill-rule=\"evenodd\" fill-opacity=\"0.5\"/>\n",
       "<polyline clip-path=\"url(#clip922)\" style=\"stroke:#000000; stroke-linecap:butt; stroke-linejoin:round; stroke-width:4; stroke-opacity:0.5; fill:none\" points=\"\n",
       "  1648.94,304.449 1664.64,304.449 1664.64,293.032 1648.94,293.032 1648.94,304.449 \n",
       "  \"/>\n",
       "<path clip-path=\"url(#clip922)\" d=\"\n",
       "M1664.64 296.372 L1680.33 296.372 L1680.33 284.757 L1664.64 284.757 L1664.64 296.372  Z\n",
       "  \" fill=\"#e26f46\" fill-rule=\"evenodd\" fill-opacity=\"0.5\"/>\n",
       "<polyline clip-path=\"url(#clip922)\" style=\"stroke:#000000; stroke-linecap:butt; stroke-linejoin:round; stroke-width:4; stroke-opacity:0.5; fill:none\" points=\"\n",
       "  1664.64,296.372 1680.33,296.372 1680.33,284.757 1664.64,284.757 1664.64,296.372 \n",
       "  \"/>\n",
       "<path clip-path=\"url(#clip922)\" d=\"\n",
       "M1680.33 288.522 L1696.03 288.522 L1696.03 276.72 L1680.33 276.72 L1680.33 288.522  Z\n",
       "  \" fill=\"#e26f46\" fill-rule=\"evenodd\" fill-opacity=\"0.5\"/>\n",
       "<polyline clip-path=\"url(#clip922)\" style=\"stroke:#000000; stroke-linecap:butt; stroke-linejoin:round; stroke-width:4; stroke-opacity:0.5; fill:none\" points=\"\n",
       "  1680.33,288.522 1696.03,288.522 1696.03,276.72 1680.33,276.72 1680.33,288.522 \n",
       "  \"/>\n",
       "<path clip-path=\"url(#clip922)\" d=\"\n",
       "M1696.03 280.889 L1711.73 280.889 L1711.73 268.914 L1696.03 268.914 L1696.03 280.889  Z\n",
       "  \" fill=\"#e26f46\" fill-rule=\"evenodd\" fill-opacity=\"0.5\"/>\n",
       "<polyline clip-path=\"url(#clip922)\" style=\"stroke:#000000; stroke-linecap:butt; stroke-linejoin:round; stroke-width:4; stroke-opacity:0.5; fill:none\" points=\"\n",
       "  1696.03,280.889 1711.73,280.889 1711.73,268.914 1696.03,268.914 1696.03,280.889 \n",
       "  \"/>\n",
       "<path clip-path=\"url(#clip922)\" d=\"\n",
       "M1711.73 273.468 L1727.42 273.468 L1727.42 261.329 L1711.73 261.329 L1711.73 273.468  Z\n",
       "  \" fill=\"#e26f46\" fill-rule=\"evenodd\" fill-opacity=\"0.5\"/>\n",
       "<polyline clip-path=\"url(#clip922)\" style=\"stroke:#000000; stroke-linecap:butt; stroke-linejoin:round; stroke-width:4; stroke-opacity:0.5; fill:none\" points=\"\n",
       "  1711.73,273.468 1727.42,273.468 1727.42,261.329 1711.73,261.329 1711.73,273.468 \n",
       "  \"/>\n",
       "<path clip-path=\"url(#clip922)\" d=\"\n",
       "M1727.42 266.25 L1743.12 266.25 L1743.12 253.96 L1727.42 253.96 L1727.42 266.25  Z\n",
       "  \" fill=\"#e26f46\" fill-rule=\"evenodd\" fill-opacity=\"0.5\"/>\n",
       "<polyline clip-path=\"url(#clip922)\" style=\"stroke:#000000; stroke-linecap:butt; stroke-linejoin:round; stroke-width:4; stroke-opacity:0.5; fill:none\" points=\"\n",
       "  1727.42,266.25 1743.12,266.25 1743.12,253.96 1727.42,253.96 1727.42,266.25 \n",
       "  \"/>\n",
       "<path clip-path=\"url(#clip922)\" d=\"\n",
       "M1743.12 259.229 L1758.81 259.229 L1758.81 246.797 L1743.12 246.797 L1743.12 259.229  Z\n",
       "  \" fill=\"#e26f46\" fill-rule=\"evenodd\" fill-opacity=\"0.5\"/>\n",
       "<polyline clip-path=\"url(#clip922)\" style=\"stroke:#000000; stroke-linecap:butt; stroke-linejoin:round; stroke-width:4; stroke-opacity:0.5; fill:none\" points=\"\n",
       "  1743.12,259.229 1758.81,259.229 1758.81,246.797 1743.12,246.797 1743.12,259.229 \n",
       "  \"/>\n",
       "<path clip-path=\"url(#clip922)\" d=\"\n",
       "M1758.81 252.398 L1774.51 252.398 L1774.51 239.834 L1758.81 239.834 L1758.81 252.398  Z\n",
       "  \" fill=\"#e26f46\" fill-rule=\"evenodd\" fill-opacity=\"0.5\"/>\n",
       "<polyline clip-path=\"url(#clip922)\" style=\"stroke:#000000; stroke-linecap:butt; stroke-linejoin:round; stroke-width:4; stroke-opacity:0.5; fill:none\" points=\"\n",
       "  1758.81,252.398 1774.51,252.398 1774.51,239.834 1758.81,239.834 1758.81,252.398 \n",
       "  \"/>\n",
       "<path clip-path=\"url(#clip922)\" d=\"\n",
       "M1774.51 245.75 L1790.21 245.75 L1790.21 233.064 L1774.51 233.064 L1774.51 245.75  Z\n",
       "  \" fill=\"#e26f46\" fill-rule=\"evenodd\" fill-opacity=\"0.5\"/>\n",
       "<polyline clip-path=\"url(#clip922)\" style=\"stroke:#000000; stroke-linecap:butt; stroke-linejoin:round; stroke-width:4; stroke-opacity:0.5; fill:none\" points=\"\n",
       "  1774.51,245.75 1790.21,245.75 1790.21,233.064 1774.51,233.064 1774.51,245.75 \n",
       "  \"/>\n",
       "<path clip-path=\"url(#clip922)\" d=\"\n",
       "M1790.21 239.279 L1805.9 239.279 L1805.9 226.48 L1790.21 226.48 L1790.21 239.279  Z\n",
       "  \" fill=\"#e26f46\" fill-rule=\"evenodd\" fill-opacity=\"0.5\"/>\n",
       "<polyline clip-path=\"url(#clip922)\" style=\"stroke:#000000; stroke-linecap:butt; stroke-linejoin:round; stroke-width:4; stroke-opacity:0.5; fill:none\" points=\"\n",
       "  1790.21,239.279 1805.9,239.279 1805.9,226.48 1790.21,226.48 1790.21,239.279 \n",
       "  \"/>\n",
       "<path clip-path=\"url(#clip922)\" d=\"\n",
       "M1805.9 232.98 L1821.6 232.98 L1821.6 220.075 L1805.9 220.075 L1805.9 232.98  Z\n",
       "  \" fill=\"#e26f46\" fill-rule=\"evenodd\" fill-opacity=\"0.5\"/>\n",
       "<polyline clip-path=\"url(#clip922)\" style=\"stroke:#000000; stroke-linecap:butt; stroke-linejoin:round; stroke-width:4; stroke-opacity:0.5; fill:none\" points=\"\n",
       "  1805.9,232.98 1821.6,232.98 1821.6,220.075 1805.9,220.075 1805.9,232.98 \n",
       "  \"/>\n",
       "<path clip-path=\"url(#clip922)\" d=\"\n",
       "M1821.6 226.846 L1837.29 226.846 L1837.29 213.844 L1821.6 213.844 L1821.6 226.846  Z\n",
       "  \" fill=\"#e26f46\" fill-rule=\"evenodd\" fill-opacity=\"0.5\"/>\n",
       "<polyline clip-path=\"url(#clip922)\" style=\"stroke:#000000; stroke-linecap:butt; stroke-linejoin:round; stroke-width:4; stroke-opacity:0.5; fill:none\" points=\"\n",
       "  1821.6,226.846 1837.29,226.846 1837.29,213.844 1821.6,213.844 1821.6,226.846 \n",
       "  \"/>\n",
       "<path clip-path=\"url(#clip922)\" d=\"\n",
       "M1837.29 220.873 L1852.99 220.873 L1852.99 207.78 L1837.29 207.78 L1837.29 220.873  Z\n",
       "  \" fill=\"#e26f46\" fill-rule=\"evenodd\" fill-opacity=\"0.5\"/>\n",
       "<polyline clip-path=\"url(#clip922)\" style=\"stroke:#000000; stroke-linecap:butt; stroke-linejoin:round; stroke-width:4; stroke-opacity:0.5; fill:none\" points=\"\n",
       "  1837.29,220.873 1852.99,220.873 1852.99,207.78 1837.29,207.78 1837.29,220.873 \n",
       "  \"/>\n",
       "<path clip-path=\"url(#clip922)\" d=\"\n",
       "M1852.99 215.054 L1868.69 215.054 L1868.69 201.879 L1852.99 201.879 L1852.99 215.054  Z\n",
       "  \" fill=\"#e26f46\" fill-rule=\"evenodd\" fill-opacity=\"0.5\"/>\n",
       "<polyline clip-path=\"url(#clip922)\" style=\"stroke:#000000; stroke-linecap:butt; stroke-linejoin:round; stroke-width:4; stroke-opacity:0.5; fill:none\" points=\"\n",
       "  1852.99,215.054 1868.69,215.054 1868.69,201.879 1852.99,201.879 1852.99,215.054 \n",
       "  \"/>\n",
       "<path clip-path=\"url(#clip922)\" d=\"\n",
       "M1868.69 209.385 L1884.38 209.385 L1884.38 196.133 L1868.69 196.133 L1868.69 209.385  Z\n",
       "  \" fill=\"#e26f46\" fill-rule=\"evenodd\" fill-opacity=\"0.5\"/>\n",
       "<polyline clip-path=\"url(#clip922)\" style=\"stroke:#000000; stroke-linecap:butt; stroke-linejoin:round; stroke-width:4; stroke-opacity:0.5; fill:none\" points=\"\n",
       "  1868.69,209.385 1884.38,209.385 1884.38,196.133 1868.69,196.133 1868.69,209.385 \n",
       "  \"/>\n",
       "<path clip-path=\"url(#clip922)\" d=\"\n",
       "M1884.38 203.861 L1900.08 203.861 L1900.08 190.539 L1884.38 190.539 L1884.38 203.861  Z\n",
       "  \" fill=\"#e26f46\" fill-rule=\"evenodd\" fill-opacity=\"0.5\"/>\n",
       "<polyline clip-path=\"url(#clip922)\" style=\"stroke:#000000; stroke-linecap:butt; stroke-linejoin:round; stroke-width:4; stroke-opacity:0.5; fill:none\" points=\"\n",
       "  1884.38,203.861 1900.08,203.861 1900.08,190.539 1884.38,190.539 1884.38,203.861 \n",
       "  \"/>\n",
       "<path clip-path=\"url(#clip922)\" d=\"\n",
       "M1900.08 198.476 L1915.78 198.476 L1915.78 185.092 L1900.08 185.092 L1900.08 198.476  Z\n",
       "  \" fill=\"#e26f46\" fill-rule=\"evenodd\" fill-opacity=\"0.5\"/>\n",
       "<polyline clip-path=\"url(#clip922)\" style=\"stroke:#000000; stroke-linecap:butt; stroke-linejoin:round; stroke-width:4; stroke-opacity:0.5; fill:none\" points=\"\n",
       "  1900.08,198.476 1915.78,198.476 1915.78,185.092 1900.08,185.092 1900.08,198.476 \n",
       "  \"/>\n",
       "<path clip-path=\"url(#clip922)\" d=\"\n",
       "M1915.78 193.228 L1931.47 193.228 L1931.47 179.785 L1915.78 179.785 L1915.78 193.228  Z\n",
       "  \" fill=\"#e26f46\" fill-rule=\"evenodd\" fill-opacity=\"0.5\"/>\n",
       "<polyline clip-path=\"url(#clip922)\" style=\"stroke:#000000; stroke-linecap:butt; stroke-linejoin:round; stroke-width:4; stroke-opacity:0.5; fill:none\" points=\"\n",
       "  1915.78,193.228 1931.47,193.228 1931.47,179.785 1915.78,179.785 1915.78,193.228 \n",
       "  \"/>\n",
       "<path clip-path=\"url(#clip922)\" d=\"\n",
       "M1931.47 188.111 L1947.17 188.111 L1947.17 174.615 L1931.47 174.615 L1931.47 188.111  Z\n",
       "  \" fill=\"#e26f46\" fill-rule=\"evenodd\" fill-opacity=\"0.5\"/>\n",
       "<polyline clip-path=\"url(#clip922)\" style=\"stroke:#000000; stroke-linecap:butt; stroke-linejoin:round; stroke-width:4; stroke-opacity:0.5; fill:none\" points=\"\n",
       "  1931.47,188.111 1947.17,188.111 1947.17,174.615 1931.47,174.615 1931.47,188.111 \n",
       "  \"/>\n",
       "<path clip-path=\"url(#clip922)\" d=\"\n",
       "M1947.17 183.12 L1962.86 183.12 L1962.86 169.578 L1947.17 169.578 L1947.17 183.12  Z\n",
       "  \" fill=\"#e26f46\" fill-rule=\"evenodd\" fill-opacity=\"0.5\"/>\n",
       "<polyline clip-path=\"url(#clip922)\" style=\"stroke:#000000; stroke-linecap:butt; stroke-linejoin:round; stroke-width:4; stroke-opacity:0.5; fill:none\" points=\"\n",
       "  1947.17,183.12 1962.86,183.12 1962.86,169.578 1947.17,169.578 1947.17,183.12 \n",
       "  \"/>\n",
       "<path clip-path=\"url(#clip922)\" d=\"\n",
       "M1962.86 178.253 L1978.56 178.253 L1978.56 164.668 L1962.86 164.668 L1962.86 178.253  Z\n",
       "  \" fill=\"#e26f46\" fill-rule=\"evenodd\" fill-opacity=\"0.5\"/>\n",
       "<polyline clip-path=\"url(#clip922)\" style=\"stroke:#000000; stroke-linecap:butt; stroke-linejoin:round; stroke-width:4; stroke-opacity:0.5; fill:none\" points=\"\n",
       "  1962.86,178.253 1978.56,178.253 1978.56,164.668 1962.86,164.668 1962.86,178.253 \n",
       "  \"/>\n",
       "<path clip-path=\"url(#clip922)\" d=\"\n",
       "M1978.56 173.505 L1994.26 173.505 L1994.26 159.882 L1978.56 159.882 L1978.56 173.505  Z\n",
       "  \" fill=\"#e26f46\" fill-rule=\"evenodd\" fill-opacity=\"0.5\"/>\n",
       "<polyline clip-path=\"url(#clip922)\" style=\"stroke:#000000; stroke-linecap:butt; stroke-linejoin:round; stroke-width:4; stroke-opacity:0.5; fill:none\" points=\"\n",
       "  1978.56,173.505 1994.26,173.505 1994.26,159.882 1978.56,159.882 1978.56,173.505 \n",
       "  \"/>\n",
       "<path clip-path=\"url(#clip922)\" d=\"\n",
       "M1994.26 168.872 L2009.95 168.872 L2009.95 155.216 L1994.26 155.216 L1994.26 168.872  Z\n",
       "  \" fill=\"#e26f46\" fill-rule=\"evenodd\" fill-opacity=\"0.5\"/>\n",
       "<polyline clip-path=\"url(#clip922)\" style=\"stroke:#000000; stroke-linecap:butt; stroke-linejoin:round; stroke-width:4; stroke-opacity:0.5; fill:none\" points=\"\n",
       "  1994.26,168.872 2009.95,168.872 2009.95,155.216 1994.26,155.216 1994.26,168.872 \n",
       "  \"/>\n",
       "<path clip-path=\"url(#clip922)\" d=\"\n",
       "M2009.95 164.351 L2025.65 164.351 L2025.65 150.666 L2009.95 150.666 L2009.95 164.351  Z\n",
       "  \" fill=\"#e26f46\" fill-rule=\"evenodd\" fill-opacity=\"0.5\"/>\n",
       "<polyline clip-path=\"url(#clip922)\" style=\"stroke:#000000; stroke-linecap:butt; stroke-linejoin:round; stroke-width:4; stroke-opacity:0.5; fill:none\" points=\"\n",
       "  2009.95,164.351 2025.65,164.351 2025.65,150.666 2009.95,150.666 2009.95,164.351 \n",
       "  \"/>\n",
       "<path clip-path=\"url(#clip922)\" d=\"\n",
       "M2025.65 159.938 L2041.34 159.938 L2041.34 146.228 L2025.65 146.228 L2025.65 159.938  Z\n",
       "  \" fill=\"#e26f46\" fill-rule=\"evenodd\" fill-opacity=\"0.5\"/>\n",
       "<polyline clip-path=\"url(#clip922)\" style=\"stroke:#000000; stroke-linecap:butt; stroke-linejoin:round; stroke-width:4; stroke-opacity:0.5; fill:none\" points=\"\n",
       "  2025.65,159.938 2041.34,159.938 2041.34,146.228 2025.65,146.228 2025.65,159.938 \n",
       "  \"/>\n",
       "<path clip-path=\"url(#clip922)\" d=\"\n",
       "M2041.34 155.631 L2057.04 155.631 L2057.04 141.9 L2041.34 141.9 L2041.34 155.631  Z\n",
       "  \" fill=\"#e26f46\" fill-rule=\"evenodd\" fill-opacity=\"0.5\"/>\n",
       "<polyline clip-path=\"url(#clip922)\" style=\"stroke:#000000; stroke-linecap:butt; stroke-linejoin:round; stroke-width:4; stroke-opacity:0.5; fill:none\" points=\"\n",
       "  2041.34,155.631 2057.04,155.631 2057.04,141.9 2041.34,141.9 2041.34,155.631 \n",
       "  \"/>\n",
       "<path clip-path=\"url(#clip922)\" d=\"\n",
       "M2057.04 151.425 L2072.74 151.425 L2072.74 137.676 L2057.04 137.676 L2057.04 151.425  Z\n",
       "  \" fill=\"#e26f46\" fill-rule=\"evenodd\" fill-opacity=\"0.5\"/>\n",
       "<polyline clip-path=\"url(#clip922)\" style=\"stroke:#000000; stroke-linecap:butt; stroke-linejoin:round; stroke-width:4; stroke-opacity:0.5; fill:none\" points=\"\n",
       "  2057.04,151.425 2072.74,151.425 2072.74,137.676 2057.04,137.676 2057.04,151.425 \n",
       "  \"/>\n",
       "<path clip-path=\"url(#clip922)\" d=\"\n",
       "M2072.74 147.318 L2088.43 147.318 L2088.43 133.555 L2072.74 133.555 L2072.74 147.318  Z\n",
       "  \" fill=\"#e26f46\" fill-rule=\"evenodd\" fill-opacity=\"0.5\"/>\n",
       "<polyline clip-path=\"url(#clip922)\" style=\"stroke:#000000; stroke-linecap:butt; stroke-linejoin:round; stroke-width:4; stroke-opacity:0.5; fill:none\" points=\"\n",
       "  2072.74,147.318 2088.43,147.318 2088.43,133.555 2072.74,133.555 2072.74,147.318 \n",
       "  \"/>\n",
       "<path clip-path=\"url(#clip922)\" d=\"\n",
       "M2088.43 143.306 L2104.13 143.306 L2104.13 129.532 L2088.43 129.532 L2088.43 143.306  Z\n",
       "  \" fill=\"#e26f46\" fill-rule=\"evenodd\" fill-opacity=\"0.5\"/>\n",
       "<polyline clip-path=\"url(#clip922)\" style=\"stroke:#000000; stroke-linecap:butt; stroke-linejoin:round; stroke-width:4; stroke-opacity:0.5; fill:none\" points=\"\n",
       "  2088.43,143.306 2104.13,143.306 2104.13,129.532 2088.43,129.532 2088.43,143.306 \n",
       "  \"/>\n",
       "<path clip-path=\"url(#clip922)\" d=\"\n",
       "M2104.13 139.387 L2119.83 139.387 L2119.83 125.606 L2104.13 125.606 L2104.13 139.387  Z\n",
       "  \" fill=\"#e26f46\" fill-rule=\"evenodd\" fill-opacity=\"0.5\"/>\n",
       "<polyline clip-path=\"url(#clip922)\" style=\"stroke:#000000; stroke-linecap:butt; stroke-linejoin:round; stroke-width:4; stroke-opacity:0.5; fill:none\" points=\"\n",
       "  2104.13,139.387 2119.83,139.387 2119.83,125.606 2104.13,125.606 2104.13,139.387 \n",
       "  \"/>\n",
       "<path clip-path=\"url(#clip922)\" d=\"\n",
       "M2119.83 135.559 L2135.52 135.559 L2135.52 121.772 L2119.83 121.772 L2119.83 135.559  Z\n",
       "  \" fill=\"#e26f46\" fill-rule=\"evenodd\" fill-opacity=\"0.5\"/>\n",
       "<polyline clip-path=\"url(#clip922)\" style=\"stroke:#000000; stroke-linecap:butt; stroke-linejoin:round; stroke-width:4; stroke-opacity:0.5; fill:none\" points=\"\n",
       "  2119.83,135.559 2135.52,135.559 2135.52,121.772 2119.83,121.772 2119.83,135.559 \n",
       "  \"/>\n",
       "<path clip-path=\"url(#clip922)\" d=\"\n",
       "M2135.52 131.818 L2151.22 131.818 L2151.22 118.029 L2135.52 118.029 L2135.52 131.818  Z\n",
       "  \" fill=\"#e26f46\" fill-rule=\"evenodd\" fill-opacity=\"0.5\"/>\n",
       "<polyline clip-path=\"url(#clip922)\" style=\"stroke:#000000; stroke-linecap:butt; stroke-linejoin:round; stroke-width:4; stroke-opacity:0.5; fill:none\" points=\"\n",
       "  2135.52,131.818 2151.22,131.818 2151.22,118.029 2135.52,118.029 2135.52,131.818 \n",
       "  \"/>\n",
       "<path clip-path=\"url(#clip922)\" d=\"\n",
       "M2151.22 128.161 L2166.91 128.161 L2166.91 114.373 L2151.22 114.373 L2151.22 128.161  Z\n",
       "  \" fill=\"#e26f46\" fill-rule=\"evenodd\" fill-opacity=\"0.5\"/>\n",
       "<polyline clip-path=\"url(#clip922)\" style=\"stroke:#000000; stroke-linecap:butt; stroke-linejoin:round; stroke-width:4; stroke-opacity:0.5; fill:none\" points=\"\n",
       "  2151.22,128.161 2166.91,128.161 2166.91,114.373 2151.22,114.373 2151.22,128.161 \n",
       "  \"/>\n",
       "<path clip-path=\"url(#clip922)\" d=\"\n",
       "M2166.91 124.587 L2182.61 124.587 L2182.61 110.801 L2166.91 110.801 L2166.91 124.587  Z\n",
       "  \" fill=\"#e26f46\" fill-rule=\"evenodd\" fill-opacity=\"0.5\"/>\n",
       "<polyline clip-path=\"url(#clip922)\" style=\"stroke:#000000; stroke-linecap:butt; stroke-linejoin:round; stroke-width:4; stroke-opacity:0.5; fill:none\" points=\"\n",
       "  2166.91,124.587 2182.61,124.587 2182.61,110.801 2166.91,110.801 2166.91,124.587 \n",
       "  \"/>\n",
       "<path clip-path=\"url(#clip922)\" d=\"\n",
       "M2182.61 121.093 L2198.31 121.093 L2198.31 107.312 L2182.61 107.312 L2182.61 121.093  Z\n",
       "  \" fill=\"#e26f46\" fill-rule=\"evenodd\" fill-opacity=\"0.5\"/>\n",
       "<polyline clip-path=\"url(#clip922)\" style=\"stroke:#000000; stroke-linecap:butt; stroke-linejoin:round; stroke-width:4; stroke-opacity:0.5; fill:none\" points=\"\n",
       "  2182.61,121.093 2198.31,121.093 2198.31,107.312 2182.61,107.312 2182.61,121.093 \n",
       "  \"/>\n",
       "<path clip-path=\"url(#clip922)\" d=\"\n",
       "M2198.31 117.677 L2214 117.677 L2214 103.903 L2198.31 103.903 L2198.31 117.677  Z\n",
       "  \" fill=\"#e26f46\" fill-rule=\"evenodd\" fill-opacity=\"0.5\"/>\n",
       "<polyline clip-path=\"url(#clip922)\" style=\"stroke:#000000; stroke-linecap:butt; stroke-linejoin:round; stroke-width:4; stroke-opacity:0.5; fill:none\" points=\"\n",
       "  2198.31,117.677 2214,117.677 2214,103.903 2198.31,103.903 2198.31,117.677 \n",
       "  \"/>\n",
       "<path clip-path=\"url(#clip922)\" d=\"\n",
       "M2214 114.336 L2229.7 114.336 L2229.7 100.572 L2214 100.572 L2214 114.336  Z\n",
       "  \" fill=\"#e26f46\" fill-rule=\"evenodd\" fill-opacity=\"0.5\"/>\n",
       "<polyline clip-path=\"url(#clip922)\" style=\"stroke:#000000; stroke-linecap:butt; stroke-linejoin:round; stroke-width:4; stroke-opacity:0.5; fill:none\" points=\"\n",
       "  2214,114.336 2229.7,114.336 2229.7,100.572 2214,100.572 2214,114.336 \n",
       "  \"/>\n",
       "<path clip-path=\"url(#clip922)\" d=\"\n",
       "M2229.7 111.068 L2245.39 111.068 L2245.39 97.3154 L2229.7 97.3154 L2229.7 111.068  Z\n",
       "  \" fill=\"#e26f46\" fill-rule=\"evenodd\" fill-opacity=\"0.5\"/>\n",
       "<polyline clip-path=\"url(#clip922)\" style=\"stroke:#000000; stroke-linecap:butt; stroke-linejoin:round; stroke-width:4; stroke-opacity:0.5; fill:none\" points=\"\n",
       "  2229.7,111.068 2245.39,111.068 2245.39,97.3154 2229.7,97.3154 2229.7,111.068 \n",
       "  \"/>\n",
       "<path clip-path=\"url(#clip922)\" d=\"\n",
       "M2245.39 107.871 L2261.09 107.871 L2261.09 94.1321 L2245.39 94.1321 L2245.39 107.871  Z\n",
       "  \" fill=\"#e26f46\" fill-rule=\"evenodd\" fill-opacity=\"0.5\"/>\n",
       "<polyline clip-path=\"url(#clip922)\" style=\"stroke:#000000; stroke-linecap:butt; stroke-linejoin:round; stroke-width:4; stroke-opacity:0.5; fill:none\" points=\"\n",
       "  2245.39,107.871 2261.09,107.871 2261.09,94.1321 2245.39,94.1321 2245.39,107.871 \n",
       "  \"/>\n",
       "<path clip-path=\"url(#clip922)\" d=\"\n",
       "M2261.09 104.744 L2276.79 104.744 L2276.79 91.0198 L2261.09 91.0198 L2261.09 104.744  Z\n",
       "  \" fill=\"#e26f46\" fill-rule=\"evenodd\" fill-opacity=\"0.5\"/>\n",
       "<polyline clip-path=\"url(#clip922)\" style=\"stroke:#000000; stroke-linecap:butt; stroke-linejoin:round; stroke-width:4; stroke-opacity:0.5; fill:none\" points=\"\n",
       "  2261.09,104.744 2276.79,104.744 2276.79,91.0198 2261.09,91.0198 2261.09,104.744 \n",
       "  \"/>\n",
       "<path clip-path=\"url(#clip922)\" d=\"\n",
       "M2276.79 101.683 L2292.48 101.683 L2292.48 87.9763 L2276.79 87.9763 L2276.79 101.683  Z\n",
       "  \" fill=\"#e26f46\" fill-rule=\"evenodd\" fill-opacity=\"0.5\"/>\n",
       "<polyline clip-path=\"url(#clip922)\" style=\"stroke:#000000; stroke-linecap:butt; stroke-linejoin:round; stroke-width:4; stroke-opacity:0.5; fill:none\" points=\"\n",
       "  2276.79,101.683 2292.48,101.683 2292.48,87.9763 2276.79,87.9763 2276.79,101.683 \n",
       "  \"/>\n",
       "<path clip-path=\"url(#clip920)\" d=\"\n",
       "M1992.71 250.738 L2281.77 250.738 L2281.77 95.2176 L1992.71 95.2176  Z\n",
       "  \" fill=\"#ffffff\" fill-rule=\"evenodd\" fill-opacity=\"1\"/>\n",
       "<polyline clip-path=\"url(#clip920)\" style=\"stroke:#000000; stroke-linecap:butt; stroke-linejoin:round; stroke-width:4; stroke-opacity:1; fill:none\" points=\"\n",
       "  1992.71,250.738 2281.77,250.738 2281.77,95.2176 1992.71,95.2176 1992.71,250.738 \n",
       "  \"/>\n",
       "<polyline clip-path=\"url(#clip920)\" style=\"stroke:#009af9; stroke-linecap:butt; stroke-linejoin:round; stroke-width:4; stroke-opacity:1; fill:none\" points=\"\n",
       "  2016.37,147.058 2158.35,147.058 \n",
       "  \"/>\n",
       "<path clip-path=\"url(#clip920)\" d=\"M2195.85 166.745 Q2194.05 171.375 2192.34 172.787 Q2190.62 174.199 2187.75 174.199 L2184.35 174.199 L2184.35 170.634 L2186.85 170.634 Q2188.61 170.634 2189.58 169.8 Q2190.55 168.967 2191.73 165.865 L2192.5 163.921 L2182.01 138.412 L2186.53 138.412 L2194.63 158.689 L2202.73 138.412 L2207.24 138.412 L2195.85 166.745 Z\" fill=\"#000000\" fill-rule=\"evenodd\" fill-opacity=\"1\" /><path clip-path=\"url(#clip920)\" d=\"M2214.53 160.402 L2222.17 160.402 L2222.17 134.037 L2213.86 135.703 L2213.86 131.444 L2222.13 129.778 L2226.8 129.778 L2226.8 160.402 L2234.44 160.402 L2234.44 164.338 L2214.53 164.338 L2214.53 160.402 Z\" fill=\"#000000\" fill-rule=\"evenodd\" fill-opacity=\"1\" /><path clip-path=\"url(#clip920)\" d=\"\n",
       "M2016.37 219.634 L2158.35 219.634 L2158.35 178.162 L2016.37 178.162 L2016.37 219.634  Z\n",
       "  \" fill=\"#e26f46\" fill-rule=\"evenodd\" fill-opacity=\"0.5\"/>\n",
       "<polyline clip-path=\"url(#clip920)\" style=\"stroke:#000000; stroke-linecap:butt; stroke-linejoin:round; stroke-width:4; stroke-opacity:1; fill:none\" points=\"\n",
       "  2016.37,219.634 2158.35,219.634 2158.35,178.162 2016.37,178.162 2016.37,219.634 \n",
       "  \"/>\n",
       "<path clip-path=\"url(#clip920)\" d=\"M2195.85 218.585 Q2194.05 223.215 2192.34 224.627 Q2190.62 226.039 2187.75 226.039 L2184.35 226.039 L2184.35 222.474 L2186.85 222.474 Q2188.61 222.474 2189.58 221.64 Q2190.55 220.807 2191.73 217.705 L2192.5 215.761 L2182.01 190.252 L2186.53 190.252 L2194.63 210.529 L2202.73 190.252 L2207.24 190.252 L2195.85 218.585 Z\" fill=\"#000000\" fill-rule=\"evenodd\" fill-opacity=\"1\" /><path clip-path=\"url(#clip920)\" d=\"M2217.75 212.242 L2234.07 212.242 L2234.07 216.178 L2212.13 216.178 L2212.13 212.242 Q2214.79 209.488 2219.37 204.858 Q2223.98 200.205 2225.16 198.863 Q2227.4 196.34 2228.28 194.604 Q2229.19 192.844 2229.19 191.155 Q2229.19 188.4 2227.24 186.664 Q2225.32 184.928 2222.22 184.928 Q2220.02 184.928 2217.57 185.692 Q2215.14 186.455 2212.36 188.006 L2212.36 183.284 Q2215.18 182.15 2217.64 181.571 Q2220.09 180.993 2222.13 180.993 Q2227.5 180.993 2230.69 183.678 Q2233.89 186.363 2233.89 190.854 Q2233.89 192.983 2233.08 194.905 Q2232.29 196.803 2230.18 199.395 Q2229.6 200.067 2226.5 203.284 Q2223.4 206.479 2217.75 212.242 Z\" fill=\"#000000\" fill-rule=\"evenodd\" fill-opacity=\"1\" /></svg>\n"
      ]
     },
     "execution_count": 30,
     "metadata": {},
     "output_type": "execute_result"
    }
   ],
   "source": [
    "plot(f, 0, 1)\n",
    "plot!(IntervalBox.(X2, f.(X2)))"
   ]
  },
  {
   "cell_type": "markdown",
   "metadata": {},
   "source": [
    "The important thing to stress is that the evaluation of a function on a correctly defined interval has the strength of a mathematical theorem, i.e.,"
   ]
  },
  {
   "cell_type": "code",
   "execution_count": 31,
   "metadata": {},
   "outputs": [
    {
     "data": {
      "text/plain": [
       "[0.454648, 0.700001]"
      ]
     },
     "execution_count": 31,
     "metadata": {},
     "output_type": "execute_result"
    }
   ],
   "source": [
    "f(@interval 0.5 0.7)"
   ]
  },
  {
   "cell_type": "markdown",
   "metadata": {},
   "source": [
    "can be read, in other words as, for any $x$ in $[0.5, 0.7]$ we have that $0.454648\\leq f(x)\\leq 0.700001$."
   ]
  },
  {
   "cell_type": "markdown",
   "metadata": {},
   "source": [
    "Please remark that this is a totally different scenario from numerical computations, where usually the statements are something as: if the algorithm is stable we get a result which is near the real result (called forward error bound) or if the algorithm is stable it solves a problem which is near our original problem (called backward error bound)."
   ]
  },
  {
   "cell_type": "markdown",
   "metadata": {},
   "source": [
    "__Exercise__ Evaluate the function $sin(x)$ on the intervals $[0, 0.125]$, $[0, 0.25]$, $[0, 0.5]$, $[0, \\pi]$, $[0, 3\\pi]$.\n",
    "Remember that you can type \\pi+TAB to write the character $\\pi$."
   ]
  },
  {
   "cell_type": "code",
   "execution_count": 32,
   "metadata": {},
   "outputs": [
    {
     "data": {
      "text/plain": [
       "[-1, 1]"
      ]
     },
     "execution_count": 32,
     "metadata": {},
     "output_type": "execute_result"
    }
   ],
   "source": [
    "sin(@interval 0 2*π)"
   ]
  },
  {
   "cell_type": "markdown",
   "metadata": {},
   "source": [
    "## How to use this"
   ]
  },
  {
   "cell_type": "markdown",
   "metadata": {},
   "source": [
    "Due to the range enclosure property we can use this, as an example, to exclude intervals that surely __not contain__ zero. There may be intervals that seem to contain zero due to the overestimates of interval arithmetics, but those we excluded we are sure they do not contain zero."
   ]
  },
  {
   "cell_type": "code",
   "execution_count": 33,
   "metadata": {},
   "outputs": [
    {
     "data": {
      "text/plain": [
       "exclude_not_contain_zero (generic function with 1 method)"
      ]
     },
     "execution_count": 33,
     "metadata": {},
     "output_type": "execute_result"
    }
   ],
   "source": [
    "function exclude_not_contain_zero(f, X)\n",
    "    may_contain_zeros = Interval[]\n",
    "    for x in X\n",
    "        if contains_zero(f(x))\n",
    "            append!(may_contain_zeros, x)\n",
    "        end\n",
    "    end\n",
    "    return may_contain_zeros\n",
    "end"
   ]
  },
  {
   "cell_type": "code",
   "execution_count": 34,
   "metadata": {},
   "outputs": [
    {
     "data": {
      "text/plain": [
       "12-element Vector{Interval}:\n",
       " [0, 0.0078125]\n",
       "    [0.0078125, 0.015625]\n",
       "    [0.015625, 0.0234375]\n",
       "    [0.0234375, 0.03125]\n",
       "    [0.03125, 0.0390625]\n",
       "    [0.0390625, 0.046875]\n",
       "    [0.046875, 0.0546875]\n",
       "    [0.0625, 0.0703125]\n",
       "    [0.078125, 0.0859375]\n",
       "    [0.101562, 0.109375]\n",
       "    [0.15625, 0.164063]\n",
       "    [0.3125, 0.320313]"
      ]
     },
     "execution_count": 34,
     "metadata": {},
     "output_type": "execute_result"
    }
   ],
   "source": [
    "X = [@interval i/N (i+1)/N for i in 0:N-1]\n",
    "Xzeros = exclude_not_contain_zero(f, X)"
   ]
  },
  {
   "cell_type": "code",
   "execution_count": 35,
   "metadata": {},
   "outputs": [
    {
     "data": {
      "image/svg+xml": [
       "<?xml version=\"1.0\" encoding=\"utf-8\"?>\n",
       "<svg xmlns=\"http://www.w3.org/2000/svg\" xmlns:xlink=\"http://www.w3.org/1999/xlink\" width=\"600\" height=\"400\" viewBox=\"0 0 2400 1600\">\n",
       "<defs>\n",
       "  <clipPath id=\"clip960\">\n",
       "    <rect x=\"0\" y=\"0\" width=\"2400\" height=\"1600\"/>\n",
       "  </clipPath>\n",
       "</defs>\n",
       "<path clip-path=\"url(#clip960)\" d=\"\n",
       "M0 1600 L2400 1600 L2400 0 L0 0  Z\n",
       "  \" fill=\"#ffffff\" fill-rule=\"evenodd\" fill-opacity=\"1\"/>\n",
       "<defs>\n",
       "  <clipPath id=\"clip961\">\n",
       "    <rect x=\"480\" y=\"0\" width=\"1681\" height=\"1600\"/>\n",
       "  </clipPath>\n",
       "</defs>\n",
       "<path clip-path=\"url(#clip960)\" d=\"\n",
       "M186.274 1486.45 L2352.76 1486.45 L2352.76 47.2441 L186.274 47.2441  Z\n",
       "  \" fill=\"#ffffff\" fill-rule=\"evenodd\" fill-opacity=\"1\"/>\n",
       "<defs>\n",
       "  <clipPath id=\"clip962\">\n",
       "    <rect x=\"186\" y=\"47\" width=\"2167\" height=\"1440\"/>\n",
       "  </clipPath>\n",
       "</defs>\n",
       "<polyline clip-path=\"url(#clip962)\" style=\"stroke:#000000; stroke-linecap:butt; stroke-linejoin:round; stroke-width:2; stroke-opacity:0.1; fill:none\" points=\"\n",
       "  247.59,1486.45 247.59,47.2441 \n",
       "  \"/>\n",
       "<polyline clip-path=\"url(#clip962)\" style=\"stroke:#000000; stroke-linecap:butt; stroke-linejoin:round; stroke-width:2; stroke-opacity:0.1; fill:none\" points=\"\n",
       "  758.552,1486.45 758.552,47.2441 \n",
       "  \"/>\n",
       "<polyline clip-path=\"url(#clip962)\" style=\"stroke:#000000; stroke-linecap:butt; stroke-linejoin:round; stroke-width:2; stroke-opacity:0.1; fill:none\" points=\"\n",
       "  1269.51,1486.45 1269.51,47.2441 \n",
       "  \"/>\n",
       "<polyline clip-path=\"url(#clip962)\" style=\"stroke:#000000; stroke-linecap:butt; stroke-linejoin:round; stroke-width:2; stroke-opacity:0.1; fill:none\" points=\"\n",
       "  1780.48,1486.45 1780.48,47.2441 \n",
       "  \"/>\n",
       "<polyline clip-path=\"url(#clip962)\" style=\"stroke:#000000; stroke-linecap:butt; stroke-linejoin:round; stroke-width:2; stroke-opacity:0.1; fill:none\" points=\"\n",
       "  2291.44,1486.45 2291.44,47.2441 \n",
       "  \"/>\n",
       "<polyline clip-path=\"url(#clip960)\" style=\"stroke:#000000; stroke-linecap:butt; stroke-linejoin:round; stroke-width:4; stroke-opacity:1; fill:none\" points=\"\n",
       "  186.274,1486.45 2352.76,1486.45 \n",
       "  \"/>\n",
       "<polyline clip-path=\"url(#clip960)\" style=\"stroke:#000000; stroke-linecap:butt; stroke-linejoin:round; stroke-width:4; stroke-opacity:1; fill:none\" points=\"\n",
       "  247.59,1486.45 247.59,1469.18 \n",
       "  \"/>\n",
       "<polyline clip-path=\"url(#clip960)\" style=\"stroke:#000000; stroke-linecap:butt; stroke-linejoin:round; stroke-width:4; stroke-opacity:1; fill:none\" points=\"\n",
       "  758.552,1486.45 758.552,1469.18 \n",
       "  \"/>\n",
       "<polyline clip-path=\"url(#clip960)\" style=\"stroke:#000000; stroke-linecap:butt; stroke-linejoin:round; stroke-width:4; stroke-opacity:1; fill:none\" points=\"\n",
       "  1269.51,1486.45 1269.51,1469.18 \n",
       "  \"/>\n",
       "<polyline clip-path=\"url(#clip960)\" style=\"stroke:#000000; stroke-linecap:butt; stroke-linejoin:round; stroke-width:4; stroke-opacity:1; fill:none\" points=\"\n",
       "  1780.48,1486.45 1780.48,1469.18 \n",
       "  \"/>\n",
       "<polyline clip-path=\"url(#clip960)\" style=\"stroke:#000000; stroke-linecap:butt; stroke-linejoin:round; stroke-width:4; stroke-opacity:1; fill:none\" points=\"\n",
       "  2291.44,1486.45 2291.44,1469.18 \n",
       "  \"/>\n",
       "<path clip-path=\"url(#clip960)\" d=\"M209.893 1515.64 Q206.282 1515.64 204.453 1519.2 Q202.648 1522.75 202.648 1529.87 Q202.648 1536.98 204.453 1540.55 Q206.282 1544.09 209.893 1544.09 Q213.527 1544.09 215.333 1540.55 Q217.161 1536.98 217.161 1529.87 Q217.161 1522.75 215.333 1519.2 Q213.527 1515.64 209.893 1515.64 M209.893 1511.93 Q215.703 1511.93 218.759 1516.54 Q221.837 1521.12 221.837 1529.87 Q221.837 1538.6 218.759 1543.21 Q215.703 1547.79 209.893 1547.79 Q204.083 1547.79 201.004 1543.21 Q197.949 1538.6 197.949 1529.87 Q197.949 1521.12 201.004 1516.54 Q204.083 1511.93 209.893 1511.93 Z\" fill=\"#000000\" fill-rule=\"evenodd\" fill-opacity=\"1\" /><path clip-path=\"url(#clip960)\" d=\"M230.055 1541.24 L234.939 1541.24 L234.939 1547.12 L230.055 1547.12 L230.055 1541.24 Z\" fill=\"#000000\" fill-rule=\"evenodd\" fill-opacity=\"1\" /><path clip-path=\"url(#clip960)\" d=\"M255.124 1515.64 Q251.513 1515.64 249.684 1519.2 Q247.879 1522.75 247.879 1529.87 Q247.879 1536.98 249.684 1540.55 Q251.513 1544.09 255.124 1544.09 Q258.758 1544.09 260.564 1540.55 Q262.393 1536.98 262.393 1529.87 Q262.393 1522.75 260.564 1519.2 Q258.758 1515.64 255.124 1515.64 M255.124 1511.93 Q260.934 1511.93 263.99 1516.54 Q267.069 1521.12 267.069 1529.87 Q267.069 1538.6 263.99 1543.21 Q260.934 1547.79 255.124 1547.79 Q249.314 1547.79 246.235 1543.21 Q243.18 1538.6 243.18 1529.87 Q243.18 1521.12 246.235 1516.54 Q249.314 1511.93 255.124 1511.93 Z\" fill=\"#000000\" fill-rule=\"evenodd\" fill-opacity=\"1\" /><path clip-path=\"url(#clip960)\" d=\"M285.286 1515.64 Q281.675 1515.64 279.846 1519.2 Q278.041 1522.75 278.041 1529.87 Q278.041 1536.98 279.846 1540.55 Q281.675 1544.09 285.286 1544.09 Q288.92 1544.09 290.726 1540.55 Q292.555 1536.98 292.555 1529.87 Q292.555 1522.75 290.726 1519.2 Q288.92 1515.64 285.286 1515.64 M285.286 1511.93 Q291.096 1511.93 294.152 1516.54 Q297.23 1521.12 297.23 1529.87 Q297.23 1538.6 294.152 1543.21 Q291.096 1547.79 285.286 1547.79 Q279.476 1547.79 276.397 1543.21 Q273.342 1538.6 273.342 1529.87 Q273.342 1521.12 276.397 1516.54 Q279.476 1511.93 285.286 1511.93 Z\" fill=\"#000000\" fill-rule=\"evenodd\" fill-opacity=\"1\" /><path clip-path=\"url(#clip960)\" d=\"M721.353 1515.64 Q717.742 1515.64 715.914 1519.2 Q714.108 1522.75 714.108 1529.87 Q714.108 1536.98 715.914 1540.55 Q717.742 1544.09 721.353 1544.09 Q724.988 1544.09 726.793 1540.55 Q728.622 1536.98 728.622 1529.87 Q728.622 1522.75 726.793 1519.2 Q724.988 1515.64 721.353 1515.64 M721.353 1511.93 Q727.164 1511.93 730.219 1516.54 Q733.298 1521.12 733.298 1529.87 Q733.298 1538.6 730.219 1543.21 Q727.164 1547.79 721.353 1547.79 Q715.543 1547.79 712.465 1543.21 Q709.409 1538.6 709.409 1529.87 Q709.409 1521.12 712.465 1516.54 Q715.543 1511.93 721.353 1511.93 Z\" fill=\"#000000\" fill-rule=\"evenodd\" fill-opacity=\"1\" /><path clip-path=\"url(#clip960)\" d=\"M741.515 1541.24 L746.4 1541.24 L746.4 1547.12 L741.515 1547.12 L741.515 1541.24 Z\" fill=\"#000000\" fill-rule=\"evenodd\" fill-opacity=\"1\" /><path clip-path=\"url(#clip960)\" d=\"M760.612 1543.18 L776.932 1543.18 L776.932 1547.12 L754.987 1547.12 L754.987 1543.18 Q757.649 1540.43 762.233 1535.8 Q766.839 1531.15 768.02 1529.81 Q770.265 1527.28 771.145 1525.55 Q772.048 1523.79 772.048 1522.1 Q772.048 1519.34 770.103 1517.61 Q768.182 1515.87 765.08 1515.87 Q762.881 1515.87 760.427 1516.63 Q757.997 1517.4 755.219 1518.95 L755.219 1514.23 Q758.043 1513.09 760.497 1512.51 Q762.95 1511.93 764.987 1511.93 Q770.358 1511.93 773.552 1514.62 Q776.747 1517.31 776.747 1521.8 Q776.747 1523.93 775.936 1525.85 Q775.149 1527.74 773.043 1530.34 Q772.464 1531.01 769.362 1534.23 Q766.261 1537.42 760.612 1543.18 Z\" fill=\"#000000\" fill-rule=\"evenodd\" fill-opacity=\"1\" /><path clip-path=\"url(#clip960)\" d=\"M786.793 1512.56 L805.149 1512.56 L805.149 1516.5 L791.075 1516.5 L791.075 1524.97 Q792.094 1524.62 793.112 1524.46 Q794.131 1524.27 795.149 1524.27 Q800.936 1524.27 804.316 1527.44 Q807.695 1530.62 807.695 1536.03 Q807.695 1541.61 804.223 1544.71 Q800.751 1547.79 794.432 1547.79 Q792.256 1547.79 789.987 1547.42 Q787.742 1547.05 785.335 1546.31 L785.335 1541.61 Q787.418 1542.74 789.64 1543.3 Q791.862 1543.86 794.339 1543.86 Q798.344 1543.86 800.682 1541.75 Q803.02 1539.64 803.02 1536.03 Q803.02 1532.42 800.682 1530.31 Q798.344 1528.21 794.339 1528.21 Q792.464 1528.21 790.589 1528.62 Q788.737 1529.04 786.793 1529.92 L786.793 1512.56 Z\" fill=\"#000000\" fill-rule=\"evenodd\" fill-opacity=\"1\" /><path clip-path=\"url(#clip960)\" d=\"M1231.82 1515.64 Q1228.21 1515.64 1226.38 1519.2 Q1224.57 1522.75 1224.57 1529.87 Q1224.57 1536.98 1226.38 1540.55 Q1228.21 1544.09 1231.82 1544.09 Q1235.45 1544.09 1237.26 1540.55 Q1239.09 1536.98 1239.09 1529.87 Q1239.09 1522.75 1237.26 1519.2 Q1235.45 1515.64 1231.82 1515.64 M1231.82 1511.93 Q1237.63 1511.93 1240.68 1516.54 Q1243.76 1521.12 1243.76 1529.87 Q1243.76 1538.6 1240.68 1543.21 Q1237.63 1547.79 1231.82 1547.79 Q1226.01 1547.79 1222.93 1543.21 Q1219.87 1538.6 1219.87 1529.87 Q1219.87 1521.12 1222.93 1516.54 Q1226.01 1511.93 1231.82 1511.93 Z\" fill=\"#000000\" fill-rule=\"evenodd\" fill-opacity=\"1\" /><path clip-path=\"url(#clip960)\" d=\"M1251.98 1541.24 L1256.86 1541.24 L1256.86 1547.12 L1251.98 1547.12 L1251.98 1541.24 Z\" fill=\"#000000\" fill-rule=\"evenodd\" fill-opacity=\"1\" /><path clip-path=\"url(#clip960)\" d=\"M1267.1 1512.56 L1285.45 1512.56 L1285.45 1516.5 L1271.38 1516.5 L1271.38 1524.97 Q1272.4 1524.62 1273.42 1524.46 Q1274.43 1524.27 1275.45 1524.27 Q1281.24 1524.27 1284.62 1527.44 Q1288 1530.62 1288 1536.03 Q1288 1541.61 1284.53 1544.71 Q1281.05 1547.79 1274.73 1547.79 Q1272.56 1547.79 1270.29 1547.42 Q1268.05 1547.05 1265.64 1546.31 L1265.64 1541.61 Q1267.72 1542.74 1269.94 1543.3 Q1272.17 1543.86 1274.64 1543.86 Q1278.65 1543.86 1280.98 1541.75 Q1283.32 1539.64 1283.32 1536.03 Q1283.32 1532.42 1280.98 1530.31 Q1278.65 1528.21 1274.64 1528.21 Q1272.77 1528.21 1270.89 1528.62 Q1269.04 1529.04 1267.1 1529.92 L1267.1 1512.56 Z\" fill=\"#000000\" fill-rule=\"evenodd\" fill-opacity=\"1\" /><path clip-path=\"url(#clip960)\" d=\"M1307.21 1515.64 Q1303.6 1515.64 1301.77 1519.2 Q1299.97 1522.75 1299.97 1529.87 Q1299.97 1536.98 1301.77 1540.55 Q1303.6 1544.09 1307.21 1544.09 Q1310.85 1544.09 1312.65 1540.55 Q1314.48 1536.98 1314.48 1529.87 Q1314.48 1522.75 1312.65 1519.2 Q1310.85 1515.64 1307.21 1515.64 M1307.21 1511.93 Q1313.02 1511.93 1316.08 1516.54 Q1319.16 1521.12 1319.16 1529.87 Q1319.16 1538.6 1316.08 1543.21 Q1313.02 1547.79 1307.21 1547.79 Q1301.4 1547.79 1298.32 1543.21 Q1295.27 1538.6 1295.27 1529.87 Q1295.27 1521.12 1298.32 1516.54 Q1301.4 1511.93 1307.21 1511.93 Z\" fill=\"#000000\" fill-rule=\"evenodd\" fill-opacity=\"1\" /><path clip-path=\"url(#clip960)\" d=\"M1743.28 1515.64 Q1739.67 1515.64 1737.84 1519.2 Q1736.03 1522.75 1736.03 1529.87 Q1736.03 1536.98 1737.84 1540.55 Q1739.67 1544.09 1743.28 1544.09 Q1746.91 1544.09 1748.72 1540.55 Q1750.55 1536.98 1750.55 1529.87 Q1750.55 1522.75 1748.72 1519.2 Q1746.91 1515.64 1743.28 1515.64 M1743.28 1511.93 Q1749.09 1511.93 1752.14 1516.54 Q1755.22 1521.12 1755.22 1529.87 Q1755.22 1538.6 1752.14 1543.21 Q1749.09 1547.79 1743.28 1547.79 Q1737.47 1547.79 1734.39 1543.21 Q1731.33 1538.6 1731.33 1529.87 Q1731.33 1521.12 1734.39 1516.54 Q1737.47 1511.93 1743.28 1511.93 Z\" fill=\"#000000\" fill-rule=\"evenodd\" fill-opacity=\"1\" /><path clip-path=\"url(#clip960)\" d=\"M1763.44 1541.24 L1768.32 1541.24 L1768.32 1547.12 L1763.44 1547.12 L1763.44 1541.24 Z\" fill=\"#000000\" fill-rule=\"evenodd\" fill-opacity=\"1\" /><path clip-path=\"url(#clip960)\" d=\"M1777.33 1512.56 L1799.55 1512.56 L1799.55 1514.55 L1787.01 1547.12 L1782.12 1547.12 L1793.93 1516.5 L1777.33 1516.5 L1777.33 1512.56 Z\" fill=\"#000000\" fill-rule=\"evenodd\" fill-opacity=\"1\" /><path clip-path=\"url(#clip960)\" d=\"M1808.72 1512.56 L1827.07 1512.56 L1827.07 1516.5 L1813 1516.5 L1813 1524.97 Q1814.02 1524.62 1815.04 1524.46 Q1816.06 1524.27 1817.07 1524.27 Q1822.86 1524.27 1826.24 1527.44 Q1829.62 1530.62 1829.62 1536.03 Q1829.62 1541.61 1826.15 1544.71 Q1822.68 1547.79 1816.36 1547.79 Q1814.18 1547.79 1811.91 1547.42 Q1809.67 1547.05 1807.26 1546.31 L1807.26 1541.61 Q1809.34 1542.74 1811.57 1543.3 Q1813.79 1543.86 1816.26 1543.86 Q1820.27 1543.86 1822.61 1541.75 Q1824.95 1539.64 1824.95 1536.03 Q1824.95 1532.42 1822.61 1530.31 Q1820.27 1528.21 1816.26 1528.21 Q1814.39 1528.21 1812.51 1528.62 Q1810.66 1529.04 1808.72 1529.92 L1808.72 1512.56 Z\" fill=\"#000000\" fill-rule=\"evenodd\" fill-opacity=\"1\" /><path clip-path=\"url(#clip960)\" d=\"M2243.51 1543.18 L2251.15 1543.18 L2251.15 1516.82 L2242.84 1518.49 L2242.84 1514.23 L2251.1 1512.56 L2255.78 1512.56 L2255.78 1543.18 L2263.42 1543.18 L2263.42 1547.12 L2243.51 1547.12 L2243.51 1543.18 Z\" fill=\"#000000\" fill-rule=\"evenodd\" fill-opacity=\"1\" /><path clip-path=\"url(#clip960)\" d=\"M2272.86 1541.24 L2277.75 1541.24 L2277.75 1547.12 L2272.86 1547.12 L2272.86 1541.24 Z\" fill=\"#000000\" fill-rule=\"evenodd\" fill-opacity=\"1\" /><path clip-path=\"url(#clip960)\" d=\"M2297.93 1515.64 Q2294.32 1515.64 2292.49 1519.2 Q2290.69 1522.75 2290.69 1529.87 Q2290.69 1536.98 2292.49 1540.55 Q2294.32 1544.09 2297.93 1544.09 Q2301.57 1544.09 2303.37 1540.55 Q2305.2 1536.98 2305.2 1529.87 Q2305.2 1522.75 2303.37 1519.2 Q2301.57 1515.64 2297.93 1515.64 M2297.93 1511.93 Q2303.74 1511.93 2306.8 1516.54 Q2309.88 1521.12 2309.88 1529.87 Q2309.88 1538.6 2306.8 1543.21 Q2303.74 1547.79 2297.93 1547.79 Q2292.12 1547.79 2289.04 1543.21 Q2285.99 1538.6 2285.99 1529.87 Q2285.99 1521.12 2289.04 1516.54 Q2292.12 1511.93 2297.93 1511.93 Z\" fill=\"#000000\" fill-rule=\"evenodd\" fill-opacity=\"1\" /><path clip-path=\"url(#clip960)\" d=\"M2328.1 1515.64 Q2324.48 1515.64 2322.66 1519.2 Q2320.85 1522.75 2320.85 1529.87 Q2320.85 1536.98 2322.66 1540.55 Q2324.48 1544.09 2328.1 1544.09 Q2331.73 1544.09 2333.54 1540.55 Q2335.36 1536.98 2335.36 1529.87 Q2335.36 1522.75 2333.54 1519.2 Q2331.73 1515.64 2328.1 1515.64 M2328.1 1511.93 Q2333.91 1511.93 2336.96 1516.54 Q2340.04 1521.12 2340.04 1529.87 Q2340.04 1538.6 2336.96 1543.21 Q2333.91 1547.79 2328.1 1547.79 Q2322.29 1547.79 2319.21 1543.21 Q2316.15 1538.6 2316.15 1529.87 Q2316.15 1521.12 2319.21 1516.54 Q2322.29 1511.93 2328.1 1511.93 Z\" fill=\"#000000\" fill-rule=\"evenodd\" fill-opacity=\"1\" /><polyline clip-path=\"url(#clip962)\" style=\"stroke:#000000; stroke-linecap:butt; stroke-linejoin:round; stroke-width:2; stroke-opacity:0.1; fill:none\" points=\"\n",
       "  186.274,1167.42 2352.76,1167.42 \n",
       "  \"/>\n",
       "<polyline clip-path=\"url(#clip962)\" style=\"stroke:#000000; stroke-linecap:butt; stroke-linejoin:round; stroke-width:2; stroke-opacity:0.1; fill:none\" points=\"\n",
       "  186.274,846.719 2352.76,846.719 \n",
       "  \"/>\n",
       "<polyline clip-path=\"url(#clip962)\" style=\"stroke:#000000; stroke-linecap:butt; stroke-linejoin:round; stroke-width:2; stroke-opacity:0.1; fill:none\" points=\"\n",
       "  186.274,526.017 2352.76,526.017 \n",
       "  \"/>\n",
       "<polyline clip-path=\"url(#clip962)\" style=\"stroke:#000000; stroke-linecap:butt; stroke-linejoin:round; stroke-width:2; stroke-opacity:0.1; fill:none\" points=\"\n",
       "  186.274,205.316 2352.76,205.316 \n",
       "  \"/>\n",
       "<polyline clip-path=\"url(#clip960)\" style=\"stroke:#000000; stroke-linecap:butt; stroke-linejoin:round; stroke-width:4; stroke-opacity:1; fill:none\" points=\"\n",
       "  186.274,1486.45 186.274,47.2441 \n",
       "  \"/>\n",
       "<polyline clip-path=\"url(#clip960)\" style=\"stroke:#000000; stroke-linecap:butt; stroke-linejoin:round; stroke-width:4; stroke-opacity:1; fill:none\" points=\"\n",
       "  186.274,1167.42 212.272,1167.42 \n",
       "  \"/>\n",
       "<polyline clip-path=\"url(#clip960)\" style=\"stroke:#000000; stroke-linecap:butt; stroke-linejoin:round; stroke-width:4; stroke-opacity:1; fill:none\" points=\"\n",
       "  186.274,846.719 212.272,846.719 \n",
       "  \"/>\n",
       "<polyline clip-path=\"url(#clip960)\" style=\"stroke:#000000; stroke-linecap:butt; stroke-linejoin:round; stroke-width:4; stroke-opacity:1; fill:none\" points=\"\n",
       "  186.274,526.017 212.272,526.017 \n",
       "  \"/>\n",
       "<polyline clip-path=\"url(#clip960)\" style=\"stroke:#000000; stroke-linecap:butt; stroke-linejoin:round; stroke-width:4; stroke-opacity:1; fill:none\" points=\"\n",
       "  186.274,205.316 212.272,205.316 \n",
       "  \"/>\n",
       "<path clip-path=\"url(#clip960)\" d=\"M62.9365 1153.22 Q59.3254 1153.22 57.4967 1156.78 Q55.6912 1160.33 55.6912 1167.46 Q55.6912 1174.56 57.4967 1178.13 Q59.3254 1181.67 62.9365 1181.67 Q66.5707 1181.67 68.3763 1178.13 Q70.205 1174.56 70.205 1167.46 Q70.205 1160.33 68.3763 1156.78 Q66.5707 1153.22 62.9365 1153.22 M62.9365 1149.52 Q68.7467 1149.52 71.8022 1154.12 Q74.8809 1158.71 74.8809 1167.46 Q74.8809 1176.18 71.8022 1180.79 Q68.7467 1185.37 62.9365 1185.37 Q57.1264 1185.37 54.0477 1180.79 Q50.9921 1176.18 50.9921 1167.46 Q50.9921 1158.71 54.0477 1154.12 Q57.1264 1149.52 62.9365 1149.52 Z\" fill=\"#000000\" fill-rule=\"evenodd\" fill-opacity=\"1\" /><path clip-path=\"url(#clip960)\" d=\"M83.0984 1178.82 L87.9827 1178.82 L87.9827 1184.7 L83.0984 1184.7 L83.0984 1178.82 Z\" fill=\"#000000\" fill-rule=\"evenodd\" fill-opacity=\"1\" /><path clip-path=\"url(#clip960)\" d=\"M108.168 1153.22 Q104.557 1153.22 102.728 1156.78 Q100.922 1160.33 100.922 1167.46 Q100.922 1174.56 102.728 1178.13 Q104.557 1181.67 108.168 1181.67 Q111.802 1181.67 113.608 1178.13 Q115.436 1174.56 115.436 1167.46 Q115.436 1160.33 113.608 1156.78 Q111.802 1153.22 108.168 1153.22 M108.168 1149.52 Q113.978 1149.52 117.033 1154.12 Q120.112 1158.71 120.112 1167.46 Q120.112 1176.18 117.033 1180.79 Q113.978 1185.37 108.168 1185.37 Q102.358 1185.37 99.2789 1180.79 Q96.2234 1176.18 96.2234 1167.46 Q96.2234 1158.71 99.2789 1154.12 Q102.358 1149.52 108.168 1149.52 Z\" fill=\"#000000\" fill-rule=\"evenodd\" fill-opacity=\"1\" /><path clip-path=\"url(#clip960)\" d=\"M138.33 1153.22 Q134.719 1153.22 132.89 1156.78 Q131.084 1160.33 131.084 1167.46 Q131.084 1174.56 132.89 1178.13 Q134.719 1181.67 138.33 1181.67 Q141.964 1181.67 143.769 1178.13 Q145.598 1174.56 145.598 1167.46 Q145.598 1160.33 143.769 1156.78 Q141.964 1153.22 138.33 1153.22 M138.33 1149.52 Q144.14 1149.52 147.195 1154.12 Q150.274 1158.71 150.274 1167.46 Q150.274 1176.18 147.195 1180.79 Q144.14 1185.37 138.33 1185.37 Q132.519 1185.37 129.441 1180.79 Q126.385 1176.18 126.385 1167.46 Q126.385 1158.71 129.441 1154.12 Q132.519 1149.52 138.33 1149.52 Z\" fill=\"#000000\" fill-rule=\"evenodd\" fill-opacity=\"1\" /><path clip-path=\"url(#clip960)\" d=\"M63.9319 832.518 Q60.3208 832.518 58.4921 836.082 Q56.6865 839.624 56.6865 846.754 Q56.6865 853.86 58.4921 857.425 Q60.3208 860.966 63.9319 860.966 Q67.5661 860.966 69.3717 857.425 Q71.2004 853.86 71.2004 846.754 Q71.2004 839.624 69.3717 836.082 Q67.5661 832.518 63.9319 832.518 M63.9319 828.814 Q69.742 828.814 72.7976 833.42 Q75.8763 838.004 75.8763 846.754 Q75.8763 855.48 72.7976 860.087 Q69.742 864.67 63.9319 864.67 Q58.1217 864.67 55.043 860.087 Q51.9875 855.48 51.9875 846.754 Q51.9875 838.004 55.043 833.42 Q58.1217 828.814 63.9319 828.814 Z\" fill=\"#000000\" fill-rule=\"evenodd\" fill-opacity=\"1\" /><path clip-path=\"url(#clip960)\" d=\"M84.0938 858.119 L88.978 858.119 L88.978 863.999 L84.0938 863.999 L84.0938 858.119 Z\" fill=\"#000000\" fill-rule=\"evenodd\" fill-opacity=\"1\" /><path clip-path=\"url(#clip960)\" d=\"M103.191 860.064 L119.51 860.064 L119.51 863.999 L97.566 863.999 L97.566 860.064 Q100.228 857.309 104.811 852.68 Q109.418 848.027 110.598 846.684 Q112.844 844.161 113.723 842.425 Q114.626 840.666 114.626 838.976 Q114.626 836.221 112.682 834.485 Q110.76 832.749 107.658 832.749 Q105.459 832.749 103.006 833.513 Q100.575 834.277 97.7974 835.828 L97.7974 831.106 Q100.621 829.971 103.075 829.393 Q105.529 828.814 107.566 828.814 Q112.936 828.814 116.131 831.499 Q119.325 834.184 119.325 838.675 Q119.325 840.805 118.515 842.726 Q117.728 844.624 115.621 847.217 Q115.043 847.888 111.941 851.105 Q108.839 854.3 103.191 860.064 Z\" fill=\"#000000\" fill-rule=\"evenodd\" fill-opacity=\"1\" /><path clip-path=\"url(#clip960)\" d=\"M129.371 829.439 L147.728 829.439 L147.728 833.374 L133.654 833.374 L133.654 841.846 Q134.672 841.499 135.691 841.337 Q136.709 841.152 137.728 841.152 Q143.515 841.152 146.894 844.323 Q150.274 847.494 150.274 852.911 Q150.274 858.49 146.802 861.591 Q143.33 864.67 137.01 864.67 Q134.834 864.67 132.566 864.3 Q130.32 863.929 127.913 863.189 L127.913 858.49 Q129.996 859.624 132.219 860.179 Q134.441 860.735 136.918 860.735 Q140.922 860.735 143.26 858.629 Q145.598 856.522 145.598 852.911 Q145.598 849.3 143.26 847.193 Q140.922 845.087 136.918 845.087 Q135.043 845.087 133.168 845.504 Q131.316 845.92 129.371 846.8 L129.371 829.439 Z\" fill=\"#000000\" fill-rule=\"evenodd\" fill-opacity=\"1\" /><path clip-path=\"url(#clip960)\" d=\"M62.9365 511.816 Q59.3254 511.816 57.4967 515.381 Q55.6912 518.922 55.6912 526.052 Q55.6912 533.159 57.4967 536.723 Q59.3254 540.265 62.9365 540.265 Q66.5707 540.265 68.3763 536.723 Q70.205 533.159 70.205 526.052 Q70.205 518.922 68.3763 515.381 Q66.5707 511.816 62.9365 511.816 M62.9365 508.112 Q68.7467 508.112 71.8022 512.719 Q74.8809 517.302 74.8809 526.052 Q74.8809 534.779 71.8022 539.385 Q68.7467 543.969 62.9365 543.969 Q57.1264 543.969 54.0477 539.385 Q50.9921 534.779 50.9921 526.052 Q50.9921 517.302 54.0477 512.719 Q57.1264 508.112 62.9365 508.112 Z\" fill=\"#000000\" fill-rule=\"evenodd\" fill-opacity=\"1\" /><path clip-path=\"url(#clip960)\" d=\"M83.0984 537.418 L87.9827 537.418 L87.9827 543.297 L83.0984 543.297 L83.0984 537.418 Z\" fill=\"#000000\" fill-rule=\"evenodd\" fill-opacity=\"1\" /><path clip-path=\"url(#clip960)\" d=\"M98.2141 508.737 L116.57 508.737 L116.57 512.673 L102.496 512.673 L102.496 521.145 Q103.515 520.797 104.534 520.635 Q105.552 520.45 106.571 520.45 Q112.358 520.45 115.737 523.622 Q119.117 526.793 119.117 532.209 Q119.117 537.788 115.645 540.89 Q112.172 543.969 105.853 543.969 Q103.677 543.969 101.409 543.598 Q99.1632 543.228 96.7558 542.487 L96.7558 537.788 Q98.8391 538.922 101.061 539.478 Q103.284 540.033 105.76 540.033 Q109.765 540.033 112.103 537.927 Q114.441 535.821 114.441 532.209 Q114.441 528.598 112.103 526.492 Q109.765 524.385 105.76 524.385 Q103.885 524.385 102.01 524.802 Q100.159 525.219 98.2141 526.098 L98.2141 508.737 Z\" fill=\"#000000\" fill-rule=\"evenodd\" fill-opacity=\"1\" /><path clip-path=\"url(#clip960)\" d=\"M138.33 511.816 Q134.719 511.816 132.89 515.381 Q131.084 518.922 131.084 526.052 Q131.084 533.159 132.89 536.723 Q134.719 540.265 138.33 540.265 Q141.964 540.265 143.769 536.723 Q145.598 533.159 145.598 526.052 Q145.598 518.922 143.769 515.381 Q141.964 511.816 138.33 511.816 M138.33 508.112 Q144.14 508.112 147.195 512.719 Q150.274 517.302 150.274 526.052 Q150.274 534.779 147.195 539.385 Q144.14 543.969 138.33 543.969 Q132.519 543.969 129.441 539.385 Q126.385 534.779 126.385 526.052 Q126.385 517.302 129.441 512.719 Q132.519 508.112 138.33 508.112 Z\" fill=\"#000000\" fill-rule=\"evenodd\" fill-opacity=\"1\" /><path clip-path=\"url(#clip960)\" d=\"M63.9319 191.115 Q60.3208 191.115 58.4921 194.679 Q56.6865 198.221 56.6865 205.351 Q56.6865 212.457 58.4921 216.022 Q60.3208 219.563 63.9319 219.563 Q67.5661 219.563 69.3717 216.022 Q71.2004 212.457 71.2004 205.351 Q71.2004 198.221 69.3717 194.679 Q67.5661 191.115 63.9319 191.115 M63.9319 187.411 Q69.742 187.411 72.7976 192.017 Q75.8763 196.601 75.8763 205.351 Q75.8763 214.077 72.7976 218.684 Q69.742 223.267 63.9319 223.267 Q58.1217 223.267 55.043 218.684 Q51.9875 214.077 51.9875 205.351 Q51.9875 196.601 55.043 192.017 Q58.1217 187.411 63.9319 187.411 Z\" fill=\"#000000\" fill-rule=\"evenodd\" fill-opacity=\"1\" /><path clip-path=\"url(#clip960)\" d=\"M84.0938 216.716 L88.978 216.716 L88.978 222.596 L84.0938 222.596 L84.0938 216.716 Z\" fill=\"#000000\" fill-rule=\"evenodd\" fill-opacity=\"1\" /><path clip-path=\"url(#clip960)\" d=\"M97.9826 188.036 L120.205 188.036 L120.205 190.027 L107.658 222.596 L102.774 222.596 L114.58 191.971 L97.9826 191.971 L97.9826 188.036 Z\" fill=\"#000000\" fill-rule=\"evenodd\" fill-opacity=\"1\" /><path clip-path=\"url(#clip960)\" d=\"M129.371 188.036 L147.728 188.036 L147.728 191.971 L133.654 191.971 L133.654 200.443 Q134.672 200.096 135.691 199.934 Q136.709 199.749 137.728 199.749 Q143.515 199.749 146.894 202.92 Q150.274 206.091 150.274 211.508 Q150.274 217.087 146.802 220.188 Q143.33 223.267 137.01 223.267 Q134.834 223.267 132.566 222.897 Q130.32 222.526 127.913 221.786 L127.913 217.087 Q129.996 218.221 132.219 218.776 Q134.441 219.332 136.918 219.332 Q140.922 219.332 143.26 217.225 Q145.598 215.119 145.598 211.508 Q145.598 207.897 143.26 205.79 Q140.922 203.684 136.918 203.684 Q135.043 203.684 133.168 204.101 Q131.316 204.517 129.371 205.397 L129.371 188.036 Z\" fill=\"#000000\" fill-rule=\"evenodd\" fill-opacity=\"1\" /><polyline clip-path=\"url(#clip962)\" style=\"stroke:#009af9; stroke-linecap:butt; stroke-linejoin:round; stroke-width:4; stroke-opacity:1; fill:none\" points=\"\n",
       "  250.085,1166.33 252.579,1164.52 255.074,1166.22 257.569,1170.92 258.817,1168.62 260.064,1163.85 261.312,1175.69 262.559,1176.74 263.183,1174.95 263.807,1163.79 \n",
       "  263.963,1175.04 264.119,1176.8 264.275,1167.13 264.431,1157.72 264.743,1169.84 265.054,1175.19 265.678,1168.63 266.302,1159.58 266.614,1160.48 266.926,1178.31 \n",
       "  267.082,1178.75 267.238,1171.66 267.393,1161.81 267.549,1155.44 268.991,1154.67 270.433,1153.11 271.875,1158.03 273.317,1180.1 274.759,1170.33 276.201,1154.28 \n",
       "  277.642,1184.29 279.084,1150 280.526,1181.93 281.968,1162.32 283.41,1156.45 284.852,1190.62 286.294,1153.71 287.735,1152.27 289.177,1190.91 290.619,1177.31 \n",
       "  292.061,1141.77 293.503,1152.78 294.945,1189.2 296.387,1193.9 297.828,1162.46 299.27,1136.23 300.712,1144.09 302.154,1175.61 303.596,1200.26 305.038,1198.14 \n",
       "  306.48,1172.9 307.921,1143.59 309.363,1128.84 310.805,1135.96 312.247,1159.58 313.689,1187.13 315.131,1206.2 316.573,1209.7 318.014,1197.46 319.456,1174.83 \n",
       "  320.898,1149.75 322.34,1129.75 323.782,1119.95 325.224,1122.11 326.666,1134.92 328.107,1154.87 329.549,1177.41 330.991,1198.12 332.433,1213.43 333.875,1221.15 \n",
       "  335.317,1220.57 336.759,1212.28 339.642,1179.57 342.526,1140.83 343.968,1124.68 345.41,1112.78 346.852,1106.02 348.293,1104.71 351.177,1117.27 354.061,1144.71 \n",
       "  356.945,1178.32 359.828,1209.47 362.712,1231.68 365.596,1241.42 368.479,1238.1 371.363,1223.41 377.131,1173.08 382.898,1119.27 385.782,1098.52 388.666,1084.26 \n",
       "  391.549,1077.23 394.433,1077.45 397.317,1084.36 400.2,1096.98 403.084,1114.11 405.968,1134.41 411.735,1179.23 417.503,1222.03 423.27,1255.97 429.038,1277.22 \n",
       "  434.805,1284.56 440.572,1278.76 446.34,1261.85 452.107,1236.55 459.039,1199.11 465.971,1158.42 472.903,1118.45 479.835,1082.2 486.767,1051.77 493.699,1028.37 \n",
       "  500.631,1012.54 507.563,1004.26 514.495,1003.12 521.427,1008.47 528.359,1019.49 535.291,1035.29 549.155,1077.63 563.019,1128.79 586.462,1220.43 609.906,1303.61 \n",
       "  621.628,1338.89 633.35,1369.16 645.071,1394.23 656.793,1414.09 669.526,1429.96 682.26,1440.22 694.993,1445.32 707.726,1445.72 733.192,1434.38 758.658,1410 \n",
       "  782.136,1378.89 805.614,1341.77 829.092,1300.48 852.569,1256.49 902.91,1158.07 953.251,1059.89 1011.58,951.819 1069.9,852.573 1121.73,772.516 1173.57,700.025 \n",
       "  1219.02,642.337 1264.47,589.736 1363.58,490.631 1463.28,409.049 1573.51,335.574 1678.39,278.469 1787.45,229.452 1879.25,194.725 1991.32,158.815 2096.68,130.326 \n",
       "  2265.46,92.9749 2291.44,87.9763 \n",
       "  \"/>\n",
       "<path clip-path=\"url(#clip962)\" d=\"\n",
       "M247.59 1177.44 L263.557 1177.44 L263.557 1157.4 L247.59 1157.4 L247.59 1177.44  Z\n",
       "  \" fill=\"#e26f46\" fill-rule=\"evenodd\" fill-opacity=\"0.5\"/>\n",
       "<polyline clip-path=\"url(#clip962)\" style=\"stroke:#000000; stroke-linecap:butt; stroke-linejoin:round; stroke-width:4; stroke-opacity:0.5; fill:none\" points=\"\n",
       "  247.59,1177.44 263.557,1177.44 263.557,1157.4 247.59,1157.4 247.59,1177.44 \n",
       "  \"/>\n",
       "<path clip-path=\"url(#clip962)\" d=\"\n",
       "M263.557 1187.46 L279.525 1187.46 L279.525 1147.38 L263.557 1147.38 L263.557 1187.46  Z\n",
       "  \" fill=\"#e26f46\" fill-rule=\"evenodd\" fill-opacity=\"0.5\"/>\n",
       "<polyline clip-path=\"url(#clip962)\" style=\"stroke:#000000; stroke-linecap:butt; stroke-linejoin:round; stroke-width:4; stroke-opacity:0.5; fill:none\" points=\"\n",
       "  263.557,1187.46 279.525,1187.46 279.525,1147.38 263.557,1147.38 263.557,1187.46 \n",
       "  \"/>\n",
       "<path clip-path=\"url(#clip962)\" d=\"\n",
       "M279.525 1197.49 L295.492 1197.49 L295.492 1137.35 L279.525 1137.35 L279.525 1197.49  Z\n",
       "  \" fill=\"#e26f46\" fill-rule=\"evenodd\" fill-opacity=\"0.5\"/>\n",
       "<polyline clip-path=\"url(#clip962)\" style=\"stroke:#000000; stroke-linecap:butt; stroke-linejoin:round; stroke-width:4; stroke-opacity:0.5; fill:none\" points=\"\n",
       "  279.525,1197.49 295.492,1197.49 295.492,1137.35 279.525,1137.35 279.525,1197.49 \n",
       "  \"/>\n",
       "<path clip-path=\"url(#clip962)\" d=\"\n",
       "M295.492 1207.51 L311.46 1207.51 L311.46 1127.33 L295.492 1127.33 L295.492 1207.51  Z\n",
       "  \" fill=\"#e26f46\" fill-rule=\"evenodd\" fill-opacity=\"0.5\"/>\n",
       "<polyline clip-path=\"url(#clip962)\" style=\"stroke:#000000; stroke-linecap:butt; stroke-linejoin:round; stroke-width:4; stroke-opacity:0.5; fill:none\" points=\"\n",
       "  295.492,1207.51 311.46,1207.51 311.46,1127.33 295.492,1127.33 295.492,1207.51 \n",
       "  \"/>\n",
       "<path clip-path=\"url(#clip962)\" d=\"\n",
       "M311.46 1217.53 L327.427 1217.53 L327.427 1117.31 L311.46 1117.31 L311.46 1217.53  Z\n",
       "  \" fill=\"#e26f46\" fill-rule=\"evenodd\" fill-opacity=\"0.5\"/>\n",
       "<polyline clip-path=\"url(#clip962)\" style=\"stroke:#000000; stroke-linecap:butt; stroke-linejoin:round; stroke-width:4; stroke-opacity:0.5; fill:none\" points=\"\n",
       "  311.46,1217.53 327.427,1217.53 327.427,1117.31 311.46,1117.31 311.46,1217.53 \n",
       "  \"/>\n",
       "<path clip-path=\"url(#clip962)\" d=\"\n",
       "M327.427 1227.55 L343.395 1227.55 L343.395 1130.66 L327.427 1130.66 L327.427 1227.55  Z\n",
       "  \" fill=\"#e26f46\" fill-rule=\"evenodd\" fill-opacity=\"0.5\"/>\n",
       "<polyline clip-path=\"url(#clip962)\" style=\"stroke:#000000; stroke-linecap:butt; stroke-linejoin:round; stroke-width:4; stroke-opacity:0.5; fill:none\" points=\"\n",
       "  327.427,1227.55 343.395,1227.55 343.395,1130.66 327.427,1130.66 327.427,1227.55 \n",
       "  \"/>\n",
       "<path clip-path=\"url(#clip962)\" d=\"\n",
       "M343.395 1204.91 L359.363 1204.91 L359.363 1097.27 L343.395 1097.27 L343.395 1204.91  Z\n",
       "  \" fill=\"#e26f46\" fill-rule=\"evenodd\" fill-opacity=\"0.5\"/>\n",
       "<polyline clip-path=\"url(#clip962)\" style=\"stroke:#000000; stroke-linecap:butt; stroke-linejoin:round; stroke-width:4; stroke-opacity:0.5; fill:none\" points=\"\n",
       "  343.395,1204.91 359.363,1204.91 359.363,1097.27 343.395,1097.27 343.395,1204.91 \n",
       "  \"/>\n",
       "<path clip-path=\"url(#clip962)\" d=\"\n",
       "M375.33 1193.39 L391.298 1193.39 L391.298 1077.55 L375.33 1077.55 L375.33 1193.39  Z\n",
       "  \" fill=\"#e26f46\" fill-rule=\"evenodd\" fill-opacity=\"0.5\"/>\n",
       "<polyline clip-path=\"url(#clip962)\" style=\"stroke:#000000; stroke-linecap:butt; stroke-linejoin:round; stroke-width:4; stroke-opacity:0.5; fill:none\" points=\"\n",
       "  375.33,1193.39 391.298,1193.39 391.298,1077.55 375.33,1077.55 375.33,1193.39 \n",
       "  \"/>\n",
       "<path clip-path=\"url(#clip962)\" d=\"\n",
       "M407.265 1255.79 L423.233 1255.79 L423.233 1141.9 L407.265 1141.9 L407.265 1255.79  Z\n",
       "  \" fill=\"#e26f46\" fill-rule=\"evenodd\" fill-opacity=\"0.5\"/>\n",
       "<polyline clip-path=\"url(#clip962)\" style=\"stroke:#000000; stroke-linecap:butt; stroke-linejoin:round; stroke-width:4; stroke-opacity:0.5; fill:none\" points=\"\n",
       "  407.265,1255.79 423.233,1255.79 423.233,1141.9 407.265,1141.9 407.265,1255.79 \n",
       "  \"/>\n",
       "<path clip-path=\"url(#clip962)\" d=\"\n",
       "M455.168 1224.81 L471.136 1224.81 L471.136 1128.39 L455.168 1128.39 L455.168 1224.81  Z\n",
       "  \" fill=\"#e26f46\" fill-rule=\"evenodd\" fill-opacity=\"0.5\"/>\n",
       "<polyline clip-path=\"url(#clip962)\" style=\"stroke:#000000; stroke-linecap:butt; stroke-linejoin:round; stroke-width:4; stroke-opacity:0.5; fill:none\" points=\"\n",
       "  455.168,1224.81 471.136,1224.81 471.136,1128.39 455.168,1128.39 455.168,1224.81 \n",
       "  \"/>\n",
       "<path clip-path=\"url(#clip962)\" d=\"\n",
       "M566.941 1206.74 L582.909 1206.74 L582.909 1142.89 L566.941 1142.89 L566.941 1206.74  Z\n",
       "  \" fill=\"#e26f46\" fill-rule=\"evenodd\" fill-opacity=\"0.5\"/>\n",
       "<polyline clip-path=\"url(#clip962)\" style=\"stroke:#000000; stroke-linecap:butt; stroke-linejoin:round; stroke-width:4; stroke-opacity:0.5; fill:none\" points=\"\n",
       "  566.941,1206.74 582.909,1206.74 582.909,1142.89 566.941,1142.89 566.941,1206.74 \n",
       "  \"/>\n",
       "<path clip-path=\"url(#clip962)\" d=\"\n",
       "M886.293 1191.41 L902.261 1191.41 L902.261 1159.35 L886.293 1159.35 L886.293 1191.41  Z\n",
       "  \" fill=\"#e26f46\" fill-rule=\"evenodd\" fill-opacity=\"0.5\"/>\n",
       "<polyline clip-path=\"url(#clip962)\" style=\"stroke:#000000; stroke-linecap:butt; stroke-linejoin:round; stroke-width:4; stroke-opacity:0.5; fill:none\" points=\"\n",
       "  886.293,1191.41 902.261,1191.41 902.261,1159.35 886.293,1159.35 886.293,1191.41 \n",
       "  \"/>\n",
       "<path clip-path=\"url(#clip960)\" d=\"\n",
       "M1987.39 250.738 L2280.54 250.738 L2280.54 95.2176 L1987.39 95.2176  Z\n",
       "  \" fill=\"#ffffff\" fill-rule=\"evenodd\" fill-opacity=\"1\"/>\n",
       "<polyline clip-path=\"url(#clip960)\" style=\"stroke:#000000; stroke-linecap:butt; stroke-linejoin:round; stroke-width:4; stroke-opacity:1; fill:none\" points=\"\n",
       "  1987.39,250.738 2280.54,250.738 2280.54,95.2176 1987.39,95.2176 1987.39,250.738 \n",
       "  \"/>\n",
       "<polyline clip-path=\"url(#clip960)\" style=\"stroke:#009af9; stroke-linecap:butt; stroke-linejoin:round; stroke-width:4; stroke-opacity:1; fill:none\" points=\"\n",
       "  2011.46,147.058 2155.89,147.058 \n",
       "  \"/>\n",
       "<path clip-path=\"url(#clip960)\" d=\"M2193.81 166.745 Q2192 171.375 2190.29 172.787 Q2188.58 174.199 2185.71 174.199 L2182.3 174.199 L2182.3 170.634 L2184.8 170.634 Q2186.56 170.634 2187.53 169.8 Q2188.51 168.967 2189.69 165.865 L2190.45 163.921 L2179.97 138.412 L2184.48 138.412 L2192.58 158.689 L2200.68 138.412 L2205.2 138.412 L2193.81 166.745 Z\" fill=\"#000000\" fill-rule=\"evenodd\" fill-opacity=\"1\" /><path clip-path=\"url(#clip960)\" d=\"M2212.49 160.402 L2220.13 160.402 L2220.13 134.037 L2211.82 135.703 L2211.82 131.444 L2220.08 129.778 L2224.76 129.778 L2224.76 160.402 L2232.4 160.402 L2232.4 164.338 L2212.49 164.338 L2212.49 160.402 Z\" fill=\"#000000\" fill-rule=\"evenodd\" fill-opacity=\"1\" /><path clip-path=\"url(#clip960)\" d=\"\n",
       "M2011.46 219.634 L2155.89 219.634 L2155.89 178.162 L2011.46 178.162 L2011.46 219.634  Z\n",
       "  \" fill=\"#e26f46\" fill-rule=\"evenodd\" fill-opacity=\"0.5\"/>\n",
       "<polyline clip-path=\"url(#clip960)\" style=\"stroke:#000000; stroke-linecap:butt; stroke-linejoin:round; stroke-width:4; stroke-opacity:1; fill:none\" points=\"\n",
       "  2011.46,219.634 2155.89,219.634 2155.89,178.162 2011.46,178.162 2011.46,219.634 \n",
       "  \"/>\n",
       "<path clip-path=\"url(#clip960)\" d=\"M2193.81 218.585 Q2192 223.215 2190.29 224.627 Q2188.58 226.039 2185.71 226.039 L2182.3 226.039 L2182.3 222.474 L2184.8 222.474 Q2186.56 222.474 2187.53 221.64 Q2188.51 220.807 2189.69 217.705 L2190.45 215.761 L2179.97 190.252 L2184.48 190.252 L2192.58 210.529 L2200.68 190.252 L2205.2 190.252 L2193.81 218.585 Z\" fill=\"#000000\" fill-rule=\"evenodd\" fill-opacity=\"1\" /><path clip-path=\"url(#clip960)\" d=\"M2215.71 212.242 L2232.03 212.242 L2232.03 216.178 L2210.08 216.178 L2210.08 212.242 Q2212.74 209.488 2217.33 204.858 Q2221.93 200.205 2223.11 198.863 Q2225.36 196.34 2226.24 194.604 Q2227.14 192.844 2227.14 191.155 Q2227.14 188.4 2225.2 186.664 Q2223.28 184.928 2220.17 184.928 Q2217.97 184.928 2215.52 185.692 Q2213.09 186.455 2210.31 188.006 L2210.31 183.284 Q2213.14 182.15 2215.59 181.571 Q2218.04 180.993 2220.08 180.993 Q2225.45 180.993 2228.65 183.678 Q2231.84 186.363 2231.84 190.854 Q2231.84 192.983 2231.03 194.905 Q2230.24 196.803 2228.14 199.395 Q2227.56 200.067 2224.46 203.284 Q2221.35 206.479 2215.71 212.242 Z\" fill=\"#000000\" fill-rule=\"evenodd\" fill-opacity=\"1\" /></svg>\n"
      ]
     },
     "execution_count": 35,
     "metadata": {},
     "output_type": "execute_result"
    }
   ],
   "source": [
    "plot(f, 0, 1)\n",
    "plot!(IntervalBox.(Xzeros, f.(Xzeros)))"
   ]
  },
  {
   "cell_type": "markdown",
   "metadata": {},
   "source": [
    "Refining the intervals this gives us a way to identify small intervals that may contain zero; please note that this does not guarantee they contain zero, I will show some methods how to find zeros in a moment."
   ]
  },
  {
   "cell_type": "code",
   "execution_count": 36,
   "metadata": {},
   "outputs": [
    {
     "data": {
      "text/plain": [
       "25-element Vector{Interval}:\n",
       " [0, 0.00195313]\n",
       "    [0.00195312, 0.00390625]\n",
       "    [0.00390625, 0.00585938]\n",
       "    [0.00585937, 0.0078125]\n",
       "    [0.0078125, 0.00976563]\n",
       "    [0.00976562, 0.0117188]\n",
       "    [0.0117187, 0.0136719]\n",
       "    [0.0136718, 0.015625]\n",
       "    [0.015625, 0.0175782]\n",
       "    [0.0175781, 0.0195313]\n",
       "    [0.0195312, 0.0214844]\n",
       "    [0.0214843, 0.0234375]\n",
       "    [0.0234375, 0.0253907]\n",
       "    [0.0253906, 0.0273438]\n",
       "    [0.0273437, 0.0292969]\n",
       "    [0.03125, 0.0332032]\n",
       "    [0.0351562, 0.0371094]\n",
       "    [0.0390625, 0.0410157]\n",
       "    [0.0449218, 0.046875]\n",
       "    [0.0527343, 0.0546875]\n",
       "    [0.0625, 0.0644532]\n",
       "    [0.078125, 0.0800782]\n",
       "    [0.105468, 0.107422]\n",
       "    [0.158203, 0.160157]\n",
       "    [0.316406, 0.31836]"
      ]
     },
     "execution_count": 36,
     "metadata": {},
     "output_type": "execute_result"
    }
   ],
   "source": [
    "N = 512\n",
    "X = [@interval i/N (i+1)/N for i in 0:N-1]\n",
    "Xzeros = exclude_not_contain_zero(f, X)"
   ]
  },
  {
   "cell_type": "code",
   "execution_count": 37,
   "metadata": {},
   "outputs": [
    {
     "data": {
      "image/svg+xml": [
       "<?xml version=\"1.0\" encoding=\"utf-8\"?>\n",
       "<svg xmlns=\"http://www.w3.org/2000/svg\" xmlns:xlink=\"http://www.w3.org/1999/xlink\" width=\"600\" height=\"400\" viewBox=\"0 0 2400 1600\">\n",
       "<defs>\n",
       "  <clipPath id=\"clip000\">\n",
       "    <rect x=\"0\" y=\"0\" width=\"2400\" height=\"1600\"/>\n",
       "  </clipPath>\n",
       "</defs>\n",
       "<path clip-path=\"url(#clip000)\" d=\"\n",
       "M0 1600 L2400 1600 L2400 0 L0 0  Z\n",
       "  \" fill=\"#ffffff\" fill-rule=\"evenodd\" fill-opacity=\"1\"/>\n",
       "<defs>\n",
       "  <clipPath id=\"clip001\">\n",
       "    <rect x=\"480\" y=\"0\" width=\"1681\" height=\"1600\"/>\n",
       "  </clipPath>\n",
       "</defs>\n",
       "<path clip-path=\"url(#clip000)\" d=\"\n",
       "M192.709 1486.45 L2352.76 1486.45 L2352.76 47.2441 L192.709 47.2441  Z\n",
       "  \" fill=\"#ffffff\" fill-rule=\"evenodd\" fill-opacity=\"1\"/>\n",
       "<defs>\n",
       "  <clipPath id=\"clip002\">\n",
       "    <rect x=\"192\" y=\"47\" width=\"2161\" height=\"1440\"/>\n",
       "  </clipPath>\n",
       "</defs>\n",
       "<polyline clip-path=\"url(#clip002)\" style=\"stroke:#000000; stroke-linecap:butt; stroke-linejoin:round; stroke-width:2; stroke-opacity:0.1; fill:none\" points=\"\n",
       "  253.843,1486.45 253.843,47.2441 \n",
       "  \"/>\n",
       "<polyline clip-path=\"url(#clip002)\" style=\"stroke:#000000; stroke-linecap:butt; stroke-linejoin:round; stroke-width:2; stroke-opacity:0.1; fill:none\" points=\"\n",
       "  836.065,1486.45 836.065,47.2441 \n",
       "  \"/>\n",
       "<polyline clip-path=\"url(#clip002)\" style=\"stroke:#000000; stroke-linecap:butt; stroke-linejoin:round; stroke-width:2; stroke-opacity:0.1; fill:none\" points=\"\n",
       "  1418.29,1486.45 1418.29,47.2441 \n",
       "  \"/>\n",
       "<polyline clip-path=\"url(#clip002)\" style=\"stroke:#000000; stroke-linecap:butt; stroke-linejoin:round; stroke-width:2; stroke-opacity:0.1; fill:none\" points=\"\n",
       "  2000.51,1486.45 2000.51,47.2441 \n",
       "  \"/>\n",
       "<polyline clip-path=\"url(#clip000)\" style=\"stroke:#000000; stroke-linecap:butt; stroke-linejoin:round; stroke-width:4; stroke-opacity:1; fill:none\" points=\"\n",
       "  192.709,1486.45 2352.76,1486.45 \n",
       "  \"/>\n",
       "<polyline clip-path=\"url(#clip000)\" style=\"stroke:#000000; stroke-linecap:butt; stroke-linejoin:round; stroke-width:4; stroke-opacity:1; fill:none\" points=\"\n",
       "  253.843,1486.45 253.843,1469.18 \n",
       "  \"/>\n",
       "<polyline clip-path=\"url(#clip000)\" style=\"stroke:#000000; stroke-linecap:butt; stroke-linejoin:round; stroke-width:4; stroke-opacity:1; fill:none\" points=\"\n",
       "  836.065,1486.45 836.065,1469.18 \n",
       "  \"/>\n",
       "<polyline clip-path=\"url(#clip000)\" style=\"stroke:#000000; stroke-linecap:butt; stroke-linejoin:round; stroke-width:4; stroke-opacity:1; fill:none\" points=\"\n",
       "  1418.29,1486.45 1418.29,1469.18 \n",
       "  \"/>\n",
       "<polyline clip-path=\"url(#clip000)\" style=\"stroke:#000000; stroke-linecap:butt; stroke-linejoin:round; stroke-width:4; stroke-opacity:1; fill:none\" points=\"\n",
       "  2000.51,1486.45 2000.51,1469.18 \n",
       "  \"/>\n",
       "<path clip-path=\"url(#clip000)\" d=\"M231.227 1515.64 Q227.616 1515.64 225.787 1519.2 Q223.982 1522.75 223.982 1529.87 Q223.982 1536.98 225.787 1540.55 Q227.616 1544.09 231.227 1544.09 Q234.861 1544.09 236.667 1540.55 Q238.495 1536.98 238.495 1529.87 Q238.495 1522.75 236.667 1519.2 Q234.861 1515.64 231.227 1515.64 M231.227 1511.93 Q237.037 1511.93 240.093 1516.54 Q243.171 1521.12 243.171 1529.87 Q243.171 1538.6 240.093 1543.21 Q237.037 1547.79 231.227 1547.79 Q225.417 1547.79 222.338 1543.21 Q219.283 1538.6 219.283 1529.87 Q219.283 1521.12 222.338 1516.54 Q225.417 1511.93 231.227 1511.93 Z\" fill=\"#000000\" fill-rule=\"evenodd\" fill-opacity=\"1\" /><path clip-path=\"url(#clip000)\" d=\"M251.389 1541.24 L256.273 1541.24 L256.273 1547.12 L251.389 1547.12 L251.389 1541.24 Z\" fill=\"#000000\" fill-rule=\"evenodd\" fill-opacity=\"1\" /><path clip-path=\"url(#clip000)\" d=\"M276.458 1515.64 Q272.847 1515.64 271.018 1519.2 Q269.213 1522.75 269.213 1529.87 Q269.213 1536.98 271.018 1540.55 Q272.847 1544.09 276.458 1544.09 Q280.092 1544.09 281.898 1540.55 Q283.727 1536.98 283.727 1529.87 Q283.727 1522.75 281.898 1519.2 Q280.092 1515.64 276.458 1515.64 M276.458 1511.93 Q282.268 1511.93 285.324 1516.54 Q288.403 1521.12 288.403 1529.87 Q288.403 1538.6 285.324 1543.21 Q282.268 1547.79 276.458 1547.79 Q270.648 1547.79 267.569 1543.21 Q264.514 1538.6 264.514 1529.87 Q264.514 1521.12 267.569 1516.54 Q270.648 1511.93 276.458 1511.93 Z\" fill=\"#000000\" fill-rule=\"evenodd\" fill-opacity=\"1\" /><path clip-path=\"url(#clip000)\" d=\"M814.063 1515.64 Q810.452 1515.64 808.623 1519.2 Q806.818 1522.75 806.818 1529.87 Q806.818 1536.98 808.623 1540.55 Q810.452 1544.09 814.063 1544.09 Q817.697 1544.09 819.503 1540.55 Q821.332 1536.98 821.332 1529.87 Q821.332 1522.75 819.503 1519.2 Q817.697 1515.64 814.063 1515.64 M814.063 1511.93 Q819.873 1511.93 822.929 1516.54 Q826.008 1521.12 826.008 1529.87 Q826.008 1538.6 822.929 1543.21 Q819.873 1547.79 814.063 1547.79 Q808.253 1547.79 805.174 1543.21 Q802.119 1538.6 802.119 1529.87 Q802.119 1521.12 805.174 1516.54 Q808.253 1511.93 814.063 1511.93 Z\" fill=\"#000000\" fill-rule=\"evenodd\" fill-opacity=\"1\" /><path clip-path=\"url(#clip000)\" d=\"M834.225 1541.24 L839.109 1541.24 L839.109 1547.12 L834.225 1547.12 L834.225 1541.24 Z\" fill=\"#000000\" fill-rule=\"evenodd\" fill-opacity=\"1\" /><path clip-path=\"url(#clip000)\" d=\"M850.105 1543.18 L857.744 1543.18 L857.744 1516.82 L849.433 1518.49 L849.433 1514.23 L857.697 1512.56 L862.373 1512.56 L862.373 1543.18 L870.012 1543.18 L870.012 1547.12 L850.105 1547.12 L850.105 1543.18 Z\" fill=\"#000000\" fill-rule=\"evenodd\" fill-opacity=\"1\" /><path clip-path=\"url(#clip000)\" d=\"M1396.47 1515.64 Q1392.86 1515.64 1391.03 1519.2 Q1389.23 1522.75 1389.23 1529.87 Q1389.23 1536.98 1391.03 1540.55 Q1392.86 1544.09 1396.47 1544.09 Q1400.11 1544.09 1401.91 1540.55 Q1403.74 1536.98 1403.74 1529.87 Q1403.74 1522.75 1401.91 1519.2 Q1400.11 1515.64 1396.47 1515.64 M1396.47 1511.93 Q1402.28 1511.93 1405.34 1516.54 Q1408.42 1521.12 1408.42 1529.87 Q1408.42 1538.6 1405.34 1543.21 Q1402.28 1547.79 1396.47 1547.79 Q1390.66 1547.79 1387.58 1543.21 Q1384.53 1538.6 1384.53 1529.87 Q1384.53 1521.12 1387.58 1516.54 Q1390.66 1511.93 1396.47 1511.93 Z\" fill=\"#000000\" fill-rule=\"evenodd\" fill-opacity=\"1\" /><path clip-path=\"url(#clip000)\" d=\"M1416.63 1541.24 L1421.52 1541.24 L1421.52 1547.12 L1416.63 1547.12 L1416.63 1541.24 Z\" fill=\"#000000\" fill-rule=\"evenodd\" fill-opacity=\"1\" /><path clip-path=\"url(#clip000)\" d=\"M1435.73 1543.18 L1452.05 1543.18 L1452.05 1547.12 L1430.11 1547.12 L1430.11 1543.18 Q1432.77 1540.43 1437.35 1535.8 Q1441.96 1531.15 1443.14 1529.81 Q1445.38 1527.28 1446.26 1525.55 Q1447.17 1523.79 1447.17 1522.1 Q1447.17 1519.34 1445.22 1517.61 Q1443.3 1515.87 1440.2 1515.87 Q1438 1515.87 1435.55 1516.63 Q1433.11 1517.4 1430.34 1518.95 L1430.34 1514.23 Q1433.16 1513.09 1435.61 1512.51 Q1438.07 1511.93 1440.11 1511.93 Q1445.48 1511.93 1448.67 1514.62 Q1451.86 1517.31 1451.86 1521.8 Q1451.86 1523.93 1451.05 1525.85 Q1450.27 1527.74 1448.16 1530.34 Q1447.58 1531.01 1444.48 1534.23 Q1441.38 1537.42 1435.73 1543.18 Z\" fill=\"#000000\" fill-rule=\"evenodd\" fill-opacity=\"1\" /><path clip-path=\"url(#clip000)\" d=\"M1978.22 1515.64 Q1974.61 1515.64 1972.78 1519.2 Q1970.97 1522.75 1970.97 1529.87 Q1970.97 1536.98 1972.78 1540.55 Q1974.61 1544.09 1978.22 1544.09 Q1981.85 1544.09 1983.66 1540.55 Q1985.49 1536.98 1985.49 1529.87 Q1985.49 1522.75 1983.66 1519.2 Q1981.85 1515.64 1978.22 1515.64 M1978.22 1511.93 Q1984.03 1511.93 1987.09 1516.54 Q1990.16 1521.12 1990.16 1529.87 Q1990.16 1538.6 1987.09 1543.21 Q1984.03 1547.79 1978.22 1547.79 Q1972.41 1547.79 1969.33 1543.21 Q1966.28 1538.6 1966.28 1529.87 Q1966.28 1521.12 1969.33 1516.54 Q1972.41 1511.93 1978.22 1511.93 Z\" fill=\"#000000\" fill-rule=\"evenodd\" fill-opacity=\"1\" /><path clip-path=\"url(#clip000)\" d=\"M1998.38 1541.24 L2003.27 1541.24 L2003.27 1547.12 L1998.38 1547.12 L1998.38 1541.24 Z\" fill=\"#000000\" fill-rule=\"evenodd\" fill-opacity=\"1\" /><path clip-path=\"url(#clip000)\" d=\"M2027.62 1528.49 Q2030.97 1529.2 2032.85 1531.47 Q2034.75 1533.74 2034.75 1537.07 Q2034.75 1542.19 2031.23 1544.99 Q2027.71 1547.79 2021.23 1547.79 Q2019.05 1547.79 2016.74 1547.35 Q2014.45 1546.93 2011.99 1546.08 L2011.99 1541.56 Q2013.94 1542.7 2016.25 1543.28 Q2018.57 1543.86 2021.09 1543.86 Q2025.49 1543.86 2027.78 1542.12 Q2030.09 1540.38 2030.09 1537.07 Q2030.09 1534.02 2027.94 1532.31 Q2025.81 1530.57 2021.99 1530.57 L2017.96 1530.57 L2017.96 1526.73 L2022.18 1526.73 Q2025.63 1526.73 2027.46 1525.36 Q2029.28 1523.97 2029.28 1521.38 Q2029.28 1518.72 2027.39 1517.31 Q2025.51 1515.87 2021.99 1515.87 Q2020.07 1515.87 2017.87 1516.29 Q2015.67 1516.7 2013.03 1517.58 L2013.03 1513.42 Q2015.7 1512.68 2018.01 1512.31 Q2020.35 1511.93 2022.41 1511.93 Q2027.73 1511.93 2030.83 1514.37 Q2033.94 1516.77 2033.94 1520.89 Q2033.94 1523.76 2032.29 1525.75 Q2030.65 1527.72 2027.62 1528.49 Z\" fill=\"#000000\" fill-rule=\"evenodd\" fill-opacity=\"1\" /><polyline clip-path=\"url(#clip002)\" style=\"stroke:#000000; stroke-linecap:butt; stroke-linejoin:round; stroke-width:2; stroke-opacity:0.1; fill:none\" points=\"\n",
       "  192.709,1377.96 2352.76,1377.96 \n",
       "  \"/>\n",
       "<polyline clip-path=\"url(#clip002)\" style=\"stroke:#000000; stroke-linecap:butt; stroke-linejoin:round; stroke-width:2; stroke-opacity:0.1; fill:none\" points=\"\n",
       "  192.709,984.78 2352.76,984.78 \n",
       "  \"/>\n",
       "<polyline clip-path=\"url(#clip002)\" style=\"stroke:#000000; stroke-linecap:butt; stroke-linejoin:round; stroke-width:2; stroke-opacity:0.1; fill:none\" points=\"\n",
       "  192.709,591.597 2352.76,591.597 \n",
       "  \"/>\n",
       "<polyline clip-path=\"url(#clip002)\" style=\"stroke:#000000; stroke-linecap:butt; stroke-linejoin:round; stroke-width:2; stroke-opacity:0.1; fill:none\" points=\"\n",
       "  192.709,198.414 2352.76,198.414 \n",
       "  \"/>\n",
       "<polyline clip-path=\"url(#clip000)\" style=\"stroke:#000000; stroke-linecap:butt; stroke-linejoin:round; stroke-width:4; stroke-opacity:1; fill:none\" points=\"\n",
       "  192.709,1486.45 192.709,47.2441 \n",
       "  \"/>\n",
       "<polyline clip-path=\"url(#clip000)\" style=\"stroke:#000000; stroke-linecap:butt; stroke-linejoin:round; stroke-width:4; stroke-opacity:1; fill:none\" points=\"\n",
       "  192.709,1377.96 218.63,1377.96 \n",
       "  \"/>\n",
       "<polyline clip-path=\"url(#clip000)\" style=\"stroke:#000000; stroke-linecap:butt; stroke-linejoin:round; stroke-width:4; stroke-opacity:1; fill:none\" points=\"\n",
       "  192.709,984.78 218.63,984.78 \n",
       "  \"/>\n",
       "<polyline clip-path=\"url(#clip000)\" style=\"stroke:#000000; stroke-linecap:butt; stroke-linejoin:round; stroke-width:4; stroke-opacity:1; fill:none\" points=\"\n",
       "  192.709,591.597 218.63,591.597 \n",
       "  \"/>\n",
       "<polyline clip-path=\"url(#clip000)\" style=\"stroke:#000000; stroke-linecap:butt; stroke-linejoin:round; stroke-width:4; stroke-opacity:1; fill:none\" points=\"\n",
       "  192.709,198.414 218.63,198.414 \n",
       "  \"/>\n",
       "<path clip-path=\"url(#clip000)\" d=\"M51.3625 1378.41 L81.0383 1378.41 L81.0383 1382.35 L51.3625 1382.35 L51.3625 1378.41 Z\" fill=\"#000000\" fill-rule=\"evenodd\" fill-opacity=\"1\" /><path clip-path=\"url(#clip000)\" d=\"M101.131 1363.76 Q97.5197 1363.76 95.691 1367.33 Q93.8854 1370.87 93.8854 1378 Q93.8854 1385.1 95.691 1388.67 Q97.5197 1392.21 101.131 1392.21 Q104.765 1392.21 106.571 1388.67 Q108.399 1385.1 108.399 1378 Q108.399 1370.87 106.571 1367.33 Q104.765 1363.76 101.131 1363.76 M101.131 1360.06 Q106.941 1360.06 109.996 1364.67 Q113.075 1369.25 113.075 1378 Q113.075 1386.73 109.996 1391.33 Q106.941 1395.91 101.131 1395.91 Q95.3206 1395.91 92.2419 1391.33 Q89.1864 1386.73 89.1864 1378 Q89.1864 1369.25 92.2419 1364.67 Q95.3206 1360.06 101.131 1360.06 Z\" fill=\"#000000\" fill-rule=\"evenodd\" fill-opacity=\"1\" /><path clip-path=\"url(#clip000)\" d=\"M121.293 1389.36 L126.177 1389.36 L126.177 1395.24 L121.293 1395.24 L121.293 1389.36 Z\" fill=\"#000000\" fill-rule=\"evenodd\" fill-opacity=\"1\" /><path clip-path=\"url(#clip000)\" d=\"M140.39 1391.31 L156.709 1391.31 L156.709 1395.24 L134.765 1395.24 L134.765 1391.31 Q137.427 1388.55 142.01 1383.92 Q146.617 1379.27 147.797 1377.93 Q150.043 1375.41 150.922 1373.67 Q151.825 1371.91 151.825 1370.22 Q151.825 1367.47 149.88 1365.73 Q147.959 1363.99 144.857 1363.99 Q142.658 1363.99 140.205 1364.76 Q137.774 1365.52 134.996 1367.07 L134.996 1362.35 Q137.82 1361.22 140.274 1360.64 Q142.728 1360.06 144.765 1360.06 Q150.135 1360.06 153.33 1362.74 Q156.524 1365.43 156.524 1369.92 Q156.524 1372.05 155.714 1373.97 Q154.927 1375.87 152.82 1378.46 Q152.242 1379.13 149.14 1382.35 Q146.038 1385.54 140.39 1391.31 Z\" fill=\"#000000\" fill-rule=\"evenodd\" fill-opacity=\"1\" /><path clip-path=\"url(#clip000)\" d=\"M50.9921 985.232 L80.6679 985.232 L80.6679 989.167 L50.9921 989.167 L50.9921 985.232 Z\" fill=\"#000000\" fill-rule=\"evenodd\" fill-opacity=\"1\" /><path clip-path=\"url(#clip000)\" d=\"M100.76 970.579 Q97.1493 970.579 95.3206 974.144 Q93.515 977.685 93.515 984.815 Q93.515 991.921 95.3206 995.486 Q97.1493 999.028 100.76 999.028 Q104.395 999.028 106.2 995.486 Q108.029 991.921 108.029 984.815 Q108.029 977.685 106.2 974.144 Q104.395 970.579 100.76 970.579 M100.76 966.875 Q106.571 966.875 109.626 971.482 Q112.705 976.065 112.705 984.815 Q112.705 993.542 109.626 998.148 Q106.571 1002.73 100.76 1002.73 Q94.9502 1002.73 91.8715 998.148 Q88.816 993.542 88.816 984.815 Q88.816 976.065 91.8715 971.482 Q94.9502 966.875 100.76 966.875 Z\" fill=\"#000000\" fill-rule=\"evenodd\" fill-opacity=\"1\" /><path clip-path=\"url(#clip000)\" d=\"M120.922 996.181 L125.807 996.181 L125.807 1002.06 L120.922 1002.06 L120.922 996.181 Z\" fill=\"#000000\" fill-rule=\"evenodd\" fill-opacity=\"1\" /><path clip-path=\"url(#clip000)\" d=\"M136.802 998.125 L144.441 998.125 L144.441 971.759 L136.131 973.426 L136.131 969.167 L144.394 967.5 L149.07 967.5 L149.07 998.125 L156.709 998.125 L156.709 1002.06 L136.802 1002.06 L136.802 998.125 Z\" fill=\"#000000\" fill-rule=\"evenodd\" fill-opacity=\"1\" /><path clip-path=\"url(#clip000)\" d=\"M99.5335 577.396 Q95.9224 577.396 94.0937 580.96 Q92.2882 584.502 92.2882 591.632 Q92.2882 598.738 94.0937 602.303 Q95.9224 605.845 99.5335 605.845 Q103.168 605.845 104.973 602.303 Q106.802 598.738 106.802 591.632 Q106.802 584.502 104.973 580.96 Q103.168 577.396 99.5335 577.396 M99.5335 573.692 Q105.344 573.692 108.399 578.298 Q111.478 582.882 111.478 591.632 Q111.478 600.358 108.399 604.965 Q105.344 609.548 99.5335 609.548 Q93.7234 609.548 90.6447 604.965 Q87.5892 600.358 87.5892 591.632 Q87.5892 582.882 90.6447 578.298 Q93.7234 573.692 99.5335 573.692 Z\" fill=\"#000000\" fill-rule=\"evenodd\" fill-opacity=\"1\" /><path clip-path=\"url(#clip000)\" d=\"M119.695 602.997 L124.58 602.997 L124.58 608.877 L119.695 608.877 L119.695 602.997 Z\" fill=\"#000000\" fill-rule=\"evenodd\" fill-opacity=\"1\" /><path clip-path=\"url(#clip000)\" d=\"M144.765 577.396 Q141.154 577.396 139.325 580.96 Q137.519 584.502 137.519 591.632 Q137.519 598.738 139.325 602.303 Q141.154 605.845 144.765 605.845 Q148.399 605.845 150.205 602.303 Q152.033 598.738 152.033 591.632 Q152.033 584.502 150.205 580.96 Q148.399 577.396 144.765 577.396 M144.765 573.692 Q150.575 573.692 153.63 578.298 Q156.709 582.882 156.709 591.632 Q156.709 600.358 153.63 604.965 Q150.575 609.548 144.765 609.548 Q138.955 609.548 135.876 604.965 Q132.82 600.358 132.82 591.632 Q132.82 582.882 135.876 578.298 Q138.955 573.692 144.765 573.692 Z\" fill=\"#000000\" fill-rule=\"evenodd\" fill-opacity=\"1\" /><path clip-path=\"url(#clip000)\" d=\"M100.76 184.212 Q97.1493 184.212 95.3206 187.777 Q93.515 191.319 93.515 198.448 Q93.515 205.555 95.3206 209.12 Q97.1493 212.661 100.76 212.661 Q104.395 212.661 106.2 209.12 Q108.029 205.555 108.029 198.448 Q108.029 191.319 106.2 187.777 Q104.395 184.212 100.76 184.212 M100.76 180.509 Q106.571 180.509 109.626 185.115 Q112.705 189.698 112.705 198.448 Q112.705 207.175 109.626 211.782 Q106.571 216.365 100.76 216.365 Q94.9502 216.365 91.8715 211.782 Q88.816 207.175 88.816 198.448 Q88.816 189.698 91.8715 185.115 Q94.9502 180.509 100.76 180.509 Z\" fill=\"#000000\" fill-rule=\"evenodd\" fill-opacity=\"1\" /><path clip-path=\"url(#clip000)\" d=\"M120.922 209.814 L125.807 209.814 L125.807 215.694 L120.922 215.694 L120.922 209.814 Z\" fill=\"#000000\" fill-rule=\"evenodd\" fill-opacity=\"1\" /><path clip-path=\"url(#clip000)\" d=\"M136.802 211.758 L144.441 211.758 L144.441 185.393 L136.131 187.059 L136.131 182.8 L144.394 181.134 L149.07 181.134 L149.07 211.758 L156.709 211.758 L156.709 215.694 L136.802 215.694 L136.802 211.758 Z\" fill=\"#000000\" fill-rule=\"evenodd\" fill-opacity=\"1\" /><polyline clip-path=\"url(#clip002)\" style=\"stroke:#009af9; stroke-linecap:butt; stroke-linejoin:round; stroke-width:4; stroke-opacity:1; fill:none\" points=\"\n",
       "  258.818,588.238 263.793,586.8 268.768,586.501 273.743,596.799 275.181,585.156 276.618,605.722 278.056,575.37 279.493,579.354 282.369,589.648 285.244,592.874 \n",
       "  286.681,569.874 288.119,586.649 289.556,599.612 290.994,600.524 292.432,589.483 293.869,569.68 295.307,568.723 296.744,608.48 298.182,609.391 299.62,560.718 \n",
       "  301.057,614.296 302.495,582.198 303.932,591.501 305.37,595.215 306.807,590.544 308.245,584.033 309.683,612.694 311.12,556.807 312.558,630.454 313.995,568.708 \n",
       "  315.433,579.95 316.87,632.24 318.308,560.651 319.746,575.055 321.183,636.975 322.621,583.706 324.058,546.785 325.496,611.587 326.933,635.973 328.371,571.123 \n",
       "  329.809,543.006 331.246,600.911 332.684,644.829 334.121,605.979 335.559,544.942 336.996,547.524 338.434,607.793 339.872,649.179 341.309,624.542 342.747,563.624 \n",
       "  344.184,530.647 345.622,556.326 347.06,614.534 348.497,653.543 349.935,642.422 351.372,592.04 352.81,540.929 354.247,524.381 355.685,551.617 357.123,603.769 \n",
       "  358.56,649.091 359.998,662.666 361.435,638.766 362.873,591.084 364.31,543.43 365.748,517.412 367.186,523.287 368.623,557.229 370.061,604.726 371.498,647.487 \n",
       "  372.936,670.525 374.373,666.887 375.811,638.892 377.249,596.224 378.686,552.089 380.124,518.991 381.561,505.394 382.999,513.999 384.436,541.771 385.874,581.368 \n",
       "  387.312,623.348 388.749,658.507 390.187,679.803 391.624,683.533 393.062,669.669 394.5,641.44 395.937,604.382 397.375,565.112 398.812,530.114 400.25,504.709 \n",
       "  401.687,492.367 403.125,494.396 404.563,509.985 406,536.55 407.438,570.256 408.875,606.649 410.313,641.262 411.75,670.148 413.188,690.283 414.626,699.799 \n",
       "  416.063,698.072 417.501,685.658 418.938,664.123 420.376,635.788 421.813,603.441 423.251,570.044 424.689,538.451 426.126,511.185 427.564,490.261 429.001,477.075 \n",
       "  430.439,472.357 431.876,476.178 433.314,488.003 434.752,506.791 437.627,559.238 440.502,619.622 443.377,673.795 446.252,710.535 447.69,720.149 449.127,723.412 \n",
       "  450.565,720.35 452.003,711.288 454.878,677.691 457.753,629.461 461.209,564.151 464.664,504.589 466.392,480.785 468.12,462.447 469.848,450.281 471.576,444.658 \n",
       "  473.303,445.626 475.031,452.941 476.759,466.101 478.487,484.391 481.943,532.728 485.398,589.844 488.854,647.285 492.31,697.484 495.765,734.616 499.221,755.038 \n",
       "  502.677,757.385 506.133,742.37 509.588,712.388 513.044,671.033 516.5,622.568 519.955,571.45 523.411,521.912 526.867,477.653 530.322,441.622 533.778,415.906 \n",
       "  537.234,401.7 540.689,399.349 544.145,408.44 547.601,427.93 551.057,456.289 554.512,491.652 561.424,575.095 568.335,661.714 574.178,726.639 580.022,776.925 \n",
       "  582.944,795.198 585.865,808.46 588.787,816.57 591.709,819.517 594.631,817.412 597.552,810.469 600.474,798.994 603.396,783.367 609.239,741.456 615.083,688.695 \n",
       "  626.77,567.525 638.457,451.408 644.3,403.055 650.144,364.035 655.987,335.639 661.831,318.525 668.178,312.805 674.526,319.962 680.874,338.931 687.221,368.257 \n",
       "  699.917,450.948 712.612,553.096 725.307,660.19 738.003,759.966 744.35,804.123 750.698,843.282 757.046,876.816 763.393,904.289 769.245,924.019 775.097,938.288 \n",
       "  780.949,947.114 786.801,950.599 792.653,948.924 798.505,942.332 804.357,931.116 810.209,915.612 821.913,873.219 833.617,818.275 845.321,754.009 857.025,683.562 \n",
       "  882.121,524.913 907.217,374.75 919.765,308.241 932.313,249.387 944.86,199.124 957.408,158.021 971.946,122.186 986.484,98.9677 1001.02,87.9763 1015.56,88.5452 \n",
       "  1030.1,99.8092 1044.64,120.771 1059.17,150.355 1073.71,187.456 1099.55,268.529 1125.39,363.947 1151.23,468.355 1177.07,577.13 1222.39,767.234 1267.7,943.94 \n",
       "  1292.41,1031.05 1317.11,1110.38 1341.82,1181.33 1366.52,1243.59 1391.37,1297.36 1416.22,1342.32 1441.07,1378.67 1465.92,1406.74 1493.4,1428.59 1520.88,1441.37 \n",
       "  1548.35,1445.72 1575.83,1442.28 1601.97,1432.38 1628.11,1416.58 1654.25,1395.42 1680.4,1369.42 1734.76,1301.94 1789.13,1219.62 1834.89,1141.39 1880.65,1056.88 \n",
       "  1992.4,833.241 2097.44,612.126 2265.72,258.528 2291.62,205.411 \n",
       "  \"/>\n",
       "<path clip-path=\"url(#clip002)\" d=\"\n",
       "M253.843 599.276 L265.214 599.276 L265.214 583.918 L253.843 583.918 L253.843 599.276  Z\n",
       "  \" fill=\"#e26f46\" fill-rule=\"evenodd\" fill-opacity=\"0.5\"/>\n",
       "<polyline clip-path=\"url(#clip002)\" style=\"stroke:#000000; stroke-linecap:butt; stroke-linejoin:round; stroke-width:4; stroke-opacity:0.5; fill:none\" points=\"\n",
       "  253.843,599.276 265.214,599.276 265.214,583.918 253.843,583.918 253.843,599.276 \n",
       "  \"/>\n",
       "<path clip-path=\"url(#clip002)\" d=\"\n",
       "M265.214 606.956 L276.586 606.956 L276.586 576.238 L265.214 576.238 L265.214 606.956  Z\n",
       "  \" fill=\"#e26f46\" fill-rule=\"evenodd\" fill-opacity=\"0.5\"/>\n",
       "<polyline clip-path=\"url(#clip002)\" style=\"stroke:#000000; stroke-linecap:butt; stroke-linejoin:round; stroke-width:4; stroke-opacity:0.5; fill:none\" points=\"\n",
       "  265.214,606.956 276.586,606.956 276.586,576.238 265.214,576.238 265.214,606.956 \n",
       "  \"/>\n",
       "<path clip-path=\"url(#clip002)\" d=\"\n",
       "M276.586 614.635 L287.957 614.635 L287.957 568.559 L276.586 568.559 L276.586 614.635  Z\n",
       "  \" fill=\"#e26f46\" fill-rule=\"evenodd\" fill-opacity=\"0.5\"/>\n",
       "<polyline clip-path=\"url(#clip002)\" style=\"stroke:#000000; stroke-linecap:butt; stroke-linejoin:round; stroke-width:4; stroke-opacity:0.5; fill:none\" points=\"\n",
       "  276.586,614.635 287.957,614.635 287.957,568.559 276.586,568.559 276.586,614.635 \n",
       "  \"/>\n",
       "<path clip-path=\"url(#clip002)\" d=\"\n",
       "M287.957 622.314 L299.329 622.314 L299.329 560.879 L287.957 560.879 L287.957 622.314  Z\n",
       "  \" fill=\"#e26f46\" fill-rule=\"evenodd\" fill-opacity=\"0.5\"/>\n",
       "<polyline clip-path=\"url(#clip002)\" style=\"stroke:#000000; stroke-linecap:butt; stroke-linejoin:round; stroke-width:4; stroke-opacity:0.5; fill:none\" points=\"\n",
       "  287.957,622.314 299.329,622.314 299.329,560.879 287.957,560.879 287.957,622.314 \n",
       "  \"/>\n",
       "<path clip-path=\"url(#clip002)\" d=\"\n",
       "M299.329 629.994 L310.7 629.994 L310.7 553.2 L299.329 553.2 L299.329 629.994  Z\n",
       "  \" fill=\"#e26f46\" fill-rule=\"evenodd\" fill-opacity=\"0.5\"/>\n",
       "<polyline clip-path=\"url(#clip002)\" style=\"stroke:#000000; stroke-linecap:butt; stroke-linejoin:round; stroke-width:4; stroke-opacity:0.5; fill:none\" points=\"\n",
       "  299.329,629.994 310.7,629.994 310.7,553.2 299.329,553.2 299.329,629.994 \n",
       "  \"/>\n",
       "<path clip-path=\"url(#clip002)\" d=\"\n",
       "M310.7 637.673 L322.072 637.673 L322.072 545.521 L310.7 545.521 L310.7 637.673  Z\n",
       "  \" fill=\"#e26f46\" fill-rule=\"evenodd\" fill-opacity=\"0.5\"/>\n",
       "<polyline clip-path=\"url(#clip002)\" style=\"stroke:#000000; stroke-linecap:butt; stroke-linejoin:round; stroke-width:4; stroke-opacity:0.5; fill:none\" points=\"\n",
       "  310.7,637.673 322.072,637.673 322.072,545.521 310.7,545.521 310.7,637.673 \n",
       "  \"/>\n",
       "<path clip-path=\"url(#clip002)\" d=\"\n",
       "M322.072 645.352 L333.443 645.352 L333.443 537.841 L322.072 537.841 L322.072 645.352  Z\n",
       "  \" fill=\"#e26f46\" fill-rule=\"evenodd\" fill-opacity=\"0.5\"/>\n",
       "<polyline clip-path=\"url(#clip002)\" style=\"stroke:#000000; stroke-linecap:butt; stroke-linejoin:round; stroke-width:4; stroke-opacity:0.5; fill:none\" points=\"\n",
       "  322.072,645.352 333.443,645.352 333.443,537.841 322.072,537.841 322.072,645.352 \n",
       "  \"/>\n",
       "<path clip-path=\"url(#clip002)\" d=\"\n",
       "M333.443 653.032 L344.815 653.032 L344.815 530.162 L333.443 530.162 L333.443 653.032  Z\n",
       "  \" fill=\"#e26f46\" fill-rule=\"evenodd\" fill-opacity=\"0.5\"/>\n",
       "<polyline clip-path=\"url(#clip002)\" style=\"stroke:#000000; stroke-linecap:butt; stroke-linejoin:round; stroke-width:4; stroke-opacity:0.5; fill:none\" points=\"\n",
       "  333.443,653.032 344.815,653.032 344.815,530.162 333.443,530.162 333.443,653.032 \n",
       "  \"/>\n",
       "<path clip-path=\"url(#clip002)\" d=\"\n",
       "M344.815 660.711 L356.186 660.711 L356.186 522.483 L344.815 522.483 L344.815 660.711  Z\n",
       "  \" fill=\"#e26f46\" fill-rule=\"evenodd\" fill-opacity=\"0.5\"/>\n",
       "<polyline clip-path=\"url(#clip002)\" style=\"stroke:#000000; stroke-linecap:butt; stroke-linejoin:round; stroke-width:4; stroke-opacity:0.5; fill:none\" points=\"\n",
       "  344.815,660.711 356.186,660.711 356.186,522.483 344.815,522.483 344.815,660.711 \n",
       "  \"/>\n",
       "<path clip-path=\"url(#clip002)\" d=\"\n",
       "M356.186 668.391 L367.558 668.391 L367.558 514.803 L356.186 514.803 L356.186 668.391  Z\n",
       "  \" fill=\"#e26f46\" fill-rule=\"evenodd\" fill-opacity=\"0.5\"/>\n",
       "<polyline clip-path=\"url(#clip002)\" style=\"stroke:#000000; stroke-linecap:butt; stroke-linejoin:round; stroke-width:4; stroke-opacity:0.5; fill:none\" points=\"\n",
       "  356.186,668.391 367.558,668.391 367.558,514.803 356.186,514.803 356.186,668.391 \n",
       "  \"/>\n",
       "<path clip-path=\"url(#clip002)\" d=\"\n",
       "M367.558 676.07 L378.929 676.07 L378.929 523.654 L367.558 523.654 L367.558 676.07  Z\n",
       "  \" fill=\"#e26f46\" fill-rule=\"evenodd\" fill-opacity=\"0.5\"/>\n",
       "<polyline clip-path=\"url(#clip002)\" style=\"stroke:#000000; stroke-linecap:butt; stroke-linejoin:round; stroke-width:4; stroke-opacity:0.5; fill:none\" points=\"\n",
       "  367.558,676.07 378.929,676.07 378.929,523.654 367.558,523.654 367.558,676.07 \n",
       "  \"/>\n",
       "<path clip-path=\"url(#clip002)\" d=\"\n",
       "M378.929 680.765 L390.301 680.765 L390.301 499.445 L378.929 499.445 L378.929 680.765  Z\n",
       "  \" fill=\"#e26f46\" fill-rule=\"evenodd\" fill-opacity=\"0.5\"/>\n",
       "<polyline clip-path=\"url(#clip002)\" style=\"stroke:#000000; stroke-linecap:butt; stroke-linejoin:round; stroke-width:4; stroke-opacity:0.5; fill:none\" points=\"\n",
       "  378.929,680.765 390.301,680.765 390.301,499.445 378.929,499.445 378.929,680.765 \n",
       "  \"/>\n",
       "<path clip-path=\"url(#clip002)\" d=\"\n",
       "M390.301 691.429 L401.673 691.429 L401.673 492.421 L390.301 492.421 L390.301 691.429  Z\n",
       "  \" fill=\"#e26f46\" fill-rule=\"evenodd\" fill-opacity=\"0.5\"/>\n",
       "<polyline clip-path=\"url(#clip002)\" style=\"stroke:#000000; stroke-linecap:butt; stroke-linejoin:round; stroke-width:4; stroke-opacity:0.5; fill:none\" points=\"\n",
       "  390.301,691.429 401.673,691.429 401.673,492.421 390.301,492.421 390.301,691.429 \n",
       "  \"/>\n",
       "<path clip-path=\"url(#clip002)\" d=\"\n",
       "M401.673 688.725 L413.044 688.725 L413.044 484.086 L401.673 484.086 L401.673 688.725  Z\n",
       "  \" fill=\"#e26f46\" fill-rule=\"evenodd\" fill-opacity=\"0.5\"/>\n",
       "<polyline clip-path=\"url(#clip002)\" style=\"stroke:#000000; stroke-linecap:butt; stroke-linejoin:round; stroke-width:4; stroke-opacity:0.5; fill:none\" points=\"\n",
       "  401.673,688.725 413.044,688.725 413.044,484.086 401.673,484.086 401.673,688.725 \n",
       "  \"/>\n",
       "<path clip-path=\"url(#clip002)\" d=\"\n",
       "M413.044 706.787 L424.416 706.787 L424.416 544.187 L413.044 544.187 L413.044 706.787  Z\n",
       "  \" fill=\"#e26f46\" fill-rule=\"evenodd\" fill-opacity=\"0.5\"/>\n",
       "<polyline clip-path=\"url(#clip002)\" style=\"stroke:#000000; stroke-linecap:butt; stroke-linejoin:round; stroke-width:4; stroke-opacity:0.5; fill:none\" points=\"\n",
       "  413.044,706.787 424.416,706.787 424.416,544.187 413.044,544.187 413.044,706.787 \n",
       "  \"/>\n",
       "<path clip-path=\"url(#clip002)\" d=\"\n",
       "M435.787 717.328 L447.159 717.328 L447.159 519.609 L435.787 519.609 L435.787 717.328  Z\n",
       "  \" fill=\"#e26f46\" fill-rule=\"evenodd\" fill-opacity=\"0.5\"/>\n",
       "<polyline clip-path=\"url(#clip002)\" style=\"stroke:#000000; stroke-linecap:butt; stroke-linejoin:round; stroke-width:4; stroke-opacity:0.5; fill:none\" points=\"\n",
       "  435.787,717.328 447.159,717.328 447.159,519.609 435.787,519.609 435.787,717.328 \n",
       "  \"/>\n",
       "<path clip-path=\"url(#clip002)\" d=\"\n",
       "M458.53 616.298 L469.902 616.298 L469.902 450.005 L458.53 450.005 L458.53 616.298  Z\n",
       "  \" fill=\"#e26f46\" fill-rule=\"evenodd\" fill-opacity=\"0.5\"/>\n",
       "<polyline clip-path=\"url(#clip002)\" style=\"stroke:#000000; stroke-linecap:butt; stroke-linejoin:round; stroke-width:4; stroke-opacity:0.5; fill:none\" points=\"\n",
       "  458.53,616.298 469.902,616.298 469.902,450.005 458.53,450.005 458.53,616.298 \n",
       "  \"/>\n",
       "<path clip-path=\"url(#clip002)\" d=\"\n",
       "M481.273 701.733 L492.645 701.733 L492.645 518.956 L481.273 518.956 L481.273 701.733  Z\n",
       "  \" fill=\"#e26f46\" fill-rule=\"evenodd\" fill-opacity=\"0.5\"/>\n",
       "<polyline clip-path=\"url(#clip002)\" style=\"stroke:#000000; stroke-linecap:butt; stroke-linejoin:round; stroke-width:4; stroke-opacity:0.5; fill:none\" points=\"\n",
       "  481.273,701.733 492.645,701.733 492.645,518.956 481.273,518.956 481.273,701.733 \n",
       "  \"/>\n",
       "<path clip-path=\"url(#clip002)\" d=\"\n",
       "M515.388 640.707 L526.76 640.707 L526.76 478.915 L515.388 478.915 L515.388 640.707  Z\n",
       "  \" fill=\"#e26f46\" fill-rule=\"evenodd\" fill-opacity=\"0.5\"/>\n",
       "<polyline clip-path=\"url(#clip002)\" style=\"stroke:#000000; stroke-linecap:butt; stroke-linejoin:round; stroke-width:4; stroke-opacity:0.5; fill:none\" points=\"\n",
       "  515.388,640.707 526.76,640.707 526.76,478.915 515.388,478.915 515.388,640.707 \n",
       "  \"/>\n",
       "<path clip-path=\"url(#clip002)\" d=\"\n",
       "M560.874 706.513 L572.246 706.513 L572.246 567.264 L560.874 567.264 L560.874 706.513  Z\n",
       "  \" fill=\"#e26f46\" fill-rule=\"evenodd\" fill-opacity=\"0.5\"/>\n",
       "<polyline clip-path=\"url(#clip002)\" style=\"stroke:#000000; stroke-linecap:butt; stroke-linejoin:round; stroke-width:4; stroke-opacity:0.5; fill:none\" points=\"\n",
       "  560.874,706.513 572.246,706.513 572.246,567.264 560.874,567.264 560.874,706.513 \n",
       "  \"/>\n",
       "<path clip-path=\"url(#clip002)\" d=\"\n",
       "M617.732 664.557 L629.103 664.557 L629.103 543.037 L617.732 543.037 L617.732 664.557  Z\n",
       "  \" fill=\"#e26f46\" fill-rule=\"evenodd\" fill-opacity=\"0.5\"/>\n",
       "<polyline clip-path=\"url(#clip002)\" style=\"stroke:#000000; stroke-linecap:butt; stroke-linejoin:round; stroke-width:4; stroke-opacity:0.5; fill:none\" points=\"\n",
       "  617.732,664.557 629.103,664.557 629.103,543.037 617.732,543.037 617.732,664.557 \n",
       "  \"/>\n",
       "<path clip-path=\"url(#clip002)\" d=\"\n",
       "M708.704 616.308 L720.076 616.308 L720.076 518.705 L708.704 518.705 L708.704 616.308  Z\n",
       "  \" fill=\"#e26f46\" fill-rule=\"evenodd\" fill-opacity=\"0.5\"/>\n",
       "<polyline clip-path=\"url(#clip002)\" style=\"stroke:#000000; stroke-linecap:butt; stroke-linejoin:round; stroke-width:4; stroke-opacity:0.5; fill:none\" points=\"\n",
       "  708.704,616.308 720.076,616.308 720.076,518.705 708.704,518.705 708.704,616.308 \n",
       "  \"/>\n",
       "<path clip-path=\"url(#clip002)\" d=\"\n",
       "M867.906 615.534 L879.277 615.534 L879.277 542.844 L867.906 542.844 L867.906 615.534  Z\n",
       "  \" fill=\"#e26f46\" fill-rule=\"evenodd\" fill-opacity=\"0.5\"/>\n",
       "<polyline clip-path=\"url(#clip002)\" style=\"stroke:#000000; stroke-linecap:butt; stroke-linejoin:round; stroke-width:4; stroke-opacity:0.5; fill:none\" points=\"\n",
       "  867.906,615.534 879.277,615.534 879.277,542.844 867.906,542.844 867.906,615.534 \n",
       "  \"/>\n",
       "<path clip-path=\"url(#clip002)\" d=\"\n",
       "M1174.94 616.327 L1186.31 616.327 L1186.31 567.798 L1174.94 567.798 L1174.94 616.327  Z\n",
       "  \" fill=\"#e26f46\" fill-rule=\"evenodd\" fill-opacity=\"0.5\"/>\n",
       "<polyline clip-path=\"url(#clip002)\" style=\"stroke:#000000; stroke-linecap:butt; stroke-linejoin:round; stroke-width:4; stroke-opacity:0.5; fill:none\" points=\"\n",
       "  1174.94,616.327 1186.31,616.327 1186.31,567.798 1174.94,567.798 1174.94,616.327 \n",
       "  \"/>\n",
       "<path clip-path=\"url(#clip002)\" d=\"\n",
       "M2096.03 615.255 L2107.4 615.255 L2107.4 590.986 L2096.03 590.986 L2096.03 615.255  Z\n",
       "  \" fill=\"#e26f46\" fill-rule=\"evenodd\" fill-opacity=\"0.5\"/>\n",
       "<polyline clip-path=\"url(#clip002)\" style=\"stroke:#000000; stroke-linecap:butt; stroke-linejoin:round; stroke-width:4; stroke-opacity:0.5; fill:none\" points=\"\n",
       "  2096.03,615.255 2107.4,615.255 2107.4,590.986 2096.03,590.986 2096.03,615.255 \n",
       "  \"/>\n",
       "<path clip-path=\"url(#clip000)\" d=\"\n",
       "M1988.32 250.738 L2280.75 250.738 L2280.75 95.2176 L1988.32 95.2176  Z\n",
       "  \" fill=\"#ffffff\" fill-rule=\"evenodd\" fill-opacity=\"1\"/>\n",
       "<polyline clip-path=\"url(#clip000)\" style=\"stroke:#000000; stroke-linecap:butt; stroke-linejoin:round; stroke-width:4; stroke-opacity:1; fill:none\" points=\"\n",
       "  1988.32,250.738 2280.75,250.738 2280.75,95.2176 1988.32,95.2176 1988.32,250.738 \n",
       "  \"/>\n",
       "<polyline clip-path=\"url(#clip000)\" style=\"stroke:#009af9; stroke-linecap:butt; stroke-linejoin:round; stroke-width:4; stroke-opacity:1; fill:none\" points=\"\n",
       "  2012.32,147.058 2156.32,147.058 \n",
       "  \"/>\n",
       "<path clip-path=\"url(#clip000)\" d=\"M2194.17 166.745 Q2192.36 171.375 2190.65 172.787 Q2188.93 174.199 2186.06 174.199 L2182.66 174.199 L2182.66 170.634 L2185.16 170.634 Q2186.92 170.634 2187.89 169.8 Q2188.86 168.967 2190.05 165.865 L2190.81 163.921 L2180.32 138.412 L2184.84 138.412 L2192.94 158.689 L2201.04 138.412 L2205.55 138.412 L2194.17 166.745 Z\" fill=\"#000000\" fill-rule=\"evenodd\" fill-opacity=\"1\" /><path clip-path=\"url(#clip000)\" d=\"M2212.85 160.402 L2220.48 160.402 L2220.48 134.037 L2212.17 135.703 L2212.17 131.444 L2220.44 129.778 L2225.11 129.778 L2225.11 160.402 L2232.75 160.402 L2232.75 164.338 L2212.85 164.338 L2212.85 160.402 Z\" fill=\"#000000\" fill-rule=\"evenodd\" fill-opacity=\"1\" /><path clip-path=\"url(#clip000)\" d=\"\n",
       "M2012.32 219.634 L2156.32 219.634 L2156.32 178.162 L2012.32 178.162 L2012.32 219.634  Z\n",
       "  \" fill=\"#e26f46\" fill-rule=\"evenodd\" fill-opacity=\"0.5\"/>\n",
       "<polyline clip-path=\"url(#clip000)\" style=\"stroke:#000000; stroke-linecap:butt; stroke-linejoin:round; stroke-width:4; stroke-opacity:1; fill:none\" points=\"\n",
       "  2012.32,219.634 2156.32,219.634 2156.32,178.162 2012.32,178.162 2012.32,219.634 \n",
       "  \"/>\n",
       "<path clip-path=\"url(#clip000)\" d=\"M2194.17 218.585 Q2192.36 223.215 2190.65 224.627 Q2188.93 226.039 2186.06 226.039 L2182.66 226.039 L2182.66 222.474 L2185.16 222.474 Q2186.92 222.474 2187.89 221.64 Q2188.86 220.807 2190.05 217.705 L2190.81 215.761 L2180.32 190.252 L2184.84 190.252 L2192.94 210.529 L2201.04 190.252 L2205.55 190.252 L2194.17 218.585 Z\" fill=\"#000000\" fill-rule=\"evenodd\" fill-opacity=\"1\" /><path clip-path=\"url(#clip000)\" d=\"M2216.06 212.242 L2232.38 212.242 L2232.38 216.178 L2210.44 216.178 L2210.44 212.242 Q2213.1 209.488 2217.68 204.858 Q2222.29 200.205 2223.47 198.863 Q2225.72 196.34 2226.6 194.604 Q2227.5 192.844 2227.5 191.155 Q2227.5 188.4 2225.55 186.664 Q2223.63 184.928 2220.53 184.928 Q2218.33 184.928 2215.88 185.692 Q2213.45 186.455 2210.67 188.006 L2210.67 183.284 Q2213.49 182.15 2215.95 181.571 Q2218.4 180.993 2220.44 180.993 Q2225.81 180.993 2229 183.678 Q2232.2 186.363 2232.2 190.854 Q2232.2 192.983 2231.39 194.905 Q2230.6 196.803 2228.49 199.395 Q2227.92 200.067 2224.81 203.284 Q2221.71 206.479 2216.06 212.242 Z\" fill=\"#000000\" fill-rule=\"evenodd\" fill-opacity=\"1\" /></svg>\n"
      ]
     },
     "execution_count": 37,
     "metadata": {},
     "output_type": "execute_result"
    }
   ],
   "source": [
    "plot(f, 0, 0.35)\n",
    "plot!(IntervalBox.(Xzeros, f.(Xzeros)))"
   ]
  },
  {
   "cell_type": "markdown",
   "metadata": {},
   "source": [
    "While this may seem nothing extreme, please remark that this can be used to prove that a function is nonzero in a given interval. This can be used to exclude parameters."
   ]
  },
  {
   "cell_type": "markdown",
   "metadata": {},
   "source": [
    "## The interval Newton method"
   ]
  },
  {
   "cell_type": "markdown",
   "metadata": {},
   "source": [
    "I will introduce now the workhorse of Validated Numerics, the interval Newton method.\n",
    "To do so, we remember the [mean value theorem](https://en.wikipedia.org/wiki/Mean_value_theorem):\n",
    "if $f$ is a continuous function on $[a, b]$ and differentiable on $(a,b)$ then there exists a point\n",
    "$c$ in $(a,b)$ such that\n",
    "$$\n",
    "f(b)-f(a) = f'(c)(b-a).\n",
    "$$"
   ]
  },
  {
   "cell_type": "markdown",
   "metadata": {},
   "source": [
    "We want now to find a solution to the equation \n",
    "$$\n",
    "f(x) = 0.\n",
    "$$"
   ]
  },
  {
   "cell_type": "markdown",
   "metadata": {},
   "source": [
    "By the mean value theorem, if $\\tilde{x}$ is a solution of the equation and $x$ is another, nearby point, we have\n",
    "$$\n",
    "f(x) = f'(c)(x-\\tilde{x}),\n",
    "$$\n",
    "and, if $f'(c)\\neq 0$, this implies that\n",
    "$$\n",
    "\\tilde{x} = x-\\frac{f(x)}{f'(c)};\n",
    "$$\n",
    "this is the motivation behind the Newton iteration method, i.e., building the sequence\n",
    "$$\n",
    "x_{n+1} = x_{n}-\\frac{f(x_n)}{f'(x_n)}.\n",
    "$$\n",
    "Please remark that under some conditions, this method converges to a root, but we do not know which root (there may be more than one) nor we can bound the distance between $x_{n}$ and $\\tilde{x}$.\n",
    "__Important__ please remark that if we knew the point $c$, we could compute exactly the root in one step. But the mean value theorem is a result of existence, it does not tell us which point is the point $c$."
   ]
  },
  {
   "cell_type": "markdown",
   "metadata": {},
   "source": [
    "The interval Newton method answers all these issues:\n",
    "1. it proves whether an interval contains a root or not\n",
    "2. it returns us an interval guaranteed to contain a root (this has the strength of a mathematical proof)\n",
    "3. it can prove the fact that the root inside the interval is unique."
   ]
  },
  {
   "cell_type": "markdown",
   "metadata": {},
   "source": [
    "The idea is similar to the one used to build the Newton iteration. Suppose we are looking for a root of a function in the interval $I$; then, if $m$ is the midpoint of the interval and $\\tilde{x}$ is the root, we have\n",
    "that\n",
    "$$\n",
    "\\tilde{x} = m-\\frac{f(m)}{f'(c)}\n",
    "$$\n",
    "where $c$ is a point in the interval $I$. Now, interval arithmetics allows us to compute an interval that contains $f'(I)$, which in turn contains $f'(c)$.\n",
    "So, given an interval $I$ we can compute a new interval\n",
    "$$\n",
    "N(f, I) = m-\\frac{f(m)}{f'(I)}.\n",
    "$$\n",
    "\n",
    "In Tucker book it is proved that  :\n",
    "- if $I$ contains a root, then $N(f, I)$ contains a root.\n",
    "- if $N(f,I)\\cap I$ is empty, we know that the interval contains no root. If it is not empty we know it contains at least a root.\n",
    "- If $N(f, I)$ is strictly contained in $I$ the root is unique.\n",
    "\n",
    "So, we have now a tool that allows us to rigorously enclose the roots of a function."
   ]
  },
  {
   "cell_type": "code",
   "execution_count": 38,
   "metadata": {},
   "outputs": [
    {
     "data": {
      "text/plain": [
       "Newton (generic function with 1 method)"
      ]
     },
     "execution_count": 38,
     "metadata": {},
     "output_type": "execute_result"
    }
   ],
   "source": [
    "Newton(f, fprime, I::Interval{T}) where {T} = intersect(Interval{T}(mid(I))-f(Interval{T}(mid(I)))/fprime(I), I)"
   ]
  },
  {
   "cell_type": "code",
   "execution_count": 39,
   "metadata": {},
   "outputs": [
    {
     "data": {
      "text/plain": [
       "[3, 3.14922]"
      ]
     },
     "execution_count": 39,
     "metadata": {},
     "output_type": "execute_result"
    }
   ],
   "source": [
    "x = Newton(sin, cos, @interval 3 4)"
   ]
  },
  {
   "cell_type": "markdown",
   "metadata": {},
   "source": [
    "As you can see, the result of the Newton interval step is telling us that the function $sin$ has a unique $0$ in $[3, 4]$ and giving us a tighter interval that contains this $0$.\n",
    "We can iterate this process."
   ]
  },
  {
   "cell_type": "code",
   "execution_count": 40,
   "metadata": {},
   "outputs": [
    {
     "name": "stdout",
     "output_type": "stream",
     "text": [
      "[3.14159, 3.1416]\n",
      "4.440892098500626e-16\n"
     ]
    }
   ],
   "source": [
    "for i in 1:10\n",
    "    x = Newton(sin, cos, x)\n",
    "end\n",
    "println(x)\n",
    "println(diam(x))"
   ]
  },
  {
   "cell_type": "markdown",
   "metadata": {},
   "source": [
    "So, we have computed an interval that contains $\\pi$, which is the $0$ of the function $sin$ in $[3, 4]$, the interval has a diameter of $4.45\\cdot e-16$. Please remark again, that this has the strength of a mathematical theorem, i.e., the interval $x$ has been proved, with the aid of a computer, to contain the value of $\\pi$.\n",
    "If we want tighter bounds, we can use higher precision floating point arithmetics in our intervals."
   ]
  },
  {
   "cell_type": "code",
   "execution_count": 41,
   "metadata": {},
   "outputs": [
    {
     "data": {
      "text/plain": [
       "1024"
      ]
     },
     "execution_count": 41,
     "metadata": {},
     "output_type": "execute_result"
    }
   ],
   "source": [
    "setprecision(1024)"
   ]
  },
  {
   "cell_type": "code",
   "execution_count": 42,
   "metadata": {},
   "outputs": [
    {
     "data": {
      "text/plain": [
       "[3.14159, 3.1416]₁₀₂₄"
      ]
     },
     "execution_count": 42,
     "metadata": {},
     "output_type": "execute_result"
    }
   ],
   "source": [
    "x = Interval{BigFloat}(x) # we will refine the interval computed in Float64"
   ]
  },
  {
   "cell_type": "code",
   "execution_count": 43,
   "metadata": {},
   "outputs": [
    {
     "name": "stdout",
     "output_type": "stream",
     "text": [
      "[3.14159, 3.1416]₁₀₂₄\n",
      "2.225073858507201383090232717332404064219215980462331830553327416887204434813918195854283159012511020564067339731035811005152434161553460108856012385377718821130777993532002330479610147442583636071921565046942503734208375250806650616658158948720491179968591639648500635908770118304874799780887753749949451580452e-308\n"
     ]
    }
   ],
   "source": [
    "for i in 1:10\n",
    "    x = Newton(sin, cos, x)\n",
    "end\n",
    "println(x)\n",
    "println(diam(x))"
   ]
  },
  {
   "cell_type": "markdown",
   "metadata": {},
   "source": [
    "Again, this is a theorem, we have that $\\pi$ is bounded below by"
   ]
  },
  {
   "cell_type": "code",
   "execution_count": 44,
   "metadata": {},
   "outputs": [
    {
     "data": {
      "text/plain": [
       "3.141592653589793238462643383279502884197169399375105820974944592307816406286208998628034825342117067982148086513282306647093844609550582231725359408128481117450284102701938521105559644622948954930381964428810975665933446128475648233786783165271201909145648566923460348610454326648213393607260249141273724586997"
      ]
     },
     "execution_count": 44,
     "metadata": {},
     "output_type": "execute_result"
    }
   ],
   "source": [
    "x.lo"
   ]
  },
  {
   "cell_type": "markdown",
   "metadata": {},
   "source": [
    "and above by"
   ]
  },
  {
   "cell_type": "code",
   "execution_count": 45,
   "metadata": {},
   "outputs": [
    {
     "data": {
      "text/plain": [
       "3.14159265358979323846264338327950288419716939937510582097494459230781640628620899862803482534211706798214808651328230664709384460955058223172535940812848111745028410270193852110555964462294895493038196442881097566593344612847564823378678316527120190914564856692346034861045432664821339360726024914127372458702"
      ]
     },
     "execution_count": 45,
     "metadata": {},
     "output_type": "execute_result"
    }
   ],
   "source": [
    "x.hi"
   ]
  },
  {
   "cell_type": "markdown",
   "metadata": {},
   "source": [
    "Using Automatic Differentiation, the code for the Newton method can be written in an even simpler way."
   ]
  },
  {
   "cell_type": "code",
   "execution_count": 46,
   "metadata": {},
   "outputs": [],
   "source": [
    "using DualNumbers"
   ]
  },
  {
   "cell_type": "code",
   "execution_count": 48,
   "metadata": {},
   "outputs": [
    {
     "data": {
      "text/plain": [
       "Newton (generic function with 2 methods)"
      ]
     },
     "execution_count": 48,
     "metadata": {},
     "output_type": "execute_result"
    }
   ],
   "source": [
    "Newton(f, I) = Newton(f, x->(f(Dual(x, 1)).epsilon), I)"
   ]
  },
  {
   "cell_type": "markdown",
   "metadata": {},
   "source": [
    "We can use this to certify the intervals that may contain the the zeros of the function $f(x) = x \\cdot sin(1/x)$."
   ]
  },
  {
   "cell_type": "code",
   "execution_count": 49,
   "metadata": {},
   "outputs": [
    {
     "data": {
      "text/plain": [
       "25-element Vector{Interval{Float64}}:\n",
       " [0, 0.00195313]\n",
       "    [0.00195312, 0.00390625]\n",
       "    [0.00390625, 0.00585938]\n",
       "    [0.00585937, 0.0078125]\n",
       "    [0.0078125, 0.00976563]\n",
       "    [0.00976562, 0.0117188]\n",
       "    [0.0117187, 0.0136719]\n",
       "    [0.0136718, 0.015625]\n",
       "    [0.015625, 0.0175782]\n",
       "    [0.0175781, 0.0195313]\n",
       "    [0.0195312, 0.0214844]\n",
       "    [0.0214843, 0.0234375]\n",
       "    [0.0234375, 0.0253907]\n",
       "    [0.0253906, 0.0273438]\n",
       "    [0.0273437, 0.0292969]\n",
       "    [0.03125, 0.0318799]\n",
       "    [0.0351562, 0.0354759]\n",
       "    [0.0396595, 0.0398118]\n",
       "    [0.0453143, 0.0455086]\n",
       "    [0.0528781, 0.0531012]\n",
       "    [0.0636509, 0.0636828]\n",
       "    [0.0795542, 0.0796158]\n",
       "    [0.106088, 0.106116]\n",
       "    [0.159154, 0.159156]\n",
       "    [0.318298, 0.318322]"
      ]
     },
     "execution_count": 49,
     "metadata": {},
     "output_type": "execute_result"
    }
   ],
   "source": [
    "new_x = [Newton(f, x) for x in Xzeros]"
   ]
  },
  {
   "cell_type": "code",
   "execution_count": 50,
   "metadata": {},
   "outputs": [
    {
     "data": {
      "image/svg+xml": [
       "<?xml version=\"1.0\" encoding=\"utf-8\"?>\n",
       "<svg xmlns=\"http://www.w3.org/2000/svg\" xmlns:xlink=\"http://www.w3.org/1999/xlink\" width=\"600\" height=\"400\" viewBox=\"0 0 2400 1600\">\n",
       "<defs>\n",
       "  <clipPath id=\"clip040\">\n",
       "    <rect x=\"0\" y=\"0\" width=\"2400\" height=\"1600\"/>\n",
       "  </clipPath>\n",
       "</defs>\n",
       "<path clip-path=\"url(#clip040)\" d=\"\n",
       "M0 1600 L2400 1600 L2400 0 L0 0  Z\n",
       "  \" fill=\"#ffffff\" fill-rule=\"evenodd\" fill-opacity=\"1\"/>\n",
       "<defs>\n",
       "  <clipPath id=\"clip041\">\n",
       "    <rect x=\"480\" y=\"0\" width=\"1681\" height=\"1600\"/>\n",
       "  </clipPath>\n",
       "</defs>\n",
       "<path clip-path=\"url(#clip040)\" d=\"\n",
       "M192.709 1486.45 L2352.76 1486.45 L2352.76 47.2441 L192.709 47.2441  Z\n",
       "  \" fill=\"#ffffff\" fill-rule=\"evenodd\" fill-opacity=\"1\"/>\n",
       "<defs>\n",
       "  <clipPath id=\"clip042\">\n",
       "    <rect x=\"192\" y=\"47\" width=\"2161\" height=\"1440\"/>\n",
       "  </clipPath>\n",
       "</defs>\n",
       "<polyline clip-path=\"url(#clip042)\" style=\"stroke:#000000; stroke-linecap:butt; stroke-linejoin:round; stroke-width:2; stroke-opacity:0.1; fill:none\" points=\"\n",
       "  253.843,1486.45 253.843,47.2441 \n",
       "  \"/>\n",
       "<polyline clip-path=\"url(#clip042)\" style=\"stroke:#000000; stroke-linecap:butt; stroke-linejoin:round; stroke-width:2; stroke-opacity:0.1; fill:none\" points=\"\n",
       "  836.065,1486.45 836.065,47.2441 \n",
       "  \"/>\n",
       "<polyline clip-path=\"url(#clip042)\" style=\"stroke:#000000; stroke-linecap:butt; stroke-linejoin:round; stroke-width:2; stroke-opacity:0.1; fill:none\" points=\"\n",
       "  1418.29,1486.45 1418.29,47.2441 \n",
       "  \"/>\n",
       "<polyline clip-path=\"url(#clip042)\" style=\"stroke:#000000; stroke-linecap:butt; stroke-linejoin:round; stroke-width:2; stroke-opacity:0.1; fill:none\" points=\"\n",
       "  2000.51,1486.45 2000.51,47.2441 \n",
       "  \"/>\n",
       "<polyline clip-path=\"url(#clip040)\" style=\"stroke:#000000; stroke-linecap:butt; stroke-linejoin:round; stroke-width:4; stroke-opacity:1; fill:none\" points=\"\n",
       "  192.709,1486.45 2352.76,1486.45 \n",
       "  \"/>\n",
       "<polyline clip-path=\"url(#clip040)\" style=\"stroke:#000000; stroke-linecap:butt; stroke-linejoin:round; stroke-width:4; stroke-opacity:1; fill:none\" points=\"\n",
       "  253.843,1486.45 253.843,1469.18 \n",
       "  \"/>\n",
       "<polyline clip-path=\"url(#clip040)\" style=\"stroke:#000000; stroke-linecap:butt; stroke-linejoin:round; stroke-width:4; stroke-opacity:1; fill:none\" points=\"\n",
       "  836.065,1486.45 836.065,1469.18 \n",
       "  \"/>\n",
       "<polyline clip-path=\"url(#clip040)\" style=\"stroke:#000000; stroke-linecap:butt; stroke-linejoin:round; stroke-width:4; stroke-opacity:1; fill:none\" points=\"\n",
       "  1418.29,1486.45 1418.29,1469.18 \n",
       "  \"/>\n",
       "<polyline clip-path=\"url(#clip040)\" style=\"stroke:#000000; stroke-linecap:butt; stroke-linejoin:round; stroke-width:4; stroke-opacity:1; fill:none\" points=\"\n",
       "  2000.51,1486.45 2000.51,1469.18 \n",
       "  \"/>\n",
       "<path clip-path=\"url(#clip040)\" d=\"M231.227 1515.64 Q227.616 1515.64 225.787 1519.2 Q223.982 1522.75 223.982 1529.87 Q223.982 1536.98 225.787 1540.55 Q227.616 1544.09 231.227 1544.09 Q234.861 1544.09 236.667 1540.55 Q238.495 1536.98 238.495 1529.87 Q238.495 1522.75 236.667 1519.2 Q234.861 1515.64 231.227 1515.64 M231.227 1511.93 Q237.037 1511.93 240.093 1516.54 Q243.171 1521.12 243.171 1529.87 Q243.171 1538.6 240.093 1543.21 Q237.037 1547.79 231.227 1547.79 Q225.417 1547.79 222.338 1543.21 Q219.283 1538.6 219.283 1529.87 Q219.283 1521.12 222.338 1516.54 Q225.417 1511.93 231.227 1511.93 Z\" fill=\"#000000\" fill-rule=\"evenodd\" fill-opacity=\"1\" /><path clip-path=\"url(#clip040)\" d=\"M251.389 1541.24 L256.273 1541.24 L256.273 1547.12 L251.389 1547.12 L251.389 1541.24 Z\" fill=\"#000000\" fill-rule=\"evenodd\" fill-opacity=\"1\" /><path clip-path=\"url(#clip040)\" d=\"M276.458 1515.64 Q272.847 1515.64 271.018 1519.2 Q269.213 1522.75 269.213 1529.87 Q269.213 1536.98 271.018 1540.55 Q272.847 1544.09 276.458 1544.09 Q280.092 1544.09 281.898 1540.55 Q283.727 1536.98 283.727 1529.87 Q283.727 1522.75 281.898 1519.2 Q280.092 1515.64 276.458 1515.64 M276.458 1511.93 Q282.268 1511.93 285.324 1516.54 Q288.403 1521.12 288.403 1529.87 Q288.403 1538.6 285.324 1543.21 Q282.268 1547.79 276.458 1547.79 Q270.648 1547.79 267.569 1543.21 Q264.514 1538.6 264.514 1529.87 Q264.514 1521.12 267.569 1516.54 Q270.648 1511.93 276.458 1511.93 Z\" fill=\"#000000\" fill-rule=\"evenodd\" fill-opacity=\"1\" /><path clip-path=\"url(#clip040)\" d=\"M814.063 1515.64 Q810.452 1515.64 808.623 1519.2 Q806.818 1522.75 806.818 1529.87 Q806.818 1536.98 808.623 1540.55 Q810.452 1544.09 814.063 1544.09 Q817.697 1544.09 819.503 1540.55 Q821.332 1536.98 821.332 1529.87 Q821.332 1522.75 819.503 1519.2 Q817.697 1515.64 814.063 1515.64 M814.063 1511.93 Q819.873 1511.93 822.929 1516.54 Q826.008 1521.12 826.008 1529.87 Q826.008 1538.6 822.929 1543.21 Q819.873 1547.79 814.063 1547.79 Q808.253 1547.79 805.174 1543.21 Q802.119 1538.6 802.119 1529.87 Q802.119 1521.12 805.174 1516.54 Q808.253 1511.93 814.063 1511.93 Z\" fill=\"#000000\" fill-rule=\"evenodd\" fill-opacity=\"1\" /><path clip-path=\"url(#clip040)\" d=\"M834.225 1541.24 L839.109 1541.24 L839.109 1547.12 L834.225 1547.12 L834.225 1541.24 Z\" fill=\"#000000\" fill-rule=\"evenodd\" fill-opacity=\"1\" /><path clip-path=\"url(#clip040)\" d=\"M850.105 1543.18 L857.744 1543.18 L857.744 1516.82 L849.433 1518.49 L849.433 1514.23 L857.697 1512.56 L862.373 1512.56 L862.373 1543.18 L870.012 1543.18 L870.012 1547.12 L850.105 1547.12 L850.105 1543.18 Z\" fill=\"#000000\" fill-rule=\"evenodd\" fill-opacity=\"1\" /><path clip-path=\"url(#clip040)\" d=\"M1396.47 1515.64 Q1392.86 1515.64 1391.03 1519.2 Q1389.23 1522.75 1389.23 1529.87 Q1389.23 1536.98 1391.03 1540.55 Q1392.86 1544.09 1396.47 1544.09 Q1400.11 1544.09 1401.91 1540.55 Q1403.74 1536.98 1403.74 1529.87 Q1403.74 1522.75 1401.91 1519.2 Q1400.11 1515.64 1396.47 1515.64 M1396.47 1511.93 Q1402.28 1511.93 1405.34 1516.54 Q1408.42 1521.12 1408.42 1529.87 Q1408.42 1538.6 1405.34 1543.21 Q1402.28 1547.79 1396.47 1547.79 Q1390.66 1547.79 1387.58 1543.21 Q1384.53 1538.6 1384.53 1529.87 Q1384.53 1521.12 1387.58 1516.54 Q1390.66 1511.93 1396.47 1511.93 Z\" fill=\"#000000\" fill-rule=\"evenodd\" fill-opacity=\"1\" /><path clip-path=\"url(#clip040)\" d=\"M1416.63 1541.24 L1421.52 1541.24 L1421.52 1547.12 L1416.63 1547.12 L1416.63 1541.24 Z\" fill=\"#000000\" fill-rule=\"evenodd\" fill-opacity=\"1\" /><path clip-path=\"url(#clip040)\" d=\"M1435.73 1543.18 L1452.05 1543.18 L1452.05 1547.12 L1430.11 1547.12 L1430.11 1543.18 Q1432.77 1540.43 1437.35 1535.8 Q1441.96 1531.15 1443.14 1529.81 Q1445.38 1527.28 1446.26 1525.55 Q1447.17 1523.79 1447.17 1522.1 Q1447.17 1519.34 1445.22 1517.61 Q1443.3 1515.87 1440.2 1515.87 Q1438 1515.87 1435.55 1516.63 Q1433.11 1517.4 1430.34 1518.95 L1430.34 1514.23 Q1433.16 1513.09 1435.61 1512.51 Q1438.07 1511.93 1440.11 1511.93 Q1445.48 1511.93 1448.67 1514.62 Q1451.86 1517.31 1451.86 1521.8 Q1451.86 1523.93 1451.05 1525.85 Q1450.27 1527.74 1448.16 1530.34 Q1447.58 1531.01 1444.48 1534.23 Q1441.38 1537.42 1435.73 1543.18 Z\" fill=\"#000000\" fill-rule=\"evenodd\" fill-opacity=\"1\" /><path clip-path=\"url(#clip040)\" d=\"M1978.22 1515.64 Q1974.61 1515.64 1972.78 1519.2 Q1970.97 1522.75 1970.97 1529.87 Q1970.97 1536.98 1972.78 1540.55 Q1974.61 1544.09 1978.22 1544.09 Q1981.85 1544.09 1983.66 1540.55 Q1985.49 1536.98 1985.49 1529.87 Q1985.49 1522.75 1983.66 1519.2 Q1981.85 1515.64 1978.22 1515.64 M1978.22 1511.93 Q1984.03 1511.93 1987.09 1516.54 Q1990.16 1521.12 1990.16 1529.87 Q1990.16 1538.6 1987.09 1543.21 Q1984.03 1547.79 1978.22 1547.79 Q1972.41 1547.79 1969.33 1543.21 Q1966.28 1538.6 1966.28 1529.87 Q1966.28 1521.12 1969.33 1516.54 Q1972.41 1511.93 1978.22 1511.93 Z\" fill=\"#000000\" fill-rule=\"evenodd\" fill-opacity=\"1\" /><path clip-path=\"url(#clip040)\" d=\"M1998.38 1541.24 L2003.27 1541.24 L2003.27 1547.12 L1998.38 1547.12 L1998.38 1541.24 Z\" fill=\"#000000\" fill-rule=\"evenodd\" fill-opacity=\"1\" /><path clip-path=\"url(#clip040)\" d=\"M2027.62 1528.49 Q2030.97 1529.2 2032.85 1531.47 Q2034.75 1533.74 2034.75 1537.07 Q2034.75 1542.19 2031.23 1544.99 Q2027.71 1547.79 2021.23 1547.79 Q2019.05 1547.79 2016.74 1547.35 Q2014.45 1546.93 2011.99 1546.08 L2011.99 1541.56 Q2013.94 1542.7 2016.25 1543.28 Q2018.57 1543.86 2021.09 1543.86 Q2025.49 1543.86 2027.78 1542.12 Q2030.09 1540.38 2030.09 1537.07 Q2030.09 1534.02 2027.94 1532.31 Q2025.81 1530.57 2021.99 1530.57 L2017.96 1530.57 L2017.96 1526.73 L2022.18 1526.73 Q2025.63 1526.73 2027.46 1525.36 Q2029.28 1523.97 2029.28 1521.38 Q2029.28 1518.72 2027.39 1517.31 Q2025.51 1515.87 2021.99 1515.87 Q2020.07 1515.87 2017.87 1516.29 Q2015.67 1516.7 2013.03 1517.58 L2013.03 1513.42 Q2015.7 1512.68 2018.01 1512.31 Q2020.35 1511.93 2022.41 1511.93 Q2027.73 1511.93 2030.83 1514.37 Q2033.94 1516.77 2033.94 1520.89 Q2033.94 1523.76 2032.29 1525.75 Q2030.65 1527.72 2027.62 1528.49 Z\" fill=\"#000000\" fill-rule=\"evenodd\" fill-opacity=\"1\" /><polyline clip-path=\"url(#clip042)\" style=\"stroke:#000000; stroke-linecap:butt; stroke-linejoin:round; stroke-width:2; stroke-opacity:0.1; fill:none\" points=\"\n",
       "  192.709,1377.96 2352.76,1377.96 \n",
       "  \"/>\n",
       "<polyline clip-path=\"url(#clip042)\" style=\"stroke:#000000; stroke-linecap:butt; stroke-linejoin:round; stroke-width:2; stroke-opacity:0.1; fill:none\" points=\"\n",
       "  192.709,984.78 2352.76,984.78 \n",
       "  \"/>\n",
       "<polyline clip-path=\"url(#clip042)\" style=\"stroke:#000000; stroke-linecap:butt; stroke-linejoin:round; stroke-width:2; stroke-opacity:0.1; fill:none\" points=\"\n",
       "  192.709,591.597 2352.76,591.597 \n",
       "  \"/>\n",
       "<polyline clip-path=\"url(#clip042)\" style=\"stroke:#000000; stroke-linecap:butt; stroke-linejoin:round; stroke-width:2; stroke-opacity:0.1; fill:none\" points=\"\n",
       "  192.709,198.414 2352.76,198.414 \n",
       "  \"/>\n",
       "<polyline clip-path=\"url(#clip040)\" style=\"stroke:#000000; stroke-linecap:butt; stroke-linejoin:round; stroke-width:4; stroke-opacity:1; fill:none\" points=\"\n",
       "  192.709,1486.45 192.709,47.2441 \n",
       "  \"/>\n",
       "<polyline clip-path=\"url(#clip040)\" style=\"stroke:#000000; stroke-linecap:butt; stroke-linejoin:round; stroke-width:4; stroke-opacity:1; fill:none\" points=\"\n",
       "  192.709,1377.96 218.63,1377.96 \n",
       "  \"/>\n",
       "<polyline clip-path=\"url(#clip040)\" style=\"stroke:#000000; stroke-linecap:butt; stroke-linejoin:round; stroke-width:4; stroke-opacity:1; fill:none\" points=\"\n",
       "  192.709,984.78 218.63,984.78 \n",
       "  \"/>\n",
       "<polyline clip-path=\"url(#clip040)\" style=\"stroke:#000000; stroke-linecap:butt; stroke-linejoin:round; stroke-width:4; stroke-opacity:1; fill:none\" points=\"\n",
       "  192.709,591.597 218.63,591.597 \n",
       "  \"/>\n",
       "<polyline clip-path=\"url(#clip040)\" style=\"stroke:#000000; stroke-linecap:butt; stroke-linejoin:round; stroke-width:4; stroke-opacity:1; fill:none\" points=\"\n",
       "  192.709,198.414 218.63,198.414 \n",
       "  \"/>\n",
       "<path clip-path=\"url(#clip040)\" d=\"M51.3625 1378.41 L81.0383 1378.41 L81.0383 1382.35 L51.3625 1382.35 L51.3625 1378.41 Z\" fill=\"#000000\" fill-rule=\"evenodd\" fill-opacity=\"1\" /><path clip-path=\"url(#clip040)\" d=\"M101.131 1363.76 Q97.5197 1363.76 95.691 1367.33 Q93.8854 1370.87 93.8854 1378 Q93.8854 1385.1 95.691 1388.67 Q97.5197 1392.21 101.131 1392.21 Q104.765 1392.21 106.571 1388.67 Q108.399 1385.1 108.399 1378 Q108.399 1370.87 106.571 1367.33 Q104.765 1363.76 101.131 1363.76 M101.131 1360.06 Q106.941 1360.06 109.996 1364.67 Q113.075 1369.25 113.075 1378 Q113.075 1386.73 109.996 1391.33 Q106.941 1395.91 101.131 1395.91 Q95.3206 1395.91 92.2419 1391.33 Q89.1864 1386.73 89.1864 1378 Q89.1864 1369.25 92.2419 1364.67 Q95.3206 1360.06 101.131 1360.06 Z\" fill=\"#000000\" fill-rule=\"evenodd\" fill-opacity=\"1\" /><path clip-path=\"url(#clip040)\" d=\"M121.293 1389.36 L126.177 1389.36 L126.177 1395.24 L121.293 1395.24 L121.293 1389.36 Z\" fill=\"#000000\" fill-rule=\"evenodd\" fill-opacity=\"1\" /><path clip-path=\"url(#clip040)\" d=\"M140.39 1391.31 L156.709 1391.31 L156.709 1395.24 L134.765 1395.24 L134.765 1391.31 Q137.427 1388.55 142.01 1383.92 Q146.617 1379.27 147.797 1377.93 Q150.043 1375.41 150.922 1373.67 Q151.825 1371.91 151.825 1370.22 Q151.825 1367.47 149.88 1365.73 Q147.959 1363.99 144.857 1363.99 Q142.658 1363.99 140.205 1364.76 Q137.774 1365.52 134.996 1367.07 L134.996 1362.35 Q137.82 1361.22 140.274 1360.64 Q142.728 1360.06 144.765 1360.06 Q150.135 1360.06 153.33 1362.74 Q156.524 1365.43 156.524 1369.92 Q156.524 1372.05 155.714 1373.97 Q154.927 1375.87 152.82 1378.46 Q152.242 1379.13 149.14 1382.35 Q146.038 1385.54 140.39 1391.31 Z\" fill=\"#000000\" fill-rule=\"evenodd\" fill-opacity=\"1\" /><path clip-path=\"url(#clip040)\" d=\"M50.9921 985.232 L80.6679 985.232 L80.6679 989.167 L50.9921 989.167 L50.9921 985.232 Z\" fill=\"#000000\" fill-rule=\"evenodd\" fill-opacity=\"1\" /><path clip-path=\"url(#clip040)\" d=\"M100.76 970.579 Q97.1493 970.579 95.3206 974.144 Q93.515 977.685 93.515 984.815 Q93.515 991.921 95.3206 995.486 Q97.1493 999.028 100.76 999.028 Q104.395 999.028 106.2 995.486 Q108.029 991.921 108.029 984.815 Q108.029 977.685 106.2 974.144 Q104.395 970.579 100.76 970.579 M100.76 966.875 Q106.571 966.875 109.626 971.482 Q112.705 976.065 112.705 984.815 Q112.705 993.542 109.626 998.148 Q106.571 1002.73 100.76 1002.73 Q94.9502 1002.73 91.8715 998.148 Q88.816 993.542 88.816 984.815 Q88.816 976.065 91.8715 971.482 Q94.9502 966.875 100.76 966.875 Z\" fill=\"#000000\" fill-rule=\"evenodd\" fill-opacity=\"1\" /><path clip-path=\"url(#clip040)\" d=\"M120.922 996.181 L125.807 996.181 L125.807 1002.06 L120.922 1002.06 L120.922 996.181 Z\" fill=\"#000000\" fill-rule=\"evenodd\" fill-opacity=\"1\" /><path clip-path=\"url(#clip040)\" d=\"M136.802 998.125 L144.441 998.125 L144.441 971.759 L136.131 973.426 L136.131 969.167 L144.394 967.5 L149.07 967.5 L149.07 998.125 L156.709 998.125 L156.709 1002.06 L136.802 1002.06 L136.802 998.125 Z\" fill=\"#000000\" fill-rule=\"evenodd\" fill-opacity=\"1\" /><path clip-path=\"url(#clip040)\" d=\"M99.5335 577.396 Q95.9224 577.396 94.0937 580.96 Q92.2882 584.502 92.2882 591.632 Q92.2882 598.738 94.0937 602.303 Q95.9224 605.845 99.5335 605.845 Q103.168 605.845 104.973 602.303 Q106.802 598.738 106.802 591.632 Q106.802 584.502 104.973 580.96 Q103.168 577.396 99.5335 577.396 M99.5335 573.692 Q105.344 573.692 108.399 578.298 Q111.478 582.882 111.478 591.632 Q111.478 600.358 108.399 604.965 Q105.344 609.548 99.5335 609.548 Q93.7234 609.548 90.6447 604.965 Q87.5892 600.358 87.5892 591.632 Q87.5892 582.882 90.6447 578.298 Q93.7234 573.692 99.5335 573.692 Z\" fill=\"#000000\" fill-rule=\"evenodd\" fill-opacity=\"1\" /><path clip-path=\"url(#clip040)\" d=\"M119.695 602.997 L124.58 602.997 L124.58 608.877 L119.695 608.877 L119.695 602.997 Z\" fill=\"#000000\" fill-rule=\"evenodd\" fill-opacity=\"1\" /><path clip-path=\"url(#clip040)\" d=\"M144.765 577.396 Q141.154 577.396 139.325 580.96 Q137.519 584.502 137.519 591.632 Q137.519 598.738 139.325 602.303 Q141.154 605.845 144.765 605.845 Q148.399 605.845 150.205 602.303 Q152.033 598.738 152.033 591.632 Q152.033 584.502 150.205 580.96 Q148.399 577.396 144.765 577.396 M144.765 573.692 Q150.575 573.692 153.63 578.298 Q156.709 582.882 156.709 591.632 Q156.709 600.358 153.63 604.965 Q150.575 609.548 144.765 609.548 Q138.955 609.548 135.876 604.965 Q132.82 600.358 132.82 591.632 Q132.82 582.882 135.876 578.298 Q138.955 573.692 144.765 573.692 Z\" fill=\"#000000\" fill-rule=\"evenodd\" fill-opacity=\"1\" /><path clip-path=\"url(#clip040)\" d=\"M100.76 184.212 Q97.1493 184.212 95.3206 187.777 Q93.515 191.319 93.515 198.448 Q93.515 205.555 95.3206 209.12 Q97.1493 212.661 100.76 212.661 Q104.395 212.661 106.2 209.12 Q108.029 205.555 108.029 198.448 Q108.029 191.319 106.2 187.777 Q104.395 184.212 100.76 184.212 M100.76 180.509 Q106.571 180.509 109.626 185.115 Q112.705 189.698 112.705 198.448 Q112.705 207.175 109.626 211.782 Q106.571 216.365 100.76 216.365 Q94.9502 216.365 91.8715 211.782 Q88.816 207.175 88.816 198.448 Q88.816 189.698 91.8715 185.115 Q94.9502 180.509 100.76 180.509 Z\" fill=\"#000000\" fill-rule=\"evenodd\" fill-opacity=\"1\" /><path clip-path=\"url(#clip040)\" d=\"M120.922 209.814 L125.807 209.814 L125.807 215.694 L120.922 215.694 L120.922 209.814 Z\" fill=\"#000000\" fill-rule=\"evenodd\" fill-opacity=\"1\" /><path clip-path=\"url(#clip040)\" d=\"M136.802 211.758 L144.441 211.758 L144.441 185.393 L136.131 187.059 L136.131 182.8 L144.394 181.134 L149.07 181.134 L149.07 211.758 L156.709 211.758 L156.709 215.694 L136.802 215.694 L136.802 211.758 Z\" fill=\"#000000\" fill-rule=\"evenodd\" fill-opacity=\"1\" /><polyline clip-path=\"url(#clip042)\" style=\"stroke:#009af9; stroke-linecap:butt; stroke-linejoin:round; stroke-width:4; stroke-opacity:1; fill:none\" points=\"\n",
       "  258.818,588.238 263.793,586.8 268.768,586.501 273.743,596.799 275.181,585.156 276.618,605.722 278.056,575.37 279.493,579.354 282.369,589.648 285.244,592.874 \n",
       "  286.681,569.874 288.119,586.649 289.556,599.612 290.994,600.524 292.432,589.483 293.869,569.68 295.307,568.723 296.744,608.48 298.182,609.391 299.62,560.718 \n",
       "  301.057,614.296 302.495,582.198 303.932,591.501 305.37,595.215 306.807,590.544 308.245,584.033 309.683,612.694 311.12,556.807 312.558,630.454 313.995,568.708 \n",
       "  315.433,579.95 316.87,632.24 318.308,560.651 319.746,575.055 321.183,636.975 322.621,583.706 324.058,546.785 325.496,611.587 326.933,635.973 328.371,571.123 \n",
       "  329.809,543.006 331.246,600.911 332.684,644.829 334.121,605.979 335.559,544.942 336.996,547.524 338.434,607.793 339.872,649.179 341.309,624.542 342.747,563.624 \n",
       "  344.184,530.647 345.622,556.326 347.06,614.534 348.497,653.543 349.935,642.422 351.372,592.04 352.81,540.929 354.247,524.381 355.685,551.617 357.123,603.769 \n",
       "  358.56,649.091 359.998,662.666 361.435,638.766 362.873,591.084 364.31,543.43 365.748,517.412 367.186,523.287 368.623,557.229 370.061,604.726 371.498,647.487 \n",
       "  372.936,670.525 374.373,666.887 375.811,638.892 377.249,596.224 378.686,552.089 380.124,518.991 381.561,505.394 382.999,513.999 384.436,541.771 385.874,581.368 \n",
       "  387.312,623.348 388.749,658.507 390.187,679.803 391.624,683.533 393.062,669.669 394.5,641.44 395.937,604.382 397.375,565.112 398.812,530.114 400.25,504.709 \n",
       "  401.687,492.367 403.125,494.396 404.563,509.985 406,536.55 407.438,570.256 408.875,606.649 410.313,641.262 411.75,670.148 413.188,690.283 414.626,699.799 \n",
       "  416.063,698.072 417.501,685.658 418.938,664.123 420.376,635.788 421.813,603.441 423.251,570.044 424.689,538.451 426.126,511.185 427.564,490.261 429.001,477.075 \n",
       "  430.439,472.357 431.876,476.178 433.314,488.003 434.752,506.791 437.627,559.238 440.502,619.622 443.377,673.795 446.252,710.535 447.69,720.149 449.127,723.412 \n",
       "  450.565,720.35 452.003,711.288 454.878,677.691 457.753,629.461 461.209,564.151 464.664,504.589 466.392,480.785 468.12,462.447 469.848,450.281 471.576,444.658 \n",
       "  473.303,445.626 475.031,452.941 476.759,466.101 478.487,484.391 481.943,532.728 485.398,589.844 488.854,647.285 492.31,697.484 495.765,734.616 499.221,755.038 \n",
       "  502.677,757.385 506.133,742.37 509.588,712.388 513.044,671.033 516.5,622.568 519.955,571.45 523.411,521.912 526.867,477.653 530.322,441.622 533.778,415.906 \n",
       "  537.234,401.7 540.689,399.349 544.145,408.44 547.601,427.93 551.057,456.289 554.512,491.652 561.424,575.095 568.335,661.714 574.178,726.639 580.022,776.925 \n",
       "  582.944,795.198 585.865,808.46 588.787,816.57 591.709,819.517 594.631,817.412 597.552,810.469 600.474,798.994 603.396,783.367 609.239,741.456 615.083,688.695 \n",
       "  626.77,567.525 638.457,451.408 644.3,403.055 650.144,364.035 655.987,335.639 661.831,318.525 668.178,312.805 674.526,319.962 680.874,338.931 687.221,368.257 \n",
       "  699.917,450.948 712.612,553.096 725.307,660.19 738.003,759.966 744.35,804.123 750.698,843.282 757.046,876.816 763.393,904.289 769.245,924.019 775.097,938.288 \n",
       "  780.949,947.114 786.801,950.599 792.653,948.924 798.505,942.332 804.357,931.116 810.209,915.612 821.913,873.219 833.617,818.275 845.321,754.009 857.025,683.562 \n",
       "  882.121,524.913 907.217,374.75 919.765,308.241 932.313,249.387 944.86,199.124 957.408,158.021 971.946,122.186 986.484,98.9677 1001.02,87.9763 1015.56,88.5452 \n",
       "  1030.1,99.8092 1044.64,120.771 1059.17,150.355 1073.71,187.456 1099.55,268.529 1125.39,363.947 1151.23,468.355 1177.07,577.13 1222.39,767.234 1267.7,943.94 \n",
       "  1292.41,1031.05 1317.11,1110.38 1341.82,1181.33 1366.52,1243.59 1391.37,1297.36 1416.22,1342.32 1441.07,1378.67 1465.92,1406.74 1493.4,1428.59 1520.88,1441.37 \n",
       "  1548.35,1445.72 1575.83,1442.28 1601.97,1432.38 1628.11,1416.58 1654.25,1395.42 1680.4,1369.42 1734.76,1301.94 1789.13,1219.62 1834.89,1141.39 1880.65,1056.88 \n",
       "  1992.4,833.241 2097.44,612.126 2265.72,258.528 2291.62,205.411 \n",
       "  \"/>\n",
       "<path clip-path=\"url(#clip042)\" d=\"\n",
       "M253.843 599.276 L265.214 599.276 L265.214 583.918 L253.843 583.918 L253.843 599.276  Z\n",
       "  \" fill=\"#e26f46\" fill-rule=\"evenodd\" fill-opacity=\"0.5\"/>\n",
       "<polyline clip-path=\"url(#clip042)\" style=\"stroke:#000000; stroke-linecap:butt; stroke-linejoin:round; stroke-width:4; stroke-opacity:0.5; fill:none\" points=\"\n",
       "  253.843,599.276 265.214,599.276 265.214,583.918 253.843,583.918 253.843,599.276 \n",
       "  \"/>\n",
       "<path clip-path=\"url(#clip042)\" d=\"\n",
       "M265.214 606.956 L276.586 606.956 L276.586 576.238 L265.214 576.238 L265.214 606.956  Z\n",
       "  \" fill=\"#e26f46\" fill-rule=\"evenodd\" fill-opacity=\"0.5\"/>\n",
       "<polyline clip-path=\"url(#clip042)\" style=\"stroke:#000000; stroke-linecap:butt; stroke-linejoin:round; stroke-width:4; stroke-opacity:0.5; fill:none\" points=\"\n",
       "  265.214,606.956 276.586,606.956 276.586,576.238 265.214,576.238 265.214,606.956 \n",
       "  \"/>\n",
       "<path clip-path=\"url(#clip042)\" d=\"\n",
       "M276.586 614.635 L287.957 614.635 L287.957 568.559 L276.586 568.559 L276.586 614.635  Z\n",
       "  \" fill=\"#e26f46\" fill-rule=\"evenodd\" fill-opacity=\"0.5\"/>\n",
       "<polyline clip-path=\"url(#clip042)\" style=\"stroke:#000000; stroke-linecap:butt; stroke-linejoin:round; stroke-width:4; stroke-opacity:0.5; fill:none\" points=\"\n",
       "  276.586,614.635 287.957,614.635 287.957,568.559 276.586,568.559 276.586,614.635 \n",
       "  \"/>\n",
       "<path clip-path=\"url(#clip042)\" d=\"\n",
       "M287.957 622.314 L299.329 622.314 L299.329 560.879 L287.957 560.879 L287.957 622.314  Z\n",
       "  \" fill=\"#e26f46\" fill-rule=\"evenodd\" fill-opacity=\"0.5\"/>\n",
       "<polyline clip-path=\"url(#clip042)\" style=\"stroke:#000000; stroke-linecap:butt; stroke-linejoin:round; stroke-width:4; stroke-opacity:0.5; fill:none\" points=\"\n",
       "  287.957,622.314 299.329,622.314 299.329,560.879 287.957,560.879 287.957,622.314 \n",
       "  \"/>\n",
       "<path clip-path=\"url(#clip042)\" d=\"\n",
       "M299.329 629.994 L310.7 629.994 L310.7 553.2 L299.329 553.2 L299.329 629.994  Z\n",
       "  \" fill=\"#e26f46\" fill-rule=\"evenodd\" fill-opacity=\"0.5\"/>\n",
       "<polyline clip-path=\"url(#clip042)\" style=\"stroke:#000000; stroke-linecap:butt; stroke-linejoin:round; stroke-width:4; stroke-opacity:0.5; fill:none\" points=\"\n",
       "  299.329,629.994 310.7,629.994 310.7,553.2 299.329,553.2 299.329,629.994 \n",
       "  \"/>\n",
       "<path clip-path=\"url(#clip042)\" d=\"\n",
       "M310.7 637.673 L322.072 637.673 L322.072 545.521 L310.7 545.521 L310.7 637.673  Z\n",
       "  \" fill=\"#e26f46\" fill-rule=\"evenodd\" fill-opacity=\"0.5\"/>\n",
       "<polyline clip-path=\"url(#clip042)\" style=\"stroke:#000000; stroke-linecap:butt; stroke-linejoin:round; stroke-width:4; stroke-opacity:0.5; fill:none\" points=\"\n",
       "  310.7,637.673 322.072,637.673 322.072,545.521 310.7,545.521 310.7,637.673 \n",
       "  \"/>\n",
       "<path clip-path=\"url(#clip042)\" d=\"\n",
       "M322.072 645.352 L333.443 645.352 L333.443 537.841 L322.072 537.841 L322.072 645.352  Z\n",
       "  \" fill=\"#e26f46\" fill-rule=\"evenodd\" fill-opacity=\"0.5\"/>\n",
       "<polyline clip-path=\"url(#clip042)\" style=\"stroke:#000000; stroke-linecap:butt; stroke-linejoin:round; stroke-width:4; stroke-opacity:0.5; fill:none\" points=\"\n",
       "  322.072,645.352 333.443,645.352 333.443,537.841 322.072,537.841 322.072,645.352 \n",
       "  \"/>\n",
       "<path clip-path=\"url(#clip042)\" d=\"\n",
       "M333.443 653.032 L344.815 653.032 L344.815 530.162 L333.443 530.162 L333.443 653.032  Z\n",
       "  \" fill=\"#e26f46\" fill-rule=\"evenodd\" fill-opacity=\"0.5\"/>\n",
       "<polyline clip-path=\"url(#clip042)\" style=\"stroke:#000000; stroke-linecap:butt; stroke-linejoin:round; stroke-width:4; stroke-opacity:0.5; fill:none\" points=\"\n",
       "  333.443,653.032 344.815,653.032 344.815,530.162 333.443,530.162 333.443,653.032 \n",
       "  \"/>\n",
       "<path clip-path=\"url(#clip042)\" d=\"\n",
       "M344.815 660.711 L356.186 660.711 L356.186 522.483 L344.815 522.483 L344.815 660.711  Z\n",
       "  \" fill=\"#e26f46\" fill-rule=\"evenodd\" fill-opacity=\"0.5\"/>\n",
       "<polyline clip-path=\"url(#clip042)\" style=\"stroke:#000000; stroke-linecap:butt; stroke-linejoin:round; stroke-width:4; stroke-opacity:0.5; fill:none\" points=\"\n",
       "  344.815,660.711 356.186,660.711 356.186,522.483 344.815,522.483 344.815,660.711 \n",
       "  \"/>\n",
       "<path clip-path=\"url(#clip042)\" d=\"\n",
       "M356.186 668.391 L367.558 668.391 L367.558 514.803 L356.186 514.803 L356.186 668.391  Z\n",
       "  \" fill=\"#e26f46\" fill-rule=\"evenodd\" fill-opacity=\"0.5\"/>\n",
       "<polyline clip-path=\"url(#clip042)\" style=\"stroke:#000000; stroke-linecap:butt; stroke-linejoin:round; stroke-width:4; stroke-opacity:0.5; fill:none\" points=\"\n",
       "  356.186,668.391 367.558,668.391 367.558,514.803 356.186,514.803 356.186,668.391 \n",
       "  \"/>\n",
       "<path clip-path=\"url(#clip042)\" d=\"\n",
       "M367.558 676.07 L378.929 676.07 L378.929 523.654 L367.558 523.654 L367.558 676.07  Z\n",
       "  \" fill=\"#e26f46\" fill-rule=\"evenodd\" fill-opacity=\"0.5\"/>\n",
       "<polyline clip-path=\"url(#clip042)\" style=\"stroke:#000000; stroke-linecap:butt; stroke-linejoin:round; stroke-width:4; stroke-opacity:0.5; fill:none\" points=\"\n",
       "  367.558,676.07 378.929,676.07 378.929,523.654 367.558,523.654 367.558,676.07 \n",
       "  \"/>\n",
       "<path clip-path=\"url(#clip042)\" d=\"\n",
       "M378.929 680.765 L390.301 680.765 L390.301 499.445 L378.929 499.445 L378.929 680.765  Z\n",
       "  \" fill=\"#e26f46\" fill-rule=\"evenodd\" fill-opacity=\"0.5\"/>\n",
       "<polyline clip-path=\"url(#clip042)\" style=\"stroke:#000000; stroke-linecap:butt; stroke-linejoin:round; stroke-width:4; stroke-opacity:0.5; fill:none\" points=\"\n",
       "  378.929,680.765 390.301,680.765 390.301,499.445 378.929,499.445 378.929,680.765 \n",
       "  \"/>\n",
       "<path clip-path=\"url(#clip042)\" d=\"\n",
       "M390.301 691.429 L401.673 691.429 L401.673 492.421 L390.301 492.421 L390.301 691.429  Z\n",
       "  \" fill=\"#e26f46\" fill-rule=\"evenodd\" fill-opacity=\"0.5\"/>\n",
       "<polyline clip-path=\"url(#clip042)\" style=\"stroke:#000000; stroke-linecap:butt; stroke-linejoin:round; stroke-width:4; stroke-opacity:0.5; fill:none\" points=\"\n",
       "  390.301,691.429 401.673,691.429 401.673,492.421 390.301,492.421 390.301,691.429 \n",
       "  \"/>\n",
       "<path clip-path=\"url(#clip042)\" d=\"\n",
       "M401.673 688.725 L413.044 688.725 L413.044 484.086 L401.673 484.086 L401.673 688.725  Z\n",
       "  \" fill=\"#e26f46\" fill-rule=\"evenodd\" fill-opacity=\"0.5\"/>\n",
       "<polyline clip-path=\"url(#clip042)\" style=\"stroke:#000000; stroke-linecap:butt; stroke-linejoin:round; stroke-width:4; stroke-opacity:0.5; fill:none\" points=\"\n",
       "  401.673,688.725 413.044,688.725 413.044,484.086 401.673,484.086 401.673,688.725 \n",
       "  \"/>\n",
       "<path clip-path=\"url(#clip042)\" d=\"\n",
       "M413.044 706.787 L424.416 706.787 L424.416 544.187 L413.044 544.187 L413.044 706.787  Z\n",
       "  \" fill=\"#e26f46\" fill-rule=\"evenodd\" fill-opacity=\"0.5\"/>\n",
       "<polyline clip-path=\"url(#clip042)\" style=\"stroke:#000000; stroke-linecap:butt; stroke-linejoin:round; stroke-width:4; stroke-opacity:0.5; fill:none\" points=\"\n",
       "  413.044,706.787 424.416,706.787 424.416,544.187 413.044,544.187 413.044,706.787 \n",
       "  \"/>\n",
       "<path clip-path=\"url(#clip042)\" d=\"\n",
       "M435.787 597.632 L439.454 597.632 L439.454 522.478 L435.787 522.478 L435.787 597.632  Z\n",
       "  \" fill=\"#e26f46\" fill-rule=\"evenodd\" fill-opacity=\"0.5\"/>\n",
       "<polyline clip-path=\"url(#clip042)\" style=\"stroke:#000000; stroke-linecap:butt; stroke-linejoin:round; stroke-width:4; stroke-opacity:0.5; fill:none\" points=\"\n",
       "  435.787,597.632 439.454,597.632 439.454,522.478 435.787,522.478 435.787,597.632 \n",
       "  \"/>\n",
       "<path clip-path=\"url(#clip042)\" d=\"\n",
       "M458.53 615.211 L460.391 615.211 L460.391 579.594 L458.53 579.594 L458.53 615.211  Z\n",
       "  \" fill=\"#e26f46\" fill-rule=\"evenodd\" fill-opacity=\"0.5\"/>\n",
       "<polyline clip-path=\"url(#clip042)\" style=\"stroke:#000000; stroke-linecap:butt; stroke-linejoin:round; stroke-width:4; stroke-opacity:0.5; fill:none\" points=\"\n",
       "  458.53,615.211 460.391,615.211 460.391,579.594 458.53,579.594 458.53,615.211 \n",
       "  \"/>\n",
       "<path clip-path=\"url(#clip042)\" d=\"\n",
       "M484.75 593.871 L485.636 593.871 L485.636 578.8 L484.75 578.8 L484.75 593.871  Z\n",
       "  \" fill=\"#e26f46\" fill-rule=\"evenodd\" fill-opacity=\"0.5\"/>\n",
       "<polyline clip-path=\"url(#clip042)\" style=\"stroke:#000000; stroke-linecap:butt; stroke-linejoin:round; stroke-width:4; stroke-opacity:0.5; fill:none\" points=\"\n",
       "  484.75,593.871 485.636,593.871 485.636,578.8 484.75,578.8 484.75,593.871 \n",
       "  \"/>\n",
       "<path clip-path=\"url(#clip042)\" d=\"\n",
       "M517.673 605.35 L518.804 605.35 L518.804 588.508 L517.673 588.508 L517.673 605.35  Z\n",
       "  \" fill=\"#e26f46\" fill-rule=\"evenodd\" fill-opacity=\"0.5\"/>\n",
       "<polyline clip-path=\"url(#clip042)\" style=\"stroke:#000000; stroke-linecap:butt; stroke-linejoin:round; stroke-width:4; stroke-opacity:0.5; fill:none\" points=\"\n",
       "  517.673,605.35 518.804,605.35 518.804,588.508 517.673,588.508 517.673,605.35 \n",
       "  \"/>\n",
       "<path clip-path=\"url(#clip042)\" d=\"\n",
       "M561.711 595.268 L563.01 595.268 L563.01 578.694 L561.711 578.694 L561.711 595.268  Z\n",
       "  \" fill=\"#e26f46\" fill-rule=\"evenodd\" fill-opacity=\"0.5\"/>\n",
       "<polyline clip-path=\"url(#clip042)\" style=\"stroke:#000000; stroke-linecap:butt; stroke-linejoin:round; stroke-width:4; stroke-opacity:0.5; fill:none\" points=\"\n",
       "  561.711,595.268 563.01,595.268 563.01,578.694 561.711,578.694 561.711,595.268 \n",
       "  \"/>\n",
       "<path clip-path=\"url(#clip042)\" d=\"\n",
       "M624.433 592.276 L624.618 592.276 L624.618 590.314 L624.433 590.314 L624.433 592.276  Z\n",
       "  \" fill=\"#e26f46\" fill-rule=\"evenodd\" fill-opacity=\"0.5\"/>\n",
       "<polyline clip-path=\"url(#clip042)\" style=\"stroke:#000000; stroke-linecap:butt; stroke-linejoin:round; stroke-width:4; stroke-opacity:0.5; fill:none\" points=\"\n",
       "  624.433,592.276 624.618,592.276 624.618,590.314 624.433,590.314 624.433,592.276 \n",
       "  \"/>\n",
       "<path clip-path=\"url(#clip042)\" d=\"\n",
       "M717.026 593.486 L717.383 593.486 L717.383 590.449 L717.026 590.449 L717.026 593.486  Z\n",
       "  \" fill=\"#e26f46\" fill-rule=\"evenodd\" fill-opacity=\"0.5\"/>\n",
       "<polyline clip-path=\"url(#clip042)\" style=\"stroke:#000000; stroke-linecap:butt; stroke-linejoin:round; stroke-width:4; stroke-opacity:0.5; fill:none\" points=\"\n",
       "  717.026,593.486 717.383,593.486 717.383,590.449 717.026,590.449 717.026,593.486 \n",
       "  \"/>\n",
       "<path clip-path=\"url(#clip042)\" d=\"\n",
       "M871.512 592.161 L871.671 592.161 L871.671 591.144 L871.512 591.144 L871.512 592.161  Z\n",
       "  \" fill=\"#e26f46\" fill-rule=\"evenodd\" fill-opacity=\"0.5\"/>\n",
       "<polyline clip-path=\"url(#clip042)\" style=\"stroke:#000000; stroke-linecap:butt; stroke-linejoin:round; stroke-width:4; stroke-opacity:0.5; fill:none\" points=\"\n",
       "  871.512,592.161 871.671,592.161 871.671,591.144 871.512,591.144 871.512,592.161 \n",
       "  \"/>\n",
       "<path clip-path=\"url(#clip042)\" d=\"\n",
       "M1180.48 591.612 L1180.48 591.612 L1180.48 591.581 L1180.48 591.581 L1180.48 591.612  Z\n",
       "  \" fill=\"#e26f46\" fill-rule=\"evenodd\" fill-opacity=\"0.5\"/>\n",
       "<polyline clip-path=\"url(#clip042)\" style=\"stroke:#000000; stroke-linecap:butt; stroke-linejoin:round; stroke-width:4; stroke-opacity:0.5; fill:none\" points=\"\n",
       "  1180.48,591.612 1180.48,591.612 1180.48,591.581 1180.48,591.581 1180.48,591.612 \n",
       "  \"/>\n",
       "<path clip-path=\"url(#clip042)\" d=\"\n",
       "M2107.05 591.737 L2107.18 591.737 L2107.18 591.452 L2107.05 591.452 L2107.05 591.737  Z\n",
       "  \" fill=\"#e26f46\" fill-rule=\"evenodd\" fill-opacity=\"0.5\"/>\n",
       "<polyline clip-path=\"url(#clip042)\" style=\"stroke:#000000; stroke-linecap:butt; stroke-linejoin:round; stroke-width:4; stroke-opacity:0.5; fill:none\" points=\"\n",
       "  2107.05,591.737 2107.18,591.737 2107.18,591.452 2107.05,591.452 2107.05,591.737 \n",
       "  \"/>\n",
       "<path clip-path=\"url(#clip040)\" d=\"\n",
       "M1988.32 250.738 L2280.75 250.738 L2280.75 95.2176 L1988.32 95.2176  Z\n",
       "  \" fill=\"#ffffff\" fill-rule=\"evenodd\" fill-opacity=\"1\"/>\n",
       "<polyline clip-path=\"url(#clip040)\" style=\"stroke:#000000; stroke-linecap:butt; stroke-linejoin:round; stroke-width:4; stroke-opacity:1; fill:none\" points=\"\n",
       "  1988.32,250.738 2280.75,250.738 2280.75,95.2176 1988.32,95.2176 1988.32,250.738 \n",
       "  \"/>\n",
       "<polyline clip-path=\"url(#clip040)\" style=\"stroke:#009af9; stroke-linecap:butt; stroke-linejoin:round; stroke-width:4; stroke-opacity:1; fill:none\" points=\"\n",
       "  2012.32,147.058 2156.32,147.058 \n",
       "  \"/>\n",
       "<path clip-path=\"url(#clip040)\" d=\"M2194.17 166.745 Q2192.36 171.375 2190.65 172.787 Q2188.93 174.199 2186.06 174.199 L2182.66 174.199 L2182.66 170.634 L2185.16 170.634 Q2186.92 170.634 2187.89 169.8 Q2188.86 168.967 2190.05 165.865 L2190.81 163.921 L2180.32 138.412 L2184.84 138.412 L2192.94 158.689 L2201.04 138.412 L2205.55 138.412 L2194.17 166.745 Z\" fill=\"#000000\" fill-rule=\"evenodd\" fill-opacity=\"1\" /><path clip-path=\"url(#clip040)\" d=\"M2212.85 160.402 L2220.48 160.402 L2220.48 134.037 L2212.17 135.703 L2212.17 131.444 L2220.44 129.778 L2225.11 129.778 L2225.11 160.402 L2232.75 160.402 L2232.75 164.338 L2212.85 164.338 L2212.85 160.402 Z\" fill=\"#000000\" fill-rule=\"evenodd\" fill-opacity=\"1\" /><path clip-path=\"url(#clip040)\" d=\"\n",
       "M2012.32 219.634 L2156.32 219.634 L2156.32 178.162 L2012.32 178.162 L2012.32 219.634  Z\n",
       "  \" fill=\"#e26f46\" fill-rule=\"evenodd\" fill-opacity=\"0.5\"/>\n",
       "<polyline clip-path=\"url(#clip040)\" style=\"stroke:#000000; stroke-linecap:butt; stroke-linejoin:round; stroke-width:4; stroke-opacity:1; fill:none\" points=\"\n",
       "  2012.32,219.634 2156.32,219.634 2156.32,178.162 2012.32,178.162 2012.32,219.634 \n",
       "  \"/>\n",
       "<path clip-path=\"url(#clip040)\" d=\"M2194.17 218.585 Q2192.36 223.215 2190.65 224.627 Q2188.93 226.039 2186.06 226.039 L2182.66 226.039 L2182.66 222.474 L2185.16 222.474 Q2186.92 222.474 2187.89 221.64 Q2188.86 220.807 2190.05 217.705 L2190.81 215.761 L2180.32 190.252 L2184.84 190.252 L2192.94 210.529 L2201.04 190.252 L2205.55 190.252 L2194.17 218.585 Z\" fill=\"#000000\" fill-rule=\"evenodd\" fill-opacity=\"1\" /><path clip-path=\"url(#clip040)\" d=\"M2216.06 212.242 L2232.38 212.242 L2232.38 216.178 L2210.44 216.178 L2210.44 212.242 Q2213.1 209.488 2217.68 204.858 Q2222.29 200.205 2223.47 198.863 Q2225.72 196.34 2226.6 194.604 Q2227.5 192.844 2227.5 191.155 Q2227.5 188.4 2225.55 186.664 Q2223.63 184.928 2220.53 184.928 Q2218.33 184.928 2215.88 185.692 Q2213.45 186.455 2210.67 188.006 L2210.67 183.284 Q2213.49 182.15 2215.95 181.571 Q2218.4 180.993 2220.44 180.993 Q2225.81 180.993 2229 183.678 Q2232.2 186.363 2232.2 190.854 Q2232.2 192.983 2231.39 194.905 Q2230.6 196.803 2228.49 199.395 Q2227.92 200.067 2224.81 203.284 Q2221.71 206.479 2216.06 212.242 Z\" fill=\"#000000\" fill-rule=\"evenodd\" fill-opacity=\"1\" /></svg>\n"
      ]
     },
     "execution_count": 50,
     "metadata": {},
     "output_type": "execute_result"
    }
   ],
   "source": [
    "plot(f, 0, 0.35)\n",
    "plot!(IntervalBox.(new_x, f.(new_x)))"
   ]
  },
  {
   "cell_type": "markdown",
   "metadata": {},
   "source": [
    "The last two intervals are so thin that the plotting function is not rendering them exactly, but the Newton method confirmed them. What is striking is that the Newton method allowed us to prove the existence of at least one zero in each one of the intervals above.\n",
    "\n",
    "We will zoom to $[0.3180, 0.3185]$."
   ]
  },
  {
   "cell_type": "code",
   "execution_count": 51,
   "metadata": {},
   "outputs": [
    {
     "data": {
      "image/svg+xml": [
       "<?xml version=\"1.0\" encoding=\"utf-8\"?>\n",
       "<svg xmlns=\"http://www.w3.org/2000/svg\" xmlns:xlink=\"http://www.w3.org/1999/xlink\" width=\"600\" height=\"400\" viewBox=\"0 0 2400 1600\">\n",
       "<defs>\n",
       "  <clipPath id=\"clip080\">\n",
       "    <rect x=\"0\" y=\"0\" width=\"2400\" height=\"1600\"/>\n",
       "  </clipPath>\n",
       "</defs>\n",
       "<path clip-path=\"url(#clip080)\" d=\"\n",
       "M0 1600 L2400 1600 L2400 0 L0 0  Z\n",
       "  \" fill=\"#ffffff\" fill-rule=\"evenodd\" fill-opacity=\"1\"/>\n",
       "<defs>\n",
       "  <clipPath id=\"clip081\">\n",
       "    <rect x=\"480\" y=\"0\" width=\"1681\" height=\"1600\"/>\n",
       "  </clipPath>\n",
       "</defs>\n",
       "<path clip-path=\"url(#clip080)\" d=\"\n",
       "M284.422 1486.45 L2352.76 1486.45 L2352.76 47.2441 L284.422 47.2441  Z\n",
       "  \" fill=\"#ffffff\" fill-rule=\"evenodd\" fill-opacity=\"1\"/>\n",
       "<defs>\n",
       "  <clipPath id=\"clip082\">\n",
       "    <rect x=\"284\" y=\"47\" width=\"2069\" height=\"1440\"/>\n",
       "  </clipPath>\n",
       "</defs>\n",
       "<polyline clip-path=\"url(#clip082)\" style=\"stroke:#000000; stroke-linecap:butt; stroke-linejoin:round; stroke-width:2; stroke-opacity:0.1; fill:none\" points=\"\n",
       "  342.959,1486.45 342.959,47.2441 \n",
       "  \"/>\n",
       "<polyline clip-path=\"url(#clip082)\" style=\"stroke:#000000; stroke-linecap:butt; stroke-linejoin:round; stroke-width:2; stroke-opacity:0.1; fill:none\" points=\"\n",
       "  733.211,1486.45 733.211,47.2441 \n",
       "  \"/>\n",
       "<polyline clip-path=\"url(#clip082)\" style=\"stroke:#000000; stroke-linecap:butt; stroke-linejoin:round; stroke-width:2; stroke-opacity:0.1; fill:none\" points=\"\n",
       "  1123.46,1486.45 1123.46,47.2441 \n",
       "  \"/>\n",
       "<polyline clip-path=\"url(#clip082)\" style=\"stroke:#000000; stroke-linecap:butt; stroke-linejoin:round; stroke-width:2; stroke-opacity:0.1; fill:none\" points=\"\n",
       "  1513.71,1486.45 1513.71,47.2441 \n",
       "  \"/>\n",
       "<polyline clip-path=\"url(#clip082)\" style=\"stroke:#000000; stroke-linecap:butt; stroke-linejoin:round; stroke-width:2; stroke-opacity:0.1; fill:none\" points=\"\n",
       "  1903.97,1486.45 1903.97,47.2441 \n",
       "  \"/>\n",
       "<polyline clip-path=\"url(#clip082)\" style=\"stroke:#000000; stroke-linecap:butt; stroke-linejoin:round; stroke-width:2; stroke-opacity:0.1; fill:none\" points=\"\n",
       "  2294.22,1486.45 2294.22,47.2441 \n",
       "  \"/>\n",
       "<polyline clip-path=\"url(#clip080)\" style=\"stroke:#000000; stroke-linecap:butt; stroke-linejoin:round; stroke-width:4; stroke-opacity:1; fill:none\" points=\"\n",
       "  284.422,1486.45 2352.76,1486.45 \n",
       "  \"/>\n",
       "<polyline clip-path=\"url(#clip080)\" style=\"stroke:#000000; stroke-linecap:butt; stroke-linejoin:round; stroke-width:4; stroke-opacity:1; fill:none\" points=\"\n",
       "  342.959,1486.45 342.959,1469.18 \n",
       "  \"/>\n",
       "<polyline clip-path=\"url(#clip080)\" style=\"stroke:#000000; stroke-linecap:butt; stroke-linejoin:round; stroke-width:4; stroke-opacity:1; fill:none\" points=\"\n",
       "  733.211,1486.45 733.211,1469.18 \n",
       "  \"/>\n",
       "<polyline clip-path=\"url(#clip080)\" style=\"stroke:#000000; stroke-linecap:butt; stroke-linejoin:round; stroke-width:4; stroke-opacity:1; fill:none\" points=\"\n",
       "  1123.46,1486.45 1123.46,1469.18 \n",
       "  \"/>\n",
       "<polyline clip-path=\"url(#clip080)\" style=\"stroke:#000000; stroke-linecap:butt; stroke-linejoin:round; stroke-width:4; stroke-opacity:1; fill:none\" points=\"\n",
       "  1513.71,1486.45 1513.71,1469.18 \n",
       "  \"/>\n",
       "<polyline clip-path=\"url(#clip080)\" style=\"stroke:#000000; stroke-linecap:butt; stroke-linejoin:round; stroke-width:4; stroke-opacity:1; fill:none\" points=\"\n",
       "  1903.97,1486.45 1903.97,1469.18 \n",
       "  \"/>\n",
       "<polyline clip-path=\"url(#clip080)\" style=\"stroke:#000000; stroke-linecap:butt; stroke-linejoin:round; stroke-width:4; stroke-opacity:1; fill:none\" points=\"\n",
       "  2294.22,1486.45 2294.22,1469.18 \n",
       "  \"/>\n",
       "<path clip-path=\"url(#clip080)\" d=\"M275.101 1515.64 Q271.49 1515.64 269.661 1519.2 Q267.856 1522.75 267.856 1529.87 Q267.856 1536.98 269.661 1540.55 Q271.49 1544.09 275.101 1544.09 Q278.735 1544.09 280.541 1540.55 Q282.369 1536.98 282.369 1529.87 Q282.369 1522.75 280.541 1519.2 Q278.735 1515.64 275.101 1515.64 M275.101 1511.93 Q280.911 1511.93 283.967 1516.54 Q287.045 1521.12 287.045 1529.87 Q287.045 1538.6 283.967 1543.21 Q280.911 1547.79 275.101 1547.79 Q269.291 1547.79 266.212 1543.21 Q263.157 1538.6 263.157 1529.87 Q263.157 1521.12 266.212 1516.54 Q269.291 1511.93 275.101 1511.93 Z\" fill=\"#000000\" fill-rule=\"evenodd\" fill-opacity=\"1\" /><path clip-path=\"url(#clip080)\" d=\"M295.263 1541.24 L300.147 1541.24 L300.147 1547.12 L295.263 1547.12 L295.263 1541.24 Z\" fill=\"#000000\" fill-rule=\"evenodd\" fill-opacity=\"1\" /><path clip-path=\"url(#clip080)\" d=\"M324.499 1528.49 Q327.855 1529.2 329.73 1531.47 Q331.628 1533.74 331.628 1537.07 Q331.628 1542.19 328.11 1544.99 Q324.591 1547.79 318.11 1547.79 Q315.934 1547.79 313.619 1547.35 Q311.328 1546.93 308.874 1546.08 L308.874 1541.56 Q310.818 1542.7 313.133 1543.28 Q315.448 1543.86 317.971 1543.86 Q322.369 1543.86 324.661 1542.12 Q326.976 1540.38 326.976 1537.07 Q326.976 1534.02 324.823 1532.31 Q322.693 1530.57 318.874 1530.57 L314.846 1530.57 L314.846 1526.73 L319.059 1526.73 Q322.508 1526.73 324.337 1525.36 Q326.165 1523.97 326.165 1521.38 Q326.165 1518.72 324.267 1517.31 Q322.392 1515.87 318.874 1515.87 Q316.953 1515.87 314.754 1516.29 Q312.554 1516.7 309.916 1517.58 L309.916 1513.42 Q312.578 1512.68 314.892 1512.31 Q317.23 1511.93 319.291 1511.93 Q324.615 1511.93 327.716 1514.37 Q330.818 1516.77 330.818 1520.89 Q330.818 1523.76 329.175 1525.75 Q327.531 1527.72 324.499 1528.49 Z\" fill=\"#000000\" fill-rule=\"evenodd\" fill-opacity=\"1\" /><path clip-path=\"url(#clip080)\" d=\"M341.304 1543.18 L348.943 1543.18 L348.943 1516.82 L340.633 1518.49 L340.633 1514.23 L348.897 1512.56 L353.573 1512.56 L353.573 1543.18 L361.212 1543.18 L361.212 1547.12 L341.304 1547.12 L341.304 1543.18 Z\" fill=\"#000000\" fill-rule=\"evenodd\" fill-opacity=\"1\" /><path clip-path=\"url(#clip080)\" d=\"M380.656 1530.71 Q377.323 1530.71 375.401 1532.49 Q373.503 1534.27 373.503 1537.4 Q373.503 1540.52 375.401 1542.31 Q377.323 1544.09 380.656 1544.09 Q383.989 1544.09 385.911 1542.31 Q387.832 1540.5 387.832 1537.4 Q387.832 1534.27 385.911 1532.49 Q384.012 1530.71 380.656 1530.71 M375.98 1528.72 Q372.971 1527.98 371.281 1525.92 Q369.614 1523.86 369.614 1520.89 Q369.614 1516.75 372.554 1514.34 Q375.517 1511.93 380.656 1511.93 Q385.818 1511.93 388.758 1514.34 Q391.698 1516.75 391.698 1520.89 Q391.698 1523.86 390.008 1525.92 Q388.341 1527.98 385.355 1528.72 Q388.735 1529.5 390.61 1531.8 Q392.508 1534.09 392.508 1537.4 Q392.508 1542.42 389.429 1545.11 Q386.374 1547.79 380.656 1547.79 Q374.938 1547.79 371.86 1545.11 Q368.804 1542.42 368.804 1537.4 Q368.804 1534.09 370.702 1531.8 Q372.6 1529.5 375.98 1528.72 M374.267 1521.33 Q374.267 1524.02 375.934 1525.52 Q377.624 1527.03 380.656 1527.03 Q383.665 1527.03 385.355 1525.52 Q387.068 1524.02 387.068 1521.33 Q387.068 1518.65 385.355 1517.14 Q383.665 1515.64 380.656 1515.64 Q377.624 1515.64 375.934 1517.14 Q374.267 1518.65 374.267 1521.33 Z\" fill=\"#000000\" fill-rule=\"evenodd\" fill-opacity=\"1\" /><path clip-path=\"url(#clip080)\" d=\"M410.818 1515.64 Q407.207 1515.64 405.378 1519.2 Q403.572 1522.75 403.572 1529.87 Q403.572 1536.98 405.378 1540.55 Q407.207 1544.09 410.818 1544.09 Q414.452 1544.09 416.258 1540.55 Q418.086 1536.98 418.086 1529.87 Q418.086 1522.75 416.258 1519.2 Q414.452 1515.64 410.818 1515.64 M410.818 1511.93 Q416.628 1511.93 419.684 1516.54 Q422.762 1521.12 422.762 1529.87 Q422.762 1538.6 419.684 1543.21 Q416.628 1547.79 410.818 1547.79 Q405.008 1547.79 401.929 1543.21 Q398.873 1538.6 398.873 1529.87 Q398.873 1521.12 401.929 1516.54 Q405.008 1511.93 410.818 1511.93 Z\" fill=\"#000000\" fill-rule=\"evenodd\" fill-opacity=\"1\" /><path clip-path=\"url(#clip080)\" d=\"M665.966 1515.64 Q662.355 1515.64 660.526 1519.2 Q658.721 1522.75 658.721 1529.87 Q658.721 1536.98 660.526 1540.55 Q662.355 1544.09 665.966 1544.09 Q669.6 1544.09 671.406 1540.55 Q673.235 1536.98 673.235 1529.87 Q673.235 1522.75 671.406 1519.2 Q669.6 1515.64 665.966 1515.64 M665.966 1511.93 Q671.776 1511.93 674.832 1516.54 Q677.911 1521.12 677.911 1529.87 Q677.911 1538.6 674.832 1543.21 Q671.776 1547.79 665.966 1547.79 Q660.156 1547.79 657.077 1543.21 Q654.022 1538.6 654.022 1529.87 Q654.022 1521.12 657.077 1516.54 Q660.156 1511.93 665.966 1511.93 Z\" fill=\"#000000\" fill-rule=\"evenodd\" fill-opacity=\"1\" /><path clip-path=\"url(#clip080)\" d=\"M686.128 1541.24 L691.012 1541.24 L691.012 1547.12 L686.128 1547.12 L686.128 1541.24 Z\" fill=\"#000000\" fill-rule=\"evenodd\" fill-opacity=\"1\" /><path clip-path=\"url(#clip080)\" d=\"M715.364 1528.49 Q718.72 1529.2 720.595 1531.47 Q722.494 1533.74 722.494 1537.07 Q722.494 1542.19 718.975 1544.99 Q715.457 1547.79 708.975 1547.79 Q706.799 1547.79 704.484 1547.35 Q702.193 1546.93 699.739 1546.08 L699.739 1541.56 Q701.684 1542.7 703.998 1543.28 Q706.313 1543.86 708.836 1543.86 Q713.234 1543.86 715.526 1542.12 Q717.841 1540.38 717.841 1537.07 Q717.841 1534.02 715.688 1532.31 Q713.558 1530.57 709.739 1530.57 L705.711 1530.57 L705.711 1526.73 L709.924 1526.73 Q713.373 1526.73 715.202 1525.36 Q717.031 1523.97 717.031 1521.38 Q717.031 1518.72 715.133 1517.31 Q713.258 1515.87 709.739 1515.87 Q707.818 1515.87 705.619 1516.29 Q703.42 1516.7 700.781 1517.58 L700.781 1513.42 Q703.443 1512.68 705.758 1512.31 Q708.096 1511.93 710.156 1511.93 Q715.48 1511.93 718.582 1514.37 Q721.683 1516.77 721.683 1520.89 Q721.683 1523.76 720.04 1525.75 Q718.396 1527.72 715.364 1528.49 Z\" fill=\"#000000\" fill-rule=\"evenodd\" fill-opacity=\"1\" /><path clip-path=\"url(#clip080)\" d=\"M732.169 1543.18 L739.808 1543.18 L739.808 1516.82 L731.498 1518.49 L731.498 1514.23 L739.762 1512.56 L744.438 1512.56 L744.438 1543.18 L752.077 1543.18 L752.077 1547.12 L732.169 1547.12 L732.169 1543.18 Z\" fill=\"#000000\" fill-rule=\"evenodd\" fill-opacity=\"1\" /><path clip-path=\"url(#clip080)\" d=\"M771.521 1530.71 Q768.188 1530.71 766.267 1532.49 Q764.368 1534.27 764.368 1537.4 Q764.368 1540.52 766.267 1542.31 Q768.188 1544.09 771.521 1544.09 Q774.854 1544.09 776.776 1542.31 Q778.697 1540.5 778.697 1537.4 Q778.697 1534.27 776.776 1532.49 Q774.878 1530.71 771.521 1530.71 M766.845 1528.72 Q763.836 1527.98 762.146 1525.92 Q760.48 1523.86 760.48 1520.89 Q760.48 1516.75 763.419 1514.34 Q766.382 1511.93 771.521 1511.93 Q776.683 1511.93 779.623 1514.34 Q782.563 1516.75 782.563 1520.89 Q782.563 1523.86 780.873 1525.92 Q779.206 1527.98 776.22 1528.72 Q779.6 1529.5 781.475 1531.8 Q783.373 1534.09 783.373 1537.4 Q783.373 1542.42 780.294 1545.11 Q777.239 1547.79 771.521 1547.79 Q765.804 1547.79 762.725 1545.11 Q759.669 1542.42 759.669 1537.4 Q759.669 1534.09 761.567 1531.8 Q763.466 1529.5 766.845 1528.72 M765.132 1521.33 Q765.132 1524.02 766.799 1525.52 Q768.489 1527.03 771.521 1527.03 Q774.53 1527.03 776.22 1525.52 Q777.933 1524.02 777.933 1521.33 Q777.933 1518.65 776.22 1517.14 Q774.53 1515.64 771.521 1515.64 Q768.489 1515.64 766.799 1517.14 Q765.132 1518.65 765.132 1521.33 Z\" fill=\"#000000\" fill-rule=\"evenodd\" fill-opacity=\"1\" /><path clip-path=\"url(#clip080)\" d=\"M792.493 1543.18 L800.132 1543.18 L800.132 1516.82 L791.822 1518.49 L791.822 1514.23 L800.086 1512.56 L804.762 1512.56 L804.762 1543.18 L812.401 1543.18 L812.401 1547.12 L792.493 1547.12 L792.493 1543.18 Z\" fill=\"#000000\" fill-rule=\"evenodd\" fill-opacity=\"1\" /><path clip-path=\"url(#clip080)\" d=\"M1056.4 1515.64 Q1052.79 1515.64 1050.96 1519.2 Q1049.16 1522.75 1049.16 1529.87 Q1049.16 1536.98 1050.96 1540.55 Q1052.79 1544.09 1056.4 1544.09 Q1060.04 1544.09 1061.84 1540.55 Q1063.67 1536.98 1063.67 1529.87 Q1063.67 1522.75 1061.84 1519.2 Q1060.04 1515.64 1056.4 1515.64 M1056.4 1511.93 Q1062.21 1511.93 1065.27 1516.54 Q1068.35 1521.12 1068.35 1529.87 Q1068.35 1538.6 1065.27 1543.21 Q1062.21 1547.79 1056.4 1547.79 Q1050.59 1547.79 1047.51 1543.21 Q1044.46 1538.6 1044.46 1529.87 Q1044.46 1521.12 1047.51 1516.54 Q1050.59 1511.93 1056.4 1511.93 Z\" fill=\"#000000\" fill-rule=\"evenodd\" fill-opacity=\"1\" /><path clip-path=\"url(#clip080)\" d=\"M1076.56 1541.24 L1081.45 1541.24 L1081.45 1547.12 L1076.56 1547.12 L1076.56 1541.24 Z\" fill=\"#000000\" fill-rule=\"evenodd\" fill-opacity=\"1\" /><path clip-path=\"url(#clip080)\" d=\"M1105.8 1528.49 Q1109.16 1529.2 1111.03 1531.47 Q1112.93 1533.74 1112.93 1537.07 Q1112.93 1542.19 1109.41 1544.99 Q1105.89 1547.79 1099.41 1547.79 Q1097.24 1547.79 1094.92 1547.35 Q1092.63 1546.93 1090.18 1546.08 L1090.18 1541.56 Q1092.12 1542.7 1094.44 1543.28 Q1096.75 1543.86 1099.27 1543.86 Q1103.67 1543.86 1105.96 1542.12 Q1108.28 1540.38 1108.28 1537.07 Q1108.28 1534.02 1106.13 1532.31 Q1104 1530.57 1100.18 1530.57 L1096.15 1530.57 L1096.15 1526.73 L1100.36 1526.73 Q1103.81 1526.73 1105.64 1525.36 Q1107.47 1523.97 1107.47 1521.38 Q1107.47 1518.72 1105.57 1517.31 Q1103.69 1515.87 1100.18 1515.87 Q1098.25 1515.87 1096.06 1516.29 Q1093.86 1516.7 1091.22 1517.58 L1091.22 1513.42 Q1093.88 1512.68 1096.19 1512.31 Q1098.53 1511.93 1100.59 1511.93 Q1105.92 1511.93 1109.02 1514.37 Q1112.12 1516.77 1112.12 1520.89 Q1112.12 1523.76 1110.48 1525.75 Q1108.83 1527.72 1105.8 1528.49 Z\" fill=\"#000000\" fill-rule=\"evenodd\" fill-opacity=\"1\" /><path clip-path=\"url(#clip080)\" d=\"M1122.61 1543.18 L1130.25 1543.18 L1130.25 1516.82 L1121.94 1518.49 L1121.94 1514.23 L1130.2 1512.56 L1134.87 1512.56 L1134.87 1543.18 L1142.51 1543.18 L1142.51 1547.12 L1122.61 1547.12 L1122.61 1543.18 Z\" fill=\"#000000\" fill-rule=\"evenodd\" fill-opacity=\"1\" /><path clip-path=\"url(#clip080)\" d=\"M1161.96 1530.71 Q1158.62 1530.71 1156.7 1532.49 Q1154.81 1534.27 1154.81 1537.4 Q1154.81 1540.52 1156.7 1542.31 Q1158.62 1544.09 1161.96 1544.09 Q1165.29 1544.09 1167.21 1542.31 Q1169.13 1540.5 1169.13 1537.4 Q1169.13 1534.27 1167.21 1532.49 Q1165.31 1530.71 1161.96 1530.71 M1157.28 1528.72 Q1154.27 1527.98 1152.58 1525.92 Q1150.92 1523.86 1150.92 1520.89 Q1150.92 1516.75 1153.86 1514.34 Q1156.82 1511.93 1161.96 1511.93 Q1167.12 1511.93 1170.06 1514.34 Q1173 1516.75 1173 1520.89 Q1173 1523.86 1171.31 1525.92 Q1169.64 1527.98 1166.66 1528.72 Q1170.04 1529.5 1171.91 1531.8 Q1173.81 1534.09 1173.81 1537.4 Q1173.81 1542.42 1170.73 1545.11 Q1167.68 1547.79 1161.96 1547.79 Q1156.24 1547.79 1153.16 1545.11 Q1150.11 1542.42 1150.11 1537.4 Q1150.11 1534.09 1152 1531.8 Q1153.9 1529.5 1157.28 1528.72 M1155.57 1521.33 Q1155.57 1524.02 1157.24 1525.52 Q1158.93 1527.03 1161.96 1527.03 Q1164.97 1527.03 1166.66 1525.52 Q1168.37 1524.02 1168.37 1521.33 Q1168.37 1518.65 1166.66 1517.14 Q1164.97 1515.64 1161.96 1515.64 Q1158.93 1515.64 1157.24 1517.14 Q1155.57 1518.65 1155.57 1521.33 Z\" fill=\"#000000\" fill-rule=\"evenodd\" fill-opacity=\"1\" /><path clip-path=\"url(#clip080)\" d=\"M1186.15 1543.18 L1202.47 1543.18 L1202.47 1547.12 L1180.52 1547.12 L1180.52 1543.18 Q1183.18 1540.43 1187.77 1535.8 Q1192.37 1531.15 1193.56 1529.81 Q1195.8 1527.28 1196.68 1525.55 Q1197.58 1523.79 1197.58 1522.1 Q1197.58 1519.34 1195.64 1517.61 Q1193.72 1515.87 1190.62 1515.87 Q1188.42 1515.87 1185.96 1516.63 Q1183.53 1517.4 1180.75 1518.95 L1180.75 1514.23 Q1183.58 1513.09 1186.03 1512.51 Q1188.49 1511.93 1190.52 1511.93 Q1195.89 1511.93 1199.09 1514.62 Q1202.28 1517.31 1202.28 1521.8 Q1202.28 1523.93 1201.47 1525.85 Q1200.68 1527.74 1198.58 1530.34 Q1198 1531.01 1194.9 1534.23 Q1191.8 1537.42 1186.15 1543.18 Z\" fill=\"#000000\" fill-rule=\"evenodd\" fill-opacity=\"1\" /><path clip-path=\"url(#clip080)\" d=\"M1446.18 1515.64 Q1442.57 1515.64 1440.74 1519.2 Q1438.93 1522.75 1438.93 1529.87 Q1438.93 1536.98 1440.74 1540.55 Q1442.57 1544.09 1446.18 1544.09 Q1449.81 1544.09 1451.62 1540.55 Q1453.45 1536.98 1453.45 1529.87 Q1453.45 1522.75 1451.62 1519.2 Q1449.81 1515.64 1446.18 1515.64 M1446.18 1511.93 Q1451.99 1511.93 1455.05 1516.54 Q1458.12 1521.12 1458.12 1529.87 Q1458.12 1538.6 1455.05 1543.21 Q1451.99 1547.79 1446.18 1547.79 Q1440.37 1547.79 1437.29 1543.21 Q1434.24 1538.6 1434.24 1529.87 Q1434.24 1521.12 1437.29 1516.54 Q1440.37 1511.93 1446.18 1511.93 Z\" fill=\"#000000\" fill-rule=\"evenodd\" fill-opacity=\"1\" /><path clip-path=\"url(#clip080)\" d=\"M1466.34 1541.24 L1471.23 1541.24 L1471.23 1547.12 L1466.34 1547.12 L1466.34 1541.24 Z\" fill=\"#000000\" fill-rule=\"evenodd\" fill-opacity=\"1\" /><path clip-path=\"url(#clip080)\" d=\"M1495.58 1528.49 Q1498.93 1529.2 1500.81 1531.47 Q1502.71 1533.74 1502.71 1537.07 Q1502.71 1542.19 1499.19 1544.99 Q1495.67 1547.79 1489.19 1547.79 Q1487.01 1547.79 1484.7 1547.35 Q1482.41 1546.93 1479.95 1546.08 L1479.95 1541.56 Q1481.9 1542.7 1484.21 1543.28 Q1486.53 1543.86 1489.05 1543.86 Q1493.45 1543.86 1495.74 1542.12 Q1498.06 1540.38 1498.06 1537.07 Q1498.06 1534.02 1495.9 1532.31 Q1493.77 1530.57 1489.95 1530.57 L1485.93 1530.57 L1485.93 1526.73 L1490.14 1526.73 Q1493.59 1526.73 1495.42 1525.36 Q1497.24 1523.97 1497.24 1521.38 Q1497.24 1518.72 1495.35 1517.31 Q1493.47 1515.87 1489.95 1515.87 Q1488.03 1515.87 1485.83 1516.29 Q1483.63 1516.7 1480.99 1517.58 L1480.99 1513.42 Q1483.66 1512.68 1485.97 1512.31 Q1488.31 1511.93 1490.37 1511.93 Q1495.69 1511.93 1498.8 1514.37 Q1501.9 1516.77 1501.9 1520.89 Q1501.9 1523.76 1500.25 1525.75 Q1498.61 1527.72 1495.58 1528.49 Z\" fill=\"#000000\" fill-rule=\"evenodd\" fill-opacity=\"1\" /><path clip-path=\"url(#clip080)\" d=\"M1512.38 1543.18 L1520.02 1543.18 L1520.02 1516.82 L1511.71 1518.49 L1511.71 1514.23 L1519.98 1512.56 L1524.65 1512.56 L1524.65 1543.18 L1532.29 1543.18 L1532.29 1547.12 L1512.38 1547.12 L1512.38 1543.18 Z\" fill=\"#000000\" fill-rule=\"evenodd\" fill-opacity=\"1\" /><path clip-path=\"url(#clip080)\" d=\"M1551.74 1530.71 Q1548.4 1530.71 1546.48 1532.49 Q1544.58 1534.27 1544.58 1537.4 Q1544.58 1540.52 1546.48 1542.31 Q1548.4 1544.09 1551.74 1544.09 Q1555.07 1544.09 1556.99 1542.31 Q1558.91 1540.5 1558.91 1537.4 Q1558.91 1534.27 1556.99 1532.49 Q1555.09 1530.71 1551.74 1530.71 M1547.06 1528.72 Q1544.05 1527.98 1542.36 1525.92 Q1540.69 1523.86 1540.69 1520.89 Q1540.69 1516.75 1543.63 1514.34 Q1546.6 1511.93 1551.74 1511.93 Q1556.9 1511.93 1559.84 1514.34 Q1562.78 1516.75 1562.78 1520.89 Q1562.78 1523.86 1561.09 1525.92 Q1559.42 1527.98 1556.43 1528.72 Q1559.81 1529.5 1561.69 1531.8 Q1563.59 1534.09 1563.59 1537.4 Q1563.59 1542.42 1560.51 1545.11 Q1557.45 1547.79 1551.74 1547.79 Q1546.02 1547.79 1542.94 1545.11 Q1539.88 1542.42 1539.88 1537.4 Q1539.88 1534.09 1541.78 1531.8 Q1543.68 1529.5 1547.06 1528.72 M1545.35 1521.33 Q1545.35 1524.02 1547.01 1525.52 Q1548.7 1527.03 1551.74 1527.03 Q1554.74 1527.03 1556.43 1525.52 Q1558.15 1524.02 1558.15 1521.33 Q1558.15 1518.65 1556.43 1517.14 Q1554.74 1515.64 1551.74 1515.64 Q1548.7 1515.64 1547.01 1517.14 Q1545.35 1518.65 1545.35 1521.33 Z\" fill=\"#000000\" fill-rule=\"evenodd\" fill-opacity=\"1\" /><path clip-path=\"url(#clip080)\" d=\"M1586.06 1528.49 Q1589.42 1529.2 1591.3 1531.47 Q1593.19 1533.74 1593.19 1537.07 Q1593.19 1542.19 1589.67 1544.99 Q1586.16 1547.79 1579.67 1547.79 Q1577.5 1547.79 1575.18 1547.35 Q1572.89 1546.93 1570.44 1546.08 L1570.44 1541.56 Q1572.38 1542.7 1574.7 1543.28 Q1577.01 1543.86 1579.54 1543.86 Q1583.93 1543.86 1586.23 1542.12 Q1588.54 1540.38 1588.54 1537.07 Q1588.54 1534.02 1586.39 1532.31 Q1584.26 1530.57 1580.44 1530.57 L1576.41 1530.57 L1576.41 1526.73 L1580.62 1526.73 Q1584.07 1526.73 1585.9 1525.36 Q1587.73 1523.97 1587.73 1521.38 Q1587.73 1518.72 1585.83 1517.31 Q1583.96 1515.87 1580.44 1515.87 Q1578.52 1515.87 1576.32 1516.29 Q1574.12 1516.7 1571.48 1517.58 L1571.48 1513.42 Q1574.14 1512.68 1576.46 1512.31 Q1578.8 1511.93 1580.86 1511.93 Q1586.18 1511.93 1589.28 1514.37 Q1592.38 1516.77 1592.38 1520.89 Q1592.38 1523.76 1590.74 1525.75 Q1589.1 1527.72 1586.06 1528.49 Z\" fill=\"#000000\" fill-rule=\"evenodd\" fill-opacity=\"1\" /><path clip-path=\"url(#clip080)\" d=\"M1835.86 1515.64 Q1832.25 1515.64 1830.43 1519.2 Q1828.62 1522.75 1828.62 1529.87 Q1828.62 1536.98 1830.43 1540.55 Q1832.25 1544.09 1835.86 1544.09 Q1839.5 1544.09 1841.3 1540.55 Q1843.13 1536.98 1843.13 1529.87 Q1843.13 1522.75 1841.3 1519.2 Q1839.5 1515.64 1835.86 1515.64 M1835.86 1511.93 Q1841.68 1511.93 1844.73 1516.54 Q1847.81 1521.12 1847.81 1529.87 Q1847.81 1538.6 1844.73 1543.21 Q1841.68 1547.79 1835.86 1547.79 Q1830.05 1547.79 1826.98 1543.21 Q1823.92 1538.6 1823.92 1529.87 Q1823.92 1521.12 1826.98 1516.54 Q1830.05 1511.93 1835.86 1511.93 Z\" fill=\"#000000\" fill-rule=\"evenodd\" fill-opacity=\"1\" /><path clip-path=\"url(#clip080)\" d=\"M1856.03 1541.24 L1860.91 1541.24 L1860.91 1547.12 L1856.03 1547.12 L1856.03 1541.24 Z\" fill=\"#000000\" fill-rule=\"evenodd\" fill-opacity=\"1\" /><path clip-path=\"url(#clip080)\" d=\"M1885.26 1528.49 Q1888.62 1529.2 1890.49 1531.47 Q1892.39 1533.74 1892.39 1537.07 Q1892.39 1542.19 1888.87 1544.99 Q1885.36 1547.79 1878.87 1547.79 Q1876.7 1547.79 1874.38 1547.35 Q1872.09 1546.93 1869.64 1546.08 L1869.64 1541.56 Q1871.58 1542.7 1873.9 1543.28 Q1876.21 1543.86 1878.74 1543.86 Q1883.13 1543.86 1885.42 1542.12 Q1887.74 1540.38 1887.74 1537.07 Q1887.74 1534.02 1885.59 1532.31 Q1883.46 1530.57 1879.64 1530.57 L1875.61 1530.57 L1875.61 1526.73 L1879.82 1526.73 Q1883.27 1526.73 1885.1 1525.36 Q1886.93 1523.97 1886.93 1521.38 Q1886.93 1518.72 1885.03 1517.31 Q1883.16 1515.87 1879.64 1515.87 Q1877.72 1515.87 1875.52 1516.29 Q1873.32 1516.7 1870.68 1517.58 L1870.68 1513.42 Q1873.34 1512.68 1875.66 1512.31 Q1877.99 1511.93 1880.05 1511.93 Q1885.38 1511.93 1888.48 1514.37 Q1891.58 1516.77 1891.58 1520.89 Q1891.58 1523.76 1889.94 1525.75 Q1888.3 1527.72 1885.26 1528.49 Z\" fill=\"#000000\" fill-rule=\"evenodd\" fill-opacity=\"1\" /><path clip-path=\"url(#clip080)\" d=\"M1902.07 1543.18 L1909.71 1543.18 L1909.71 1516.82 L1901.4 1518.49 L1901.4 1514.23 L1909.66 1512.56 L1914.34 1512.56 L1914.34 1543.18 L1921.98 1543.18 L1921.98 1547.12 L1902.07 1547.12 L1902.07 1543.18 Z\" fill=\"#000000\" fill-rule=\"evenodd\" fill-opacity=\"1\" /><path clip-path=\"url(#clip080)\" d=\"M1941.42 1530.71 Q1938.09 1530.71 1936.17 1532.49 Q1934.27 1534.27 1934.27 1537.4 Q1934.27 1540.52 1936.17 1542.31 Q1938.09 1544.09 1941.42 1544.09 Q1944.75 1544.09 1946.67 1542.31 Q1948.6 1540.5 1948.6 1537.4 Q1948.6 1534.27 1946.67 1532.49 Q1944.78 1530.71 1941.42 1530.71 M1936.74 1528.72 Q1933.73 1527.98 1932.04 1525.92 Q1930.38 1523.86 1930.38 1520.89 Q1930.38 1516.75 1933.32 1514.34 Q1936.28 1511.93 1941.42 1511.93 Q1946.58 1511.93 1949.52 1514.34 Q1952.46 1516.75 1952.46 1520.89 Q1952.46 1523.86 1950.77 1525.92 Q1949.11 1527.98 1946.12 1528.72 Q1949.5 1529.5 1951.37 1531.8 Q1953.27 1534.09 1953.27 1537.4 Q1953.27 1542.42 1950.19 1545.11 Q1947.14 1547.79 1941.42 1547.79 Q1935.7 1547.79 1932.62 1545.11 Q1929.57 1542.42 1929.57 1537.4 Q1929.57 1534.09 1931.47 1531.8 Q1933.36 1529.5 1936.74 1528.72 M1935.03 1521.33 Q1935.03 1524.02 1936.7 1525.52 Q1938.39 1527.03 1941.42 1527.03 Q1944.43 1527.03 1946.12 1525.52 Q1947.83 1524.02 1947.83 1521.33 Q1947.83 1518.65 1946.12 1517.14 Q1944.43 1515.64 1941.42 1515.64 Q1938.39 1515.64 1936.7 1517.14 Q1935.03 1518.65 1935.03 1521.33 Z\" fill=\"#000000\" fill-rule=\"evenodd\" fill-opacity=\"1\" /><path clip-path=\"url(#clip080)\" d=\"M1974.43 1516.63 L1962.62 1535.08 L1974.43 1535.08 L1974.43 1516.63 M1973.2 1512.56 L1979.08 1512.56 L1979.08 1535.08 L1984.01 1535.08 L1984.01 1538.97 L1979.08 1538.97 L1979.08 1547.12 L1974.43 1547.12 L1974.43 1538.97 L1958.83 1538.97 L1958.83 1534.46 L1973.2 1512.56 Z\" fill=\"#000000\" fill-rule=\"evenodd\" fill-opacity=\"1\" /><path clip-path=\"url(#clip080)\" d=\"M2226.86 1515.64 Q2223.25 1515.64 2221.42 1519.2 Q2219.61 1522.75 2219.61 1529.87 Q2219.61 1536.98 2221.42 1540.55 Q2223.25 1544.09 2226.86 1544.09 Q2230.49 1544.09 2232.3 1540.55 Q2234.13 1536.98 2234.13 1529.87 Q2234.13 1522.75 2232.3 1519.2 Q2230.49 1515.64 2226.86 1515.64 M2226.86 1511.93 Q2232.67 1511.93 2235.72 1516.54 Q2238.8 1521.12 2238.8 1529.87 Q2238.8 1538.6 2235.72 1543.21 Q2232.67 1547.79 2226.86 1547.79 Q2221.05 1547.79 2217.97 1543.21 Q2214.91 1538.6 2214.91 1529.87 Q2214.91 1521.12 2217.97 1516.54 Q2221.05 1511.93 2226.86 1511.93 Z\" fill=\"#000000\" fill-rule=\"evenodd\" fill-opacity=\"1\" /><path clip-path=\"url(#clip080)\" d=\"M2247.02 1541.24 L2251.9 1541.24 L2251.9 1547.12 L2247.02 1547.12 L2247.02 1541.24 Z\" fill=\"#000000\" fill-rule=\"evenodd\" fill-opacity=\"1\" /><path clip-path=\"url(#clip080)\" d=\"M2276.26 1528.49 Q2279.61 1529.2 2281.49 1531.47 Q2283.38 1533.74 2283.38 1537.07 Q2283.38 1542.19 2279.87 1544.99 Q2276.35 1547.79 2269.87 1547.79 Q2267.69 1547.79 2265.38 1547.35 Q2263.08 1546.93 2260.63 1546.08 L2260.63 1541.56 Q2262.57 1542.7 2264.89 1543.28 Q2267.2 1543.86 2269.73 1543.86 Q2274.13 1543.86 2276.42 1542.12 Q2278.73 1540.38 2278.73 1537.07 Q2278.73 1534.02 2276.58 1532.31 Q2274.45 1530.57 2270.63 1530.57 L2266.6 1530.57 L2266.6 1526.73 L2270.82 1526.73 Q2274.26 1526.73 2276.09 1525.36 Q2277.92 1523.97 2277.92 1521.38 Q2277.92 1518.72 2276.02 1517.31 Q2274.15 1515.87 2270.63 1515.87 Q2268.71 1515.87 2266.51 1516.29 Q2264.31 1516.7 2261.67 1517.58 L2261.67 1513.42 Q2264.33 1512.68 2266.65 1512.31 Q2268.99 1511.93 2271.05 1511.93 Q2276.37 1511.93 2279.47 1514.37 Q2282.57 1516.77 2282.57 1520.89 Q2282.57 1523.76 2280.93 1525.75 Q2279.29 1527.72 2276.26 1528.49 Z\" fill=\"#000000\" fill-rule=\"evenodd\" fill-opacity=\"1\" /><path clip-path=\"url(#clip080)\" d=\"M2293.06 1543.18 L2300.7 1543.18 L2300.7 1516.82 L2292.39 1518.49 L2292.39 1514.23 L2300.65 1512.56 L2305.33 1512.56 L2305.33 1543.18 L2312.97 1543.18 L2312.97 1547.12 L2293.06 1547.12 L2293.06 1543.18 Z\" fill=\"#000000\" fill-rule=\"evenodd\" fill-opacity=\"1\" /><path clip-path=\"url(#clip080)\" d=\"M2332.41 1530.71 Q2329.08 1530.71 2327.16 1532.49 Q2325.26 1534.27 2325.26 1537.4 Q2325.26 1540.52 2327.16 1542.31 Q2329.08 1544.09 2332.41 1544.09 Q2335.75 1544.09 2337.67 1542.31 Q2339.59 1540.5 2339.59 1537.4 Q2339.59 1534.27 2337.67 1532.49 Q2335.77 1530.71 2332.41 1530.71 M2327.74 1528.72 Q2324.73 1527.98 2323.04 1525.92 Q2321.37 1523.86 2321.37 1520.89 Q2321.37 1516.75 2324.31 1514.34 Q2327.27 1511.93 2332.41 1511.93 Q2337.57 1511.93 2340.51 1514.34 Q2343.45 1516.75 2343.45 1520.89 Q2343.45 1523.86 2341.76 1525.92 Q2340.1 1527.98 2337.11 1528.72 Q2340.49 1529.5 2342.37 1531.8 Q2344.26 1534.09 2344.26 1537.4 Q2344.26 1542.42 2341.19 1545.11 Q2338.13 1547.79 2332.41 1547.79 Q2326.69 1547.79 2323.62 1545.11 Q2320.56 1542.42 2320.56 1537.4 Q2320.56 1534.09 2322.46 1531.8 Q2324.36 1529.5 2327.74 1528.72 M2326.02 1521.33 Q2326.02 1524.02 2327.69 1525.52 Q2329.38 1527.03 2332.41 1527.03 Q2335.42 1527.03 2337.11 1525.52 Q2338.82 1524.02 2338.82 1521.33 Q2338.82 1518.65 2337.11 1517.14 Q2335.42 1515.64 2332.41 1515.64 Q2329.38 1515.64 2327.69 1517.14 Q2326.02 1518.65 2326.02 1521.33 Z\" fill=\"#000000\" fill-rule=\"evenodd\" fill-opacity=\"1\" /><path clip-path=\"url(#clip080)\" d=\"M2352.62 1512.56 L2370.98 1512.56 L2370.98 1516.5 L2356.9 1516.5 L2356.9 1524.97 Q2357.92 1524.62 2358.94 1524.46 Q2359.96 1524.27 2360.98 1524.27 Q2366.76 1524.27 2370.14 1527.44 Q2373.52 1530.62 2373.52 1536.03 Q2373.52 1541.61 2370.05 1544.71 Q2366.58 1547.79 2360.26 1547.79 Q2358.08 1547.79 2355.82 1547.42 Q2353.57 1547.05 2351.16 1546.31 L2351.16 1541.61 Q2353.25 1542.74 2355.47 1543.3 Q2357.69 1543.86 2360.17 1543.86 Q2364.17 1543.86 2366.51 1541.75 Q2368.85 1539.64 2368.85 1536.03 Q2368.85 1532.42 2366.51 1530.31 Q2364.17 1528.21 2360.17 1528.21 Q2358.29 1528.21 2356.42 1528.62 Q2354.57 1529.04 2352.62 1529.92 L2352.62 1512.56 Z\" fill=\"#000000\" fill-rule=\"evenodd\" fill-opacity=\"1\" /><polyline clip-path=\"url(#clip082)\" style=\"stroke:#000000; stroke-linecap:butt; stroke-linejoin:round; stroke-width:2; stroke-opacity:0.1; fill:none\" points=\"\n",
       "  284.422,1468.59 2352.76,1468.59 \n",
       "  \"/>\n",
       "<polyline clip-path=\"url(#clip082)\" style=\"stroke:#000000; stroke-linecap:butt; stroke-linejoin:round; stroke-width:2; stroke-opacity:0.1; fill:none\" points=\"\n",
       "  284.422,1036.41 2352.76,1036.41 \n",
       "  \"/>\n",
       "<polyline clip-path=\"url(#clip082)\" style=\"stroke:#000000; stroke-linecap:butt; stroke-linejoin:round; stroke-width:2; stroke-opacity:0.1; fill:none\" points=\"\n",
       "  284.422,604.227 2352.76,604.227 \n",
       "  \"/>\n",
       "<polyline clip-path=\"url(#clip082)\" style=\"stroke:#000000; stroke-linecap:butt; stroke-linejoin:round; stroke-width:2; stroke-opacity:0.1; fill:none\" points=\"\n",
       "  284.422,172.044 2352.76,172.044 \n",
       "  \"/>\n",
       "<polyline clip-path=\"url(#clip080)\" style=\"stroke:#000000; stroke-linecap:butt; stroke-linejoin:round; stroke-width:4; stroke-opacity:1; fill:none\" points=\"\n",
       "  284.422,1486.45 284.422,47.2441 \n",
       "  \"/>\n",
       "<polyline clip-path=\"url(#clip080)\" style=\"stroke:#000000; stroke-linecap:butt; stroke-linejoin:round; stroke-width:4; stroke-opacity:1; fill:none\" points=\"\n",
       "  284.422,1468.59 309.242,1468.59 \n",
       "  \"/>\n",
       "<polyline clip-path=\"url(#clip080)\" style=\"stroke:#000000; stroke-linecap:butt; stroke-linejoin:round; stroke-width:4; stroke-opacity:1; fill:none\" points=\"\n",
       "  284.422,1036.41 309.242,1036.41 \n",
       "  \"/>\n",
       "<polyline clip-path=\"url(#clip080)\" style=\"stroke:#000000; stroke-linecap:butt; stroke-linejoin:round; stroke-width:4; stroke-opacity:1; fill:none\" points=\"\n",
       "  284.422,604.227 309.242,604.227 \n",
       "  \"/>\n",
       "<polyline clip-path=\"url(#clip080)\" style=\"stroke:#000000; stroke-linecap:butt; stroke-linejoin:round; stroke-width:4; stroke-opacity:1; fill:none\" points=\"\n",
       "  284.422,172.044 309.242,172.044 \n",
       "  \"/>\n",
       "<path clip-path=\"url(#clip080)\" d=\"M50.9921 1469.04 L80.6679 1469.04 L80.6679 1472.98 L50.9921 1472.98 L50.9921 1469.04 Z\" fill=\"#000000\" fill-rule=\"evenodd\" fill-opacity=\"1\" /><path clip-path=\"url(#clip080)\" d=\"M100.76 1454.39 Q97.1493 1454.39 95.3206 1457.95 Q93.515 1461.5 93.515 1468.63 Q93.515 1475.73 95.3206 1479.3 Q97.1493 1482.84 100.76 1482.84 Q104.395 1482.84 106.2 1479.3 Q108.029 1475.73 108.029 1468.63 Q108.029 1461.5 106.2 1457.95 Q104.395 1454.39 100.76 1454.39 M100.76 1450.69 Q106.571 1450.69 109.626 1455.29 Q112.705 1459.88 112.705 1468.63 Q112.705 1477.35 109.626 1481.96 Q106.571 1486.54 100.76 1486.54 Q94.9502 1486.54 91.8715 1481.96 Q88.816 1477.35 88.816 1468.63 Q88.816 1459.88 91.8715 1455.29 Q94.9502 1450.69 100.76 1450.69 Z\" fill=\"#000000\" fill-rule=\"evenodd\" fill-opacity=\"1\" /><path clip-path=\"url(#clip080)\" d=\"M120.922 1479.99 L125.807 1479.99 L125.807 1485.87 L120.922 1485.87 L120.922 1479.99 Z\" fill=\"#000000\" fill-rule=\"evenodd\" fill-opacity=\"1\" /><path clip-path=\"url(#clip080)\" d=\"M145.992 1454.39 Q142.381 1454.39 140.552 1457.95 Q138.746 1461.5 138.746 1468.63 Q138.746 1475.73 140.552 1479.3 Q142.381 1482.84 145.992 1482.84 Q149.626 1482.84 151.431 1479.3 Q153.26 1475.73 153.26 1468.63 Q153.26 1461.5 151.431 1457.95 Q149.626 1454.39 145.992 1454.39 M145.992 1450.69 Q151.802 1450.69 154.857 1455.29 Q157.936 1459.88 157.936 1468.63 Q157.936 1477.35 154.857 1481.96 Q151.802 1486.54 145.992 1486.54 Q140.181 1486.54 137.103 1481.96 Q134.047 1477.35 134.047 1468.63 Q134.047 1459.88 137.103 1455.29 Q140.181 1450.69 145.992 1450.69 Z\" fill=\"#000000\" fill-rule=\"evenodd\" fill-opacity=\"1\" /><path clip-path=\"url(#clip080)\" d=\"M176.153 1454.39 Q172.542 1454.39 170.714 1457.95 Q168.908 1461.5 168.908 1468.63 Q168.908 1475.73 170.714 1479.3 Q172.542 1482.84 176.153 1482.84 Q179.788 1482.84 181.593 1479.3 Q183.422 1475.73 183.422 1468.63 Q183.422 1461.5 181.593 1457.95 Q179.788 1454.39 176.153 1454.39 M176.153 1450.69 Q181.964 1450.69 185.019 1455.29 Q188.098 1459.88 188.098 1468.63 Q188.098 1477.35 185.019 1481.96 Q181.964 1486.54 176.153 1486.54 Q170.343 1486.54 167.265 1481.96 Q164.209 1477.35 164.209 1468.63 Q164.209 1459.88 167.265 1455.29 Q170.343 1450.69 176.153 1450.69 Z\" fill=\"#000000\" fill-rule=\"evenodd\" fill-opacity=\"1\" /><path clip-path=\"url(#clip080)\" d=\"M197.126 1481.94 L204.764 1481.94 L204.764 1455.57 L196.454 1457.24 L196.454 1452.98 L204.718 1451.31 L209.394 1451.31 L209.394 1481.94 L217.033 1481.94 L217.033 1485.87 L197.126 1485.87 L197.126 1481.94 Z\" fill=\"#000000\" fill-rule=\"evenodd\" fill-opacity=\"1\" /><path clip-path=\"url(#clip080)\" d=\"M236.477 1454.39 Q232.866 1454.39 231.037 1457.95 Q229.232 1461.5 229.232 1468.63 Q229.232 1475.73 231.037 1479.3 Q232.866 1482.84 236.477 1482.84 Q240.111 1482.84 241.917 1479.3 Q243.746 1475.73 243.746 1468.63 Q243.746 1461.5 241.917 1457.95 Q240.111 1454.39 236.477 1454.39 M236.477 1450.69 Q242.287 1450.69 245.343 1455.29 Q248.422 1459.88 248.422 1468.63 Q248.422 1477.35 245.343 1481.96 Q242.287 1486.54 236.477 1486.54 Q230.667 1486.54 227.588 1481.96 Q224.533 1477.35 224.533 1468.63 Q224.533 1459.88 227.588 1455.29 Q230.667 1450.69 236.477 1450.69 Z\" fill=\"#000000\" fill-rule=\"evenodd\" fill-opacity=\"1\" /><path clip-path=\"url(#clip080)\" d=\"M51.9875 1036.86 L81.6633 1036.86 L81.6633 1040.8 L51.9875 1040.8 L51.9875 1036.86 Z\" fill=\"#000000\" fill-rule=\"evenodd\" fill-opacity=\"1\" /><path clip-path=\"url(#clip080)\" d=\"M101.756 1022.21 Q98.1447 1022.21 96.316 1025.77 Q94.5104 1029.31 94.5104 1036.44 Q94.5104 1043.55 96.316 1047.11 Q98.1447 1050.66 101.756 1050.66 Q105.39 1050.66 107.196 1047.11 Q109.024 1043.55 109.024 1036.44 Q109.024 1029.31 107.196 1025.77 Q105.39 1022.21 101.756 1022.21 M101.756 1018.5 Q107.566 1018.5 110.621 1023.11 Q113.7 1027.69 113.7 1036.44 Q113.7 1045.17 110.621 1049.78 Q107.566 1054.36 101.756 1054.36 Q95.9456 1054.36 92.8669 1049.78 Q89.8114 1045.17 89.8114 1036.44 Q89.8114 1027.69 92.8669 1023.11 Q95.9456 1018.5 101.756 1018.5 Z\" fill=\"#000000\" fill-rule=\"evenodd\" fill-opacity=\"1\" /><path clip-path=\"url(#clip080)\" d=\"M121.918 1047.81 L126.802 1047.81 L126.802 1053.69 L121.918 1053.69 L121.918 1047.81 Z\" fill=\"#000000\" fill-rule=\"evenodd\" fill-opacity=\"1\" /><path clip-path=\"url(#clip080)\" d=\"M146.987 1022.21 Q143.376 1022.21 141.547 1025.77 Q139.742 1029.31 139.742 1036.44 Q139.742 1043.55 141.547 1047.11 Q143.376 1050.66 146.987 1050.66 Q150.621 1050.66 152.427 1047.11 Q154.255 1043.55 154.255 1036.44 Q154.255 1029.31 152.427 1025.77 Q150.621 1022.21 146.987 1022.21 M146.987 1018.5 Q152.797 1018.5 155.853 1023.11 Q158.931 1027.69 158.931 1036.44 Q158.931 1045.17 155.853 1049.78 Q152.797 1054.36 146.987 1054.36 Q141.177 1054.36 138.098 1049.78 Q135.043 1045.17 135.043 1036.44 Q135.043 1027.69 138.098 1023.11 Q141.177 1018.5 146.987 1018.5 Z\" fill=\"#000000\" fill-rule=\"evenodd\" fill-opacity=\"1\" /><path clip-path=\"url(#clip080)\" d=\"M177.149 1022.21 Q173.538 1022.21 171.709 1025.77 Q169.904 1029.31 169.904 1036.44 Q169.904 1043.55 171.709 1047.11 Q173.538 1050.66 177.149 1050.66 Q180.783 1050.66 182.589 1047.11 Q184.417 1043.55 184.417 1036.44 Q184.417 1029.31 182.589 1025.77 Q180.783 1022.21 177.149 1022.21 M177.149 1018.5 Q182.959 1018.5 186.015 1023.11 Q189.093 1027.69 189.093 1036.44 Q189.093 1045.17 186.015 1049.78 Q182.959 1054.36 177.149 1054.36 Q171.339 1054.36 168.26 1049.78 Q165.204 1045.17 165.204 1036.44 Q165.204 1027.69 168.26 1023.11 Q171.339 1018.5 177.149 1018.5 Z\" fill=\"#000000\" fill-rule=\"evenodd\" fill-opacity=\"1\" /><path clip-path=\"url(#clip080)\" d=\"M207.311 1022.21 Q203.7 1022.21 201.871 1025.77 Q200.065 1029.31 200.065 1036.44 Q200.065 1043.55 201.871 1047.11 Q203.7 1050.66 207.311 1050.66 Q210.945 1050.66 212.751 1047.11 Q214.579 1043.55 214.579 1036.44 Q214.579 1029.31 212.751 1025.77 Q210.945 1022.21 207.311 1022.21 M207.311 1018.5 Q213.121 1018.5 216.176 1023.11 Q219.255 1027.69 219.255 1036.44 Q219.255 1045.17 216.176 1049.78 Q213.121 1054.36 207.311 1054.36 Q201.501 1054.36 198.422 1049.78 Q195.366 1045.17 195.366 1036.44 Q195.366 1027.69 198.422 1023.11 Q201.501 1018.5 207.311 1018.5 Z\" fill=\"#000000\" fill-rule=\"evenodd\" fill-opacity=\"1\" /><path clip-path=\"url(#clip080)\" d=\"M227.519 1019.13 L245.875 1019.13 L245.875 1023.06 L231.801 1023.06 L231.801 1031.54 Q232.82 1031.19 233.838 1031.03 Q234.857 1030.84 235.875 1030.84 Q241.662 1030.84 245.042 1034.01 Q248.422 1037.18 248.422 1042.6 Q248.422 1048.18 244.949 1051.28 Q241.477 1054.36 235.158 1054.36 Q232.982 1054.36 230.713 1053.99 Q228.468 1053.62 226.061 1052.88 L226.061 1048.18 Q228.144 1049.31 230.366 1049.87 Q232.588 1050.43 235.065 1050.43 Q239.07 1050.43 241.408 1048.32 Q243.746 1046.21 243.746 1042.6 Q243.746 1038.99 241.408 1036.88 Q239.07 1034.78 235.065 1034.78 Q233.19 1034.78 231.315 1035.19 Q229.463 1035.61 227.519 1036.49 L227.519 1019.13 Z\" fill=\"#000000\" fill-rule=\"evenodd\" fill-opacity=\"1\" /><path clip-path=\"url(#clip080)\" d=\"M100.76 590.025 Q97.1493 590.025 95.3206 593.59 Q93.515 597.132 93.515 604.261 Q93.515 611.368 95.3206 614.933 Q97.1493 618.474 100.76 618.474 Q104.395 618.474 106.2 614.933 Q108.029 611.368 108.029 604.261 Q108.029 597.132 106.2 593.59 Q104.395 590.025 100.76 590.025 M100.76 586.322 Q106.571 586.322 109.626 590.928 Q112.705 595.511 112.705 604.261 Q112.705 612.988 109.626 617.595 Q106.571 622.178 100.76 622.178 Q94.9502 622.178 91.8715 617.595 Q88.816 612.988 88.816 604.261 Q88.816 595.511 91.8715 590.928 Q94.9502 586.322 100.76 586.322 Z\" fill=\"#000000\" fill-rule=\"evenodd\" fill-opacity=\"1\" /><path clip-path=\"url(#clip080)\" d=\"M120.922 615.627 L125.807 615.627 L125.807 621.507 L120.922 621.507 L120.922 615.627 Z\" fill=\"#000000\" fill-rule=\"evenodd\" fill-opacity=\"1\" /><path clip-path=\"url(#clip080)\" d=\"M145.992 590.025 Q142.381 590.025 140.552 593.59 Q138.746 597.132 138.746 604.261 Q138.746 611.368 140.552 614.933 Q142.381 618.474 145.992 618.474 Q149.626 618.474 151.431 614.933 Q153.26 611.368 153.26 604.261 Q153.26 597.132 151.431 593.59 Q149.626 590.025 145.992 590.025 M145.992 586.322 Q151.802 586.322 154.857 590.928 Q157.936 595.511 157.936 604.261 Q157.936 612.988 154.857 617.595 Q151.802 622.178 145.992 622.178 Q140.181 622.178 137.103 617.595 Q134.047 612.988 134.047 604.261 Q134.047 595.511 137.103 590.928 Q140.181 586.322 145.992 586.322 Z\" fill=\"#000000\" fill-rule=\"evenodd\" fill-opacity=\"1\" /><path clip-path=\"url(#clip080)\" d=\"M176.153 590.025 Q172.542 590.025 170.714 593.59 Q168.908 597.132 168.908 604.261 Q168.908 611.368 170.714 614.933 Q172.542 618.474 176.153 618.474 Q179.788 618.474 181.593 614.933 Q183.422 611.368 183.422 604.261 Q183.422 597.132 181.593 593.59 Q179.788 590.025 176.153 590.025 M176.153 586.322 Q181.964 586.322 185.019 590.928 Q188.098 595.511 188.098 604.261 Q188.098 612.988 185.019 617.595 Q181.964 622.178 176.153 622.178 Q170.343 622.178 167.265 617.595 Q164.209 612.988 164.209 604.261 Q164.209 595.511 167.265 590.928 Q170.343 586.322 176.153 586.322 Z\" fill=\"#000000\" fill-rule=\"evenodd\" fill-opacity=\"1\" /><path clip-path=\"url(#clip080)\" d=\"M206.315 590.025 Q202.704 590.025 200.876 593.59 Q199.07 597.132 199.07 604.261 Q199.07 611.368 200.876 614.933 Q202.704 618.474 206.315 618.474 Q209.95 618.474 211.755 614.933 Q213.584 611.368 213.584 604.261 Q213.584 597.132 211.755 593.59 Q209.95 590.025 206.315 590.025 M206.315 586.322 Q212.126 586.322 215.181 590.928 Q218.26 595.511 218.26 604.261 Q218.26 612.988 215.181 617.595 Q212.126 622.178 206.315 622.178 Q200.505 622.178 197.427 617.595 Q194.371 612.988 194.371 604.261 Q194.371 595.511 197.427 590.928 Q200.505 586.322 206.315 586.322 Z\" fill=\"#000000\" fill-rule=\"evenodd\" fill-opacity=\"1\" /><path clip-path=\"url(#clip080)\" d=\"M236.477 590.025 Q232.866 590.025 231.037 593.59 Q229.232 597.132 229.232 604.261 Q229.232 611.368 231.037 614.933 Q232.866 618.474 236.477 618.474 Q240.111 618.474 241.917 614.933 Q243.746 611.368 243.746 604.261 Q243.746 597.132 241.917 593.59 Q240.111 590.025 236.477 590.025 M236.477 586.322 Q242.287 586.322 245.343 590.928 Q248.422 595.511 248.422 604.261 Q248.422 612.988 245.343 617.595 Q242.287 622.178 236.477 622.178 Q230.667 622.178 227.588 617.595 Q224.533 612.988 224.533 604.261 Q224.533 595.511 227.588 590.928 Q230.667 586.322 236.477 586.322 Z\" fill=\"#000000\" fill-rule=\"evenodd\" fill-opacity=\"1\" /><path clip-path=\"url(#clip080)\" d=\"M101.756 157.843 Q98.1447 157.843 96.316 161.408 Q94.5104 164.949 94.5104 172.079 Q94.5104 179.185 96.316 182.75 Q98.1447 186.292 101.756 186.292 Q105.39 186.292 107.196 182.75 Q109.024 179.185 109.024 172.079 Q109.024 164.949 107.196 161.408 Q105.39 157.843 101.756 157.843 M101.756 154.139 Q107.566 154.139 110.621 158.746 Q113.7 163.329 113.7 172.079 Q113.7 180.806 110.621 185.412 Q107.566 189.996 101.756 189.996 Q95.9456 189.996 92.8669 185.412 Q89.8114 180.806 89.8114 172.079 Q89.8114 163.329 92.8669 158.746 Q95.9456 154.139 101.756 154.139 Z\" fill=\"#000000\" fill-rule=\"evenodd\" fill-opacity=\"1\" /><path clip-path=\"url(#clip080)\" d=\"M121.918 183.445 L126.802 183.445 L126.802 189.324 L121.918 189.324 L121.918 183.445 Z\" fill=\"#000000\" fill-rule=\"evenodd\" fill-opacity=\"1\" /><path clip-path=\"url(#clip080)\" d=\"M146.987 157.843 Q143.376 157.843 141.547 161.408 Q139.742 164.949 139.742 172.079 Q139.742 179.185 141.547 182.75 Q143.376 186.292 146.987 186.292 Q150.621 186.292 152.427 182.75 Q154.255 179.185 154.255 172.079 Q154.255 164.949 152.427 161.408 Q150.621 157.843 146.987 157.843 M146.987 154.139 Q152.797 154.139 155.853 158.746 Q158.931 163.329 158.931 172.079 Q158.931 180.806 155.853 185.412 Q152.797 189.996 146.987 189.996 Q141.177 189.996 138.098 185.412 Q135.043 180.806 135.043 172.079 Q135.043 163.329 138.098 158.746 Q141.177 154.139 146.987 154.139 Z\" fill=\"#000000\" fill-rule=\"evenodd\" fill-opacity=\"1\" /><path clip-path=\"url(#clip080)\" d=\"M177.149 157.843 Q173.538 157.843 171.709 161.408 Q169.904 164.949 169.904 172.079 Q169.904 179.185 171.709 182.75 Q173.538 186.292 177.149 186.292 Q180.783 186.292 182.589 182.75 Q184.417 179.185 184.417 172.079 Q184.417 164.949 182.589 161.408 Q180.783 157.843 177.149 157.843 M177.149 154.139 Q182.959 154.139 186.015 158.746 Q189.093 163.329 189.093 172.079 Q189.093 180.806 186.015 185.412 Q182.959 189.996 177.149 189.996 Q171.339 189.996 168.26 185.412 Q165.204 180.806 165.204 172.079 Q165.204 163.329 168.26 158.746 Q171.339 154.139 177.149 154.139 Z\" fill=\"#000000\" fill-rule=\"evenodd\" fill-opacity=\"1\" /><path clip-path=\"url(#clip080)\" d=\"M207.311 157.843 Q203.7 157.843 201.871 161.408 Q200.065 164.949 200.065 172.079 Q200.065 179.185 201.871 182.75 Q203.7 186.292 207.311 186.292 Q210.945 186.292 212.751 182.75 Q214.579 179.185 214.579 172.079 Q214.579 164.949 212.751 161.408 Q210.945 157.843 207.311 157.843 M207.311 154.139 Q213.121 154.139 216.176 158.746 Q219.255 163.329 219.255 172.079 Q219.255 180.806 216.176 185.412 Q213.121 189.996 207.311 189.996 Q201.501 189.996 198.422 185.412 Q195.366 180.806 195.366 172.079 Q195.366 163.329 198.422 158.746 Q201.501 154.139 207.311 154.139 Z\" fill=\"#000000\" fill-rule=\"evenodd\" fill-opacity=\"1\" /><path clip-path=\"url(#clip080)\" d=\"M227.519 154.764 L245.875 154.764 L245.875 158.699 L231.801 158.699 L231.801 167.172 Q232.82 166.824 233.838 166.662 Q234.857 166.477 235.875 166.477 Q241.662 166.477 245.042 169.648 Q248.422 172.82 248.422 178.236 Q248.422 183.815 244.949 186.917 Q241.477 189.996 235.158 189.996 Q232.982 189.996 230.713 189.625 Q228.468 189.255 226.061 188.514 L226.061 183.815 Q228.144 184.949 230.366 185.505 Q232.588 186.06 235.065 186.06 Q239.07 186.06 241.408 183.954 Q243.746 181.847 243.746 178.236 Q243.746 174.625 241.408 172.519 Q239.07 170.412 235.065 170.412 Q233.19 170.412 231.315 170.829 Q229.463 171.246 227.519 172.125 L227.519 154.764 Z\" fill=\"#000000\" fill-rule=\"evenodd\" fill-opacity=\"1\" /><polyline clip-path=\"url(#clip082)\" style=\"stroke:#009af9; stroke-linecap:butt; stroke-linejoin:round; stroke-width:4; stroke-opacity:1; fill:none\" points=\"\n",
       "  342.959,1445.72 362.015,1432.46 538.212,1309.85 644.099,1236.18 733.625,1173.88 830.875,1106.21 920.532,1043.83 1016.65,976.942 1128.02,899.451 1226.99,830.585 \n",
       "  1313.77,770.197 1408.39,704.357 1503.58,638.126 1608.81,564.899 1708.94,495.226 1813.06,422.781 1900.7,361.799 2007.7,287.346 2108.28,217.358 2269.42,105.232 \n",
       "  2294.22,87.9763 \n",
       "  \"/>\n",
       "<path clip-path=\"url(#clip082)\" d=\"\n",
       "M1508 635.053 L1597.98 635.053 L1597.98 572.44 L1508 572.44 L1508 635.053  Z\n",
       "  \" fill=\"#e26f46\" fill-rule=\"evenodd\" fill-opacity=\"0.5\"/>\n",
       "<polyline clip-path=\"url(#clip082)\" style=\"stroke:#000000; stroke-linecap:butt; stroke-linejoin:round; stroke-width:4; stroke-opacity:0.5; fill:none\" points=\"\n",
       "  1508,635.053 1597.98,635.053 1597.98,572.44 1508,572.44 1508,635.053 \n",
       "  \"/>\n",
       "<path clip-path=\"url(#clip080)\" d=\"\n",
       "M2001.57 250.738 L2283.81 250.738 L2283.81 95.2176 L2001.57 95.2176  Z\n",
       "  \" fill=\"#ffffff\" fill-rule=\"evenodd\" fill-opacity=\"1\"/>\n",
       "<polyline clip-path=\"url(#clip080)\" style=\"stroke:#000000; stroke-linecap:butt; stroke-linejoin:round; stroke-width:4; stroke-opacity:1; fill:none\" points=\"\n",
       "  2001.57,250.738 2283.81,250.738 2283.81,95.2176 2001.57,95.2176 2001.57,250.738 \n",
       "  \"/>\n",
       "<polyline clip-path=\"url(#clip080)\" style=\"stroke:#009af9; stroke-linecap:butt; stroke-linejoin:round; stroke-width:4; stroke-opacity:1; fill:none\" points=\"\n",
       "  2024.55,147.058 2162.44,147.058 \n",
       "  \"/>\n",
       "<path clip-path=\"url(#clip080)\" d=\"M2199.26 166.745 Q2197.46 171.375 2195.74 172.787 Q2194.03 174.199 2191.16 174.199 L2187.76 174.199 L2187.76 170.634 L2190.26 170.634 Q2192.02 170.634 2192.99 169.8 Q2193.96 168.967 2195.14 165.865 L2195.9 163.921 L2185.42 138.412 L2189.93 138.412 L2198.03 158.689 L2206.14 138.412 L2210.65 138.412 L2199.26 166.745 Z\" fill=\"#000000\" fill-rule=\"evenodd\" fill-opacity=\"1\" /><path clip-path=\"url(#clip080)\" d=\"M2217.94 160.402 L2225.58 160.402 L2225.58 134.037 L2217.27 135.703 L2217.27 131.444 L2225.53 129.778 L2230.21 129.778 L2230.21 160.402 L2237.85 160.402 L2237.85 164.338 L2217.94 164.338 L2217.94 160.402 Z\" fill=\"#000000\" fill-rule=\"evenodd\" fill-opacity=\"1\" /><path clip-path=\"url(#clip080)\" d=\"\n",
       "M2024.55 219.634 L2162.44 219.634 L2162.44 178.162 L2024.55 178.162 L2024.55 219.634  Z\n",
       "  \" fill=\"#e26f46\" fill-rule=\"evenodd\" fill-opacity=\"0.5\"/>\n",
       "<polyline clip-path=\"url(#clip080)\" style=\"stroke:#000000; stroke-linecap:butt; stroke-linejoin:round; stroke-width:4; stroke-opacity:1; fill:none\" points=\"\n",
       "  2024.55,219.634 2162.44,219.634 2162.44,178.162 2024.55,178.162 2024.55,219.634 \n",
       "  \"/>\n",
       "<path clip-path=\"url(#clip080)\" d=\"M2199.26 218.585 Q2197.46 223.215 2195.74 224.627 Q2194.03 226.039 2191.16 226.039 L2187.76 226.039 L2187.76 222.474 L2190.26 222.474 Q2192.02 222.474 2192.99 221.64 Q2193.96 220.807 2195.14 217.705 L2195.9 215.761 L2185.42 190.252 L2189.93 190.252 L2198.03 210.529 L2206.14 190.252 L2210.65 190.252 L2199.26 218.585 Z\" fill=\"#000000\" fill-rule=\"evenodd\" fill-opacity=\"1\" /><path clip-path=\"url(#clip080)\" d=\"M2221.16 212.242 L2237.48 212.242 L2237.48 216.178 L2215.53 216.178 L2215.53 212.242 Q2218.2 209.488 2222.78 204.858 Q2227.39 200.205 2228.57 198.863 Q2230.81 196.34 2231.69 194.604 Q2232.59 192.844 2232.59 191.155 Q2232.59 188.4 2230.65 186.664 Q2228.73 184.928 2225.63 184.928 Q2223.43 184.928 2220.97 185.692 Q2218.54 186.455 2215.77 188.006 L2215.77 183.284 Q2218.59 182.15 2221.04 181.571 Q2223.5 180.993 2225.53 180.993 Q2230.9 180.993 2234.1 183.678 Q2237.29 186.363 2237.29 190.854 Q2237.29 192.983 2236.48 194.905 Q2235.7 196.803 2233.59 199.395 Q2233.01 200.067 2229.91 203.284 Q2226.81 206.479 2221.16 212.242 Z\" fill=\"#000000\" fill-rule=\"evenodd\" fill-opacity=\"1\" /></svg>\n"
      ]
     },
     "execution_count": 51,
     "metadata": {},
     "output_type": "execute_result"
    }
   ],
   "source": [
    "plot(f, 0.3180, 0.3185)\n",
    "plot!(IntervalBox.(new_x[end], f.(new_x[end])))"
   ]
  },
  {
   "cell_type": "markdown",
   "metadata": {},
   "source": [
    "__Exercise__: Modify the Interval Newton Method to solve the equation $f(x)=y$; can you implement it in such a way that $y$ may be an interval? What happens when you use to solve an equation $f(x)=y$ with $y$ a wide interval? "
   ]
  },
  {
   "cell_type": "markdown",
   "metadata": {},
   "source": [
    "## Taylor Models"
   ]
  },
  {
   "cell_type": "markdown",
   "metadata": {},
   "source": [
    "I will introduce now another tool of Validated Numerics, used to get rigorous approximations of functions, called Taylor Models.\n",
    "\n",
    "They are used in the rigorous computation of integrals and the rigorous computation of enclosures of trajectories of ODE. "
   ]
  },
  {
   "cell_type": "markdown",
   "metadata": {},
   "source": [
    "We want to be able to approximate a function by a polynomial with rigorous error bound."
   ]
  },
  {
   "cell_type": "code",
   "execution_count": 54,
   "metadata": {},
   "outputs": [
    {
     "name": "stderr",
     "output_type": "stream",
     "text": [
      "\u001b[32m\u001b[1m   Resolving\u001b[22m\u001b[39m package versions...\n",
      "\u001b[32m\u001b[1m   Installed\u001b[22m\u001b[39m TaylorModels ─ v0.4.2\n",
      "\u001b[32m\u001b[1m    Updating\u001b[22m\u001b[39m `~/.julia/environments/v1.6/Project.toml`\n",
      " \u001b[90m [314ce334] \u001b[39m\u001b[92m+ TaylorModels v0.4.2\u001b[39m\n",
      "\u001b[32m\u001b[1m    Updating\u001b[22m\u001b[39m `~/.julia/environments/v1.6/Manifest.toml`\n",
      " \u001b[90m [6912e4f1] \u001b[39m\u001b[92m+ Espresso v0.6.1\u001b[39m\n",
      " \u001b[90m [92b13dbe] \u001b[39m\u001b[92m+ TaylorIntegration v0.8.9\u001b[39m\n",
      " \u001b[90m [314ce334] \u001b[39m\u001b[92m+ TaylorModels v0.4.2\u001b[39m\n",
      "\u001b[32m\u001b[1mPrecompiling\u001b[22m\u001b[39m project...\n",
      "\u001b[32m  ✓ \u001b[39m\u001b[90mTaylorIntegration\u001b[39m\n",
      "\u001b[32m  ✓ \u001b[39mTaylorModels\n",
      "2 dependencies successfully precompiled in 11 seconds (334 already precompiled)\n"
     ]
    }
   ],
   "source": [
    "import Pkg; Pkg.add(\"TaylorModels\")"
   ]
  },
  {
   "cell_type": "code",
   "execution_count": 55,
   "metadata": {},
   "outputs": [],
   "source": [
    "using TaylorModels"
   ]
  },
  {
   "cell_type": "code",
   "execution_count": 56,
   "metadata": {},
   "outputs": [
    {
     "data": {
      "text/plain": [
       "[-0.5, 0.5]"
      ]
     },
     "execution_count": 56,
     "metadata": {},
     "output_type": "execute_result"
    }
   ],
   "source": [
    "f(x) = x*(x-1)*(x+2)*(x+3)^2*(x+7)*sin(2*π*x+0.5)\n",
    "I =  @interval -0.5 0.5 # Domain"
   ]
  },
  {
   "cell_type": "code",
   "execution_count": 57,
   "metadata": {},
   "outputs": [
    {
     "data": {
      "image/svg+xml": [
       "<?xml version=\"1.0\" encoding=\"utf-8\"?>\n",
       "<svg xmlns=\"http://www.w3.org/2000/svg\" xmlns:xlink=\"http://www.w3.org/1999/xlink\" width=\"600\" height=\"400\" viewBox=\"0 0 2400 1600\">\n",
       "<defs>\n",
       "  <clipPath id=\"clip120\">\n",
       "    <rect x=\"0\" y=\"0\" width=\"2400\" height=\"1600\"/>\n",
       "  </clipPath>\n",
       "</defs>\n",
       "<path clip-path=\"url(#clip120)\" d=\"\n",
       "M0 1600 L2400 1600 L2400 0 L0 0  Z\n",
       "  \" fill=\"#ffffff\" fill-rule=\"evenodd\" fill-opacity=\"1\"/>\n",
       "<defs>\n",
       "  <clipPath id=\"clip121\">\n",
       "    <rect x=\"480\" y=\"0\" width=\"1681\" height=\"1600\"/>\n",
       "  </clipPath>\n",
       "</defs>\n",
       "<path clip-path=\"url(#clip120)\" d=\"\n",
       "M178.867 1486.45 L2352.76 1486.45 L2352.76 47.2441 L178.867 47.2441  Z\n",
       "  \" fill=\"#ffffff\" fill-rule=\"evenodd\" fill-opacity=\"1\"/>\n",
       "<defs>\n",
       "  <clipPath id=\"clip122\">\n",
       "    <rect x=\"178\" y=\"47\" width=\"2175\" height=\"1440\"/>\n",
       "  </clipPath>\n",
       "</defs>\n",
       "<polyline clip-path=\"url(#clip122)\" style=\"stroke:#000000; stroke-linecap:butt; stroke-linejoin:round; stroke-width:2; stroke-opacity:0.1; fill:none\" points=\"\n",
       "  445.476,1486.45 445.476,47.2441 \n",
       "  \"/>\n",
       "<polyline clip-path=\"url(#clip122)\" style=\"stroke:#000000; stroke-linecap:butt; stroke-linejoin:round; stroke-width:2; stroke-opacity:0.1; fill:none\" points=\"\n",
       "  855.643,1486.45 855.643,47.2441 \n",
       "  \"/>\n",
       "<polyline clip-path=\"url(#clip122)\" style=\"stroke:#000000; stroke-linecap:butt; stroke-linejoin:round; stroke-width:2; stroke-opacity:0.1; fill:none\" points=\"\n",
       "  1265.81,1486.45 1265.81,47.2441 \n",
       "  \"/>\n",
       "<polyline clip-path=\"url(#clip122)\" style=\"stroke:#000000; stroke-linecap:butt; stroke-linejoin:round; stroke-width:2; stroke-opacity:0.1; fill:none\" points=\"\n",
       "  1675.98,1486.45 1675.98,47.2441 \n",
       "  \"/>\n",
       "<polyline clip-path=\"url(#clip122)\" style=\"stroke:#000000; stroke-linecap:butt; stroke-linejoin:round; stroke-width:2; stroke-opacity:0.1; fill:none\" points=\"\n",
       "  2086.15,1486.45 2086.15,47.2441 \n",
       "  \"/>\n",
       "<polyline clip-path=\"url(#clip120)\" style=\"stroke:#000000; stroke-linecap:butt; stroke-linejoin:round; stroke-width:4; stroke-opacity:1; fill:none\" points=\"\n",
       "  178.867,1486.45 2352.76,1486.45 \n",
       "  \"/>\n",
       "<polyline clip-path=\"url(#clip120)\" style=\"stroke:#000000; stroke-linecap:butt; stroke-linejoin:round; stroke-width:4; stroke-opacity:1; fill:none\" points=\"\n",
       "  445.476,1486.45 445.476,1469.18 \n",
       "  \"/>\n",
       "<polyline clip-path=\"url(#clip120)\" style=\"stroke:#000000; stroke-linecap:butt; stroke-linejoin:round; stroke-width:4; stroke-opacity:1; fill:none\" points=\"\n",
       "  855.643,1486.45 855.643,1469.18 \n",
       "  \"/>\n",
       "<polyline clip-path=\"url(#clip120)\" style=\"stroke:#000000; stroke-linecap:butt; stroke-linejoin:round; stroke-width:4; stroke-opacity:1; fill:none\" points=\"\n",
       "  1265.81,1486.45 1265.81,1469.18 \n",
       "  \"/>\n",
       "<polyline clip-path=\"url(#clip120)\" style=\"stroke:#000000; stroke-linecap:butt; stroke-linejoin:round; stroke-width:4; stroke-opacity:1; fill:none\" points=\"\n",
       "  1675.98,1486.45 1675.98,1469.18 \n",
       "  \"/>\n",
       "<polyline clip-path=\"url(#clip120)\" style=\"stroke:#000000; stroke-linecap:butt; stroke-linejoin:round; stroke-width:4; stroke-opacity:1; fill:none\" points=\"\n",
       "  2086.15,1486.45 2086.15,1469.18 \n",
       "  \"/>\n",
       "<path clip-path=\"url(#clip120)\" d=\"M391.761 1530.29 L421.436 1530.29 L421.436 1534.23 L391.761 1534.23 L391.761 1530.29 Z\" fill=\"#000000\" fill-rule=\"evenodd\" fill-opacity=\"1\" /><path clip-path=\"url(#clip120)\" d=\"M441.529 1515.64 Q437.918 1515.64 436.089 1519.2 Q434.284 1522.75 434.284 1529.87 Q434.284 1536.98 436.089 1540.55 Q437.918 1544.09 441.529 1544.09 Q445.163 1544.09 446.969 1540.55 Q448.797 1536.98 448.797 1529.87 Q448.797 1522.75 446.969 1519.2 Q445.163 1515.64 441.529 1515.64 M441.529 1511.93 Q447.339 1511.93 450.395 1516.54 Q453.473 1521.12 453.473 1529.87 Q453.473 1538.6 450.395 1543.21 Q447.339 1547.79 441.529 1547.79 Q435.719 1547.79 432.64 1543.21 Q429.585 1538.6 429.585 1529.87 Q429.585 1521.12 432.64 1516.54 Q435.719 1511.93 441.529 1511.93 Z\" fill=\"#000000\" fill-rule=\"evenodd\" fill-opacity=\"1\" /><path clip-path=\"url(#clip120)\" d=\"M461.691 1541.24 L466.575 1541.24 L466.575 1547.12 L461.691 1547.12 L461.691 1541.24 Z\" fill=\"#000000\" fill-rule=\"evenodd\" fill-opacity=\"1\" /><path clip-path=\"url(#clip120)\" d=\"M489.607 1516.63 L477.802 1535.08 L489.607 1535.08 L489.607 1516.63 M488.381 1512.56 L494.26 1512.56 L494.26 1535.08 L499.191 1535.08 L499.191 1538.97 L494.26 1538.97 L494.26 1547.12 L489.607 1547.12 L489.607 1538.97 L474.006 1538.97 L474.006 1534.46 L488.381 1512.56 Z\" fill=\"#000000\" fill-rule=\"evenodd\" fill-opacity=\"1\" /><path clip-path=\"url(#clip120)\" d=\"M802.97 1530.29 L832.646 1530.29 L832.646 1534.23 L802.97 1534.23 L802.97 1530.29 Z\" fill=\"#000000\" fill-rule=\"evenodd\" fill-opacity=\"1\" /><path clip-path=\"url(#clip120)\" d=\"M852.738 1515.64 Q849.127 1515.64 847.299 1519.2 Q845.493 1522.75 845.493 1529.87 Q845.493 1536.98 847.299 1540.55 Q849.127 1544.09 852.738 1544.09 Q856.373 1544.09 858.178 1540.55 Q860.007 1536.98 860.007 1529.87 Q860.007 1522.75 858.178 1519.2 Q856.373 1515.64 852.738 1515.64 M852.738 1511.93 Q858.549 1511.93 861.604 1516.54 Q864.683 1521.12 864.683 1529.87 Q864.683 1538.6 861.604 1543.21 Q858.549 1547.79 852.738 1547.79 Q846.928 1547.79 843.85 1543.21 Q840.794 1538.6 840.794 1529.87 Q840.794 1521.12 843.85 1516.54 Q846.928 1511.93 852.738 1511.93 Z\" fill=\"#000000\" fill-rule=\"evenodd\" fill-opacity=\"1\" /><path clip-path=\"url(#clip120)\" d=\"M872.9 1541.24 L877.785 1541.24 L877.785 1547.12 L872.9 1547.12 L872.9 1541.24 Z\" fill=\"#000000\" fill-rule=\"evenodd\" fill-opacity=\"1\" /><path clip-path=\"url(#clip120)\" d=\"M891.997 1543.18 L908.317 1543.18 L908.317 1547.12 L886.372 1547.12 L886.372 1543.18 Q889.035 1540.43 893.618 1535.8 Q898.224 1531.15 899.405 1529.81 Q901.65 1527.28 902.53 1525.55 Q903.433 1523.79 903.433 1522.1 Q903.433 1519.34 901.488 1517.61 Q899.567 1515.87 896.465 1515.87 Q894.266 1515.87 891.812 1516.63 Q889.382 1517.4 886.604 1518.95 L886.604 1514.23 Q889.428 1513.09 891.882 1512.51 Q894.335 1511.93 896.372 1511.93 Q901.743 1511.93 904.937 1514.62 Q908.132 1517.31 908.132 1521.8 Q908.132 1523.93 907.321 1525.85 Q906.534 1527.74 904.428 1530.34 Q903.849 1531.01 900.747 1534.23 Q897.646 1537.42 891.997 1543.18 Z\" fill=\"#000000\" fill-rule=\"evenodd\" fill-opacity=\"1\" /><path clip-path=\"url(#clip120)\" d=\"M1243.2 1515.64 Q1239.58 1515.64 1237.76 1519.2 Q1235.95 1522.75 1235.95 1529.87 Q1235.95 1536.98 1237.76 1540.55 Q1239.58 1544.09 1243.2 1544.09 Q1246.83 1544.09 1248.64 1540.55 Q1250.46 1536.98 1250.46 1529.87 Q1250.46 1522.75 1248.64 1519.2 Q1246.83 1515.64 1243.2 1515.64 M1243.2 1511.93 Q1249.01 1511.93 1252.06 1516.54 Q1255.14 1521.12 1255.14 1529.87 Q1255.14 1538.6 1252.06 1543.21 Q1249.01 1547.79 1243.2 1547.79 Q1237.39 1547.79 1234.31 1543.21 Q1231.25 1538.6 1231.25 1529.87 Q1231.25 1521.12 1234.31 1516.54 Q1237.39 1511.93 1243.2 1511.93 Z\" fill=\"#000000\" fill-rule=\"evenodd\" fill-opacity=\"1\" /><path clip-path=\"url(#clip120)\" d=\"M1263.36 1541.24 L1268.24 1541.24 L1268.24 1547.12 L1263.36 1547.12 L1263.36 1541.24 Z\" fill=\"#000000\" fill-rule=\"evenodd\" fill-opacity=\"1\" /><path clip-path=\"url(#clip120)\" d=\"M1288.43 1515.64 Q1284.82 1515.64 1282.99 1519.2 Q1281.18 1522.75 1281.18 1529.87 Q1281.18 1536.98 1282.99 1540.55 Q1284.82 1544.09 1288.43 1544.09 Q1292.06 1544.09 1293.87 1540.55 Q1295.7 1536.98 1295.7 1529.87 Q1295.7 1522.75 1293.87 1519.2 Q1292.06 1515.64 1288.43 1515.64 M1288.43 1511.93 Q1294.24 1511.93 1297.29 1516.54 Q1300.37 1521.12 1300.37 1529.87 Q1300.37 1538.6 1297.29 1543.21 Q1294.24 1547.79 1288.43 1547.79 Q1282.62 1547.79 1279.54 1543.21 Q1276.48 1538.6 1276.48 1529.87 Q1276.48 1521.12 1279.54 1516.54 Q1282.62 1511.93 1288.43 1511.93 Z\" fill=\"#000000\" fill-rule=\"evenodd\" fill-opacity=\"1\" /><path clip-path=\"url(#clip120)\" d=\"M1654.16 1515.64 Q1650.55 1515.64 1648.72 1519.2 Q1646.92 1522.75 1646.92 1529.87 Q1646.92 1536.98 1648.72 1540.55 Q1650.55 1544.09 1654.16 1544.09 Q1657.8 1544.09 1659.6 1540.55 Q1661.43 1536.98 1661.43 1529.87 Q1661.43 1522.75 1659.6 1519.2 Q1657.8 1515.64 1654.16 1515.64 M1654.16 1511.93 Q1659.97 1511.93 1663.03 1516.54 Q1666.11 1521.12 1666.11 1529.87 Q1666.11 1538.6 1663.03 1543.21 Q1659.97 1547.79 1654.16 1547.79 Q1648.35 1547.79 1645.27 1543.21 Q1642.22 1538.6 1642.22 1529.87 Q1642.22 1521.12 1645.27 1516.54 Q1648.35 1511.93 1654.16 1511.93 Z\" fill=\"#000000\" fill-rule=\"evenodd\" fill-opacity=\"1\" /><path clip-path=\"url(#clip120)\" d=\"M1674.32 1541.24 L1679.21 1541.24 L1679.21 1547.12 L1674.32 1547.12 L1674.32 1541.24 Z\" fill=\"#000000\" fill-rule=\"evenodd\" fill-opacity=\"1\" /><path clip-path=\"url(#clip120)\" d=\"M1693.42 1543.18 L1709.74 1543.18 L1709.74 1547.12 L1687.8 1547.12 L1687.8 1543.18 Q1690.46 1540.43 1695.04 1535.8 Q1699.65 1531.15 1700.83 1529.81 Q1703.07 1527.28 1703.95 1525.55 Q1704.86 1523.79 1704.86 1522.1 Q1704.86 1519.34 1702.91 1517.61 Q1700.99 1515.87 1697.89 1515.87 Q1695.69 1515.87 1693.24 1516.63 Q1690.81 1517.4 1688.03 1518.95 L1688.03 1514.23 Q1690.85 1513.09 1693.31 1512.51 Q1695.76 1511.93 1697.8 1511.93 Q1703.17 1511.93 1706.36 1514.62 Q1709.56 1517.31 1709.56 1521.8 Q1709.56 1523.93 1708.75 1525.85 Q1707.96 1527.74 1705.85 1530.34 Q1705.27 1531.01 1702.17 1534.23 Q1699.07 1537.42 1693.42 1543.18 Z\" fill=\"#000000\" fill-rule=\"evenodd\" fill-opacity=\"1\" /><path clip-path=\"url(#clip120)\" d=\"M2063.29 1515.64 Q2059.68 1515.64 2057.85 1519.2 Q2056.04 1522.75 2056.04 1529.87 Q2056.04 1536.98 2057.85 1540.55 Q2059.68 1544.09 2063.29 1544.09 Q2066.92 1544.09 2068.73 1540.55 Q2070.56 1536.98 2070.56 1529.87 Q2070.56 1522.75 2068.73 1519.2 Q2066.92 1515.64 2063.29 1515.64 M2063.29 1511.93 Q2069.1 1511.93 2072.15 1516.54 Q2075.23 1521.12 2075.23 1529.87 Q2075.23 1538.6 2072.15 1543.21 Q2069.1 1547.79 2063.29 1547.79 Q2057.48 1547.79 2054.4 1543.21 Q2051.34 1538.6 2051.34 1529.87 Q2051.34 1521.12 2054.4 1516.54 Q2057.48 1511.93 2063.29 1511.93 Z\" fill=\"#000000\" fill-rule=\"evenodd\" fill-opacity=\"1\" /><path clip-path=\"url(#clip120)\" d=\"M2083.45 1541.24 L2088.33 1541.24 L2088.33 1547.12 L2083.45 1547.12 L2083.45 1541.24 Z\" fill=\"#000000\" fill-rule=\"evenodd\" fill-opacity=\"1\" /><path clip-path=\"url(#clip120)\" d=\"M2111.37 1516.63 L2099.56 1535.08 L2111.37 1535.08 L2111.37 1516.63 M2110.14 1512.56 L2116.02 1512.56 L2116.02 1535.08 L2120.95 1535.08 L2120.95 1538.97 L2116.02 1538.97 L2116.02 1547.12 L2111.37 1547.12 L2111.37 1538.97 L2095.76 1538.97 L2095.76 1534.46 L2110.14 1512.56 Z\" fill=\"#000000\" fill-rule=\"evenodd\" fill-opacity=\"1\" /><polyline clip-path=\"url(#clip122)\" style=\"stroke:#000000; stroke-linecap:butt; stroke-linejoin:round; stroke-width:2; stroke-opacity:0.1; fill:none\" points=\"\n",
       "  178.867,1304.15 2352.76,1304.15 \n",
       "  \"/>\n",
       "<polyline clip-path=\"url(#clip122)\" style=\"stroke:#000000; stroke-linecap:butt; stroke-linejoin:round; stroke-width:2; stroke-opacity:0.1; fill:none\" points=\"\n",
       "  178.867,1092.75 2352.76,1092.75 \n",
       "  \"/>\n",
       "<polyline clip-path=\"url(#clip122)\" style=\"stroke:#000000; stroke-linecap:butt; stroke-linejoin:round; stroke-width:2; stroke-opacity:0.1; fill:none\" points=\"\n",
       "  178.867,881.351 2352.76,881.351 \n",
       "  \"/>\n",
       "<polyline clip-path=\"url(#clip122)\" style=\"stroke:#000000; stroke-linecap:butt; stroke-linejoin:round; stroke-width:2; stroke-opacity:0.1; fill:none\" points=\"\n",
       "  178.867,669.951 2352.76,669.951 \n",
       "  \"/>\n",
       "<polyline clip-path=\"url(#clip122)\" style=\"stroke:#000000; stroke-linecap:butt; stroke-linejoin:round; stroke-width:2; stroke-opacity:0.1; fill:none\" points=\"\n",
       "  178.867,458.551 2352.76,458.551 \n",
       "  \"/>\n",
       "<polyline clip-path=\"url(#clip122)\" style=\"stroke:#000000; stroke-linecap:butt; stroke-linejoin:round; stroke-width:2; stroke-opacity:0.1; fill:none\" points=\"\n",
       "  178.867,247.15 2352.76,247.15 \n",
       "  \"/>\n",
       "<polyline clip-path=\"url(#clip120)\" style=\"stroke:#000000; stroke-linecap:butt; stroke-linejoin:round; stroke-width:4; stroke-opacity:1; fill:none\" points=\"\n",
       "  178.867,1486.45 178.867,47.2441 \n",
       "  \"/>\n",
       "<polyline clip-path=\"url(#clip120)\" style=\"stroke:#000000; stroke-linecap:butt; stroke-linejoin:round; stroke-width:4; stroke-opacity:1; fill:none\" points=\"\n",
       "  178.867,1304.15 204.953,1304.15 \n",
       "  \"/>\n",
       "<polyline clip-path=\"url(#clip120)\" style=\"stroke:#000000; stroke-linecap:butt; stroke-linejoin:round; stroke-width:4; stroke-opacity:1; fill:none\" points=\"\n",
       "  178.867,1092.75 204.953,1092.75 \n",
       "  \"/>\n",
       "<polyline clip-path=\"url(#clip120)\" style=\"stroke:#000000; stroke-linecap:butt; stroke-linejoin:round; stroke-width:4; stroke-opacity:1; fill:none\" points=\"\n",
       "  178.867,881.351 204.953,881.351 \n",
       "  \"/>\n",
       "<polyline clip-path=\"url(#clip120)\" style=\"stroke:#000000; stroke-linecap:butt; stroke-linejoin:round; stroke-width:4; stroke-opacity:1; fill:none\" points=\"\n",
       "  178.867,669.951 204.953,669.951 \n",
       "  \"/>\n",
       "<polyline clip-path=\"url(#clip120)\" style=\"stroke:#000000; stroke-linecap:butt; stroke-linejoin:round; stroke-width:4; stroke-opacity:1; fill:none\" points=\"\n",
       "  178.867,458.551 204.953,458.551 \n",
       "  \"/>\n",
       "<polyline clip-path=\"url(#clip120)\" style=\"stroke:#000000; stroke-linecap:butt; stroke-linejoin:round; stroke-width:4; stroke-opacity:1; fill:none\" points=\"\n",
       "  178.867,247.15 204.953,247.15 \n",
       "  \"/>\n",
       "<path clip-path=\"url(#clip120)\" d=\"M50.9921 1304.6 L80.6679 1304.6 L80.6679 1308.54 L50.9921 1308.54 L50.9921 1304.6 Z\" fill=\"#000000\" fill-rule=\"evenodd\" fill-opacity=\"1\" /><path clip-path=\"url(#clip120)\" d=\"M104.927 1302.8 Q108.283 1303.52 110.158 1305.78 Q112.057 1308.05 112.057 1311.39 Q112.057 1316.5 108.538 1319.3 Q105.02 1322.1 98.5382 1322.1 Q96.3623 1322.1 94.0475 1321.66 Q91.7558 1321.25 89.3021 1320.39 L89.3021 1315.88 Q91.2465 1317.01 93.5613 1317.59 Q95.8761 1318.17 98.3993 1318.17 Q102.797 1318.17 105.089 1316.43 Q107.404 1314.7 107.404 1311.39 Q107.404 1308.33 105.251 1306.62 Q103.121 1304.88 99.3021 1304.88 L95.2743 1304.88 L95.2743 1301.04 L99.4872 1301.04 Q102.936 1301.04 104.765 1299.67 Q106.594 1298.28 106.594 1295.69 Q106.594 1293.03 104.696 1291.62 Q102.821 1290.18 99.3021 1290.18 Q97.3808 1290.18 95.1817 1290.6 Q92.9826 1291.02 90.3438 1291.89 L90.3438 1287.73 Q93.0058 1286.99 95.3206 1286.62 Q97.6585 1286.25 99.7187 1286.25 Q105.043 1286.25 108.145 1288.68 Q111.246 1291.08 111.246 1295.21 Q111.246 1298.08 109.603 1300.07 Q107.959 1302.03 104.927 1302.8 Z\" fill=\"#000000\" fill-rule=\"evenodd\" fill-opacity=\"1\" /><path clip-path=\"url(#clip120)\" d=\"M130.922 1289.95 Q127.311 1289.95 125.482 1293.52 Q123.677 1297.06 123.677 1304.19 Q123.677 1311.29 125.482 1314.86 Q127.311 1318.4 130.922 1318.4 Q134.556 1318.4 136.362 1314.86 Q138.191 1311.29 138.191 1304.19 Q138.191 1297.06 136.362 1293.52 Q134.556 1289.95 130.922 1289.95 M130.922 1286.25 Q136.732 1286.25 139.788 1290.85 Q142.867 1295.44 142.867 1304.19 Q142.867 1312.91 139.788 1317.52 Q136.732 1322.1 130.922 1322.1 Q125.112 1322.1 122.033 1317.52 Q118.978 1312.91 118.978 1304.19 Q118.978 1295.44 122.033 1290.85 Q125.112 1286.25 130.922 1286.25 Z\" fill=\"#000000\" fill-rule=\"evenodd\" fill-opacity=\"1\" /><path clip-path=\"url(#clip120)\" d=\"M50.9921 1093.2 L80.6679 1093.2 L80.6679 1097.14 L50.9921 1097.14 L50.9921 1093.2 Z\" fill=\"#000000\" fill-rule=\"evenodd\" fill-opacity=\"1\" /><path clip-path=\"url(#clip120)\" d=\"M94.7882 1106.1 L111.108 1106.1 L111.108 1110.03 L89.1632 1110.03 L89.1632 1106.1 Q91.8252 1103.34 96.4085 1098.71 Q101.015 1094.06 102.196 1092.72 Q104.441 1090.19 105.321 1088.46 Q106.223 1086.7 106.223 1085.01 Q106.223 1082.25 104.279 1080.52 Q102.358 1078.78 99.2558 1078.78 Q97.0567 1078.78 94.603 1079.55 Q92.1725 1080.31 89.3947 1081.86 L89.3947 1077.14 Q92.2188 1076 94.6724 1075.43 Q97.1261 1074.85 99.1632 1074.85 Q104.534 1074.85 107.728 1077.53 Q110.922 1080.22 110.922 1084.71 Q110.922 1086.84 110.112 1088.76 Q109.325 1090.66 107.219 1093.25 Q106.64 1093.92 103.538 1097.14 Q100.436 1100.33 94.7882 1106.1 Z\" fill=\"#000000\" fill-rule=\"evenodd\" fill-opacity=\"1\" /><path clip-path=\"url(#clip120)\" d=\"M130.922 1078.55 Q127.311 1078.55 125.482 1082.11 Q123.677 1085.66 123.677 1092.79 Q123.677 1099.89 125.482 1103.46 Q127.311 1107 130.922 1107 Q134.556 1107 136.362 1103.46 Q138.191 1099.89 138.191 1092.79 Q138.191 1085.66 136.362 1082.11 Q134.556 1078.55 130.922 1078.55 M130.922 1074.85 Q136.732 1074.85 139.788 1079.45 Q142.867 1084.04 142.867 1092.79 Q142.867 1101.51 139.788 1106.12 Q136.732 1110.7 130.922 1110.7 Q125.112 1110.7 122.033 1106.12 Q118.978 1101.51 118.978 1092.79 Q118.978 1084.04 122.033 1079.45 Q125.112 1074.85 130.922 1074.85 Z\" fill=\"#000000\" fill-rule=\"evenodd\" fill-opacity=\"1\" /><path clip-path=\"url(#clip120)\" d=\"M50.9921 881.803 L80.6679 881.803 L80.6679 885.738 L50.9921 885.738 L50.9921 881.803 Z\" fill=\"#000000\" fill-rule=\"evenodd\" fill-opacity=\"1\" /><path clip-path=\"url(#clip120)\" d=\"M91.5706 894.696 L99.2095 894.696 L99.2095 868.33 L90.8993 869.997 L90.8993 865.738 L99.1632 864.071 L103.839 864.071 L103.839 894.696 L111.478 894.696 L111.478 898.631 L91.5706 898.631 L91.5706 894.696 Z\" fill=\"#000000\" fill-rule=\"evenodd\" fill-opacity=\"1\" /><path clip-path=\"url(#clip120)\" d=\"M130.922 867.15 Q127.311 867.15 125.482 870.715 Q123.677 874.256 123.677 881.386 Q123.677 888.492 125.482 892.057 Q127.311 895.599 130.922 895.599 Q134.556 895.599 136.362 892.057 Q138.191 888.492 138.191 881.386 Q138.191 874.256 136.362 870.715 Q134.556 867.15 130.922 867.15 M130.922 863.446 Q136.732 863.446 139.788 868.053 Q142.867 872.636 142.867 881.386 Q142.867 890.113 139.788 894.719 Q136.732 899.303 130.922 899.303 Q125.112 899.303 122.033 894.719 Q118.978 890.113 118.978 881.386 Q118.978 872.636 122.033 868.053 Q125.112 863.446 130.922 863.446 Z\" fill=\"#000000\" fill-rule=\"evenodd\" fill-opacity=\"1\" /><path clip-path=\"url(#clip120)\" d=\"M130.922 655.75 Q127.311 655.75 125.482 659.314 Q123.677 662.856 123.677 669.986 Q123.677 677.092 125.482 680.657 Q127.311 684.199 130.922 684.199 Q134.556 684.199 136.362 680.657 Q138.191 677.092 138.191 669.986 Q138.191 662.856 136.362 659.314 Q134.556 655.75 130.922 655.75 M130.922 652.046 Q136.732 652.046 139.788 656.652 Q142.867 661.236 142.867 669.986 Q142.867 678.712 139.788 683.319 Q136.732 687.902 130.922 687.902 Q125.112 687.902 122.033 683.319 Q118.978 678.712 118.978 669.986 Q118.978 661.236 122.033 656.652 Q125.112 652.046 130.922 652.046 Z\" fill=\"#000000\" fill-rule=\"evenodd\" fill-opacity=\"1\" /><path clip-path=\"url(#clip120)\" d=\"M91.5706 471.896 L99.2095 471.896 L99.2095 445.53 L90.8993 447.197 L90.8993 442.937 L99.1632 441.271 L103.839 441.271 L103.839 471.896 L111.478 471.896 L111.478 475.831 L91.5706 475.831 L91.5706 471.896 Z\" fill=\"#000000\" fill-rule=\"evenodd\" fill-opacity=\"1\" /><path clip-path=\"url(#clip120)\" d=\"M130.922 444.349 Q127.311 444.349 125.482 447.914 Q123.677 451.456 123.677 458.585 Q123.677 465.692 125.482 469.257 Q127.311 472.798 130.922 472.798 Q134.556 472.798 136.362 469.257 Q138.191 465.692 138.191 458.585 Q138.191 451.456 136.362 447.914 Q134.556 444.349 130.922 444.349 M130.922 440.646 Q136.732 440.646 139.788 445.252 Q142.867 449.835 142.867 458.585 Q142.867 467.312 139.788 471.919 Q136.732 476.502 130.922 476.502 Q125.112 476.502 122.033 471.919 Q118.978 467.312 118.978 458.585 Q118.978 449.835 122.033 445.252 Q125.112 440.646 130.922 440.646 Z\" fill=\"#000000\" fill-rule=\"evenodd\" fill-opacity=\"1\" /><path clip-path=\"url(#clip120)\" d=\"M94.7882 260.495 L111.108 260.495 L111.108 264.43 L89.1632 264.43 L89.1632 260.495 Q91.8252 257.741 96.4085 253.111 Q101.015 248.458 102.196 247.116 Q104.441 244.593 105.321 242.856 Q106.223 241.097 106.223 239.407 Q106.223 236.653 104.279 234.917 Q102.358 233.181 99.2558 233.181 Q97.0567 233.181 94.603 233.944 Q92.1725 234.708 89.3947 236.259 L89.3947 231.537 Q92.2188 230.403 94.6724 229.824 Q97.1261 229.245 99.1632 229.245 Q104.534 229.245 107.728 231.931 Q110.922 234.616 110.922 239.106 Q110.922 241.236 110.112 243.157 Q109.325 245.056 107.219 247.648 Q106.64 248.319 103.538 251.537 Q100.436 254.731 94.7882 260.495 Z\" fill=\"#000000\" fill-rule=\"evenodd\" fill-opacity=\"1\" /><path clip-path=\"url(#clip120)\" d=\"M130.922 232.949 Q127.311 232.949 125.482 236.514 Q123.677 240.056 123.677 247.185 Q123.677 254.292 125.482 257.856 Q127.311 261.398 130.922 261.398 Q134.556 261.398 136.362 257.856 Q138.191 254.292 138.191 247.185 Q138.191 240.056 136.362 236.514 Q134.556 232.949 130.922 232.949 M130.922 229.245 Q136.732 229.245 139.788 233.852 Q142.867 238.435 142.867 247.185 Q142.867 255.912 139.788 260.518 Q136.732 265.102 130.922 265.102 Q125.112 265.102 122.033 260.518 Q118.978 255.912 118.978 247.185 Q118.978 238.435 122.033 233.852 Q125.112 229.245 130.922 229.245 Z\" fill=\"#000000\" fill-rule=\"evenodd\" fill-opacity=\"1\" /><polyline clip-path=\"url(#clip122)\" style=\"stroke:#009af9; stroke-linecap:butt; stroke-linejoin:round; stroke-width:4; stroke-opacity:1; fill:none\" points=\"\n",
       "  240.392,1133.16 245.399,1144.88 250.406,1156.42 255.413,1167.77 260.42,1178.92 306.717,1272.24 353.014,1346.61 376.163,1376.24 399.312,1400.66 422.46,1419.83 \n",
       "  445.609,1433.72 473.432,1443.46 501.254,1445.72 529.077,1440.71 556.9,1428.73 580.423,1413.45 603.947,1393.72 627.471,1369.85 650.995,1342.2 702.101,1270.86 \n",
       "  753.208,1187.67 800.324,1104.49 847.44,1019.01 897.953,929.178 948.466,845.659 977.729,801.826 1006.99,762.248 1036.25,727.577 1065.52,698.378 1091.52,677.402 \n",
       "  1117.53,661.381 1143.53,650.506 1169.53,644.899 1215.14,647.889 1260.75,666.892 1310.48,704.668 1360.2,758.071 1410.22,824.439 1460.24,899.59 1515.54,987.442 \n",
       "  1570.85,1073.81 1623.47,1148.28 1676.09,1209.24 1703.45,1233.78 1730.8,1252.48 1758.16,1264.72 1785.51,1269.94 1808.54,1268.55 1831.57,1261.62 1854.6,1248.96 \n",
       "  1877.63,1230.45 1905.74,1199.8 1933.86,1160.3 1961.97,1112.06 1990.09,1055.3 2016.52,994.512 2042.94,926.942 2069.37,853.097 2095.8,773.58 2138.14,636.127 \n",
       "  2180.48,489.185 2222.83,336.47 2265.17,182.041 2271.68,158.394 2278.2,134.824 2284.71,111.346 2291.23,87.9763 \n",
       "  \"/>\n",
       "<path clip-path=\"url(#clip120)\" d=\"\n",
       "M1986.32 198.898 L2280.29 198.898 L2280.29 95.2176 L1986.32 95.2176  Z\n",
       "  \" fill=\"#ffffff\" fill-rule=\"evenodd\" fill-opacity=\"1\"/>\n",
       "<polyline clip-path=\"url(#clip120)\" style=\"stroke:#000000; stroke-linecap:butt; stroke-linejoin:round; stroke-width:4; stroke-opacity:1; fill:none\" points=\"\n",
       "  1986.32,198.898 2280.29,198.898 2280.29,95.2176 1986.32,95.2176 1986.32,198.898 \n",
       "  \"/>\n",
       "<polyline clip-path=\"url(#clip120)\" style=\"stroke:#009af9; stroke-linecap:butt; stroke-linejoin:round; stroke-width:4; stroke-opacity:1; fill:none\" points=\"\n",
       "  2010.47,147.058 2155.4,147.058 \n",
       "  \"/>\n",
       "<path clip-path=\"url(#clip120)\" d=\"M2193.4 166.745 Q2191.59 171.375 2189.88 172.787 Q2188.17 174.199 2185.29 174.199 L2181.89 174.199 L2181.89 170.634 L2184.39 170.634 Q2186.15 170.634 2187.12 169.8 Q2188.1 168.967 2189.28 165.865 L2190.04 163.921 L2179.55 138.412 L2184.07 138.412 L2192.17 158.689 L2200.27 138.412 L2204.79 138.412 L2193.4 166.745 Z\" fill=\"#000000\" fill-rule=\"evenodd\" fill-opacity=\"1\" /><path clip-path=\"url(#clip120)\" d=\"M2212.08 160.402 L2219.72 160.402 L2219.72 134.037 L2211.41 135.703 L2211.41 131.444 L2219.67 129.778 L2224.35 129.778 L2224.35 160.402 L2231.98 160.402 L2231.98 164.338 L2212.08 164.338 L2212.08 160.402 Z\" fill=\"#000000\" fill-rule=\"evenodd\" fill-opacity=\"1\" /></svg>\n"
      ]
     },
     "execution_count": 57,
     "metadata": {},
     "output_type": "execute_result"
    }
   ],
   "source": [
    "plot(f, -0.5, 0.5)"
   ]
  },
  {
   "cell_type": "markdown",
   "metadata": {},
   "source": [
    "A Taylor model is a polynomial $P$ of degree $k$ and an interval $\\Delta$ such that given a function $f$, on an interval $I$, $P$ is the Taylor polynomial of order $k$ at the center of the interval and $\\Delta$ is an interval such that\n",
    "$$\n",
    "f(x)-P(x) \\in \\Delta\n",
    "$$"
   ]
  },
  {
   "cell_type": "code",
   "execution_count": 58,
   "metadata": {},
   "outputs": [
    {
     "data": {
      "text/plain": [
       " [1, 1] t + [0, 0]"
      ]
     },
     "execution_count": 58,
     "metadata": {},
     "output_type": "execute_result"
    }
   ],
   "source": [
    "TM10 = TaylorModel1(10, I) # Taylor model of order 10\n",
    "TM15 = TaylorModel1(15, I) #Taylor model of order 15"
   ]
  },
  {
   "cell_type": "markdown",
   "metadata": {},
   "source": [
    "Plese note that the Taylor model is centered at the midpoint of $I$."
   ]
  },
  {
   "cell_type": "code",
   "execution_count": 59,
   "metadata": {},
   "outputs": [
    {
     "name": "stdout",
     "output_type": "stream",
     "text": [
      "search: \u001b[0m\u001b[1mT\u001b[22m\u001b[0m\u001b[1ma\u001b[22m\u001b[0m\u001b[1my\u001b[22m\u001b[0m\u001b[1ml\u001b[22m\u001b[0m\u001b[1mo\u001b[22m\u001b[0m\u001b[1mr\u001b[22m\u001b[0m\u001b[1mM\u001b[22m\u001b[0m\u001b[1mo\u001b[22m\u001b[0m\u001b[1md\u001b[22m\u001b[0m\u001b[1me\u001b[22m\u001b[0m\u001b[1ml\u001b[22m\u001b[0m\u001b[1m1\u001b[22m R\u001b[0m\u001b[1mT\u001b[22m\u001b[0m\u001b[1ma\u001b[22m\u001b[0m\u001b[1my\u001b[22m\u001b[0m\u001b[1ml\u001b[22m\u001b[0m\u001b[1mo\u001b[22m\u001b[0m\u001b[1mr\u001b[22m\u001b[0m\u001b[1mM\u001b[22m\u001b[0m\u001b[1mo\u001b[22m\u001b[0m\u001b[1md\u001b[22m\u001b[0m\u001b[1me\u001b[22m\u001b[0m\u001b[1ml\u001b[22m\u001b[0m\u001b[1m1\u001b[22m \u001b[0m\u001b[1mT\u001b[22m\u001b[0m\u001b[1ma\u001b[22m\u001b[0m\u001b[1my\u001b[22m\u001b[0m\u001b[1ml\u001b[22m\u001b[0m\u001b[1mo\u001b[22m\u001b[0m\u001b[1mr\u001b[22m\u001b[0m\u001b[1mM\u001b[22m\u001b[0m\u001b[1mo\u001b[22m\u001b[0m\u001b[1md\u001b[22m\u001b[0m\u001b[1me\u001b[22m\u001b[0m\u001b[1ml\u001b[22mN \u001b[0m\u001b[1mT\u001b[22m\u001b[0m\u001b[1ma\u001b[22m\u001b[0m\u001b[1my\u001b[22m\u001b[0m\u001b[1ml\u001b[22m\u001b[0m\u001b[1mo\u001b[22m\u001b[0m\u001b[1mr\u001b[22m\u001b[0m\u001b[1mM\u001b[22m\u001b[0m\u001b[1mo\u001b[22m\u001b[0m\u001b[1md\u001b[22m\u001b[0m\u001b[1me\u001b[22m\u001b[0m\u001b[1ml\u001b[22ms\n",
      "\n"
     ]
    },
    {
     "data": {
      "text/latex": [
       "\\begin{verbatim}\n",
       "TaylorModel1{T,S}\n",
       "\\end{verbatim}\n",
       "Absolute Taylor model in 1 variable, providing a rigurous polynomial approximation given by a Taylor polynomial \\texttt{pol} (around \\texttt{x0}) and an absolute remainder \\texttt{rem} for a function \\texttt{f(x)} in one variable, valid in the interval \\texttt{dom}. This corresponds to definition 2.1.3 of Mioara Joldes' thesis.\n",
       "\n",
       "Fields:\n",
       "\n",
       "\\begin{itemize}\n",
       "\\item \\texttt{pol}: polynomial approximation, represented as \\texttt{TaylorSeries.Taylor1}\n",
       "\n",
       "\n",
       "\\item \\texttt{rem}: the interval bound\n",
       "\n",
       "\n",
       "\\item \\texttt{x0} : expansion point\n",
       "\n",
       "\n",
       "\\item \\texttt{dom}: domain, interval over which the Taylor model is defined / valid\n",
       "\n",
       "\\end{itemize}\n",
       "The approximation $f(x) = p(x) + \\Delta$ is satisfied for all $x\\in \\mathcal{D}$ ($0\\in \\Delta$); \\texttt{n} is the order (degree) of the polynomial $p(x)=\\sum_{i=0}^n p_i (x - x_0)^i$.\n",
       "\n"
      ],
      "text/markdown": [
       "```\n",
       "TaylorModel1{T,S}\n",
       "```\n",
       "\n",
       "Absolute Taylor model in 1 variable, providing a rigurous polynomial approximation given by a Taylor polynomial `pol` (around `x0`) and an absolute remainder `rem` for a function `f(x)` in one variable, valid in the interval `dom`. This corresponds to definition 2.1.3 of Mioara Joldes' thesis.\n",
       "\n",
       "Fields:\n",
       "\n",
       "  * `pol`: polynomial approximation, represented as `TaylorSeries.Taylor1`\n",
       "  * `rem`: the interval bound\n",
       "  * `x0` : expansion point\n",
       "  * `dom`: domain, interval over which the Taylor model is defined / valid\n",
       "\n",
       "The approximation $f(x) = p(x) + \\Delta$ is satisfied for all $x\\in \\mathcal{D}$ ($0\\in \\Delta$); `n` is the order (degree) of the polynomial $p(x)=\\sum_{i=0}^n p_i (x - x_0)^i$.\n"
      ],
      "text/plain": [
       "\u001b[36m  TaylorModel1{T,S}\u001b[39m\n",
       "\n",
       "  Absolute Taylor model in 1 variable, providing a rigurous polynomial\n",
       "  approximation given by a Taylor polynomial \u001b[36mpol\u001b[39m (around \u001b[36mx0\u001b[39m) and an absolute\n",
       "  remainder \u001b[36mrem\u001b[39m for a function \u001b[36mf(x)\u001b[39m in one variable, valid in the interval\n",
       "  \u001b[36mdom\u001b[39m. This corresponds to definition 2.1.3 of Mioara Joldes' thesis.\n",
       "\n",
       "  Fields:\n",
       "\n",
       "    •  \u001b[36mpol\u001b[39m: polynomial approximation, represented as \u001b[36mTaylorSeries.Taylor1\u001b[39m\n",
       "\n",
       "    •  \u001b[36mrem\u001b[39m: the interval bound\n",
       "\n",
       "    •  \u001b[36mx0\u001b[39m : expansion point\n",
       "\n",
       "    •  \u001b[36mdom\u001b[39m: domain, interval over which the Taylor model is defined / valid\n",
       "\n",
       "  The approximation \u001b[35mf(x) = p(x) + \\Delta\u001b[39m is satisfied for all \u001b[35mx\\in \\mathcal{D}\u001b[39m\n",
       "  (\u001b[35m0\\in \\Delta\u001b[39m); \u001b[36mn\u001b[39m is the order (degree) of the polynomial \u001b[35mp(x)=\\sum_{i=0}^n\n",
       "  p_i (x - x_0)^i\u001b[39m."
      ]
     },
     "execution_count": 59,
     "metadata": {},
     "output_type": "execute_result"
    }
   ],
   "source": [
    "?TaylorModel1"
   ]
  },
  {
   "cell_type": "code",
   "execution_count": 60,
   "metadata": {},
   "outputs": [
    {
     "data": {
      "text/plain": [
       " [-60.4077, -60.4076] t + [-713.464, -713.463] t² + [1019.54, 1019.55] t³ + [5455.4, 5455.41] t⁴ + [-2992.1, -2992.09] t⁵ + [-13939.6, -13939.5] t⁶ + [2732.61, 2732.62] t⁷ + [17794.6, 17794.7] t⁸ + [220.443, 220.444] t⁹ + [-13207.3, -13207.2] t¹⁰ + [-1.50153, 2.61226]"
      ]
     },
     "execution_count": 60,
     "metadata": {},
     "output_type": "execute_result"
    }
   ],
   "source": [
    "FM10 = f(TM10)"
   ]
  },
  {
   "cell_type": "markdown",
   "metadata": {},
   "source": [
    "So, on $[-0.5, 0.5]$ the error between the value of $f$ and the value of the Taylor Model is contained in the interval $[-1.50153, 2.61226]$"
   ]
  },
  {
   "cell_type": "markdown",
   "metadata": {},
   "source": [
    "On the same interval the Taylor model of order $15$ is the following."
   ]
  },
  {
   "cell_type": "code",
   "execution_count": 61,
   "metadata": {},
   "outputs": [
    {
     "data": {
      "text/plain": [
       " [-60.4077, -60.4076] t + [-713.464, -713.463] t² + [1019.54, 1019.55] t³ + [5455.4, 5455.41] t⁴ + [-2992.1, -2992.09] t⁵ + [-13939.6, -13939.5] t⁶ + [2732.61, 2732.62] t⁷ + [17794.6, 17794.7] t⁸ + [220.443, 220.444] t⁹ + [-13207.3, -13207.2] t¹⁰ + [-1977, -1976.99] t¹¹ + [6218.62, 6218.63] t¹² + [1549.74, 1549.75] t¹³ + [-1975.77, -1975.76] t¹⁴ + [-655.496, -655.495] t¹⁵ + [-0.00183813, 0.00860188]"
      ]
     },
     "execution_count": 61,
     "metadata": {},
     "output_type": "execute_result"
    }
   ],
   "source": [
    "FM15 = f(TM15)"
   ]
  },
  {
   "cell_type": "markdown",
   "metadata": {},
   "source": [
    "As expected, passing from a linear approximation With higher order, we get smaller $\\Delta$."
   ]
  },
  {
   "cell_type": "code",
   "execution_count": 62,
   "metadata": {},
   "outputs": [
    {
     "data": {
      "image/svg+xml": [
       "<?xml version=\"1.0\" encoding=\"utf-8\"?>\n",
       "<svg xmlns=\"http://www.w3.org/2000/svg\" xmlns:xlink=\"http://www.w3.org/1999/xlink\" width=\"600\" height=\"400\" viewBox=\"0 0 2400 1600\">\n",
       "<defs>\n",
       "  <clipPath id=\"clip160\">\n",
       "    <rect x=\"0\" y=\"0\" width=\"2400\" height=\"1600\"/>\n",
       "  </clipPath>\n",
       "</defs>\n",
       "<path clip-path=\"url(#clip160)\" d=\"\n",
       "M0 1600 L2400 1600 L2400 0 L0 0  Z\n",
       "  \" fill=\"#ffffff\" fill-rule=\"evenodd\" fill-opacity=\"1\"/>\n",
       "<defs>\n",
       "  <clipPath id=\"clip161\">\n",
       "    <rect x=\"480\" y=\"0\" width=\"1681\" height=\"1600\"/>\n",
       "  </clipPath>\n",
       "</defs>\n",
       "<path clip-path=\"url(#clip160)\" d=\"\n",
       "M178.867 1486.45 L2352.76 1486.45 L2352.76 47.2441 L178.867 47.2441  Z\n",
       "  \" fill=\"#ffffff\" fill-rule=\"evenodd\" fill-opacity=\"1\"/>\n",
       "<defs>\n",
       "  <clipPath id=\"clip162\">\n",
       "    <rect x=\"178\" y=\"47\" width=\"2175\" height=\"1440\"/>\n",
       "  </clipPath>\n",
       "</defs>\n",
       "<polyline clip-path=\"url(#clip162)\" style=\"stroke:#000000; stroke-linecap:butt; stroke-linejoin:round; stroke-width:2; stroke-opacity:0.1; fill:none\" points=\"\n",
       "  445.476,1486.45 445.476,47.2441 \n",
       "  \"/>\n",
       "<polyline clip-path=\"url(#clip162)\" style=\"stroke:#000000; stroke-linecap:butt; stroke-linejoin:round; stroke-width:2; stroke-opacity:0.1; fill:none\" points=\"\n",
       "  855.643,1486.45 855.643,47.2441 \n",
       "  \"/>\n",
       "<polyline clip-path=\"url(#clip162)\" style=\"stroke:#000000; stroke-linecap:butt; stroke-linejoin:round; stroke-width:2; stroke-opacity:0.1; fill:none\" points=\"\n",
       "  1265.81,1486.45 1265.81,47.2441 \n",
       "  \"/>\n",
       "<polyline clip-path=\"url(#clip162)\" style=\"stroke:#000000; stroke-linecap:butt; stroke-linejoin:round; stroke-width:2; stroke-opacity:0.1; fill:none\" points=\"\n",
       "  1675.98,1486.45 1675.98,47.2441 \n",
       "  \"/>\n",
       "<polyline clip-path=\"url(#clip162)\" style=\"stroke:#000000; stroke-linecap:butt; stroke-linejoin:round; stroke-width:2; stroke-opacity:0.1; fill:none\" points=\"\n",
       "  2086.15,1486.45 2086.15,47.2441 \n",
       "  \"/>\n",
       "<polyline clip-path=\"url(#clip160)\" style=\"stroke:#000000; stroke-linecap:butt; stroke-linejoin:round; stroke-width:4; stroke-opacity:1; fill:none\" points=\"\n",
       "  178.867,1486.45 2352.76,1486.45 \n",
       "  \"/>\n",
       "<polyline clip-path=\"url(#clip160)\" style=\"stroke:#000000; stroke-linecap:butt; stroke-linejoin:round; stroke-width:4; stroke-opacity:1; fill:none\" points=\"\n",
       "  445.476,1486.45 445.476,1469.18 \n",
       "  \"/>\n",
       "<polyline clip-path=\"url(#clip160)\" style=\"stroke:#000000; stroke-linecap:butt; stroke-linejoin:round; stroke-width:4; stroke-opacity:1; fill:none\" points=\"\n",
       "  855.643,1486.45 855.643,1469.18 \n",
       "  \"/>\n",
       "<polyline clip-path=\"url(#clip160)\" style=\"stroke:#000000; stroke-linecap:butt; stroke-linejoin:round; stroke-width:4; stroke-opacity:1; fill:none\" points=\"\n",
       "  1265.81,1486.45 1265.81,1469.18 \n",
       "  \"/>\n",
       "<polyline clip-path=\"url(#clip160)\" style=\"stroke:#000000; stroke-linecap:butt; stroke-linejoin:round; stroke-width:4; stroke-opacity:1; fill:none\" points=\"\n",
       "  1675.98,1486.45 1675.98,1469.18 \n",
       "  \"/>\n",
       "<polyline clip-path=\"url(#clip160)\" style=\"stroke:#000000; stroke-linecap:butt; stroke-linejoin:round; stroke-width:4; stroke-opacity:1; fill:none\" points=\"\n",
       "  2086.15,1486.45 2086.15,1469.18 \n",
       "  \"/>\n",
       "<path clip-path=\"url(#clip160)\" d=\"M391.761 1530.29 L421.436 1530.29 L421.436 1534.23 L391.761 1534.23 L391.761 1530.29 Z\" fill=\"#000000\" fill-rule=\"evenodd\" fill-opacity=\"1\" /><path clip-path=\"url(#clip160)\" d=\"M441.529 1515.64 Q437.918 1515.64 436.089 1519.2 Q434.284 1522.75 434.284 1529.87 Q434.284 1536.98 436.089 1540.55 Q437.918 1544.09 441.529 1544.09 Q445.163 1544.09 446.969 1540.55 Q448.797 1536.98 448.797 1529.87 Q448.797 1522.75 446.969 1519.2 Q445.163 1515.64 441.529 1515.64 M441.529 1511.93 Q447.339 1511.93 450.395 1516.54 Q453.473 1521.12 453.473 1529.87 Q453.473 1538.6 450.395 1543.21 Q447.339 1547.79 441.529 1547.79 Q435.719 1547.79 432.64 1543.21 Q429.585 1538.6 429.585 1529.87 Q429.585 1521.12 432.64 1516.54 Q435.719 1511.93 441.529 1511.93 Z\" fill=\"#000000\" fill-rule=\"evenodd\" fill-opacity=\"1\" /><path clip-path=\"url(#clip160)\" d=\"M461.691 1541.24 L466.575 1541.24 L466.575 1547.12 L461.691 1547.12 L461.691 1541.24 Z\" fill=\"#000000\" fill-rule=\"evenodd\" fill-opacity=\"1\" /><path clip-path=\"url(#clip160)\" d=\"M489.607 1516.63 L477.802 1535.08 L489.607 1535.08 L489.607 1516.63 M488.381 1512.56 L494.26 1512.56 L494.26 1535.08 L499.191 1535.08 L499.191 1538.97 L494.26 1538.97 L494.26 1547.12 L489.607 1547.12 L489.607 1538.97 L474.006 1538.97 L474.006 1534.46 L488.381 1512.56 Z\" fill=\"#000000\" fill-rule=\"evenodd\" fill-opacity=\"1\" /><path clip-path=\"url(#clip160)\" d=\"M802.97 1530.29 L832.646 1530.29 L832.646 1534.23 L802.97 1534.23 L802.97 1530.29 Z\" fill=\"#000000\" fill-rule=\"evenodd\" fill-opacity=\"1\" /><path clip-path=\"url(#clip160)\" d=\"M852.738 1515.64 Q849.127 1515.64 847.299 1519.2 Q845.493 1522.75 845.493 1529.87 Q845.493 1536.98 847.299 1540.55 Q849.127 1544.09 852.738 1544.09 Q856.373 1544.09 858.178 1540.55 Q860.007 1536.98 860.007 1529.87 Q860.007 1522.75 858.178 1519.2 Q856.373 1515.64 852.738 1515.64 M852.738 1511.93 Q858.549 1511.93 861.604 1516.54 Q864.683 1521.12 864.683 1529.87 Q864.683 1538.6 861.604 1543.21 Q858.549 1547.79 852.738 1547.79 Q846.928 1547.79 843.85 1543.21 Q840.794 1538.6 840.794 1529.87 Q840.794 1521.12 843.85 1516.54 Q846.928 1511.93 852.738 1511.93 Z\" fill=\"#000000\" fill-rule=\"evenodd\" fill-opacity=\"1\" /><path clip-path=\"url(#clip160)\" d=\"M872.9 1541.24 L877.785 1541.24 L877.785 1547.12 L872.9 1547.12 L872.9 1541.24 Z\" fill=\"#000000\" fill-rule=\"evenodd\" fill-opacity=\"1\" /><path clip-path=\"url(#clip160)\" d=\"M891.997 1543.18 L908.317 1543.18 L908.317 1547.12 L886.372 1547.12 L886.372 1543.18 Q889.035 1540.43 893.618 1535.8 Q898.224 1531.15 899.405 1529.81 Q901.65 1527.28 902.53 1525.55 Q903.433 1523.79 903.433 1522.1 Q903.433 1519.34 901.488 1517.61 Q899.567 1515.87 896.465 1515.87 Q894.266 1515.87 891.812 1516.63 Q889.382 1517.4 886.604 1518.95 L886.604 1514.23 Q889.428 1513.09 891.882 1512.51 Q894.335 1511.93 896.372 1511.93 Q901.743 1511.93 904.937 1514.62 Q908.132 1517.31 908.132 1521.8 Q908.132 1523.93 907.321 1525.85 Q906.534 1527.74 904.428 1530.34 Q903.849 1531.01 900.747 1534.23 Q897.646 1537.42 891.997 1543.18 Z\" fill=\"#000000\" fill-rule=\"evenodd\" fill-opacity=\"1\" /><path clip-path=\"url(#clip160)\" d=\"M1243.2 1515.64 Q1239.58 1515.64 1237.76 1519.2 Q1235.95 1522.75 1235.95 1529.87 Q1235.95 1536.98 1237.76 1540.55 Q1239.58 1544.09 1243.2 1544.09 Q1246.83 1544.09 1248.64 1540.55 Q1250.46 1536.98 1250.46 1529.87 Q1250.46 1522.75 1248.64 1519.2 Q1246.83 1515.64 1243.2 1515.64 M1243.2 1511.93 Q1249.01 1511.93 1252.06 1516.54 Q1255.14 1521.12 1255.14 1529.87 Q1255.14 1538.6 1252.06 1543.21 Q1249.01 1547.79 1243.2 1547.79 Q1237.39 1547.79 1234.31 1543.21 Q1231.25 1538.6 1231.25 1529.87 Q1231.25 1521.12 1234.31 1516.54 Q1237.39 1511.93 1243.2 1511.93 Z\" fill=\"#000000\" fill-rule=\"evenodd\" fill-opacity=\"1\" /><path clip-path=\"url(#clip160)\" d=\"M1263.36 1541.24 L1268.24 1541.24 L1268.24 1547.12 L1263.36 1547.12 L1263.36 1541.24 Z\" fill=\"#000000\" fill-rule=\"evenodd\" fill-opacity=\"1\" /><path clip-path=\"url(#clip160)\" d=\"M1288.43 1515.64 Q1284.82 1515.64 1282.99 1519.2 Q1281.18 1522.75 1281.18 1529.87 Q1281.18 1536.98 1282.99 1540.55 Q1284.82 1544.09 1288.43 1544.09 Q1292.06 1544.09 1293.87 1540.55 Q1295.7 1536.98 1295.7 1529.87 Q1295.7 1522.75 1293.87 1519.2 Q1292.06 1515.64 1288.43 1515.64 M1288.43 1511.93 Q1294.24 1511.93 1297.29 1516.54 Q1300.37 1521.12 1300.37 1529.87 Q1300.37 1538.6 1297.29 1543.21 Q1294.24 1547.79 1288.43 1547.79 Q1282.62 1547.79 1279.54 1543.21 Q1276.48 1538.6 1276.48 1529.87 Q1276.48 1521.12 1279.54 1516.54 Q1282.62 1511.93 1288.43 1511.93 Z\" fill=\"#000000\" fill-rule=\"evenodd\" fill-opacity=\"1\" /><path clip-path=\"url(#clip160)\" d=\"M1654.16 1515.64 Q1650.55 1515.64 1648.72 1519.2 Q1646.92 1522.75 1646.92 1529.87 Q1646.92 1536.98 1648.72 1540.55 Q1650.55 1544.09 1654.16 1544.09 Q1657.8 1544.09 1659.6 1540.55 Q1661.43 1536.98 1661.43 1529.87 Q1661.43 1522.75 1659.6 1519.2 Q1657.8 1515.64 1654.16 1515.64 M1654.16 1511.93 Q1659.97 1511.93 1663.03 1516.54 Q1666.11 1521.12 1666.11 1529.87 Q1666.11 1538.6 1663.03 1543.21 Q1659.97 1547.79 1654.16 1547.79 Q1648.35 1547.79 1645.27 1543.21 Q1642.22 1538.6 1642.22 1529.87 Q1642.22 1521.12 1645.27 1516.54 Q1648.35 1511.93 1654.16 1511.93 Z\" fill=\"#000000\" fill-rule=\"evenodd\" fill-opacity=\"1\" /><path clip-path=\"url(#clip160)\" d=\"M1674.32 1541.24 L1679.21 1541.24 L1679.21 1547.12 L1674.32 1547.12 L1674.32 1541.24 Z\" fill=\"#000000\" fill-rule=\"evenodd\" fill-opacity=\"1\" /><path clip-path=\"url(#clip160)\" d=\"M1693.42 1543.18 L1709.74 1543.18 L1709.74 1547.12 L1687.8 1547.12 L1687.8 1543.18 Q1690.46 1540.43 1695.04 1535.8 Q1699.65 1531.15 1700.83 1529.81 Q1703.07 1527.28 1703.95 1525.55 Q1704.86 1523.79 1704.86 1522.1 Q1704.86 1519.34 1702.91 1517.61 Q1700.99 1515.87 1697.89 1515.87 Q1695.69 1515.87 1693.24 1516.63 Q1690.81 1517.4 1688.03 1518.95 L1688.03 1514.23 Q1690.85 1513.09 1693.31 1512.51 Q1695.76 1511.93 1697.8 1511.93 Q1703.17 1511.93 1706.36 1514.62 Q1709.56 1517.31 1709.56 1521.8 Q1709.56 1523.93 1708.75 1525.85 Q1707.96 1527.74 1705.85 1530.34 Q1705.27 1531.01 1702.17 1534.23 Q1699.07 1537.42 1693.42 1543.18 Z\" fill=\"#000000\" fill-rule=\"evenodd\" fill-opacity=\"1\" /><path clip-path=\"url(#clip160)\" d=\"M2063.29 1515.64 Q2059.68 1515.64 2057.85 1519.2 Q2056.04 1522.75 2056.04 1529.87 Q2056.04 1536.98 2057.85 1540.55 Q2059.68 1544.09 2063.29 1544.09 Q2066.92 1544.09 2068.73 1540.55 Q2070.56 1536.98 2070.56 1529.87 Q2070.56 1522.75 2068.73 1519.2 Q2066.92 1515.64 2063.29 1515.64 M2063.29 1511.93 Q2069.1 1511.93 2072.15 1516.54 Q2075.23 1521.12 2075.23 1529.87 Q2075.23 1538.6 2072.15 1543.21 Q2069.1 1547.79 2063.29 1547.79 Q2057.48 1547.79 2054.4 1543.21 Q2051.34 1538.6 2051.34 1529.87 Q2051.34 1521.12 2054.4 1516.54 Q2057.48 1511.93 2063.29 1511.93 Z\" fill=\"#000000\" fill-rule=\"evenodd\" fill-opacity=\"1\" /><path clip-path=\"url(#clip160)\" d=\"M2083.45 1541.24 L2088.33 1541.24 L2088.33 1547.12 L2083.45 1547.12 L2083.45 1541.24 Z\" fill=\"#000000\" fill-rule=\"evenodd\" fill-opacity=\"1\" /><path clip-path=\"url(#clip160)\" d=\"M2111.37 1516.63 L2099.56 1535.08 L2111.37 1535.08 L2111.37 1516.63 M2110.14 1512.56 L2116.02 1512.56 L2116.02 1535.08 L2120.95 1535.08 L2120.95 1538.97 L2116.02 1538.97 L2116.02 1547.12 L2111.37 1547.12 L2111.37 1538.97 L2095.76 1538.97 L2095.76 1534.46 L2110.14 1512.56 Z\" fill=\"#000000\" fill-rule=\"evenodd\" fill-opacity=\"1\" /><polyline clip-path=\"url(#clip162)\" style=\"stroke:#000000; stroke-linecap:butt; stroke-linejoin:round; stroke-width:2; stroke-opacity:0.1; fill:none\" points=\"\n",
       "  178.867,1480.02 2352.76,1480.02 \n",
       "  \"/>\n",
       "<polyline clip-path=\"url(#clip162)\" style=\"stroke:#000000; stroke-linecap:butt; stroke-linejoin:round; stroke-width:2; stroke-opacity:0.1; fill:none\" points=\"\n",
       "  178.867,1079.62 2352.76,1079.62 \n",
       "  \"/>\n",
       "<polyline clip-path=\"url(#clip162)\" style=\"stroke:#000000; stroke-linecap:butt; stroke-linejoin:round; stroke-width:2; stroke-opacity:0.1; fill:none\" points=\"\n",
       "  178.867,679.218 2352.76,679.218 \n",
       "  \"/>\n",
       "<polyline clip-path=\"url(#clip162)\" style=\"stroke:#000000; stroke-linecap:butt; stroke-linejoin:round; stroke-width:2; stroke-opacity:0.1; fill:none\" points=\"\n",
       "  178.867,278.817 2352.76,278.817 \n",
       "  \"/>\n",
       "<polyline clip-path=\"url(#clip160)\" style=\"stroke:#000000; stroke-linecap:butt; stroke-linejoin:round; stroke-width:4; stroke-opacity:1; fill:none\" points=\"\n",
       "  178.867,1486.45 178.867,47.2441 \n",
       "  \"/>\n",
       "<polyline clip-path=\"url(#clip160)\" style=\"stroke:#000000; stroke-linecap:butt; stroke-linejoin:round; stroke-width:4; stroke-opacity:1; fill:none\" points=\"\n",
       "  178.867,1480.02 204.953,1480.02 \n",
       "  \"/>\n",
       "<polyline clip-path=\"url(#clip160)\" style=\"stroke:#000000; stroke-linecap:butt; stroke-linejoin:round; stroke-width:4; stroke-opacity:1; fill:none\" points=\"\n",
       "  178.867,1079.62 204.953,1079.62 \n",
       "  \"/>\n",
       "<polyline clip-path=\"url(#clip160)\" style=\"stroke:#000000; stroke-linecap:butt; stroke-linejoin:round; stroke-width:4; stroke-opacity:1; fill:none\" points=\"\n",
       "  178.867,679.218 204.953,679.218 \n",
       "  \"/>\n",
       "<polyline clip-path=\"url(#clip160)\" style=\"stroke:#000000; stroke-linecap:butt; stroke-linejoin:round; stroke-width:4; stroke-opacity:1; fill:none\" points=\"\n",
       "  178.867,278.817 204.953,278.817 \n",
       "  \"/>\n",
       "<path clip-path=\"url(#clip160)\" d=\"M50.9921 1480.47 L80.6679 1480.47 L80.6679 1484.41 L50.9921 1484.41 L50.9921 1480.47 Z\" fill=\"#000000\" fill-rule=\"evenodd\" fill-opacity=\"1\" /><path clip-path=\"url(#clip160)\" d=\"M103.608 1466.81 L91.8021 1485.26 L103.608 1485.26 L103.608 1466.81 M102.381 1462.74 L108.26 1462.74 L108.26 1485.26 L113.191 1485.26 L113.191 1489.15 L108.26 1489.15 L108.26 1497.3 L103.608 1497.3 L103.608 1489.15 L88.0058 1489.15 L88.0058 1484.64 L102.381 1462.74 Z\" fill=\"#000000\" fill-rule=\"evenodd\" fill-opacity=\"1\" /><path clip-path=\"url(#clip160)\" d=\"M130.922 1465.82 Q127.311 1465.82 125.482 1469.38 Q123.677 1472.93 123.677 1480.06 Q123.677 1487.16 125.482 1490.73 Q127.311 1494.27 130.922 1494.27 Q134.556 1494.27 136.362 1490.73 Q138.191 1487.16 138.191 1480.06 Q138.191 1472.93 136.362 1469.38 Q134.556 1465.82 130.922 1465.82 M130.922 1462.12 Q136.732 1462.12 139.788 1466.72 Q142.867 1471.31 142.867 1480.06 Q142.867 1488.78 139.788 1493.39 Q136.732 1497.97 130.922 1497.97 Q125.112 1497.97 122.033 1493.39 Q118.978 1488.78 118.978 1480.06 Q118.978 1471.31 122.033 1466.72 Q125.112 1462.12 130.922 1462.12 Z\" fill=\"#000000\" fill-rule=\"evenodd\" fill-opacity=\"1\" /><path clip-path=\"url(#clip160)\" d=\"M50.9921 1080.07 L80.6679 1080.07 L80.6679 1084.01 L50.9921 1084.01 L50.9921 1080.07 Z\" fill=\"#000000\" fill-rule=\"evenodd\" fill-opacity=\"1\" /><path clip-path=\"url(#clip160)\" d=\"M94.7882 1092.96 L111.108 1092.96 L111.108 1096.9 L89.1632 1096.9 L89.1632 1092.96 Q91.8252 1090.21 96.4085 1085.58 Q101.015 1080.93 102.196 1079.58 Q104.441 1077.06 105.321 1075.33 Q106.223 1073.57 106.223 1071.88 Q106.223 1069.12 104.279 1067.39 Q102.358 1065.65 99.2558 1065.65 Q97.0567 1065.65 94.603 1066.41 Q92.1725 1067.18 89.3947 1068.73 L89.3947 1064.01 Q92.2188 1062.87 94.6724 1062.29 Q97.1261 1061.71 99.1632 1061.71 Q104.534 1061.71 107.728 1064.4 Q110.922 1067.08 110.922 1071.58 Q110.922 1073.71 110.112 1075.63 Q109.325 1077.52 107.219 1080.12 Q106.64 1080.79 103.538 1084.01 Q100.436 1087.2 94.7882 1092.96 Z\" fill=\"#000000\" fill-rule=\"evenodd\" fill-opacity=\"1\" /><path clip-path=\"url(#clip160)\" d=\"M130.922 1065.42 Q127.311 1065.42 125.482 1068.98 Q123.677 1072.52 123.677 1079.65 Q123.677 1086.76 125.482 1090.33 Q127.311 1093.87 130.922 1093.87 Q134.556 1093.87 136.362 1090.33 Q138.191 1086.76 138.191 1079.65 Q138.191 1072.52 136.362 1068.98 Q134.556 1065.42 130.922 1065.42 M130.922 1061.71 Q136.732 1061.71 139.788 1066.32 Q142.867 1070.9 142.867 1079.65 Q142.867 1088.38 139.788 1092.99 Q136.732 1097.57 130.922 1097.57 Q125.112 1097.57 122.033 1092.99 Q118.978 1088.38 118.978 1079.65 Q118.978 1070.9 122.033 1066.32 Q125.112 1061.71 130.922 1061.71 Z\" fill=\"#000000\" fill-rule=\"evenodd\" fill-opacity=\"1\" /><path clip-path=\"url(#clip160)\" d=\"M130.922 665.017 Q127.311 665.017 125.482 668.582 Q123.677 672.123 123.677 679.253 Q123.677 686.359 125.482 689.924 Q127.311 693.466 130.922 693.466 Q134.556 693.466 136.362 689.924 Q138.191 686.359 138.191 679.253 Q138.191 672.123 136.362 668.582 Q134.556 665.017 130.922 665.017 M130.922 661.313 Q136.732 661.313 139.788 665.92 Q142.867 670.503 142.867 679.253 Q142.867 687.98 139.788 692.586 Q136.732 697.17 130.922 697.17 Q125.112 697.17 122.033 692.586 Q118.978 687.98 118.978 679.253 Q118.978 670.503 122.033 665.92 Q125.112 661.313 130.922 661.313 Z\" fill=\"#000000\" fill-rule=\"evenodd\" fill-opacity=\"1\" /><path clip-path=\"url(#clip160)\" d=\"M94.7882 292.162 L111.108 292.162 L111.108 296.097 L89.1632 296.097 L89.1632 292.162 Q91.8252 289.407 96.4085 284.778 Q101.015 280.125 102.196 278.782 Q104.441 276.259 105.321 274.523 Q106.223 272.764 106.223 271.074 Q106.223 268.319 104.279 266.583 Q102.358 264.847 99.2558 264.847 Q97.0567 264.847 94.603 265.611 Q92.1725 266.375 89.3947 267.926 L89.3947 263.204 Q92.2188 262.069 94.6724 261.491 Q97.1261 260.912 99.1632 260.912 Q104.534 260.912 107.728 263.597 Q110.922 266.282 110.922 270.773 Q110.922 272.903 110.112 274.824 Q109.325 276.722 107.219 279.315 Q106.64 279.986 103.538 283.204 Q100.436 286.398 94.7882 292.162 Z\" fill=\"#000000\" fill-rule=\"evenodd\" fill-opacity=\"1\" /><path clip-path=\"url(#clip160)\" d=\"M130.922 264.616 Q127.311 264.616 125.482 268.18 Q123.677 271.722 123.677 278.852 Q123.677 285.958 125.482 289.523 Q127.311 293.065 130.922 293.065 Q134.556 293.065 136.362 289.523 Q138.191 285.958 138.191 278.852 Q138.191 271.722 136.362 268.18 Q134.556 264.616 130.922 264.616 M130.922 260.912 Q136.732 260.912 139.788 265.518 Q142.867 270.102 142.867 278.852 Q142.867 287.579 139.788 292.185 Q136.732 296.768 130.922 296.768 Q125.112 296.768 122.033 292.185 Q118.978 287.579 118.978 278.852 Q118.978 270.102 122.033 265.518 Q125.112 260.912 130.922 260.912 Z\" fill=\"#000000\" fill-rule=\"evenodd\" fill-opacity=\"1\" /><polyline clip-path=\"url(#clip162)\" style=\"stroke:#009af9; stroke-linecap:butt; stroke-linejoin:round; stroke-width:4; stroke-opacity:1; fill:none\" points=\"\n",
       "  240.392,1117.88 245.399,1128.99 250.406,1139.92 255.413,1150.66 260.42,1161.22 306.717,1249.6 353.014,1320.03 376.163,1348.08 399.312,1371.22 422.46,1389.37 \n",
       "  445.609,1402.52 473.432,1411.74 501.254,1413.88 529.077,1409.14 556.9,1397.8 580.423,1383.33 603.947,1364.64 627.471,1342.04 650.995,1315.85 702.101,1248.3 \n",
       "  753.208,1169.51 800.324,1090.74 847.44,1009.79 897.953,924.711 948.466,845.618 977.729,804.107 1006.99,766.625 1036.25,733.791 1065.52,706.139 1091.52,686.275 \n",
       "  1117.53,671.102 1143.53,660.804 1169.53,655.494 1215.14,658.325 1260.75,676.321 1310.48,712.096 1360.2,762.67 1410.22,825.522 1460.24,896.692 1515.54,979.889 \n",
       "  1570.85,1061.68 1623.47,1132.2 1676.09,1189.94 1703.45,1213.17 1730.8,1230.88 1758.16,1242.48 1785.51,1247.42 1808.54,1246.11 1831.57,1239.54 1854.6,1227.55 \n",
       "  1877.63,1210.02 1905.74,1181 1933.86,1143.59 1961.97,1097.9 1990.09,1044.15 2016.52,986.584 2042.94,922.594 2069.37,852.661 2095.8,777.357 2138.14,647.186 \n",
       "  2180.48,508.029 2222.83,363.404 2265.17,217.157 2271.68,194.763 2278.2,172.441 2284.71,150.207 2291.23,128.076 \n",
       "  \"/>\n",
       "<path clip-path=\"url(#clip162)\" d=\"\n",
       "M240.392 1191.97 L261.107 1227.6 L281.823 1261.77 L302.538 1293.98 L323.254 1323.8 L343.97 1350.88 L364.685 1374.93 L385.401 1395.7 L406.116 1413.03 L426.832 1426.76 \n",
       "  L447.547 1436.81 L468.263 1443.13 L488.978 1445.72 L509.694 1444.58 L530.409 1439.8 L551.125 1431.46 L571.841 1419.68 L592.556 1404.62 L613.272 1386.45 L633.987 1365.37 \n",
       "  L654.703 1341.6 L675.418 1315.37 L696.134 1286.96 L716.849 1256.62 L737.565 1224.65 L758.28 1191.32 L778.996 1156.95 L799.712 1121.85 L820.427 1086.31 L841.143 1050.66 \n",
       "  L861.858 1015.2 L882.574 980.235 L903.289 946.062 L924.005 912.974 L944.72 881.249 L965.436 851.153 L986.151 822.937 L1006.87 796.835 L1027.58 773.063 L1048.3 751.815 \n",
       "  L1069.01 733.263 L1089.73 717.556 L1110.44 704.818 L1131.16 695.147 L1151.88 688.613 L1172.59 685.261 L1193.31 685.105 L1214.02 688.132 L1234.74 694.299 L1255.45 703.538 \n",
       "  L1276.17 715.748 L1296.88 730.805 L1317.6 748.555 L1338.32 768.818 L1359.03 791.392 L1379.75 816.05 L1400.46 842.543 L1421.18 870.603 L1441.89 899.942 L1462.61 930.258 \n",
       "  L1483.32 961.234 L1504.04 992.543 L1524.76 1023.85 L1545.47 1054.8 L1566.19 1085.07 L1586.9 1114.29 L1607.62 1142.12 L1628.33 1168.22 L1649.05 1192.26 L1669.76 1213.91 \n",
       "  L1690.48 1232.87 L1711.2 1248.84 L1731.91 1261.54 L1752.63 1270.71 L1773.34 1276.13 L1794.06 1277.59 L1814.77 1274.91 L1835.49 1267.94 L1856.2 1256.57 L1876.92 1240.7 \n",
       "  L1897.64 1220.29 L1918.35 1195.32 L1939.07 1165.82 L1959.78 1131.84 L1980.5 1093.48 L2001.21 1050.88 L2021.93 1004.19 L2042.64 953.639 L2063.36 899.467 L2084.08 841.956 \n",
       "  L2104.79 781.426 L2125.51 718.232 L2146.22 652.762 L2166.94 585.438 L2187.65 516.717 L2208.37 447.087 L2229.08 377.066 L2249.8 307.207 L2270.52 238.091 L2291.23 170.334 \n",
       "  L2291.23 87.9763 L2270.52 155.733 L2249.8 224.848 L2229.08 294.708 L2208.37 364.729 L2187.65 434.359 L2166.94 503.08 L2146.22 570.403 L2125.51 635.874 L2104.79 699.068 \n",
       "  L2084.08 759.598 L2063.36 817.108 L2042.64 871.281 L2021.93 921.833 L2001.21 968.517 L1980.5 1011.13 L1959.78 1049.49 L1939.07 1083.46 L1918.35 1112.97 L1897.64 1137.93 \n",
       "  L1876.92 1158.34 L1856.2 1174.21 L1835.49 1185.59 L1814.77 1192.55 L1794.06 1195.23 L1773.34 1193.77 L1752.63 1188.35 L1731.91 1179.18 L1711.2 1166.48 L1690.48 1150.51 \n",
       "  L1669.76 1131.56 L1649.05 1109.9 L1628.33 1085.86 L1607.62 1059.76 L1586.9 1031.93 L1566.19 1002.71 L1545.47 972.445 L1524.76 941.489 L1504.04 910.184 L1483.32 878.876 \n",
       "  L1462.61 847.9 L1441.89 817.584 L1421.18 788.245 L1400.46 760.185 L1379.75 733.692 L1359.03 709.034 L1338.32 686.46 L1317.6 666.196 L1296.88 648.447 L1276.17 633.39 \n",
       "  L1255.45 621.18 L1234.74 611.941 L1214.02 605.773 L1193.31 602.747 L1172.59 602.903 L1151.88 606.255 L1131.16 612.788 L1110.44 622.46 L1089.73 635.197 L1069.01 650.904 \n",
       "  L1048.3 669.456 L1027.58 690.705 L1006.87 714.477 L986.151 740.579 L965.436 768.795 L944.72 798.891 L924.005 830.616 L903.289 863.704 L882.574 897.876 L861.858 932.842 \n",
       "  L841.143 968.304 L820.427 1003.96 L799.712 1039.49 L778.996 1074.6 L758.28 1108.96 L737.565 1142.29 L716.849 1174.26 L696.134 1204.6 L675.418 1233.02 L654.703 1259.24 \n",
       "  L633.987 1283.01 L613.272 1304.09 L592.556 1322.26 L571.841 1337.32 L551.125 1349.1 L530.409 1357.44 L509.694 1362.23 L488.978 1363.36 L468.263 1360.78 L447.547 1354.45 \n",
       "  L426.832 1344.4 L406.116 1330.67 L385.401 1313.35 L364.685 1292.57 L343.97 1268.52 L323.254 1241.44 L302.538 1211.62 L281.823 1179.41 L261.107 1145.25 L240.392 1109.61 \n",
       "  L240.392 1191.97 L240.392 1191.97  Z\n",
       "  \" fill=\"#ff0000\" fill-rule=\"evenodd\" fill-opacity=\"0.3\"/>\n",
       "<polyline clip-path=\"url(#clip162)\" style=\"stroke:#000000; stroke-linecap:butt; stroke-linejoin:round; stroke-width:4; stroke-opacity:0.3; fill:none\" points=\"\n",
       "  240.392,1191.97 261.107,1227.6 281.823,1261.77 302.538,1293.98 323.254,1323.8 343.97,1350.88 364.685,1374.93 385.401,1395.7 406.116,1413.03 426.832,1426.76 \n",
       "  447.547,1436.81 468.263,1443.13 488.978,1445.72 509.694,1444.58 530.409,1439.8 551.125,1431.46 571.841,1419.68 592.556,1404.62 613.272,1386.45 633.987,1365.37 \n",
       "  654.703,1341.6 675.418,1315.37 696.134,1286.96 716.849,1256.62 737.565,1224.65 758.28,1191.32 778.996,1156.95 799.712,1121.85 820.427,1086.31 841.143,1050.66 \n",
       "  861.858,1015.2 882.574,980.235 903.289,946.062 924.005,912.974 944.72,881.249 965.436,851.153 986.151,822.937 1006.87,796.835 1027.58,773.063 1048.3,751.815 \n",
       "  1069.01,733.263 1089.73,717.556 1110.44,704.818 1131.16,695.147 1151.88,688.613 1172.59,685.261 1193.31,685.105 1214.02,688.132 1234.74,694.299 1255.45,703.538 \n",
       "  1276.17,715.748 1296.88,730.805 1317.6,748.555 1338.32,768.818 1359.03,791.392 1379.75,816.05 1400.46,842.543 1421.18,870.603 1441.89,899.942 1462.61,930.258 \n",
       "  1483.32,961.234 1504.04,992.543 1524.76,1023.85 1545.47,1054.8 1566.19,1085.07 1586.9,1114.29 1607.62,1142.12 1628.33,1168.22 1649.05,1192.26 1669.76,1213.91 \n",
       "  1690.48,1232.87 1711.2,1248.84 1731.91,1261.54 1752.63,1270.71 1773.34,1276.13 1794.06,1277.59 1814.77,1274.91 1835.49,1267.94 1856.2,1256.57 1876.92,1240.7 \n",
       "  1897.64,1220.29 1918.35,1195.32 1939.07,1165.82 1959.78,1131.84 1980.5,1093.48 2001.21,1050.88 2021.93,1004.19 2042.64,953.639 2063.36,899.467 2084.08,841.956 \n",
       "  2104.79,781.426 2125.51,718.232 2146.22,652.762 2166.94,585.438 2187.65,516.717 2208.37,447.087 2229.08,377.066 2249.8,307.207 2270.52,238.091 2291.23,170.334 \n",
       "  2291.23,87.9763 2270.52,155.733 2249.8,224.848 2229.08,294.708 2208.37,364.729 2187.65,434.359 2166.94,503.08 2146.22,570.403 2125.51,635.874 2104.79,699.068 \n",
       "  2084.08,759.598 2063.36,817.108 2042.64,871.281 2021.93,921.833 2001.21,968.517 1980.5,1011.13 1959.78,1049.49 1939.07,1083.46 1918.35,1112.97 1897.64,1137.93 \n",
       "  1876.92,1158.34 1856.2,1174.21 1835.49,1185.59 1814.77,1192.55 1794.06,1195.23 1773.34,1193.77 1752.63,1188.35 1731.91,1179.18 1711.2,1166.48 1690.48,1150.51 \n",
       "  1669.76,1131.56 1649.05,1109.9 1628.33,1085.86 1607.62,1059.76 1586.9,1031.93 1566.19,1002.71 1545.47,972.445 1524.76,941.489 1504.04,910.184 1483.32,878.876 \n",
       "  1462.61,847.9 1441.89,817.584 1421.18,788.245 1400.46,760.185 1379.75,733.692 1359.03,709.034 1338.32,686.46 1317.6,666.196 1296.88,648.447 1276.17,633.39 \n",
       "  1255.45,621.18 1234.74,611.941 1214.02,605.773 1193.31,602.747 1172.59,602.903 1151.88,606.255 1131.16,612.788 1110.44,622.46 1089.73,635.197 1069.01,650.904 \n",
       "  1048.3,669.456 1027.58,690.705 1006.87,714.477 986.151,740.579 965.436,768.795 944.72,798.891 924.005,830.616 903.289,863.704 882.574,897.876 861.858,932.842 \n",
       "  841.143,968.304 820.427,1003.96 799.712,1039.49 778.996,1074.6 758.28,1108.96 737.565,1142.29 716.849,1174.26 696.134,1204.6 675.418,1233.02 654.703,1259.24 \n",
       "  633.987,1283.01 613.272,1304.09 592.556,1322.26 571.841,1337.32 551.125,1349.1 530.409,1357.44 509.694,1362.23 488.978,1363.36 468.263,1360.78 447.547,1354.45 \n",
       "  426.832,1344.4 406.116,1330.67 385.401,1313.35 364.685,1292.57 343.97,1268.52 323.254,1241.44 302.538,1211.62 281.823,1179.41 261.107,1145.25 240.392,1109.61 \n",
       "  240.392,1191.97 \n",
       "  \"/>\n",
       "<path clip-path=\"url(#clip162)\" d=\"\n",
       "M240.392 1118.02 L261.107 1162.77 L281.823 1204.3 L302.538 1242.41 L323.254 1276.96 L343.97 1307.81 L364.685 1334.83 L385.401 1357.96 L406.116 1377.12 L426.832 1392.28 \n",
       "  L447.547 1403.44 L468.263 1410.61 L488.978 1413.84 L509.694 1413.2 L530.409 1408.79 L551.125 1400.72 L571.841 1389.15 L592.556 1374.23 L613.272 1356.17 L633.987 1335.17 \n",
       "  L654.703 1311.45 L675.418 1285.27 L696.134 1256.88 L716.849 1226.56 L737.565 1194.6 L758.28 1161.28 L778.996 1126.92 L799.712 1091.82 L820.427 1056.29 L841.143 1020.64 \n",
       "  L861.858 985.176 L882.574 950.21 L903.289 916.038 L924.005 882.95 L944.72 851.225 L965.436 821.129 L986.151 792.913 L1006.87 766.812 L1027.58 743.039 L1048.3 721.791 \n",
       "  L1069.01 703.239 L1089.73 687.532 L1110.44 674.794 L1131.16 665.123 L1151.88 658.589 L1172.59 655.237 L1193.31 655.081 L1214.02 658.108 L1234.74 664.276 L1255.45 673.514 \n",
       "  L1276.17 685.725 L1296.88 700.781 L1317.6 718.531 L1338.32 738.794 L1359.03 761.369 L1379.75 786.027 L1400.46 812.52 L1421.18 840.579 L1441.89 869.918 L1462.61 900.234 \n",
       "  L1483.32 931.21 L1504.04 962.519 L1524.76 993.823 L1545.47 1024.78 L1566.19 1055.04 L1586.9 1084.26 L1607.62 1112.09 L1628.33 1138.2 L1649.05 1162.24 L1669.76 1183.89 \n",
       "  L1690.48 1202.85 L1711.2 1218.81 L1731.91 1231.51 L1752.63 1240.69 L1773.34 1246.11 L1794.06 1247.57 L1814.77 1244.89 L1835.49 1237.92 L1856.2 1226.55 L1876.92 1210.68 \n",
       "  L1897.64 1190.27 L1918.35 1165.29 L1939.07 1135.78 L1959.78 1101.79 L1980.5 1063.41 L2001.21 1020.76 L2021.93 974.025 L2042.64 923.394 L2063.36 869.107 L2084.08 811.435 \n",
       "  L2104.79 750.679 L2125.51 687.172 L2146.22 621.277 L2166.94 553.379 L2187.65 483.89 L2208.37 413.243 L2229.08 341.887 L2249.8 270.286 L2270.52 198.919 L2291.23 128.269 \n",
       "  L2291.23 128.06 L2270.52 198.71 L2249.8 270.077 L2229.08 341.677 L2208.37 413.034 L2187.65 483.681 L2166.94 553.17 L2146.22 621.068 L2125.51 686.963 L2104.79 750.47 \n",
       "  L2084.08 811.226 L2063.36 868.898 L2042.64 923.185 L2021.93 973.816 L2001.21 1020.55 L1980.5 1063.2 L1959.78 1101.58 L1939.07 1135.58 L1918.35 1165.09 L1897.64 1190.06 \n",
       "  L1876.92 1210.47 L1856.2 1226.34 L1835.49 1237.71 L1814.77 1244.68 L1794.06 1247.36 L1773.34 1245.9 L1752.63 1240.48 L1731.91 1231.3 L1711.2 1218.6 L1690.48 1202.64 \n",
       "  L1669.76 1183.68 L1649.05 1162.03 L1628.33 1137.99 L1607.62 1111.88 L1586.9 1084.05 L1566.19 1054.83 L1545.47 1024.57 L1524.76 993.614 L1504.04 962.31 L1483.32 931.001 \n",
       "  L1462.61 900.025 L1441.89 869.709 L1421.18 840.37 L1400.46 812.311 L1379.75 785.818 L1359.03 761.16 L1338.32 738.585 L1317.6 718.322 L1296.88 700.572 L1276.17 685.516 \n",
       "  L1255.45 673.305 L1234.74 664.067 L1214.02 657.899 L1193.31 654.872 L1172.59 655.028 L1151.88 658.38 L1131.16 664.914 L1110.44 674.585 L1089.73 687.323 L1069.01 703.03 \n",
       "  L1048.3 721.582 L1027.58 742.83 L1006.87 766.603 L986.151 792.704 L965.436 820.92 L944.72 851.016 L924.005 882.741 L903.289 915.829 L882.574 950.001 L861.858 984.967 \n",
       "  L841.143 1020.43 L820.427 1056.08 L799.712 1091.61 L778.996 1126.71 L758.28 1161.08 L737.565 1194.39 L716.849 1226.35 L696.134 1256.67 L675.418 1285.06 L654.703 1311.24 \n",
       "  L633.987 1334.96 L613.272 1355.96 L592.556 1374.02 L571.841 1388.94 L551.125 1400.51 L530.409 1408.58 L509.694 1412.99 L488.978 1413.63 L468.263 1410.4 L447.547 1403.23 \n",
       "  L426.832 1392.07 L406.116 1376.91 L385.401 1357.75 L364.685 1334.62 L343.97 1307.6 L323.254 1276.75 L302.538 1242.2 L281.823 1204.09 L261.107 1162.56 L240.392 1117.81 \n",
       "  L240.392 1118.02 L240.392 1118.02  Z\n",
       "  \" fill=\"#008000\" fill-rule=\"evenodd\" fill-opacity=\"0.3\"/>\n",
       "<polyline clip-path=\"url(#clip162)\" style=\"stroke:#000000; stroke-linecap:butt; stroke-linejoin:round; stroke-width:4; stroke-opacity:0.3; fill:none\" points=\"\n",
       "  240.392,1118.02 261.107,1162.77 281.823,1204.3 302.538,1242.41 323.254,1276.96 343.97,1307.81 364.685,1334.83 385.401,1357.96 406.116,1377.12 426.832,1392.28 \n",
       "  447.547,1403.44 468.263,1410.61 488.978,1413.84 509.694,1413.2 530.409,1408.79 551.125,1400.72 571.841,1389.15 592.556,1374.23 613.272,1356.17 633.987,1335.17 \n",
       "  654.703,1311.45 675.418,1285.27 696.134,1256.88 716.849,1226.56 737.565,1194.6 758.28,1161.28 778.996,1126.92 799.712,1091.82 820.427,1056.29 841.143,1020.64 \n",
       "  861.858,985.176 882.574,950.21 903.289,916.038 924.005,882.95 944.72,851.225 965.436,821.129 986.151,792.913 1006.87,766.812 1027.58,743.039 1048.3,721.791 \n",
       "  1069.01,703.239 1089.73,687.532 1110.44,674.794 1131.16,665.123 1151.88,658.589 1172.59,655.237 1193.31,655.081 1214.02,658.108 1234.74,664.276 1255.45,673.514 \n",
       "  1276.17,685.725 1296.88,700.781 1317.6,718.531 1338.32,738.794 1359.03,761.369 1379.75,786.027 1400.46,812.52 1421.18,840.579 1441.89,869.918 1462.61,900.234 \n",
       "  1483.32,931.21 1504.04,962.519 1524.76,993.823 1545.47,1024.78 1566.19,1055.04 1586.9,1084.26 1607.62,1112.09 1628.33,1138.2 1649.05,1162.24 1669.76,1183.89 \n",
       "  1690.48,1202.85 1711.2,1218.81 1731.91,1231.51 1752.63,1240.69 1773.34,1246.11 1794.06,1247.57 1814.77,1244.89 1835.49,1237.92 1856.2,1226.55 1876.92,1210.68 \n",
       "  1897.64,1190.27 1918.35,1165.29 1939.07,1135.78 1959.78,1101.79 1980.5,1063.41 2001.21,1020.76 2021.93,974.025 2042.64,923.394 2063.36,869.107 2084.08,811.435 \n",
       "  2104.79,750.679 2125.51,687.172 2146.22,621.277 2166.94,553.379 2187.65,483.89 2208.37,413.243 2229.08,341.887 2249.8,270.286 2270.52,198.919 2291.23,128.269 \n",
       "  2291.23,128.06 2270.52,198.71 2249.8,270.077 2229.08,341.677 2208.37,413.034 2187.65,483.681 2166.94,553.17 2146.22,621.068 2125.51,686.963 2104.79,750.47 \n",
       "  2084.08,811.226 2063.36,868.898 2042.64,923.185 2021.93,973.816 2001.21,1020.55 1980.5,1063.2 1959.78,1101.58 1939.07,1135.58 1918.35,1165.09 1897.64,1190.06 \n",
       "  1876.92,1210.47 1856.2,1226.34 1835.49,1237.71 1814.77,1244.68 1794.06,1247.36 1773.34,1245.9 1752.63,1240.48 1731.91,1231.3 1711.2,1218.6 1690.48,1202.64 \n",
       "  1669.76,1183.68 1649.05,1162.03 1628.33,1137.99 1607.62,1111.88 1586.9,1084.05 1566.19,1054.83 1545.47,1024.57 1524.76,993.614 1504.04,962.31 1483.32,931.001 \n",
       "  1462.61,900.025 1441.89,869.709 1421.18,840.37 1400.46,812.311 1379.75,785.818 1359.03,761.16 1338.32,738.585 1317.6,718.322 1296.88,700.572 1276.17,685.516 \n",
       "  1255.45,673.305 1234.74,664.067 1214.02,657.899 1193.31,654.872 1172.59,655.028 1151.88,658.38 1131.16,664.914 1110.44,674.585 1089.73,687.323 1069.01,703.03 \n",
       "  1048.3,721.582 1027.58,742.83 1006.87,766.603 986.151,792.704 965.436,820.92 944.72,851.016 924.005,882.741 903.289,915.829 882.574,950.001 861.858,984.967 \n",
       "  841.143,1020.43 820.427,1056.08 799.712,1091.61 778.996,1126.71 758.28,1161.08 737.565,1194.39 716.849,1226.35 696.134,1256.67 675.418,1285.06 654.703,1311.24 \n",
       "  633.987,1334.96 613.272,1355.96 592.556,1374.02 571.841,1388.94 551.125,1400.51 530.409,1408.58 509.694,1412.99 488.978,1413.63 468.263,1410.4 447.547,1403.23 \n",
       "  426.832,1392.07 406.116,1376.91 385.401,1357.75 364.685,1334.62 343.97,1307.6 323.254,1276.75 302.538,1242.2 281.823,1204.09 261.107,1162.56 240.392,1117.81 \n",
       "  240.392,1118.02 \n",
       "  \"/>\n",
       "<path clip-path=\"url(#clip160)\" d=\"\n",
       "M1985.74 302.578 L2280.29 302.578 L2280.29 95.2176 L1985.74 95.2176  Z\n",
       "  \" fill=\"#ffffff\" fill-rule=\"evenodd\" fill-opacity=\"1\"/>\n",
       "<polyline clip-path=\"url(#clip160)\" style=\"stroke:#000000; stroke-linecap:butt; stroke-linejoin:round; stroke-width:4; stroke-opacity:1; fill:none\" points=\"\n",
       "  1985.74,302.578 2280.29,302.578 2280.29,95.2176 1985.74,95.2176 1985.74,302.578 \n",
       "  \"/>\n",
       "<polyline clip-path=\"url(#clip160)\" style=\"stroke:#009af9; stroke-linecap:butt; stroke-linejoin:round; stroke-width:4; stroke-opacity:1; fill:none\" points=\"\n",
       "  2009.9,147.058 2154.82,147.058 \n",
       "  \"/>\n",
       "<path clip-path=\"url(#clip160)\" d=\"M2192.82 166.745 Q2191.01 171.375 2189.3 172.787 Q2187.59 174.199 2184.72 174.199 L2181.31 174.199 L2181.31 170.634 L2183.81 170.634 Q2185.57 170.634 2186.54 169.8 Q2187.52 168.967 2188.7 165.865 L2189.46 163.921 L2178.98 138.412 L2183.49 138.412 L2191.59 158.689 L2199.69 138.412 L2204.21 138.412 L2192.82 166.745 Z\" fill=\"#000000\" fill-rule=\"evenodd\" fill-opacity=\"1\" /><path clip-path=\"url(#clip160)\" d=\"M2211.5 160.402 L2219.14 160.402 L2219.14 134.037 L2210.83 135.703 L2210.83 131.444 L2219.09 129.778 L2223.77 129.778 L2223.77 160.402 L2231.41 160.402 L2231.41 164.338 L2211.5 164.338 L2211.5 160.402 Z\" fill=\"#000000\" fill-rule=\"evenodd\" fill-opacity=\"1\" /><path clip-path=\"url(#clip160)\" d=\"\n",
       "M2009.9 219.634 L2154.82 219.634 L2154.82 178.162 L2009.9 178.162 L2009.9 219.634  Z\n",
       "  \" fill=\"#ff0000\" fill-rule=\"evenodd\" fill-opacity=\"0.3\"/>\n",
       "<polyline clip-path=\"url(#clip160)\" style=\"stroke:#000000; stroke-linecap:butt; stroke-linejoin:round; stroke-width:4; stroke-opacity:1; fill:none\" points=\"\n",
       "  2009.9,219.634 2154.82,219.634 2154.82,178.162 2009.9,178.162 2009.9,219.634 \n",
       "  \"/>\n",
       "<path clip-path=\"url(#clip160)\" d=\"M2192.82 218.585 Q2191.01 223.215 2189.3 224.627 Q2187.59 226.039 2184.72 226.039 L2181.31 226.039 L2181.31 222.474 L2183.81 222.474 Q2185.57 222.474 2186.54 221.64 Q2187.52 220.807 2188.7 217.705 L2189.46 215.761 L2178.98 190.252 L2183.49 190.252 L2191.59 210.529 L2199.69 190.252 L2204.21 190.252 L2192.82 218.585 Z\" fill=\"#000000\" fill-rule=\"evenodd\" fill-opacity=\"1\" /><path clip-path=\"url(#clip160)\" d=\"M2214.72 212.242 L2231.04 212.242 L2231.04 216.178 L2209.09 216.178 L2209.09 212.242 Q2211.75 209.488 2216.34 204.858 Q2220.94 200.205 2222.12 198.863 Q2224.37 196.34 2225.25 194.604 Q2226.15 192.844 2226.15 191.155 Q2226.15 188.4 2224.21 186.664 Q2222.29 184.928 2219.18 184.928 Q2216.98 184.928 2214.53 185.692 Q2212.1 186.455 2209.32 188.006 L2209.32 183.284 Q2212.15 182.15 2214.6 181.571 Q2217.05 180.993 2219.09 180.993 Q2224.46 180.993 2227.66 183.678 Q2230.85 186.363 2230.85 190.854 Q2230.85 192.983 2230.04 194.905 Q2229.25 196.803 2227.15 199.395 Q2226.57 200.067 2223.47 203.284 Q2220.36 206.479 2214.72 212.242 Z\" fill=\"#000000\" fill-rule=\"evenodd\" fill-opacity=\"1\" /><path clip-path=\"url(#clip160)\" d=\"\n",
       "M2009.9 271.474 L2154.82 271.474 L2154.82 230.002 L2009.9 230.002 L2009.9 271.474  Z\n",
       "  \" fill=\"#008000\" fill-rule=\"evenodd\" fill-opacity=\"0.3\"/>\n",
       "<polyline clip-path=\"url(#clip160)\" style=\"stroke:#000000; stroke-linecap:butt; stroke-linejoin:round; stroke-width:4; stroke-opacity:1; fill:none\" points=\"\n",
       "  2009.9,271.474 2154.82,271.474 2154.82,230.002 2009.9,230.002 2009.9,271.474 \n",
       "  \"/>\n",
       "<path clip-path=\"url(#clip160)\" d=\"M2192.82 270.425 Q2191.01 275.055 2189.3 276.467 Q2187.59 277.879 2184.72 277.879 L2181.31 277.879 L2181.31 274.314 L2183.81 274.314 Q2185.57 274.314 2186.54 273.48 Q2187.52 272.647 2188.7 269.545 L2189.46 267.601 L2178.98 242.092 L2183.49 242.092 L2191.59 262.369 L2199.69 242.092 L2204.21 242.092 L2192.82 270.425 Z\" fill=\"#000000\" fill-rule=\"evenodd\" fill-opacity=\"1\" /><path clip-path=\"url(#clip160)\" d=\"M2224.85 249.383 Q2228.21 250.101 2230.09 252.369 Q2231.98 254.638 2231.98 257.971 Q2231.98 263.087 2228.47 265.888 Q2224.95 268.689 2218.47 268.689 Q2216.29 268.689 2213.98 268.249 Q2211.68 267.832 2209.23 266.976 L2209.23 262.462 Q2211.17 263.596 2213.49 264.175 Q2215.8 264.754 2218.33 264.754 Q2222.73 264.754 2225.02 263.018 Q2227.33 261.281 2227.33 257.971 Q2227.33 254.916 2225.18 253.203 Q2223.05 251.467 2219.23 251.467 L2215.2 251.467 L2215.2 247.624 L2219.41 247.624 Q2222.86 247.624 2224.69 246.258 Q2226.52 244.87 2226.52 242.277 Q2226.52 239.615 2224.62 238.203 Q2222.75 236.768 2219.23 236.768 Q2217.31 236.768 2215.11 237.184 Q2212.91 237.601 2210.27 238.481 L2210.27 234.314 Q2212.93 233.573 2215.25 233.203 Q2217.59 232.833 2219.65 232.833 Q2224.97 232.833 2228.07 235.263 Q2231.17 237.67 2231.17 241.791 Q2231.17 244.661 2229.53 246.652 Q2227.89 248.62 2224.85 249.383 Z\" fill=\"#000000\" fill-rule=\"evenodd\" fill-opacity=\"1\" /></svg>\n"
      ]
     },
     "execution_count": 62,
     "metadata": {},
     "output_type": "execute_result"
    }
   ],
   "source": [
    "plot(f, -0.5, 0.5)\n",
    "plot!(FM10, color=:red)\n",
    "plot!(FM15, color = :green)"
   ]
  },
  {
   "cell_type": "markdown",
   "metadata": {},
   "source": [
    "__Exercise__ : Find the Taylor models of order $5$, $10$ and $15$ of the function $f$ on the interval $[-0.125, 0.125]$. What happens to $\\Delta$?"
   ]
  },
  {
   "cell_type": "markdown",
   "metadata": {},
   "source": [
    "## Rigorous Integration"
   ]
  },
  {
   "cell_type": "markdown",
   "metadata": {},
   "source": [
    "We are interested in computing rigorously the value of an integral. To do so, we will use Taylor Models."
   ]
  },
  {
   "cell_type": "code",
   "execution_count": 63,
   "metadata": {},
   "outputs": [
    {
     "data": {
      "text/plain": [
       "f (generic function with 1 method)"
      ]
     },
     "execution_count": 63,
     "metadata": {},
     "output_type": "execute_result"
    }
   ],
   "source": [
    "f(x) = sin(exp(1/x))"
   ]
  },
  {
   "cell_type": "code",
   "execution_count": 64,
   "metadata": {},
   "outputs": [
    {
     "data": {
      "image/svg+xml": [
       "<?xml version=\"1.0\" encoding=\"utf-8\"?>\n",
       "<svg xmlns=\"http://www.w3.org/2000/svg\" xmlns:xlink=\"http://www.w3.org/1999/xlink\" width=\"600\" height=\"400\" viewBox=\"0 0 2400 1600\">\n",
       "<defs>\n",
       "  <clipPath id=\"clip200\">\n",
       "    <rect x=\"0\" y=\"0\" width=\"2400\" height=\"1600\"/>\n",
       "  </clipPath>\n",
       "</defs>\n",
       "<path clip-path=\"url(#clip200)\" d=\"\n",
       "M0 1600 L2400 1600 L2400 0 L0 0  Z\n",
       "  \" fill=\"#ffffff\" fill-rule=\"evenodd\" fill-opacity=\"1\"/>\n",
       "<defs>\n",
       "  <clipPath id=\"clip201\">\n",
       "    <rect x=\"480\" y=\"0\" width=\"1681\" height=\"1600\"/>\n",
       "  </clipPath>\n",
       "</defs>\n",
       "<path clip-path=\"url(#clip200)\" d=\"\n",
       "M193.936 1486.45 L2352.76 1486.45 L2352.76 47.2441 L193.936 47.2441  Z\n",
       "  \" fill=\"#ffffff\" fill-rule=\"evenodd\" fill-opacity=\"1\"/>\n",
       "<defs>\n",
       "  <clipPath id=\"clip202\">\n",
       "    <rect x=\"193\" y=\"47\" width=\"2160\" height=\"1440\"/>\n",
       "  </clipPath>\n",
       "</defs>\n",
       "<polyline clip-path=\"url(#clip202)\" style=\"stroke:#000000; stroke-linecap:butt; stroke-linejoin:round; stroke-width:2; stroke-opacity:0.1; fill:none\" points=\"\n",
       "  429.602,1486.45 429.602,47.2441 \n",
       "  \"/>\n",
       "<polyline clip-path=\"url(#clip202)\" style=\"stroke:#000000; stroke-linecap:butt; stroke-linejoin:round; stroke-width:2; stroke-opacity:0.1; fill:none\" points=\"\n",
       "  895.116,1486.45 895.116,47.2441 \n",
       "  \"/>\n",
       "<polyline clip-path=\"url(#clip202)\" style=\"stroke:#000000; stroke-linecap:butt; stroke-linejoin:round; stroke-width:2; stroke-opacity:0.1; fill:none\" points=\"\n",
       "  1360.63,1486.45 1360.63,47.2441 \n",
       "  \"/>\n",
       "<polyline clip-path=\"url(#clip202)\" style=\"stroke:#000000; stroke-linecap:butt; stroke-linejoin:round; stroke-width:2; stroke-opacity:0.1; fill:none\" points=\"\n",
       "  1826.14,1486.45 1826.14,47.2441 \n",
       "  \"/>\n",
       "<polyline clip-path=\"url(#clip202)\" style=\"stroke:#000000; stroke-linecap:butt; stroke-linejoin:round; stroke-width:2; stroke-opacity:0.1; fill:none\" points=\"\n",
       "  2291.66,1486.45 2291.66,47.2441 \n",
       "  \"/>\n",
       "<polyline clip-path=\"url(#clip200)\" style=\"stroke:#000000; stroke-linecap:butt; stroke-linejoin:round; stroke-width:4; stroke-opacity:1; fill:none\" points=\"\n",
       "  193.936,1486.45 2352.76,1486.45 \n",
       "  \"/>\n",
       "<polyline clip-path=\"url(#clip200)\" style=\"stroke:#000000; stroke-linecap:butt; stroke-linejoin:round; stroke-width:4; stroke-opacity:1; fill:none\" points=\"\n",
       "  429.602,1486.45 429.602,1469.18 \n",
       "  \"/>\n",
       "<polyline clip-path=\"url(#clip200)\" style=\"stroke:#000000; stroke-linecap:butt; stroke-linejoin:round; stroke-width:4; stroke-opacity:1; fill:none\" points=\"\n",
       "  895.116,1486.45 895.116,1469.18 \n",
       "  \"/>\n",
       "<polyline clip-path=\"url(#clip200)\" style=\"stroke:#000000; stroke-linecap:butt; stroke-linejoin:round; stroke-width:4; stroke-opacity:1; fill:none\" points=\"\n",
       "  1360.63,1486.45 1360.63,1469.18 \n",
       "  \"/>\n",
       "<polyline clip-path=\"url(#clip200)\" style=\"stroke:#000000; stroke-linecap:butt; stroke-linejoin:round; stroke-width:4; stroke-opacity:1; fill:none\" points=\"\n",
       "  1826.14,1486.45 1826.14,1469.18 \n",
       "  \"/>\n",
       "<polyline clip-path=\"url(#clip200)\" style=\"stroke:#000000; stroke-linecap:butt; stroke-linejoin:round; stroke-width:4; stroke-opacity:1; fill:none\" points=\"\n",
       "  2291.66,1486.45 2291.66,1469.18 \n",
       "  \"/>\n",
       "<path clip-path=\"url(#clip200)\" d=\"M407.785 1515.64 Q404.174 1515.64 402.346 1519.2 Q400.54 1522.75 400.54 1529.87 Q400.54 1536.98 402.346 1540.55 Q404.174 1544.09 407.785 1544.09 Q411.42 1544.09 413.225 1540.55 Q415.054 1536.98 415.054 1529.87 Q415.054 1522.75 413.225 1519.2 Q411.42 1515.64 407.785 1515.64 M407.785 1511.93 Q413.595 1511.93 416.651 1516.54 Q419.73 1521.12 419.73 1529.87 Q419.73 1538.6 416.651 1543.21 Q413.595 1547.79 407.785 1547.79 Q401.975 1547.79 398.896 1543.21 Q395.841 1538.6 395.841 1529.87 Q395.841 1521.12 398.896 1516.54 Q401.975 1511.93 407.785 1511.93 Z\" fill=\"#000000\" fill-rule=\"evenodd\" fill-opacity=\"1\" /><path clip-path=\"url(#clip200)\" d=\"M427.947 1541.24 L432.831 1541.24 L432.831 1547.12 L427.947 1547.12 L427.947 1541.24 Z\" fill=\"#000000\" fill-rule=\"evenodd\" fill-opacity=\"1\" /><path clip-path=\"url(#clip200)\" d=\"M447.044 1543.18 L463.364 1543.18 L463.364 1547.12 L441.419 1547.12 L441.419 1543.18 Q444.081 1540.43 448.665 1535.8 Q453.271 1531.15 454.452 1529.81 Q456.697 1527.28 457.577 1525.55 Q458.479 1523.79 458.479 1522.1 Q458.479 1519.34 456.535 1517.61 Q454.614 1515.87 451.512 1515.87 Q449.313 1515.87 446.859 1516.63 Q444.429 1517.4 441.651 1518.95 L441.651 1514.23 Q444.475 1513.09 446.929 1512.51 Q449.382 1511.93 451.419 1511.93 Q456.79 1511.93 459.984 1514.62 Q463.179 1517.31 463.179 1521.8 Q463.179 1523.93 462.368 1525.85 Q461.581 1527.74 459.475 1530.34 Q458.896 1531.01 455.794 1534.23 Q452.692 1537.42 447.044 1543.18 Z\" fill=\"#000000\" fill-rule=\"evenodd\" fill-opacity=\"1\" /><path clip-path=\"url(#clip200)\" d=\"M872.257 1515.64 Q868.646 1515.64 866.818 1519.2 Q865.012 1522.75 865.012 1529.87 Q865.012 1536.98 866.818 1540.55 Q868.646 1544.09 872.257 1544.09 Q875.892 1544.09 877.697 1540.55 Q879.526 1536.98 879.526 1529.87 Q879.526 1522.75 877.697 1519.2 Q875.892 1515.64 872.257 1515.64 M872.257 1511.93 Q878.068 1511.93 881.123 1516.54 Q884.202 1521.12 884.202 1529.87 Q884.202 1538.6 881.123 1543.21 Q878.068 1547.79 872.257 1547.79 Q866.447 1547.79 863.369 1543.21 Q860.313 1538.6 860.313 1529.87 Q860.313 1521.12 863.369 1516.54 Q866.447 1511.93 872.257 1511.93 Z\" fill=\"#000000\" fill-rule=\"evenodd\" fill-opacity=\"1\" /><path clip-path=\"url(#clip200)\" d=\"M892.419 1541.24 L897.304 1541.24 L897.304 1547.12 L892.419 1547.12 L892.419 1541.24 Z\" fill=\"#000000\" fill-rule=\"evenodd\" fill-opacity=\"1\" /><path clip-path=\"url(#clip200)\" d=\"M920.336 1516.63 L908.53 1535.08 L920.336 1535.08 L920.336 1516.63 M919.109 1512.56 L924.989 1512.56 L924.989 1535.08 L929.919 1535.08 L929.919 1538.97 L924.989 1538.97 L924.989 1547.12 L920.336 1547.12 L920.336 1538.97 L904.734 1538.97 L904.734 1534.46 L919.109 1512.56 Z\" fill=\"#000000\" fill-rule=\"evenodd\" fill-opacity=\"1\" /><path clip-path=\"url(#clip200)\" d=\"M1337.93 1515.64 Q1334.32 1515.64 1332.49 1519.2 Q1330.69 1522.75 1330.69 1529.87 Q1330.69 1536.98 1332.49 1540.55 Q1334.32 1544.09 1337.93 1544.09 Q1341.57 1544.09 1343.37 1540.55 Q1345.2 1536.98 1345.2 1529.87 Q1345.2 1522.75 1343.37 1519.2 Q1341.57 1515.64 1337.93 1515.64 M1337.93 1511.93 Q1343.74 1511.93 1346.8 1516.54 Q1349.88 1521.12 1349.88 1529.87 Q1349.88 1538.6 1346.8 1543.21 Q1343.74 1547.79 1337.93 1547.79 Q1332.12 1547.79 1329.04 1543.21 Q1325.99 1538.6 1325.99 1529.87 Q1325.99 1521.12 1329.04 1516.54 Q1332.12 1511.93 1337.93 1511.93 Z\" fill=\"#000000\" fill-rule=\"evenodd\" fill-opacity=\"1\" /><path clip-path=\"url(#clip200)\" d=\"M1358.1 1541.24 L1362.98 1541.24 L1362.98 1547.12 L1358.1 1547.12 L1358.1 1541.24 Z\" fill=\"#000000\" fill-rule=\"evenodd\" fill-opacity=\"1\" /><path clip-path=\"url(#clip200)\" d=\"M1383.74 1527.98 Q1380.59 1527.98 1378.74 1530.13 Q1376.91 1532.28 1376.91 1536.03 Q1376.91 1539.76 1378.74 1541.93 Q1380.59 1544.09 1383.74 1544.09 Q1386.89 1544.09 1388.72 1541.93 Q1390.57 1539.76 1390.57 1536.03 Q1390.57 1532.28 1388.72 1530.13 Q1386.89 1527.98 1383.74 1527.98 M1393.03 1513.32 L1393.03 1517.58 Q1391.27 1516.75 1389.46 1516.31 Q1387.68 1515.87 1385.92 1515.87 Q1381.29 1515.87 1378.84 1519 Q1376.41 1522.12 1376.06 1528.44 Q1377.42 1526.43 1379.48 1525.36 Q1381.54 1524.27 1384.02 1524.27 Q1389.23 1524.27 1392.24 1527.44 Q1395.27 1530.59 1395.27 1536.03 Q1395.27 1541.36 1392.12 1544.57 Q1388.97 1547.79 1383.74 1547.79 Q1377.75 1547.79 1374.58 1543.21 Q1371.41 1538.6 1371.41 1529.87 Q1371.41 1521.68 1375.29 1516.82 Q1379.18 1511.93 1385.73 1511.93 Q1387.49 1511.93 1389.28 1512.28 Q1391.08 1512.63 1393.03 1513.32 Z\" fill=\"#000000\" fill-rule=\"evenodd\" fill-opacity=\"1\" /><path clip-path=\"url(#clip200)\" d=\"M1803.57 1515.64 Q1799.96 1515.64 1798.13 1519.2 Q1796.33 1522.75 1796.33 1529.87 Q1796.33 1536.98 1798.13 1540.55 Q1799.96 1544.09 1803.57 1544.09 Q1807.21 1544.09 1809.01 1540.55 Q1810.84 1536.98 1810.84 1529.87 Q1810.84 1522.75 1809.01 1519.2 Q1807.21 1515.64 1803.57 1515.64 M1803.57 1511.93 Q1809.38 1511.93 1812.44 1516.54 Q1815.52 1521.12 1815.52 1529.87 Q1815.52 1538.6 1812.44 1543.21 Q1809.38 1547.79 1803.57 1547.79 Q1797.76 1547.79 1794.69 1543.21 Q1791.63 1538.6 1791.63 1529.87 Q1791.63 1521.12 1794.69 1516.54 Q1797.76 1511.93 1803.57 1511.93 Z\" fill=\"#000000\" fill-rule=\"evenodd\" fill-opacity=\"1\" /><path clip-path=\"url(#clip200)\" d=\"M1823.74 1541.24 L1828.62 1541.24 L1828.62 1547.12 L1823.74 1547.12 L1823.74 1541.24 Z\" fill=\"#000000\" fill-rule=\"evenodd\" fill-opacity=\"1\" /><path clip-path=\"url(#clip200)\" d=\"M1848.81 1530.71 Q1845.47 1530.71 1843.55 1532.49 Q1841.65 1534.27 1841.65 1537.4 Q1841.65 1540.52 1843.55 1542.31 Q1845.47 1544.09 1848.81 1544.09 Q1852.14 1544.09 1854.06 1542.31 Q1855.98 1540.5 1855.98 1537.4 Q1855.98 1534.27 1854.06 1532.49 Q1852.16 1530.71 1848.81 1530.71 M1844.13 1528.72 Q1841.12 1527.98 1839.43 1525.92 Q1837.76 1523.86 1837.76 1520.89 Q1837.76 1516.75 1840.7 1514.34 Q1843.67 1511.93 1848.81 1511.93 Q1853.97 1511.93 1856.91 1514.34 Q1859.85 1516.75 1859.85 1520.89 Q1859.85 1523.86 1858.16 1525.92 Q1856.49 1527.98 1853.5 1528.72 Q1856.88 1529.5 1858.76 1531.8 Q1860.66 1534.09 1860.66 1537.4 Q1860.66 1542.42 1857.58 1545.11 Q1854.52 1547.79 1848.81 1547.79 Q1843.09 1547.79 1840.01 1545.11 Q1836.95 1542.42 1836.95 1537.4 Q1836.95 1534.09 1838.85 1531.8 Q1840.75 1529.5 1844.13 1528.72 M1842.42 1521.33 Q1842.42 1524.02 1844.08 1525.52 Q1845.77 1527.03 1848.81 1527.03 Q1851.81 1527.03 1853.5 1525.52 Q1855.22 1524.02 1855.22 1521.33 Q1855.22 1518.65 1853.5 1517.14 Q1851.81 1515.64 1848.81 1515.64 Q1845.77 1515.64 1844.08 1517.14 Q1842.42 1518.65 1842.42 1521.33 Z\" fill=\"#000000\" fill-rule=\"evenodd\" fill-opacity=\"1\" /><path clip-path=\"url(#clip200)\" d=\"M2258.81 1543.18 L2266.45 1543.18 L2266.45 1516.82 L2258.14 1518.49 L2258.14 1514.23 L2266.4 1512.56 L2271.08 1512.56 L2271.08 1543.18 L2278.72 1543.18 L2278.72 1547.12 L2258.81 1547.12 L2258.81 1543.18 Z\" fill=\"#000000\" fill-rule=\"evenodd\" fill-opacity=\"1\" /><path clip-path=\"url(#clip200)\" d=\"M2288.16 1541.24 L2293.05 1541.24 L2293.05 1547.12 L2288.16 1547.12 L2288.16 1541.24 Z\" fill=\"#000000\" fill-rule=\"evenodd\" fill-opacity=\"1\" /><path clip-path=\"url(#clip200)\" d=\"M2313.23 1515.64 Q2309.62 1515.64 2307.79 1519.2 Q2305.99 1522.75 2305.99 1529.87 Q2305.99 1536.98 2307.79 1540.55 Q2309.62 1544.09 2313.23 1544.09 Q2316.87 1544.09 2318.67 1540.55 Q2320.5 1536.98 2320.5 1529.87 Q2320.5 1522.75 2318.67 1519.2 Q2316.87 1515.64 2313.23 1515.64 M2313.23 1511.93 Q2319.04 1511.93 2322.1 1516.54 Q2325.18 1521.12 2325.18 1529.87 Q2325.18 1538.6 2322.1 1543.21 Q2319.04 1547.79 2313.23 1547.79 Q2307.42 1547.79 2304.34 1543.21 Q2301.29 1538.6 2301.29 1529.87 Q2301.29 1521.12 2304.34 1516.54 Q2307.42 1511.93 2313.23 1511.93 Z\" fill=\"#000000\" fill-rule=\"evenodd\" fill-opacity=\"1\" /><polyline clip-path=\"url(#clip202)\" style=\"stroke:#000000; stroke-linecap:butt; stroke-linejoin:round; stroke-width:2; stroke-opacity:0.1; fill:none\" points=\"\n",
       "  193.936,1445.72 2352.76,1445.72 \n",
       "  \"/>\n",
       "<polyline clip-path=\"url(#clip202)\" style=\"stroke:#000000; stroke-linecap:butt; stroke-linejoin:round; stroke-width:2; stroke-opacity:0.1; fill:none\" points=\"\n",
       "  193.936,1106.28 2352.76,1106.28 \n",
       "  \"/>\n",
       "<polyline clip-path=\"url(#clip202)\" style=\"stroke:#000000; stroke-linecap:butt; stroke-linejoin:round; stroke-width:2; stroke-opacity:0.1; fill:none\" points=\"\n",
       "  193.936,766.846 2352.76,766.846 \n",
       "  \"/>\n",
       "<polyline clip-path=\"url(#clip202)\" style=\"stroke:#000000; stroke-linecap:butt; stroke-linejoin:round; stroke-width:2; stroke-opacity:0.1; fill:none\" points=\"\n",
       "  193.936,427.408 2352.76,427.408 \n",
       "  \"/>\n",
       "<polyline clip-path=\"url(#clip202)\" style=\"stroke:#000000; stroke-linecap:butt; stroke-linejoin:round; stroke-width:2; stroke-opacity:0.1; fill:none\" points=\"\n",
       "  193.936,87.9697 2352.76,87.9697 \n",
       "  \"/>\n",
       "<polyline clip-path=\"url(#clip200)\" style=\"stroke:#000000; stroke-linecap:butt; stroke-linejoin:round; stroke-width:4; stroke-opacity:1; fill:none\" points=\"\n",
       "  193.936,1486.45 193.936,47.2441 \n",
       "  \"/>\n",
       "<polyline clip-path=\"url(#clip200)\" style=\"stroke:#000000; stroke-linecap:butt; stroke-linejoin:round; stroke-width:4; stroke-opacity:1; fill:none\" points=\"\n",
       "  193.936,1445.72 219.842,1445.72 \n",
       "  \"/>\n",
       "<polyline clip-path=\"url(#clip200)\" style=\"stroke:#000000; stroke-linecap:butt; stroke-linejoin:round; stroke-width:4; stroke-opacity:1; fill:none\" points=\"\n",
       "  193.936,1106.28 219.842,1106.28 \n",
       "  \"/>\n",
       "<polyline clip-path=\"url(#clip200)\" style=\"stroke:#000000; stroke-linecap:butt; stroke-linejoin:round; stroke-width:4; stroke-opacity:1; fill:none\" points=\"\n",
       "  193.936,766.846 219.842,766.846 \n",
       "  \"/>\n",
       "<polyline clip-path=\"url(#clip200)\" style=\"stroke:#000000; stroke-linecap:butt; stroke-linejoin:round; stroke-width:4; stroke-opacity:1; fill:none\" points=\"\n",
       "  193.936,427.408 219.842,427.408 \n",
       "  \"/>\n",
       "<polyline clip-path=\"url(#clip200)\" style=\"stroke:#000000; stroke-linecap:butt; stroke-linejoin:round; stroke-width:4; stroke-opacity:1; fill:none\" points=\"\n",
       "  193.936,87.9697 219.842,87.9697 \n",
       "  \"/>\n",
       "<path clip-path=\"url(#clip200)\" d=\"M50.9921 1446.17 L80.6679 1446.17 L80.6679 1450.11 L50.9921 1450.11 L50.9921 1446.17 Z\" fill=\"#000000\" fill-rule=\"evenodd\" fill-opacity=\"1\" /><path clip-path=\"url(#clip200)\" d=\"M91.5706 1459.07 L99.2095 1459.07 L99.2095 1432.7 L90.8993 1434.37 L90.8993 1430.11 L99.1632 1428.44 L103.839 1428.44 L103.839 1459.07 L111.478 1459.07 L111.478 1463 L91.5706 1463 L91.5706 1459.07 Z\" fill=\"#000000\" fill-rule=\"evenodd\" fill-opacity=\"1\" /><path clip-path=\"url(#clip200)\" d=\"M120.922 1457.12 L125.807 1457.12 L125.807 1463 L120.922 1463 L120.922 1457.12 Z\" fill=\"#000000\" fill-rule=\"evenodd\" fill-opacity=\"1\" /><path clip-path=\"url(#clip200)\" d=\"M145.992 1431.52 Q142.381 1431.52 140.552 1435.09 Q138.746 1438.63 138.746 1445.76 Q138.746 1452.86 140.552 1456.43 Q142.381 1459.97 145.992 1459.97 Q149.626 1459.97 151.431 1456.43 Q153.26 1452.86 153.26 1445.76 Q153.26 1438.63 151.431 1435.09 Q149.626 1431.52 145.992 1431.52 M145.992 1427.82 Q151.802 1427.82 154.857 1432.42 Q157.936 1437.01 157.936 1445.76 Q157.936 1454.48 154.857 1459.09 Q151.802 1463.67 145.992 1463.67 Q140.181 1463.67 137.103 1459.09 Q134.047 1454.48 134.047 1445.76 Q134.047 1437.01 137.103 1432.42 Q140.181 1427.82 145.992 1427.82 Z\" fill=\"#000000\" fill-rule=\"evenodd\" fill-opacity=\"1\" /><path clip-path=\"url(#clip200)\" d=\"M51.9875 1106.74 L81.6633 1106.74 L81.6633 1110.67 L51.9875 1110.67 L51.9875 1106.74 Z\" fill=\"#000000\" fill-rule=\"evenodd\" fill-opacity=\"1\" /><path clip-path=\"url(#clip200)\" d=\"M101.756 1092.08 Q98.1447 1092.08 96.316 1095.65 Q94.5104 1099.19 94.5104 1106.32 Q94.5104 1113.42 96.316 1116.99 Q98.1447 1120.53 101.756 1120.53 Q105.39 1120.53 107.196 1116.99 Q109.024 1113.42 109.024 1106.32 Q109.024 1099.19 107.196 1095.65 Q105.39 1092.08 101.756 1092.08 M101.756 1088.38 Q107.566 1088.38 110.621 1092.99 Q113.7 1097.57 113.7 1106.32 Q113.7 1115.05 110.621 1119.65 Q107.566 1124.24 101.756 1124.24 Q95.9456 1124.24 92.8669 1119.65 Q89.8114 1115.05 89.8114 1106.32 Q89.8114 1097.57 92.8669 1092.99 Q95.9456 1088.38 101.756 1088.38 Z\" fill=\"#000000\" fill-rule=\"evenodd\" fill-opacity=\"1\" /><path clip-path=\"url(#clip200)\" d=\"M121.918 1117.68 L126.802 1117.68 L126.802 1123.56 L121.918 1123.56 L121.918 1117.68 Z\" fill=\"#000000\" fill-rule=\"evenodd\" fill-opacity=\"1\" /><path clip-path=\"url(#clip200)\" d=\"M137.033 1089 L155.39 1089 L155.39 1092.94 L141.316 1092.94 L141.316 1101.41 Q142.334 1101.06 143.353 1100.9 Q144.371 1100.72 145.39 1100.72 Q151.177 1100.72 154.556 1103.89 Q157.936 1107.06 157.936 1112.48 Q157.936 1118.05 154.464 1121.16 Q150.992 1124.24 144.672 1124.24 Q142.496 1124.24 140.228 1123.86 Q137.982 1123.49 135.575 1122.75 L135.575 1118.05 Q137.658 1119.19 139.881 1119.74 Q142.103 1120.3 144.58 1120.3 Q148.584 1120.3 150.922 1118.19 Q153.26 1116.09 153.26 1112.48 Q153.26 1108.86 150.922 1106.76 Q148.584 1104.65 144.58 1104.65 Q142.705 1104.65 140.83 1105.07 Q138.978 1105.49 137.033 1106.36 L137.033 1089 Z\" fill=\"#000000\" fill-rule=\"evenodd\" fill-opacity=\"1\" /><path clip-path=\"url(#clip200)\" d=\"M100.76 752.644 Q97.1493 752.644 95.3206 756.209 Q93.515 759.751 93.515 766.88 Q93.515 773.987 95.3206 777.552 Q97.1493 781.093 100.76 781.093 Q104.395 781.093 106.2 777.552 Q108.029 773.987 108.029 766.88 Q108.029 759.751 106.2 756.209 Q104.395 752.644 100.76 752.644 M100.76 748.941 Q106.571 748.941 109.626 753.547 Q112.705 758.131 112.705 766.88 Q112.705 775.607 109.626 780.214 Q106.571 784.797 100.76 784.797 Q94.9502 784.797 91.8715 780.214 Q88.816 775.607 88.816 766.88 Q88.816 758.131 91.8715 753.547 Q94.9502 748.941 100.76 748.941 Z\" fill=\"#000000\" fill-rule=\"evenodd\" fill-opacity=\"1\" /><path clip-path=\"url(#clip200)\" d=\"M120.922 778.246 L125.807 778.246 L125.807 784.126 L120.922 784.126 L120.922 778.246 Z\" fill=\"#000000\" fill-rule=\"evenodd\" fill-opacity=\"1\" /><path clip-path=\"url(#clip200)\" d=\"M145.992 752.644 Q142.381 752.644 140.552 756.209 Q138.746 759.751 138.746 766.88 Q138.746 773.987 140.552 777.552 Q142.381 781.093 145.992 781.093 Q149.626 781.093 151.431 777.552 Q153.26 773.987 153.26 766.88 Q153.26 759.751 151.431 756.209 Q149.626 752.644 145.992 752.644 M145.992 748.941 Q151.802 748.941 154.857 753.547 Q157.936 758.131 157.936 766.88 Q157.936 775.607 154.857 780.214 Q151.802 784.797 145.992 784.797 Q140.181 784.797 137.103 780.214 Q134.047 775.607 134.047 766.88 Q134.047 758.131 137.103 753.547 Q140.181 748.941 145.992 748.941 Z\" fill=\"#000000\" fill-rule=\"evenodd\" fill-opacity=\"1\" /><path clip-path=\"url(#clip200)\" d=\"M101.756 413.206 Q98.1447 413.206 96.316 416.771 Q94.5104 420.313 94.5104 427.442 Q94.5104 434.549 96.316 438.114 Q98.1447 441.655 101.756 441.655 Q105.39 441.655 107.196 438.114 Q109.024 434.549 109.024 427.442 Q109.024 420.313 107.196 416.771 Q105.39 413.206 101.756 413.206 M101.756 409.503 Q107.566 409.503 110.621 414.109 Q113.7 418.692 113.7 427.442 Q113.7 436.169 110.621 440.776 Q107.566 445.359 101.756 445.359 Q95.9456 445.359 92.8669 440.776 Q89.8114 436.169 89.8114 427.442 Q89.8114 418.692 92.8669 414.109 Q95.9456 409.503 101.756 409.503 Z\" fill=\"#000000\" fill-rule=\"evenodd\" fill-opacity=\"1\" /><path clip-path=\"url(#clip200)\" d=\"M121.918 438.808 L126.802 438.808 L126.802 444.688 L121.918 444.688 L121.918 438.808 Z\" fill=\"#000000\" fill-rule=\"evenodd\" fill-opacity=\"1\" /><path clip-path=\"url(#clip200)\" d=\"M137.033 410.128 L155.39 410.128 L155.39 414.063 L141.316 414.063 L141.316 422.535 Q142.334 422.188 143.353 422.026 Q144.371 421.841 145.39 421.841 Q151.177 421.841 154.556 425.012 Q157.936 428.183 157.936 433.6 Q157.936 439.178 154.464 442.28 Q150.992 445.359 144.672 445.359 Q142.496 445.359 140.228 444.989 Q137.982 444.618 135.575 443.878 L135.575 439.178 Q137.658 440.313 139.881 440.868 Q142.103 441.424 144.58 441.424 Q148.584 441.424 150.922 439.317 Q153.26 437.211 153.26 433.6 Q153.26 429.989 150.922 427.882 Q148.584 425.776 144.58 425.776 Q142.705 425.776 140.83 426.192 Q138.978 426.609 137.033 427.489 L137.033 410.128 Z\" fill=\"#000000\" fill-rule=\"evenodd\" fill-opacity=\"1\" /><path clip-path=\"url(#clip200)\" d=\"M91.5706 101.315 L99.2095 101.315 L99.2095 74.9489 L90.8993 76.6156 L90.8993 72.3564 L99.1632 70.6897 L103.839 70.6897 L103.839 101.315 L111.478 101.315 L111.478 105.25 L91.5706 105.25 L91.5706 101.315 Z\" fill=\"#000000\" fill-rule=\"evenodd\" fill-opacity=\"1\" /><path clip-path=\"url(#clip200)\" d=\"M120.922 99.3701 L125.807 99.3701 L125.807 105.25 L120.922 105.25 L120.922 99.3701 Z\" fill=\"#000000\" fill-rule=\"evenodd\" fill-opacity=\"1\" /><path clip-path=\"url(#clip200)\" d=\"M145.992 73.7684 Q142.381 73.7684 140.552 77.3332 Q138.746 80.8748 138.746 88.0044 Q138.746 95.1109 140.552 98.6757 Q142.381 102.217 145.992 102.217 Q149.626 102.217 151.431 98.6757 Q153.26 95.1109 153.26 88.0044 Q153.26 80.8748 151.431 77.3332 Q149.626 73.7684 145.992 73.7684 M145.992 70.0647 Q151.802 70.0647 154.857 74.6712 Q157.936 79.2545 157.936 88.0044 Q157.936 96.7312 154.857 101.338 Q151.802 105.921 145.992 105.921 Q140.181 105.921 137.103 101.338 Q134.047 96.7312 134.047 88.0044 Q134.047 79.2545 137.103 74.6712 Q140.181 70.0647 145.992 70.0647 Z\" fill=\"#000000\" fill-rule=\"evenodd\" fill-opacity=\"1\" /><polyline clip-path=\"url(#clip202)\" style=\"stroke:#009af9; stroke-linecap:butt; stroke-linejoin:round; stroke-width:4; stroke-opacity:1; fill:none\" points=\"\n",
       "  255.035,494.098 255.19,412.347 255.345,373.618 255.501,372.95 255.656,410.009 255.812,489.047 255.967,616.182 256.122,793.652 256.278,1011 256.433,1235.01 \n",
       "  256.589,1403.98 256.744,1436.08 256.899,1261.95 257.055,881.357 257.21,417.209 257.365,110.254 257.521,198.184 257.676,701.32 257.832,1281.67 257.987,1413.73 \n",
       "  258.142,891.003 258.298,212.765 258.453,199.85 258.609,947.363 258.764,1445.65 258.919,888.883 259.075,122.049 259.23,503.854 259.385,1386.74 259.541,1021.72 \n",
       "  259.696,116.911 259.852,668.906 260.007,1444.52 260.162,553.465 260.318,220.416 260.473,1340.26 260.629,861.249 260.784,126.894 260.939,1287.54 261.095,840.726 \n",
       "  261.25,181.793 261.405,1405.8 261.561,501.064 261.716,521.89 261.872,1368.26 262.027,99.5633 262.182,1239.33 262.338,628.609 262.493,560.542 262.649,1240.42 \n",
       "  262.804,137.873 262.959,1445.54 263.115,116.407 263.27,1344.05 263.425,279.098 263.581,1169.84 263.736,430.693 263.892,1061.34 264.047,485.512 264.202,1064.29 \n",
       "  264.358,425.34 264.513,1176.49 264.669,272.705 264.824,1348.56 264.979,114.674 265.135,1445.51 265.29,135.541 265.445,1252.4 265.601,531.165 265.756,676.993 \n",
       "  265.912,1185.56 266.067,124.577 266.222,1417.29 266.378,374.514 266.533,704.763 266.689,1273.56 266.844,89.4461 266.999,1187.3 267.155,909.412 267.31,151.89 \n",
       "  267.465,1353.81 267.621,740.567 267.776,192.492 267.932,1353.86 268.087,824.545 268.242,121.421 268.398,1191.05 268.553,1136.9 268.709,117.748 268.864,727.519 \n",
       "  269.019,1438.92 269.175,564.988 269.33,147.781 269.485,1095.26 269.641,1346.24 269.796,410.298 269.952,177.498 270.107,1060.75 270.262,1407.26 270.418,637.934 \n",
       "  270.573,87.9838 270.729,621.77 270.884,1370.82 271.039,1239.33 271.195,460.096 271.35,91.3809 271.505,563.362 271.661,1265.84 271.816,1404.72 271.972,876.765 \n",
       "  272.127,251.974 272.282,114.12 272.438,541.156 272.593,1138.78 272.749,1441.85 272.904,1266.8 273.059,775.08 273.215,294.456 273.37,88.9319 273.525,231.014 \n",
       "  273.681,612.974 273.836,1043.15 273.992,1350.24 274.147,1445.03 274.302,1329.22 274.458,1067.8 274.613,749.626 274.769,454.591 274.924,235.643 276.361,1438.62 \n",
       "  277.797,796.081 279.234,1373.78 280.671,104.149 282.108,347.7 283.545,173.953 284.981,1249.67 286.418,1433.55 287.855,1306.71 289.292,89.8629 290.728,1050.19 \n",
       "  292.165,1315.7 293.602,740.09 295.039,330.359 296.475,820.258 297.912,1421.96 299.349,1420.16 300.786,837.825 302.222,223.637 303.659,1189.74 305.096,1157.38 \n",
       "  306.533,593.577 307.969,640.763 309.406,1247.18 310.843,1104.11 312.28,195.671 313.716,1198.25 315.153,1018.84 316.59,208.27 318.027,88.6939 319.463,88.2682 \n",
       "  320.9,216.998 322.337,984.372 323.774,1321.5 325.211,91.532 326.647,1419.88 328.084,89.6347 329.521,1179.43 330.958,1191.26 332.394,342.437 333.831,88.0093 \n",
       "  335.268,167.758 336.705,190.794 338.141,105.851 339.578,164.074 341.015,754.327 342.452,1436.8 343.888,744.222 345.325,190.238 346.762,1435.12 348.199,209.004 \n",
       "  349.635,1266.74 351.072,205.685 352.509,1434.72 353.946,170.921 355.382,860.433 356.819,1351.95 358.256,334.88 359.693,214.303 361.13,987.145 362.566,1435.8 \n",
       "  364.003,1289.11 365.44,909.422 366.877,590.201 368.313,410.203 369.75,348.354 371.187,382.141 372.624,519.111 374.06,778.437 375.497,1129.83 376.934,1413.72 \n",
       "  378.371,1350.28 379.807,799.019 381.244,169.197 382.681,276.064 384.118,1137.56 385.554,1356.89 386.991,396.065 388.428,272.605 389.865,1354.5 391.301,850.349 \n",
       "  392.738,137.514 394.175,1336.46 395.612,674.665 397.048,369.17 398.485,1419.79 399.922,118.049 401.359,1246.6 402.796,512.585 404.232,812.109 405.669,881.115 \n",
       "  407.106,549.424 408.543,1035.09 409.979,495.058 411.416,996.578 412.853,626.516 414.29,768.787 415.726,947.215 417.163,380.578 418.6,1339.71 420.037,91.7964 \n",
       "  421.473,1388.56 422.91,394.692 424.347,730.709 425.784,1225.29 427.22,90.6058 428.657,1283.94 430.094,751.563 431.531,247.995 432.967,1426.38 434.404,537.35 \n",
       "  435.841,336.252 437.278,1433.21 438.715,592.596 440.151,234.559 441.588,1351.92 443.025,903.312 444.462,90.6227 445.898,994.229 447.335,1342.79 448.772,309.918 \n",
       "  450.209,336.322 451.645,1336.36 453.082,1090.73 454.519,156.024 455.956,479.237 457.392,1376.88 458.829,1092.96 459.693,502.135 460.556,114.233 461.419,207.24 \n",
       "  462.283,700.241 463.146,1235.74 464.01,1445.11 464.873,1197.51 465.737,669.202 466.6,208.231 467.463,102.656 468.327,406.91 469.19,925.381 470.054,1345.79 \n",
       "  470.917,1428.26 471.781,1136.24 472.644,642.479 473.507,220.47 474.371,91.882 475.234,314.751 476.098,765.337 476.961,1212.61 477.825,1438.72 478.688,1342.32 \n",
       "  479.552,978.034 480.415,520.465 481.278,177.4 482.142,95.9888 483.005,303.486 483.869,704.025 484.732,1126.79 485.596,1400.42 486.459,1421.07 487.322,1188.18 \n",
       "  488.186,797.588 489.049,399.152 489.913,138.245 490.776,103.961 491.64,301.668 492.503,656.857 493.366,1045.69 494.23,1339.27 495.093,1445.71 495.957,1336.81 \n",
       "  496.82,1052.54 497.684,684.221 498.547,343.849 499.41,129.846 500.274,99.7317 501.137,256.656 502.001,552.157 502.864,902.712 503.728,1214.22 504.591,1407.19 \n",
       "  505.454,1436.04 506.318,1298.26 507.181,1032.19 508.045,705.128 508.908,395.51 509.772,174.075 510.635,88.2959 511.499,153.335 512.362,350.838 513.225,635.044 \n",
       "  514.089,944.176 514.952,1214.21 515.816,1391.98 516.679,1445.01 517.543,1366.5 518.406,1175 519.269,909.292 520.133,619.973 520.996,359.555 521.86,173.057 \n",
       "  522.723,90.6416 523.587,123.42 524.45,262.791 525.313,483.101 526.177,746.855 527.04,1011.41 527.904,1235.9 528.767,1387.42 529.631,1445.41 530.494,1403.9 \n",
       "  531.357,1271.55 532.221,1069.4 533.084,827.274 533.948,579.079 534.811,358.046 535.675,192.368 536.538,101.859 537.401,95.9432 538.265,173.114 539.128,321.786 \n",
       "  539.992,522.303 540.855,749.759 541.719,977.218 542.582,1178.91 543.446,1333.07 544.309,1424.08 545.172,1443.81 546.036,1392.03 546.899,1275.96 547.763,1109.1 \n",
       "  548.626,909.439 549.49,697.474 550.353,494.004 551.216,318.137 552.08,185.579 552.943,107.387 553.807,89.2226 554.67,131.17 555.534,228.051 556.397,370.179 \n",
       "  557.26,544.451 558.124,735.638 558.987,927.767 559.851,1105.45 560.714,1255.09 561.578,1365.81 562.441,1430.18 563.304,1444.54 564.168,1409.08 565.031,1327.58 \n",
       "  565.895,1206.99 566.758,1056.69 567.622,887.739 568.485,712.009 569.348,541.348 570.079,409.212 570.809,294.471 571.539,201.992 572.269,135.467 572.999,97.3053 \n",
       "  573.729,88.5903 574.459,109.092 575.189,157.34 575.919,230.745 576.649,325.759 577.379,438.069 578.109,562.808 578.839,694.777 579.569,828.668 580.299,959.274 \n",
       "  581.029,1081.69 581.759,1191.49 582.489,1284.86 583.219,1358.71 583.949,1410.78 584.679,1439.64 585.409,1444.76 586.139,1426.43 586.869,1385.73 587.599,1324.49 \n",
       "  588.329,1245.16 589.059,1150.68 589.789,1044.43 591.249,811.246 592.709,575.557 593.439,465.795 594.169,365.732 594.899,278.132 595.629,205.304 596.359,149.056 \n",
       "  597.089,110.663 597.819,90.8538 598.549,89.8168 599.279,107.218 600.009,142.233 600.739,193.592 601.469,259.633 602.199,338.362 602.929,427.522 603.659,524.662 \n",
       "  604.39,627.206 605.85,838.013 607.31,1039.47 608.04,1130.84 608.77,1213.24 609.5,1284.98 610.23,1344.63 610.96,1391.09 611.69,1423.59 612.42,1441.69 \n",
       "  613.15,1445.26 613.88,1434.5 614.61,1409.91 615.34,1372.25 616.07,1322.52 616.8,1261.95 617.53,1191.95 618.26,1114.06 618.99,1029.94 620.45,849.934 \n",
       "  621.91,665.94 622.64,576.701 623.37,491.418 624.1,411.537 624.83,338.363 625.56,273.047 626.29,216.566 627.02,169.719 627.75,133.117 628.48,107.181 \n",
       "  629.21,92.1444 629.94,88.0543 630.67,94.7804 631.4,112.023 632.13,139.327 632.86,176.093 633.59,221.593 634.32,274.988 635.05,335.345 635.78,401.655 \n",
       "  636.51,472.852 637.97,625.453 639.431,784.133 640.891,940.053 642.351,1085.02 643.081,1151.12 643.811,1211.9 644.541,1266.67 645.271,1314.86 646.001,1355.96 \n",
       "  646.731,1389.61 647.461,1415.51 648.191,1433.5 648.921,1443.48 649.651,1445.48 650.381,1439.61 651.111,1426.08 651.841,1405.16 652.571,1377.22 653.301,1342.69 \n",
       "  654.031,1302.06 654.761,1255.88 655.491,1204.72 656.221,1149.23 656.951,1090.05 658.411,963.363 659.871,830.175 661.331,695.964 662.791,565.95 664.377,435.03 \n",
       "  665.963,320.011 666.756,269.859 667.549,225.22 668.342,186.462 669.135,153.88 669.928,127.696 670.721,108.06 671.514,95.0516 672.307,88.6828 673.1,88.8982 \n",
       "  673.893,95.5801 674.686,108.552 675.479,127.582 676.272,152.387 677.065,182.641 677.858,217.974 678.651,257.983 680.237,350.259 681.823,455.716 683.409,570.363 \n",
       "  684.995,690.119 686.581,810.967 688.167,929.078 689.753,1040.92 691.339,1143.34 692.925,1233.66 694.511,1309.69 696.098,1369.76 697.684,1412.76 698.477,1427.65 \n",
       "  699.27,1438.09 700.063,1444.09 700.856,1445.68 702.442,1435.9 704.028,1409.57 705.614,1367.87 707.2,1312.3 708.786,1244.61 710.372,1166.76 711.958,1080.82 \n",
       "  713.544,988.933 716.716,796.008 719.888,604.703 721.474,514.417 723.06,429.927 724.646,352.658 726.232,283.822 727.818,224.411 729.404,175.193 730.99,136.715 \n",
       "  732.576,109.305 734.162,93.0838 735.748,87.9763 737.334,93.7265 738.92,109.914 740.506,135.974 742.092,171.214 743.678,214.836 745.264,265.953 746.85,323.614 \n",
       "  748.436,386.817 750.022,454.534 751.608,525.72 754.78,674.364 757.952,824.723 761.124,969.436 764.296,1102.1 765.758,1157.69 767.22,1209.17 768.683,1256.16 \n",
       "  770.145,1298.36 771.607,1335.51 773.069,1367.42 774.531,1393.95 775.993,1415.02 777.456,1430.59 778.918,1440.68 780.38,1445.35 781.842,1444.7 783.304,1438.87 \n",
       "  784.766,1428.05 786.229,1412.43 787.691,1392.25 790.615,1339.32 793.539,1271.56 796.464,1191.55 799.388,1101.98 805.237,905.027 811.085,701.643 814.01,603.425 \n",
       "  816.934,510.221 819.858,423.73 822.783,345.377 825.707,276.308 828.631,217.395 831.556,169.246 834.48,132.217 837.404,106.436 840.329,91.8172 843.253,88.0894 \n",
       "  846.177,94.8176 849.102,111.428 852.026,137.231 854.95,171.446 857.875,213.223 861.01,265.388 864.145,324.064 867.28,388.092 870.416,456.315 876.686,600.872 \n",
       "  882.956,749.262 889.227,894.019 895.497,1028.92 898.632,1091.08 901.767,1149.05 904.903,1202.43 908.038,1250.87 911.173,1294.14 914.308,1332.06 917.443,1364.52 \n",
       "  920.579,1391.46 923.714,1412.89 926.849,1428.86 929.984,1439.49 933.119,1444.9 936.255,1445.28 939.39,1440.83 942.525,1431.79 945.66,1418.41 951.931,1379.72 \n",
       "  958.201,1327.04 965.466,1251.68 972.731,1164.47 979.995,1069 987.26,968.597 1001.79,764.683 1016.32,572.38 1023.58,485.063 1030.85,405.304 1038.11,333.947 \n",
       "  1045.38,271.551 1052.64,218.424 1059.91,174.659 1067.17,140.167 1074.44,114.71 1080.89,99.381 1087.35,90.5908 1093.81,87.9803 1100.26,91.1569 1106.72,99.7054 \n",
       "  1113.18,113.196 1119.63,131.195 1126.09,153.265 1139,207.916 1151.91,273.854 1164.82,348.047 1177.74,427.775 1200.38,574.005 1223.03,719.898 1245.67,858.191 \n",
       "  1268.32,984.145 1280.67,1046.56 1293.01,1104.23 1305.36,1157.01 1317.7,1204.87 1330.05,1247.84 1342.39,1286 1354.74,1319.51 1367.08,1348.53 1391.92,1394.17 \n",
       "  1416.75,1424.29 1441.59,1440.84 1466.43,1445.72 1493.89,1439.69 1521.35,1423.84 1548.81,1400.13 1576.27,1370.29 1628.52,1301.64 1680.78,1223.83 1789.45,1054.52 \n",
       "  1880.92,919.149 1936.76,843.043 1992.6,772.605 2045.09,711.658 2097.58,655.71 2181.68,575.908 2265.77,507.132 2278.72,497.442 2291.66,487.976 \n",
       "  \"/>\n",
       "<path clip-path=\"url(#clip200)\" d=\"\n",
       "M1988.5 198.898 L2280.8 198.898 L2280.8 95.2176 L1988.5 95.2176  Z\n",
       "  \" fill=\"#ffffff\" fill-rule=\"evenodd\" fill-opacity=\"1\"/>\n",
       "<polyline clip-path=\"url(#clip200)\" style=\"stroke:#000000; stroke-linecap:butt; stroke-linejoin:round; stroke-width:4; stroke-opacity:1; fill:none\" points=\"\n",
       "  1988.5,198.898 2280.8,198.898 2280.8,95.2176 1988.5,95.2176 1988.5,198.898 \n",
       "  \"/>\n",
       "<polyline clip-path=\"url(#clip200)\" style=\"stroke:#009af9; stroke-linecap:butt; stroke-linejoin:round; stroke-width:4; stroke-opacity:1; fill:none\" points=\"\n",
       "  2012.48,147.058 2156.4,147.058 \n",
       "  \"/>\n",
       "<path clip-path=\"url(#clip200)\" d=\"M2194.23 166.745 Q2192.43 171.375 2190.72 172.787 Q2189 174.199 2186.13 174.199 L2182.73 174.199 L2182.73 170.634 L2185.23 170.634 Q2186.99 170.634 2187.96 169.8 Q2188.93 168.967 2190.11 165.865 L2190.88 163.921 L2180.39 138.412 L2184.91 138.412 L2193.01 158.689 L2201.11 138.412 L2205.62 138.412 L2194.23 166.745 Z\" fill=\"#000000\" fill-rule=\"evenodd\" fill-opacity=\"1\" /><path clip-path=\"url(#clip200)\" d=\"M2212.91 160.402 L2220.55 160.402 L2220.55 134.037 L2212.24 135.703 L2212.24 131.444 L2220.51 129.778 L2225.18 129.778 L2225.18 160.402 L2232.82 160.402 L2232.82 164.338 L2212.91 164.338 L2212.91 160.402 Z\" fill=\"#000000\" fill-rule=\"evenodd\" fill-opacity=\"1\" /></svg>\n"
      ]
     },
     "execution_count": 64,
     "metadata": {},
     "output_type": "execute_result"
    }
   ],
   "source": [
    "plot(f, 0.125, 1)"
   ]
  },
  {
   "cell_type": "markdown",
   "metadata": {},
   "source": [
    "In this section I will show a tecnique to find intervals that enclose the true value of an integral. To show the power of the method I will compute the integral of an oscillating integral."
   ]
  },
  {
   "cell_type": "markdown",
   "metadata": {},
   "source": [
    "Having a Taylor expansion centered at the center of the interval allows us to easily compute the integral of the function over the integral.\n",
    "Let $m$ be the midpoint of the interval, $r = x-m$ and $a_i$ the coefficients of $P$:\n",
    "$$\n",
    "\\int_I f dx = \\sum_{i=0}^n a_i \\int_I (x-m)^i dx +\\int_I f(x)-P(x) dx,\n",
    "$$\n",
    "so the integral is contained in the interval with center\n",
    "$$\n",
    "2\\sum_{i=0}^{\\lfloor n/2 \\rfloor} a_{2i}\\frac{r^{2i+1}}{2i+1} \n",
    "$$\n",
    "and radius $\\Delta\\cdot |I|$ (where $|I|$ is the length of I). "
   ]
  },
  {
   "cell_type": "code",
   "execution_count": 67,
   "metadata": {},
   "outputs": [
    {
     "data": {
      "text/plain": [
       "integrate1 (generic function with 1 method)"
      ]
     },
     "execution_count": 67,
     "metadata": {},
     "output_type": "execute_result"
    }
   ],
   "source": [
    "function integrate1(f, I; steps = 1024, degree = 6)\n",
    "    lo = I.lo\n",
    "    hi = I.hi\n",
    "    l = diam(I)\n",
    "    int_center = Interval(0.0)\n",
    "    int_error = Interval(0.0)\n",
    "    for i in 1:steps\n",
    "        left = lo+(i-1)*(l/steps)\n",
    "        right = lo+i*l/steps\n",
    "        r = (1/2)*(l/steps)\n",
    "        J = interval(left, right)\n",
    "        TM = TaylorModel1(degree, J)\n",
    "        FM = f(TM)\n",
    "        #@info FM\n",
    "        for i in 0:Int64(floor(degree/2))\n",
    "            int_center+=2*(FM.pol[2*i]*r^(2*i+1))/(2*i+1)\n",
    "            int_error +=2*FM.rem*r\n",
    "        end\n",
    "    end\n",
    "    return int_center+int_error\n",
    "end    "
   ]
  },
  {
   "cell_type": "code",
   "execution_count": 69,
   "metadata": {},
   "outputs": [
    {
     "data": {
      "text/plain": [
       "[-0.124215, -0.124214]"
      ]
     },
     "execution_count": 69,
     "metadata": {},
     "output_type": "execute_result"
    }
   ],
   "source": [
    "integrate1(f, @interval 0.25 1; steps = 1024, degree = 6)"
   ]
  },
  {
   "cell_type": "markdown",
   "metadata": {},
   "source": [
    "This integral method can be made adaptive, both in the size of the interval $J$ and the degree of the Taylor expansion. This has the strength of a mathematical proof."
   ]
  },
  {
   "cell_type": "code",
   "execution_count": 70,
   "metadata": {},
   "outputs": [
    {
     "data": {
      "text/plain": [
       "adaptive_integration (generic function with 1 method)"
      ]
     },
     "execution_count": 70,
     "metadata": {},
     "output_type": "execute_result"
    }
   ],
   "source": [
    "function adaptive_integration(f, I::Interval; tol = 2^-10, steps = 8, degree = 6) # tol 2^-10, steps = 8 are default values\n",
    "    lo = I.lo\n",
    "    hi = I.hi\n",
    "    l = diam(I)\n",
    "    int_value = Interval(0.0)\n",
    "    for i in 1:steps\n",
    "        left = lo+(i-1)*(l/steps)\n",
    "        right = lo+i*l/steps\n",
    "        Istep = Interval(left, right)\n",
    "        val = integrate1(f, Istep)\n",
    "        if radius(val)<tol\n",
    "            int_value += val\n",
    "        else\n",
    "            I₁, I₂ = bisect(I)\n",
    "            val₁ = adaptive_integration(f, I₁; tol = tol/2, steps = steps, degree = degree+2)\n",
    "            val₂ = adaptive_integration(f, I₁; tol = tol/2, steps = steps, degree = degree+2)\n",
    "            int_value +=val₁+val₂\n",
    "        end\n",
    "    end\n",
    "    return int_value\n",
    "end"
   ]
  },
  {
   "cell_type": "code",
   "execution_count": 71,
   "metadata": {},
   "outputs": [
    {
     "name": "stdout",
     "output_type": "stream",
     "text": [
      " 41.516266 seconds (206.33 M allocations: 10.565 GiB, 6.57% gc time, 0.35% compilation time)\n"
     ]
    },
    {
     "data": {
      "text/plain": [
       "[-0.0175132, -0.0174087]"
      ]
     },
     "execution_count": 71,
     "metadata": {},
     "output_type": "execute_result"
    }
   ],
   "source": [
    "@time adaptive_integration(f, @interval 0.125 1)"
   ]
  },
  {
   "cell_type": "markdown",
   "metadata": {},
   "source": [
    "__Exercise__: Try to push the computation of the integral further near $0$."
   ]
  },
  {
   "cell_type": "markdown",
   "metadata": {},
   "source": [
    "# Summary of the lecture"
   ]
  },
  {
   "cell_type": "markdown",
   "metadata": {},
   "source": [
    "In this lecture I introduced some tools that allow us to prove Theorems with the help of a computer.\n",
    "1. Interval Arithmetic, that allows us to rigorously enclose the range of a function on an interval $I$\n",
    "2. Interval Newton Method, that allows us to find an interval that is proved to contain the solution of the equation $f(x)=y$, allowing us to rigorously find inverse images\n",
    "3. Taylor Models that allow us to approximate functions by polynomials with rigorous and explicit error bounds\n",
    "4. Rigorous integration that allows us to compute rigorously the value of an integral over an Interval.\n",
    "\n",
    "All these tools are the engine of our implementation of the Ulam method: we use the Interval Newton method to compute preimages, computing an Interval of entries which contains the entries of the true abstract matrix.\n",
    "\n",
    "This is going to allow us to approximate the invariant density $h$ of the physical measure of a system.\n",
    "\n",
    "Then are going to use rigorous integration to compute the Birkhoff averages of observables in a rigorous way, through the identity\n",
    "$$\n",
    "\\lim_{n\\to +\\infty}\\frac{1}{n}\\sum_{i=0}^{n-1} \\phi(T^i(x))=\\int \\phi h dx.\n",
    "$$"
   ]
  },
  {
   "cell_type": "code",
   "execution_count": null,
   "metadata": {},
   "outputs": [],
   "source": []
  }
 ],
 "metadata": {
  "kernelspec": {
   "display_name": "Julia 1.6.0",
   "language": "julia",
   "name": "julia-1.6"
  },
  "language_info": {
   "file_extension": ".jl",
   "mimetype": "application/julia",
   "name": "julia",
   "version": "1.6.0"
  }
 },
 "nbformat": 4,
 "nbformat_minor": 5
}
